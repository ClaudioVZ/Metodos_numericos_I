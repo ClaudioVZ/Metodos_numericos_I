{
 "cells": [
  {
   "cell_type": "markdown",
   "metadata": {},
   "source": [
    "## Regla de Boole\n",
    "\n",
    "Interpolando cinco puntos $(x_{0}, f(x_{0}))$, $(x_{0}+h, f(x_{0}+h))$, $(x_{0}+2h, f(x_{0}+2h))$, $(x_{0}+3h, f(x_{0}+3h))$ y $(x_{0}+4h, f(x_{0}+4h))$, mediante un polinomio de Lagrange e integrando\n",
    "\n",
    "\\begin{equation*}\n",
    "    I = \\frac{2}{45} h \\ [7 f(x_{0}) + 32 f(x_{0}+h) + 12 f(x_{0}+2h) + 32 f(x_{0}+3h) + 7 f(x_{0}+4h)]\n",
    "\\end{equation*}\n",
    "\n",
    "Usando la notación acostumbrada\n",
    "\n",
    "\\begin{equation*}\n",
    "    I = \\frac{2}{45} h \\ [7 f(x_{i}) + 32 f(x_{i+1}) + 12 f(x_{i+2}) + 32 f(x_{i+3}) + 7 f(x_{i+4})]\n",
    "\\end{equation*}"
   ]
  },
  {
   "cell_type": "code",
   "execution_count": null,
   "metadata": {
    "collapsed": true
   },
   "outputs": [],
   "source": []
  }
 ],
 "metadata": {
  "kernelspec": {
   "display_name": "Python 3",
   "language": "python",
   "name": "python3"
  },
  "language_info": {
   "codemirror_mode": {
    "name": "ipython",
    "version": 3
   },
   "file_extension": ".py",
   "mimetype": "text/x-python",
   "name": "python",
   "nbconvert_exporter": "python",
   "pygments_lexer": "ipython3",
   "version": "3.4.3"
  }
 },
 "nbformat": 4,
 "nbformat_minor": 0
}
