{
 "cells": [
  {
   "cell_type": "markdown",
   "metadata": {},
   "source": [
    "## Regla de Simpson 1/3\n",
    "\n",
    "Interpolando tres puntos $(x_{0}, f(x_{0}))$, $(x_{1}, f(x_{1}))$ y $(x_{2}, f(x_{2}))$, mediante un polinomio de Lagrange\n",
    "\n",
    "\\begin{equation*}\n",
    "    f(x) =\n",
    "    \\begin{bmatrix}\n",
    "        \\cfrac{(x - x_{1})(x - x_{2})}{(x_{0} - x_{1})(x_{0} - x_{2})} \\\\\n",
    "        \\cfrac{(x - x_{0})(x - x_{2})}{(x_{1} - x_{0})(x_{1} - x_{2})} \\\\\n",
    "        \\cfrac{(x - x_{0})(x - x_{1})}{(x_{2} - x_{0})(x_{2} - x_{1})}\n",
    "    \\end{bmatrix}^{T}\n",
    "    \\begin{bmatrix}\n",
    "        f(x_{0}) \\\\\n",
    "        f(x_{1}) \\\\\n",
    "        f(x_{2})\n",
    "    \\end{bmatrix}\n",
    "\\end{equation*}\n",
    "\n",
    "Integrando\n",
    "\n",
    "\\begin{equation*}\n",
    "    \\int_{x_{0}}^{x_{2}} f(x) \\ dx =\n",
    "    \\begin{bmatrix}\n",
    "        -\\cfrac{(2 x_{0} - 3 x_{1} + x_{2})(x_{0} - x_{2})}{6 (x_{0} - x_{1})} \\\\\n",
    "        -\\cfrac{(x_{0} - x_{2})^{3}}{6 (x_{0} - x_{1})(x_{1} - x_{2})} \\\\\n",
    "        \\cfrac{(x_{0} - x_{2})(x_{0} - 3 x_{1} + 2 x_{2})}{6 (x_{1} - x_{2})}\n",
    "    \\end{bmatrix}^{T}\n",
    "    \\begin{bmatrix}\n",
    "        f(x_{0}) \\\\\n",
    "        f(x_{1}) \\\\\n",
    "        f(x_{2})\n",
    "    \\end{bmatrix}\n",
    "\\end{equation*}"
   ]
  },
  {
   "cell_type": "code",
   "execution_count": null,
   "metadata": {
    "collapsed": true
   },
   "outputs": [],
   "source": []
  }
 ],
 "metadata": {
  "kernelspec": {
   "display_name": "Python 3",
   "language": "python",
   "name": "python3"
  },
  "language_info": {
   "codemirror_mode": {
    "name": "ipython",
    "version": 3
   },
   "file_extension": ".py",
   "mimetype": "text/x-python",
   "name": "python",
   "nbconvert_exporter": "python",
   "pygments_lexer": "ipython3",
   "version": "3.4.3"
  }
 },
 "nbformat": 4,
 "nbformat_minor": 0
}
