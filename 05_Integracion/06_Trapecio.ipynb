{
 "cells": [
  {
   "cell_type": "markdown",
   "metadata": {},
   "source": [
    "## Regla del trapecio\n",
    "\n",
    "Interpolando dos puntos $(x_{0}, f(x_{0}))$ y $(x_{0}+h, f(x_{0}+h))$, mediante un polinomio de Lagrange\n",
    "\n",
    "\\begin{equation*}\n",
    "    f(x) = \\frac{x - (x_{0}+h)}{x_{0} - (x_{0}+h)} f(x_{0}) + \\frac{x - x_{0}}{(x_{0}+h) - x_{0}} f(x_{0}+h)\n",
    "\\end{equation*}\n",
    "\n",
    "Integrando\n",
    "\n",
    "\\begin{equation*}\n",
    "    \\int_{x_{0}}^{x_{0}+h} \\frac{x - (x_{0}+h)}{x_{0} - (x_{0}+h)} f(x_{0}) + \\frac{x - x_{0}}{(x_{0}+h) - x_{0}} f(x_{0}+h) \\ dx = \\frac{1}{2} h \\ [f(x_{0}) + f(x_{0}+h)]\n",
    "\\end{equation*}\n",
    "\n",
    "Usando la notación acostumbrada\n",
    "\n",
    "\\begin{equation*}\n",
    "    I = \\frac{1}{2} h \\ [f(x_{i}) + f(x_{i+1})]\n",
    "\\end{equation*}"
   ]
  },
  {
   "cell_type": "code",
   "execution_count": null,
   "metadata": {
    "collapsed": true
   },
   "outputs": [],
   "source": []
  }
 ],
 "metadata": {
  "kernelspec": {
   "display_name": "Python 3",
   "language": "python",
   "name": "python3"
  },
  "language_info": {
   "codemirror_mode": {
    "name": "ipython",
    "version": 3
   },
   "file_extension": ".py",
   "mimetype": "text/x-python",
   "name": "python",
   "nbconvert_exporter": "python",
   "pygments_lexer": "ipython3",
   "version": "3.4.3"
  }
 },
 "nbformat": 4,
 "nbformat_minor": 0
}
