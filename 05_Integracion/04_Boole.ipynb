{
 "cells": [
  {
   "cell_type": "markdown",
   "metadata": {},
   "source": [
    "## Regla de Boole\n",
    "\n",
    "Interpolando cinco puntos $(x_{0}, f(x_{0}))$, $(x_{1}, f(x_{1}))$, $(x_{2}, f(x_{2}))$, $(x_{3}, f(x_{3}))$ y $(x_{4}, f(x_{4}))$, mediante un polinomio de Lagrange\n",
    "\n",
    "\\begin{equation*}\n",
    "    f(x) =\n",
    "    \\begin{bmatrix}\n",
    "        \\cfrac{(x - x_{1})(x - x_{2})(x - x_{3})(x - x_{4})}{(x_{0} - x_{1})(x_{0} - x_{2})(x_{0} - x_{3})(x_{0} - x_{4})} \\\\\n",
    "        \\cfrac{(x - x_{0})(x - x_{2})(x - x_{3})(x - x_{4})}{(x_{1} - x_{0})(x_{1} - x_{2})(x_{1} - x_{3})(x_{1} - x_{4})} \\\\\n",
    "        \\cfrac{(x - x_{0})(x - x_{1})(x - x_{3})(x - x_{4})}{(x_{2} - x_{0})(x_{2} - x_{1})(x_{2} - x_{3})(x_{2} - x_{4})} \\\\\n",
    "        \\cfrac{(x - x_{0})(x - x_{1})(x - x_{2})(x - x_{4})}{(x_{3} - x_{0})(x_{3} - x_{1})(x_{3} - x_{2})(x_{3} - x_{4})} \\\\\n",
    "        \\cfrac{(x - x_{0})(x - x_{1})(x - x_{2})(x - x_{3})}{(x_{4} - x_{0})(x_{4} - x_{1})(x_{4} - x_{2})(x_{4} - x_{3})}\n",
    "    \\end{bmatrix}^{T}\n",
    "    \\begin{bmatrix}\n",
    "        f(x_{0}) \\\\\n",
    "        f(x_{1}) \\\\\n",
    "        f(x_{2}) \\\\\n",
    "        f(x_{3}) \\\\\n",
    "        f(x_{4})\n",
    "    \\end{bmatrix}\n",
    "\\end{equation*}\n",
    "\n",
    "Integrando\n",
    "\n",
    "\\begin{equation*}\n",
    "    \\int_{x_{0}}^{x_{4}} f(x) \\ dx =\n",
    "    \\begin{bmatrix}\n",
    "        -\\frac{(x_{0} - x_{4}) \\{ x_{0}^{3} - \\frac{1}{4} x_{0}^{2} (5 x_{1} + 5 x_{2} + 5 x_{3} - 3 x_{4}) + x_{0} [\\frac{1}{2} x_{4}^{2} - \\frac{5}{6} x_{4} (x_{1} + x_{2} + x_{3}) + \\frac{5}{3} x_{1} (x_{2} + x_{3}) + \\frac{5}{3} x_{3} x_{2}] + \\frac{1}{4} x_{4}^{3} - \\frac{5}{12} x_{4}^{2} (x_{1} + x_{2} + x_{3}) + \\frac{5}{6} x_{4} [x_{1} (x_{2} + x_{3}) + x_{2} x_{3}] - \\frac{5}{2} x_{1} x_{2} x_{3} \\}}{5 (x_{0} - x_{1})(x_{0} - x_{2})(x_{0} - x_{3})}  \\\\\n",
    "        -\\frac{(x_{0} - x_{4})^{3} [x_{0}^{2} - \\frac{1}{3} x_{0} (5 x_{2} + 5 x_{3} - 4 x_{4}) + x_{4}^{2} - \\frac{5}{3} x_{4} (x_{2} + x_{3}) + \\frac{10}{3} x_{2} x_{3}]}{20 (x_{0} - x_{1})(x_{1} - x_{2})(x_{1} - x_{3})(x_{1} - x_{4})} \\\\\n",
    "        \\frac{(x_{0} - x_{4})^{3} [x_{0}^{2} - \\frac{1}{3} x_{0} (5 x_{1} + 5 x_{3} - 4 x_{4}) + x_{4}^{2} - \\frac{5}{3} x_{4} (x_{1} + x_{3}) + \\frac{10}{3} x_{1} x_{3}]}{20 (x_{0} - x_{2})(x_{1} - x_{2})(x_{2} - x_{3})(x_{2} - x_{4})} \\\\\n",
    "        -\\frac{(x_{0} - x_{4})^{3} [x_{0}^{2} - \\frac{1}{3} x_{0} (5 x_{1} + 5 x_{2} - 4 x_{4}) + x_{4}^{2} - \\frac{5}{3} x_{4} (x_{1} + x_{2}) + \\frac{10}{3} x_{1} x_{2}]}{20 (x_{0} - x_{3})(x_{1} - x_{3})(x_{2} - x_{3})(x_{3} - x_{4})}\n",
    "    \\end{bmatrix}^{T}\n",
    "    \\begin{bmatrix}\n",
    "        f(x_{0}) \\\\\n",
    "        f(x_{1}) \\\\\n",
    "        f(x_{2}) \\\\\n",
    "        f(x_{3}) \\\\\n",
    "        f(x_{4})\n",
    "    \\end{bmatrix}\n",
    "\\end{equation*}"
   ]
  },
  {
   "cell_type": "code",
   "execution_count": null,
   "metadata": {
    "collapsed": true
   },
   "outputs": [],
   "source": []
  }
 ],
 "metadata": {
  "kernelspec": {
   "display_name": "Python 3",
   "language": "python",
   "name": "python3"
  },
  "language_info": {
   "codemirror_mode": {
    "name": "ipython",
    "version": 3
   },
   "file_extension": ".py",
   "mimetype": "text/x-python",
   "name": "python",
   "nbconvert_exporter": "python",
   "pygments_lexer": "ipython3",
   "version": "3.4.3"
  }
 },
 "nbformat": 4,
 "nbformat_minor": 0
}
