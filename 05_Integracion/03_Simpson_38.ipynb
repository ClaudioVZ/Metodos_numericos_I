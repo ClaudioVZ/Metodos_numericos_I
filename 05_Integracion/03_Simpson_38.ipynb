{
 "cells": [
  {
   "cell_type": "markdown",
   "metadata": {},
   "source": [
    "## Regla de Simpson 3/8\n",
    "\n",
    "Interpolando cuatro puntos $(x_{0}, f(x_{0}))$, $(x_{1}, f(x_{1}))$, $(x_{2}, f(x_{2}))$ y $(x_{3}, f(x_{3}))$, mediante un polinomio de Lagrange\n",
    "\n",
    "\\begin{equation*}\n",
    "    f(x) =\n",
    "    \\begin{bmatrix}\n",
    "        \\cfrac{(x - x_{1})(x - x_{2})(x - x_{3})}{(x_{0} - x_{1})(x_{0} - x_{2})(x_{0} - x_{3})} \\\\\n",
    "        \\cfrac{(x - x_{0})(x - x_{2})(x - x_{3})}{(x_{1} - x_{0})(x_{1} - x_{2})(x_{1} - x_{3})} \\\\\n",
    "        \\cfrac{(x - x_{0})(x - x_{1})(x - x_{3})}{(x_{2} - x_{0})(x_{2} - x_{1})(x_{2} - x_{3})} \\\\\n",
    "        \\cfrac{(x - x_{0})(x - x_{1})(x - x_{2})}{(x_{3} - x_{0})(x_{3} - x_{1})(x_{3} - x_{2})}\n",
    "    \\end{bmatrix}^{T}\n",
    "    \\begin{bmatrix}\n",
    "        f(x_{0}) \\\\\n",
    "        f(x_{1}) \\\\\n",
    "        f(x_{2}) \\\\\n",
    "        f(x_{3})\n",
    "    \\end{bmatrix}\n",
    "\\end{equation*}\n",
    "\n",
    "Integrando\n",
    "\n",
    "\\begin{equation*}\n",
    "    \\int_{x_{0}}^{x_{3}} f(x) \\ dx =\n",
    "    \\begin{bmatrix}\n",
    "        -\\cfrac{(x_{0} - x_{3})(3 x_{0}^{2} - 4 x_{0} x_{1} - 4 x_{0} x_{2} + 2 x_{0} x_{3} + 6 x_{1} x_{2} - 2 x_{1} x_{3} - 2 x_{2} x_{3} + x_{3}^{2})}{12 (x_{0} - x_{1})(x_{0} - x_{2})} \\\\\n",
    "        -\\cfrac{(x_{0} - x_{3})^{3} (x_{0} - 2 x_{2} + x_{3})}{12 (x_{0} - x_{1})(x_{1} - x_{2})(x_{1} - x_{3})} \\\\\n",
    "        \\cfrac{(x_{0} - x_{3})^{3} (x_{0} - 2 x_{1} + x_{3})}{12 (x_{0} - x_{2})(x_{1} - x_{2})(x_{2} - x_{3})} \\\\\n",
    "        -\\cfrac{(x_{0} - x_{3})[3 x_{3}^{2} + x_{3} (2 x_{0} - 4 x_{1} - 4 x_{2}) + x_{0}^{2} - 2 x_{0} (x_{1} + x_{2}) + 6 x_{1} x_{2}]}{12 (x_{1} - x_{3})(x_{2} - x_{3})}\n",
    "    \\end{bmatrix}^{T}\n",
    "    \\begin{bmatrix}\n",
    "        f(x_{0}) \\\\\n",
    "        f(x_{1}) \\\\\n",
    "        f(x_{2}) \\\\\n",
    "        f(x_{3})\n",
    "    \\end{bmatrix}\n",
    "\\end{equation*}"
   ]
  },
  {
   "cell_type": "code",
   "execution_count": null,
   "metadata": {
    "collapsed": true
   },
   "outputs": [],
   "source": []
  }
 ],
 "metadata": {
  "kernelspec": {
   "display_name": "Python 3",
   "language": "python",
   "name": "python3"
  },
  "language_info": {
   "codemirror_mode": {
    "name": "ipython",
    "version": 3
   },
   "file_extension": ".py",
   "mimetype": "text/x-python",
   "name": "python",
   "nbconvert_exporter": "python",
   "pygments_lexer": "ipython3",
   "version": "3.4.3"
  }
 },
 "nbformat": 4,
 "nbformat_minor": 0
}
