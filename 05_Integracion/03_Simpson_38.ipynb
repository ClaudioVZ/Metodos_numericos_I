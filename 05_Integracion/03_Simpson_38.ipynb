{
 "cells": [
  {
   "cell_type": "markdown",
   "metadata": {},
   "source": [
    "##Regla de Simpson 3/8\n",
    "\n",
    "Interpolando cuatro puntos $(x_{0}, f(x_{0}))$, $(x_{0}+h, f(x_{0}+h))$, $(x_{0}+2h, f(x_{0}+2h))$ y $(x_{0}+3h, f(x_{0}+3h))$, mediante un polinomio de Lagrange e integrando\n",
    "\n",
    "\\begin{equation*}\n",
    "    I = \\frac{3}{8} h \\ [f(x_{0}) + 3 f(x_{0}+h) + 3 f(x_{0}+2h) + f(x_{0}+3h)]\n",
    "\\end{equation*}\n",
    "\n",
    "Usando la notación acostumbrada\n",
    "\n",
    "\\begin{equation*}\n",
    "    I = \\frac{3}{8} h \\ [f(x_{i}) + 3 f(x_{i+1}) + 3 f(x_{i+2}) + f(x_{i+3})]\n",
    "\\end{equation*}"
   ]
  },
  {
   "cell_type": "code",
   "execution_count": null,
   "metadata": {
    "collapsed": true
   },
   "outputs": [],
   "source": []
  }
 ],
 "metadata": {
  "kernelspec": {
   "display_name": "Python 3",
   "language": "python",
   "name": "python3"
  },
  "language_info": {
   "codemirror_mode": {
    "name": "ipython",
    "version": 3
   },
   "file_extension": ".py",
   "mimetype": "text/x-python",
   "name": "python",
   "nbconvert_exporter": "python",
   "pygments_lexer": "ipython3",
   "version": "3.4.3"
  }
 },
 "nbformat": 4,
 "nbformat_minor": 0
}
