{
 "cells": [
  {
   "cell_type": "markdown",
   "metadata": {},
   "source": [
    "# Método de Leverrier-Faddeev\n",
    "\n",
    "El polinomio caracteristico de un matriz es\n",
    "\n",
    "\\begin{equation*}\n",
    "    p(\\lambda) = c_{0} + c_{1} \\lambda + \\dots + c_{n-2} \\lambda^{n-2} + c_{n-1} \\lambda^{n-1} + c_{n} \\lambda^{n}\n",
    "\\end{equation*}\n",
    "\n",
    "## Algoritmo\n",
    "\n",
    "\\begin{align*}\n",
    "    B_{0} &= 0 \\\\\n",
    "    c_{n} &= 1 \\\\ \n",
    "    k &= 1,\\ldots ,n \\\\\n",
    "    &\\quad B_{k} = AB_{k-1} + c_{n-k+1} I \\\\\n",
    "    &\\quad c_{n-k}= -\\frac{1}{k} \\ \\mathrm{tr}(AB_{k}) \\\\\n",
    "    \\det A &= (-1)^n c_{0} \\\\\n",
    "    A^{-1} &= - \\frac 1 {c_0} B_n\n",
    "\\end{align*}\n",
    "\n",
    "## Seudocódigo\n",
    "\n",
    "````pascal\n",
    "function Leverrier_Faddeev(A)\n",
    "    I = 1 // matriz identidad\n",
    "    B[0] = 0 // matriz nula\n",
    "    c[n] = 1 \n",
    "\n",
    "    for k=1 to n do\n",
    "        B[k] = A * B[k-1] + c[n-k+1] * I\n",
    "        c[n-k] = - 1/k * traza(A * B[k])\n",
    "    end for  \n",
    "\n",
    "    determinante = (-1)^n * c[0]\n",
    "\n",
    "    if c[0]!=0\n",
    "        inversa = -1/c[0] * B[n]\n",
    "    else\n",
    "        inversa = 'No tiene inversa'\n",
    "    end if\n",
    "    \n",
    "    mostrar c, determinante, inversa\n",
    "end function\n",
    "````\n",
    "\n",
    "## Ejemplo 1\n",
    "\n",
    "Determinar el polinomio caracteristico de $A$\n",
    "        \n",
    "\\begin{equation*}\n",
    "    A =\n",
    "    \\begin{bmatrix}\n",
    "        3 & 1 & 5 \\\\\n",
    "        3 & 3 & 1 \\\\\n",
    "        4 & 6 & 4\n",
    "    \\end{bmatrix}\n",
    "\\end{equation*}\n",
    "\n",
    "Iniciando valores\n",
    "\n",
    "\\begin{align*}\n",
    "    B_{0} &=\n",
    "    \\begin{bmatrix}\n",
    "        0 & 0 & 0 \\\\\n",
    "        0 & 0 & 0 \\\\\n",
    "        0 & 0 & 0\n",
    "    \\end{bmatrix} \\\\\n",
    "    c_3 &= 1\n",
    "\\end{align*}\n",
    "\n",
    "Bucle 1\n",
    "\n",
    "\\begin{align*}\n",
    "    B_{1} &= AB_{0} + c_{3} I =\n",
    "    \\begin{bmatrix}\n",
    "        3 & 1 & 5 \\\\\n",
    "        3 & 3 & 1 \\\\\n",
    "        4 & 6 & 4\n",
    "    \\end{bmatrix}\n",
    "    \\begin{bmatrix}\n",
    "        0 & 0 & 0 \\\\\n",
    "        0 & 0 & 0 \\\\\n",
    "        0 & 0 & 0\n",
    "    \\end{bmatrix} +\n",
    "    \\begin{bmatrix}\n",
    "        1 & 0 & 0 \\\\\n",
    "        0 & 1 & 0 \\\\\n",
    "        0 & 0 & 1\n",
    "    \\end{bmatrix} =\n",
    "    \\begin{bmatrix}\n",
    "        1 & 0 & 0 \\\\\n",
    "        0 & 1 & 0 \\\\\n",
    "        0 & 0 & 1\n",
    "    \\end{bmatrix} \\\\\n",
    "    c_{2} &= -\\frac{1}{1} \\ \\mathrm{tr}(A B_{1}) = -\\frac{1}{1} (10) = -10\n",
    "\\end{align*}\n",
    "\n",
    "Bucle 2\n",
    "\n",
    "\\begin{align*}\n",
    "    B_{2} &= AB_{1} + c_{2} I =\n",
    "    \\begin{bmatrix}\n",
    "        3 & 1 & 5 \\\\\n",
    "        3 & 3 & 1 \\\\\n",
    "        4 & 6 & 4\n",
    "    \\end{bmatrix}\n",
    "    \\begin{bmatrix}\n",
    "        1 & 0 & 0 \\\\\n",
    "        0 & 1 & 0 \\\\\n",
    "        0 & 0 & 1\n",
    "    \\end{bmatrix} +\n",
    "    \\begin{bmatrix}\n",
    "        -10 & 0 & 0 \\\\\n",
    "        0 & -10 & 0 \\\\\n",
    "        0 & 0 & -10\n",
    "    \\end{bmatrix} =\n",
    "    \\begin{bmatrix}\n",
    "        -7 & 1 & 5 \\\\\n",
    "        3 & -7 & 1 \\\\\n",
    "        4 & 6 & -6\n",
    "    \\end{bmatrix} \\\\\n",
    "    c_{1} &= -\\frac{1}{2} \\ \\mathrm{tr}(A B_{2}) = -\\frac{1}{2} (-8) = 4\n",
    "\\end{align*}\n",
    "\n",
    "Bucle 3\n",
    "\n",
    "\\begin{align*}\n",
    "    B_{3} &= AB_{2} + c_{1} I =\n",
    "    \\begin{bmatrix}\n",
    "        3 & 1 & 5 \\\\\n",
    "        3 & 3 & 1 \\\\\n",
    "        4 & 6 & 4\n",
    "    \\end{bmatrix}\n",
    "    \\begin{bmatrix}\n",
    "        -7 & 1 & 5 \\\\\n",
    "        3 & -7 & 1 \\\\\n",
    "        4 & 6 & -6\n",
    "    \\end{bmatrix} +\n",
    "    \\begin{bmatrix}\n",
    "        4 & 0 & 0 \\\\\n",
    "        0 & 4 & 0 \\\\\n",
    "        0 & 0 & 4\n",
    "    \\end{bmatrix} =\n",
    "    \\begin{bmatrix}\n",
    "        6 & 26 & -14 \\\\\n",
    "        -8 & -8 & 12 \\\\\n",
    "        6 & -14 & 6\n",
    "    \\end{bmatrix} \\\\\n",
    "    c_{0} &= -\\frac{1}{3} \\ \\mathrm{tr}(A B_{3}) = -\\frac{1}{3} (120) = -40\n",
    "\\end{align*}\n",
    "\n",
    "El polinomio caracteristico es\n",
    "\n",
    "\\begin{equation*}\n",
    "    p(\\lambda) = c_{0} + c_{1} \\lambda + c_{2} \\lambda^{2} + c_{3} \\lambda^{3} = - 40 + 4 \\lambda - 10 \\lambda^{2} + \\lambda^{3}\n",
    "\\end{equation*}\n",
    "\n",
    "El determinante es \n",
    "\n",
    "\\begin{equation*}\n",
    "    \\det(A) = (-1)^{3} c_0 = (-1)^{3} (-40) = 40\n",
    "\\end{equation*}\n",
    "\n",
    "Su inversa es\n",
    "\n",
    "\\begin{equation*}\n",
    "    A^{-1}  = -\\frac{1}{c_{0}} B_{3} = -\\frac{1}{-40}\n",
    "    \\begin{bmatrix}\n",
    "        6 & 26 & -14 \\\\\n",
    "        -8 & -8 & 12 \\\\\n",
    "        6 & -14 & 6\n",
    "    \\end{bmatrix} =\n",
    "    \\begin{bmatrix}\n",
    "        0.15 & 0.65 & -0.35 \\\\\n",
    "        -0.20 & -0.20 & 0.30 \\\\\n",
    "        0.15 & -0.35 & 0.15\n",
    "    \\end{bmatrix}\n",
    "\\end{equation*}\n",
    "\n",
    "## Implementación"
   ]
  },
  {
   "cell_type": "code",
   "execution_count": 1,
   "metadata": {
    "collapsed": false
   },
   "outputs": [],
   "source": [
    "import numpy as np\n",
    "\n",
    "def Leverrier_Faddeev(A):\n",
    "    m, n = A.shape \n",
    "    I = np.eye(n)\n",
    "    B = np.zeros((n+1,n,n))\n",
    "    c = np.zeros(n+1)\n",
    "    \n",
    "    c[n] = 1.0\n",
    "    \n",
    "    for k in range(1,n+1):\n",
    "        B[k] = np.dot(A,B[k-1]) + c[n-k+1]*I\n",
    "        c[n-k] = - 1/k * np.trace(np.dot(A,B[k]))\n",
    "        \n",
    "    determinante = (-1)**n * c[0]\n",
    "    \n",
    "    if c[0]!=0:\n",
    "        inversa = -1/c[0] * B[n]\n",
    "    else:\n",
    "        inversa = np.zeros((n,n)) * np.nan\n",
    "\n",
    "    print('p(x) =', c)\n",
    "    print('determinante =', determinante)\n",
    "    print('inversa =')\n",
    "    print(inversa)"
   ]
  },
  {
   "cell_type": "code",
   "execution_count": 2,
   "metadata": {
    "collapsed": false
   },
   "outputs": [
    {
     "name": "stdout",
     "output_type": "stream",
     "text": [
      "p(x) = [-40.   4. -10.   1.]\n",
      "determinante = 40.0\n",
      "inversa =\n",
      "[[ 0.15  0.65 -0.35]\n",
      " [-0.2  -0.2   0.3 ]\n",
      " [ 0.15 -0.35  0.15]]\n"
     ]
    }
   ],
   "source": [
    "A = np.array([[3,1,5],\n",
    "              [3,3,1],\n",
    "              [4,6,4]], float)\n",
    "Leverrier_Faddeev(A)"
   ]
  },
  {
   "cell_type": "code",
   "execution_count": 3,
   "metadata": {
    "collapsed": false
   },
   "outputs": [
    {
     "name": "stdout",
     "output_type": "stream",
     "text": [
      "p(x) = [  1. -10.   4. -40.]\n",
      "determinante = 40.0\n",
      "inversa =\n",
      "[[ 0.15  0.65 -0.35]\n",
      " [-0.2  -0.2   0.3 ]\n",
      " [ 0.15 -0.35  0.15]]\n"
     ]
    }
   ],
   "source": [
    "#revisando\n",
    "print('p(x) =', np.poly(A))\n",
    "print('determinante =', np.linalg.det(A))\n",
    "print('inversa =')\n",
    "print(np.linalg.inv(A))"
   ]
  },
  {
   "cell_type": "code",
   "execution_count": 4,
   "metadata": {
    "collapsed": false
   },
   "outputs": [
    {
     "name": "stdout",
     "output_type": "stream",
     "text": [
      "p(x) = [ 2. -7.  9. -5.  1.]\n",
      "determinante = 2.0\n",
      "inversa =\n",
      "[[  1.   -1.   -4.    2. ]\n",
      " [ -0.5  -4.  -11.    2.5]\n",
      " [ -0.    3.    8.   -2. ]\n",
      " [  0.5   3.    8.   -1.5]]\n"
     ]
    }
   ],
   "source": [
    "B = np.array([[1,-4,-1,-4],\n",
    "              [2,0,5,-4],\n",
    "              [-1,1,-2,3],\n",
    "              [-1,4,-1,6]],float)\n",
    "Leverrier_Faddeev(B)"
   ]
  },
  {
   "cell_type": "code",
   "execution_count": 5,
   "metadata": {
    "collapsed": false
   },
   "outputs": [
    {
     "name": "stdout",
     "output_type": "stream",
     "text": [
      "p(x) = [ 1. -5.  9. -7.  2.]\n",
      "determinante = 2.0\n",
      "inversa =\n",
      "[[  1.   -1.   -4.    2. ]\n",
      " [ -0.5  -4.  -11.    2.5]\n",
      " [ -0.    3.    8.   -2. ]\n",
      " [  0.5   3.    8.   -1.5]]\n"
     ]
    }
   ],
   "source": [
    "#revisando\n",
    "print('p(x) =', np.poly(B))\n",
    "print('determinante =', np.linalg.det(B))\n",
    "print('inversa =')\n",
    "print(np.linalg.inv(B))"
   ]
  },
  {
   "cell_type": "code",
   "execution_count": 6,
   "metadata": {
    "collapsed": false,
    "scrolled": true
   },
   "outputs": [
    {
     "name": "stdout",
     "output_type": "stream",
     "text": [
      "p(x) = [  1.05845976e+01   1.99010181e+04  -1.01020099e+06   1.01020102e+06\n",
      "  -1.01010100e+04   1.00000000e+00]\n",
      "determinante = -10.5845976024\n",
      "inversa =\n",
      "[[ -9.35323058e+02  -0.00000000e+00  -0.00000000e+00  -0.00000000e+00\n",
      "   -0.00000000e+00]\n",
      " [ -0.00000000e+00  -9.35323058e+02  -0.00000000e+00  -0.00000000e+00\n",
      "   -0.00000000e+00]\n",
      " [ -0.00000000e+00  -0.00000000e+00  -9.44941026e+00  -0.00000000e+00\n",
      "   -0.00000000e+00]\n",
      " [ -0.00000000e+00  -0.00000000e+00  -0.00000000e+00  -9.52868576e-02\n",
      "   -0.00000000e+00]\n",
      " [ -0.00000000e+00  -0.00000000e+00  -0.00000000e+00  -0.00000000e+00\n",
      "    4.25900631e-03]]\n"
     ]
    }
   ],
   "source": [
    "C = np.array([[0.01,0,0,0,0],\n",
    "              [0,0.01,0,0,0],\n",
    "              [0,0,0.99,0,0],\n",
    "              [0,0,0,100,0],\n",
    "              [0,0,0,0,10000]],float)\n",
    "Leverrier_Faddeev(C)"
   ]
  },
  {
   "cell_type": "code",
   "execution_count": 7,
   "metadata": {
    "collapsed": false
   },
   "outputs": [
    {
     "name": "stdout",
     "output_type": "stream",
     "text": [
      "p(x) = [  1.00000000e+00  -1.01010100e+04   1.01020102e+06  -1.01020099e+06\n",
      "   1.99009999e+04  -9.90000000e+01]\n",
      "determinante = 99.0\n",
      "inversa =\n",
      "[[  1.00000000e+02   0.00000000e+00   0.00000000e+00   0.00000000e+00\n",
      "    0.00000000e+00]\n",
      " [  0.00000000e+00   1.00000000e+02   0.00000000e+00   0.00000000e+00\n",
      "    0.00000000e+00]\n",
      " [  0.00000000e+00   0.00000000e+00   1.01010101e+00   0.00000000e+00\n",
      "    0.00000000e+00]\n",
      " [  0.00000000e+00   0.00000000e+00   0.00000000e+00   1.00000000e-02\n",
      "    0.00000000e+00]\n",
      " [  0.00000000e+00   0.00000000e+00   0.00000000e+00   0.00000000e+00\n",
      "    1.00000000e-04]]\n"
     ]
    }
   ],
   "source": [
    "#revisando\n",
    "print('p(x) =', np.poly(C))\n",
    "print('determinante =', np.linalg.det(C))\n",
    "print('inversa =')\n",
    "print(np.linalg.inv(C))"
   ]
  }
 ],
 "metadata": {
  "kernelspec": {
   "display_name": "Python 3",
   "language": "python",
   "name": "python3"
  },
  "language_info": {
   "codemirror_mode": {
    "name": "ipython",
    "version": 3
   },
   "file_extension": ".py",
   "mimetype": "text/x-python",
   "name": "python",
   "nbconvert_exporter": "python",
   "pygments_lexer": "ipython3",
   "version": "3.4.3"
  }
 },
 "nbformat": 4,
 "nbformat_minor": 0
}
