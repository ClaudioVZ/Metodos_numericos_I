{
 "cells": [
  {
   "cell_type": "markdown",
   "metadata": {},
   "source": [
    "#Método de la secante modificada\n",
    "\n",
    "En el método de la secante modificada se calcula la derivada usando diferenciación numérica\n",
    "\n",
    "\\begin{equation*}\n",
    "    f'(x_{i}) \\approx \\frac{f(x_{i} + \\Delta x) - f(x_{i})}{\\Delta x}\n",
    "\\end{equation*}\n",
    "\n",
    "se reemplaza en la fórmula del método de Newton-Raphson \n",
    "\n",
    "\\begin{equation}\n",
    "    x_{i+1} = x_{i} - \\frac{1}{f'(x_{i})} f(x_{i}) = x_{i} - \\frac{\\Delta x}{f(x_{i} + \\Delta x) - f(x_{i})} f(x_{i})\n",
    "\\end{equation}\n",
    "\n",
    "Algoritmo\n",
    "\n",
    "    x_0 es la raiz aproximada actual\n",
    "    x_1 = x_0 - f(x_0)*(deltax)/f(x_0 + deltax) - f(x_0)\n",
    "    x_2 = x_1 - f(x_1)*(deltax)/f(x_1 + deltax) - f(x_1)\n",
    "    x_3 = x_2 - f(x_2)*(deltax)/f(x_2 + deltax) - f(x_2)\n",
    "    ...\n",
    "    \n",
    "##Ejemplo 1\n",
    "\n",
    "Encontrar la raiz de\n",
    "\n",
    "\\begin{equation*}\n",
    "    y = x^{5} + x^{3} + 3\n",
    "\\end{equation*}\n",
    "\n",
    "usar $x = 0$ y $\\Delta x = -0.5$ como valores iniciales\n",
    "\n",
    "###Iteración 0\n",
    "\n",
    "Raíz aproximada\n",
    "\n",
    "\\begin{equation*}\n",
    "    x_{0} = 0\n",
    "\\end{equation*}\n",
    "\n",
    "Error relativo\n",
    "\n",
    "\\begin{equation*}\n",
    "    e_{r} = ? \n",
    "\\end{equation*}\n",
    "\n",
    "###Iteración 1\n",
    "\n",
    "Raíz aproximada\n",
    "\n",
    "\\begin{equation*}\n",
    "    x_{1} = x_{0} - \\frac{\\Delta x}{f(x_{0} + \\Delta x) - f(x_{0})} f(x_{0}) = 0 - \\frac{-0.5}{f(-0.5) - f(0)} f(0) = -9.6\n",
    "\\end{equation*}\n",
    "\n",
    "Error relativo\n",
    "\n",
    "\\begin{equation*}\n",
    "    e_{r} = \\bigg|\\frac{x_{1} - x_{0}}{x_{1}}\\bigg| \\times 100\\% = \\bigg|\\frac{-9.6 - 0}{-9.6}\\bigg| \\times 100\\% = 100\\% \n",
    "\\end{equation*}\n",
    "\n",
    "###Iteración 2\n",
    "\n",
    "Raíz aproximada\n",
    "\n",
    "\\begin{equation*}\n",
    "    x_{2} = x_{1} - \\frac{\\Delta x}{f(x_{1} + \\Delta x) - f(x_{1})} f(x_{1}) = -9.6 - \\frac{-0.5}{f(-10.1) - f(-9.6)} f(-9.6) = -7.861884\n",
    "\\end{equation*}\n",
    "\n",
    "Error relativo\n",
    "\n",
    "\\begin{equation*}\n",
    "    e_{r} = \\bigg|\\frac{x_{2} - x_{1}}{x_{2}}\\bigg| \\times 100\\% = \\bigg|\\frac{-7.861884 - (-9.6)}{-7.861884}\\bigg| \\times 100\\% = 22.11\\% \n",
    "\\end{equation*}\n",
    "\n",
    "###Iteración 3\n",
    "\n",
    "Raíz aproximada\n",
    "\n",
    "\\begin{equation*}\n",
    "    x_{3} = x_{2} - \\frac{\\Delta x}{f(x_{2} + \\Delta x) - f(x_{2})} f(x_{2}) = -7.861884 - \\frac{-0.5}{f(-8.361884) - f(-7.861884)} f(-7.861884) = -6.467625\n",
    "\\end{equation*}\n",
    "\n",
    "Error relativo\n",
    "\n",
    "\\begin{equation*}\n",
    "    e_{r} = \\bigg|\\frac{x_{3} - x_{2}}{x_{3}}\\bigg| \\times 100\\% = \\bigg|\\frac{-6.467625 - (-7.861884)}{-6.467625}\\bigg| \\times 100\\% = 21.56\\% \n",
    "\\end{equation*}"
   ]
  },
  {
   "cell_type": "markdown",
   "metadata": {},
   "source": [
    "##Implementación de funciones auxiliares\n",
    "\n",
    "Seudocódigo para la derivada\n",
    "\n",
    "    function derivada(f(x), x_0, delta_x)\n",
    "        f'(x) = f(x_0 + delta_x) - f(x_0)/delta_x\n",
    "        return f'(x)\n",
    "    end function\n",
    "    \n",
    "Seudocódigo para obtener la raíz\n",
    "    \n",
    "    function raiz(f(x), x_0, delta_x):\n",
    "        x_1 = x_0 - f(x_0)/derivada(f(x), x_0, delta_x)\n",
    "        return x_1\n",
    "    end function"
   ]
  },
  {
   "cell_type": "code",
   "execution_count": 1,
   "metadata": {
    "collapsed": true
   },
   "outputs": [],
   "source": [
    "def f(x):\n",
    "    # f(x) = x^5 + x^3 + 3\n",
    "    y = x**5 + x**3 + 3\n",
    "    return y\n",
    "\n",
    "def derivada(f, x_0, delta_x):\n",
    "    pendiente = (f(x_0 + delta_x) - f(x_0))/delta_x \n",
    "    return pendiente\n",
    "\n",
    "def raiz(f, x_0, delta_x):\n",
    "    x_1 = x_0 - f(x_0)/derivada(f, x_0, delta_x)\n",
    "    return x_1"
   ]
  },
  {
   "cell_type": "code",
   "execution_count": 2,
   "metadata": {
    "collapsed": false
   },
   "outputs": [
    {
     "data": {
      "text/plain": [
       "0.3125"
      ]
     },
     "execution_count": 2,
     "metadata": {},
     "output_type": "execute_result"
    }
   ],
   "source": [
    "derivada(f, 0, -0.5)"
   ]
  },
  {
   "cell_type": "code",
   "execution_count": 3,
   "metadata": {
    "collapsed": false
   },
   "outputs": [
    {
     "data": {
      "text/plain": [
       "-9.6"
      ]
     },
     "execution_count": 3,
     "metadata": {},
     "output_type": "execute_result"
    }
   ],
   "source": [
    "raiz(f, 0, -0.5)"
   ]
  },
  {
   "cell_type": "markdown",
   "metadata": {},
   "source": [
    "##Implementación no vectorizada\n",
    "\n",
    "Seudocódigo\n",
    "\n",
    "    function secante_modificada(f(x), x_0, delta_x)\n",
    "        x_actual = x_0\n",
    "        error_permitido = 0.000001\n",
    "        while(True)\n",
    "            x_anterior = x_actual\n",
    "            x_actual = raiz(f(x), x_anterior, delta_x)\n",
    "            if x_raiz_actual != 0\n",
    "                error_relativo = abs((x_raiz_actual - x_raiz_anterior)/x_raiz_actual)*100\n",
    "            end if\n",
    "            if error_relativo < error_permitido\n",
    "                exit\n",
    "            end if\n",
    "        end while\n",
    "        mostrar x_actual\n",
    "    end function\n",
    "    \n",
    "o también\n",
    "\n",
    "    function secante_modificada(f(x), x_0, delta_x)\n",
    "        x_actual = x_0\n",
    "        for 1 to maxima_iteracion do\n",
    "            x_anterior = x_actual\n",
    "            x_actual = raiz(f(x), x_anterior, delta_x)\n",
    "        end for\n",
    "        mostrar x_actual\n",
    "    end function"
   ]
  },
  {
   "cell_type": "code",
   "execution_count": 4,
   "metadata": {
    "collapsed": true
   },
   "outputs": [],
   "source": [
    "def secante_modificada(f, x_0, delta_x):\n",
    "    print(\"{0:s} \\t {1:15s} \\t {2:15s} \\t {3:15s}\".format('i', 'x anterior', 'x actual', 'error relativo %'))\n",
    "    x_actual = x_0\n",
    "    i = 0\n",
    "    print(\"{0:d} \\t {1:15s} \\t {2:.15f} \\t {3:15s}\".format(i, '???????????????', x_actual, '???????????????'))\n",
    "    error_permitido = 0.000001\n",
    "    while True:\n",
    "        x_anterior = x_actual\n",
    "        x_actual = raiz(f, x_anterior, delta_x)\n",
    "        if x_actual != 0:\n",
    "            error_relativo = abs((x_actual - x_anterior)/x_actual)*100\n",
    "        i = i + 1\n",
    "        print(\"{0:d} \\t {1:.15f} \\t {2:.15f} \\t {3:15.11f}\".format(i, x_anterior, x_actual, error_relativo))\n",
    "        if (error_relativo < error_permitido) or (i>=20):\n",
    "            break\n",
    "    print('\\nx =', x_actual)"
   ]
  },
  {
   "cell_type": "code",
   "execution_count": 5,
   "metadata": {
    "collapsed": false,
    "scrolled": true
   },
   "outputs": [
    {
     "name": "stdout",
     "output_type": "stream",
     "text": [
      "i \t x anterior      \t x actual        \t error relativo %\n",
      "0 \t ??????????????? \t 0.000000000000000 \t ???????????????\n",
      "1 \t 0.000000000000000 \t -9.600000000000000 \t 100.00000000000\n",
      "2 \t -9.600000000000000 \t -7.861884473794202 \t  22.10812855365\n",
      "3 \t -7.861884473794202 \t -6.467625051576309 \t  21.55751780753\n",
      "4 \t -6.467625051576309 \t -5.347892881165710 \t  20.93781972249\n",
      "5 \t -5.347892881165710 \t -4.447268168383268 \t  20.25118968955\n",
      "6 \t -4.447268168383268 \t -3.721545685895121 \t  19.50056626306\n",
      "7 \t -3.721545685895121 \t -3.135622199326246 \t  18.68603579522\n",
      "8 \t -3.135622199326246 \t -2.661854770239923 \t  17.79839510341\n",
      "9 \t -2.661854770239923 \t -2.278788100410730 \t  16.81010488690\n",
      "10 \t -2.278788100410730 \t -1.970139879918845 \t  15.66630997311\n",
      "11 \t -1.970139879918845 \t -1.723899448763318 \t  14.28392075490\n",
      "12 \t -1.723899448763318 \t -1.531345519287236 \t  12.57416612064\n",
      "13 \t -1.531345519287236 \t -1.385789759997517 \t  10.50345178550\n",
      "14 \t -1.385789759997517 \t -1.281061052240061 \t   8.17515352405\n",
      "15 \t -1.281061052240061 \t -1.210232120622861 \t   5.85250799497\n",
      "16 \t -1.210232120622861 \t -1.165395607310976 \t   3.84732128992\n",
      "17 \t -1.165395607310976 \t -1.138660390067439 \t   2.34795356691\n",
      "18 \t -1.138660390067439 \t -1.123437933829515 \t   1.35498862728\n",
      "19 \t -1.123437933829515 \t -1.115037168447288 \t   0.75340675808\n",
      "20 \t -1.115037168447288 \t -1.110489150566135 \t   0.40955086133\n",
      "\n",
      "x = -1.1104891505661354\n"
     ]
    }
   ],
   "source": [
    "secante_modificada(f, 0, -0.5)"
   ]
  },
  {
   "cell_type": "code",
   "execution_count": 6,
   "metadata": {
    "collapsed": false,
    "scrolled": false
   },
   "outputs": [
    {
     "name": "stdout",
     "output_type": "stream",
     "text": [
      "i \t x anterior      \t x actual        \t error relativo %\n",
      "0 \t ??????????????? \t 0.000000000000000 \t ???????????????\n",
      "1 \t 0.000000000000000 \t -1.500000000000000 \t 100.00000000000\n",
      "2 \t -1.500000000000000 \t -1.422113622480146 \t   5.47680412371\n",
      "3 \t -1.422113622480146 \t -1.358063923532322 \t   4.71625067406\n",
      "4 \t -1.358063923532322 \t -1.305788923041259 \t   4.00332699785\n",
      "5 \t -1.305788923041259 \t -1.263460697485440 \t   3.35018142156\n",
      "6 \t -1.263460697485440 \t -1.229455240991364 \t   2.76589625716\n",
      "7 \t -1.229455240991364 \t -1.202339201763378 \t   2.25527365225\n",
      "8 \t -1.202339201763378 \t -1.180863453314626 \t   1.81864790450\n",
      "9 \t -1.180863453314626 \t -1.163956609232255 \t   1.45253216041\n",
      "10 \t -1.163956609232255 \t -1.150715065452284 \t   1.15072307451\n",
      "11 \t -1.150715065452284 \t -1.140388941972345 \t   0.90549137228\n",
      "12 \t -1.140388941972345 \t -1.132364949103758 \t   0.70860484289\n",
      "13 \t -1.132364949103758 \t -1.126147808477357 \t   0.55207145808\n",
      "14 \t -1.126147808477357 \t -1.121341770889101 \t   0.42859703554\n",
      "15 \t -1.121341770889101 \t -1.117633363508680 \t   0.33180893677\n",
      "16 \t -1.117633363508680 \t -1.114776030199689 \t   0.25631456289\n",
      "17 \t -1.114776030199689 \t -1.112576935863598 \t   0.19765773181\n",
      "18 \t -1.112576935863598 \t -1.110885931416579 \t   0.15222124965\n",
      "19 \t -1.110885931416579 \t -1.109586512696503 \t   0.11710837372\n",
      "20 \t -1.109586512696503 \t -1.108588527715178 \t   0.09002302986\n",
      "\n",
      "x = -1.108588527715178\n"
     ]
    }
   ],
   "source": [
    "secante_modificada(f, 0, -1)"
   ]
  }
 ],
 "metadata": {
  "kernelspec": {
   "display_name": "Python 3",
   "language": "python",
   "name": "python3"
  },
  "language_info": {
   "codemirror_mode": {
    "name": "ipython",
    "version": 3
   },
   "file_extension": ".py",
   "mimetype": "text/x-python",
   "name": "python",
   "nbconvert_exporter": "python",
   "pygments_lexer": "ipython3",
   "version": "3.4.3"
  }
 },
 "nbformat": 4,
 "nbformat_minor": 0
}
