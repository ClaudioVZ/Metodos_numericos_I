{
 "cells": [
  {
   "cell_type": "markdown",
   "metadata": {},
   "source": [
    "# Método de la falsa posición modificado\n",
    "\n",
    "El método de la falsa posición modificado evita que uno de los límites del intervalo permanezca\n",
    "constante.\n",
    "\n",
    "Si $f(x_{inferior})$ permanece constante se usa su promedio \n",
    "\n",
    "grafico\n",
    "\n",
    "Interpolando los puntos $(x_{inferior}, \\frac{f(x_{inferior})}{2})$ y $(x_{superior}, f(x_{superior}))$\n",
    "\n",
    "\\begin{equation*}\n",
    "    \\frac{f(x_{superior}) - \\frac{f(x_{inferior})}{2}}{x_{superior} - x_{inferior}} = \\frac{f(x_{superior}) - y}{x_{superior} - x}\n",
    "\\end{equation*}\n",
    "\n",
    "Según el gráfico $y = 0$ y $x \\approx x_{raiz}$\n",
    "\n",
    "\\begin{equation*}\n",
    "    \\frac{f(x_{superior}) - \\frac{f(x_{inferior})}{2}}{x_{superior} - x_{inferior}} = \\frac{f(x_{superior})}{x_{superior} - x_{raiz}}\n",
    "\\end{equation*}\n",
    "\n",
    "Despejando $x_{raiz}$\n",
    "\n",
    "\\begin{equation}\n",
    "    x_{raiz} = x_{superior} - \\frac{x_{superior} - x_{inferior}}{2 f(x_{superior}) - f(x_{inferior})} 2 f(x_{superior})\n",
    "\\end{equation}\n",
    "\n",
    "Si $f(x_{superior})$ permanece constante se usa su promedio\n",
    "\n",
    "grafico\n",
    "\n",
    "Interpolando los puntos $(x_{inferior}, f(x_{inferior}))$ y $(x_{superior}, \\frac{f(x_{superior})}{2})$\n",
    "\n",
    "\\begin{equation*}\n",
    "    \\frac{\\frac{f(x_{superior})}{2} - f(x_{inferior})}{x_{superior} - x_{inferior}} = \\frac{\\frac{f(x_{superior})}{2} - y}{x_{superior} - x}\n",
    "\\end{equation*}\n",
    "\n",
    "Según el gráfico $y = 0$ y $x \\approx x_{raiz}$\n",
    "\n",
    "\\begin{equation*}\n",
    "    \\frac{\\frac{f(x_{superior})}{2} - f(x_{inferior})}{x_{superior} - x_{inferior}} = \\frac{\\frac{f(x_{superior})}{2}}{x_{superior} - x_{raiz}}\n",
    "\\end{equation*}\n",
    "\n",
    "Despejando $x_{raiz}$\n",
    "\n",
    "\\begin{equation}\n",
    "    x_{raiz} = x_{superior} - \\frac{x_{superior} - x_{inferior}}{f(x_{superior}) - 2 f(x_{inferior})} f(x_{superior})\n",
    "\\end{equation}\n",
    "\n",
    "Algoritmo\n",
    "\n",
    "    la raiz verdadera está en el intervalo [x_inferior, x_superior]\n",
    "    si f(x_inferior) es constante\n",
    "        f(x_inferior) = f(x_inferior)/2\n",
    "    si f(x_superior) es constante\n",
    "        f(x_superior) = f(x_superior)/2\n",
    "    calcular x_raiz\n",
    "    si f(x_inferior)*f(x_raiz) < 0\n",
    "        la raiz verdadera está en el intervalo [x_inferior, x_raiz]\n",
    "        calcular x_raiz\n",
    "    si f(x_inferior)*f(x_raiz) > 0\n",
    "        la raiz verdadera está en el intervalo [x_raiz, x_superior]\n",
    "        calcular x_raiz\n",
    "    si f(x_inferior)*f(x_raiz) = 0\n",
    "        se encontró la raiz verdadera\n",
    "        \n",
    "## Ejemplo 1\n",
    "\n",
    "Encontrar la raiz de\n",
    "\n",
    "\\begin{equation*}\n",
    "    y = x^{3} + 4 x^{2} - 10\n",
    "\\end{equation*}\n",
    "\n",
    "la raíz posiblemente se encuentre en $[x_{l}, x_{u}] = [1,2]$\n",
    "\n",
    "### Iteración 0\n",
    "\n",
    "Intervalo actual\n",
    "\n",
    "\\begin{equation*}\n",
    "    [x_{l_{0}}, x_{u_{0}}] = [1,2]\n",
    "\\end{equation*}\n",
    "\n",
    "Ordenadas en el intervalo actual\n",
    "\n",
    "\\begin{align*}\n",
    "    f(x_{l_{0}}) &= f(1) = -5 \\\\\n",
    "    f(x_{u_{0}}) &= f(2) = 14\n",
    "\\end{align*}\n",
    "\n",
    "Raíz aproximada\n",
    "\n",
    "\\begin{equation*}\n",
    "    x_{r_{0}} = x_{u_{0}} - \\frac{x_{u_{0}} - x_{l_{0}}}{f(x_{u_{0}}) - f(x_{l_{0}})} f(x_{u_{0}}) = 2 - \\frac{2 - 1}{14 - (-5)} 14 = 1.263158\n",
    "\\end{equation*}\n",
    "\n",
    "Siguiente intervalo\n",
    "\n",
    "\\begin{equation*}\n",
    "    [x_{l_{1}}, x_{u_{1}}] = \\left \\{\n",
    "    \\begin{array}{llcll}\n",
    "        si & f(x_{l_{0}}) \\cdot f(x_{r_{0}}) = f(1) \\cdot f(1.263158) < 0 & \\longrightarrow & [x_{l_{0}}, x_{r_{0}}] = [1, 1.263158] & \\\\\n",
    "        si & f(x_{l_{0}}) \\cdot f(x_{r_{0}}) = f(1) \\cdot f(1.263158) > 0 & \\longrightarrow & [x_{r_{0}}, x_{u_{0}}] = [1.263158, 2] & \\checkmark\n",
    "    \\end{array}\n",
    "    \\right .\n",
    "\\end{equation*}\n",
    "\n",
    "Error relativo\n",
    "\n",
    "\\begin{equation*}\n",
    "    e_{r} = ? \n",
    "\\end{equation*}\n",
    "\n",
    "### Iteración 1\n",
    "\n",
    "Intervalo actual\n",
    "\n",
    "\\begin{equation*}\n",
    "    [x_{l_{1}}, x_{u_{1}}] = [1.263158, 2]\n",
    "\\end{equation*}\n",
    "\n",
    "Ordenadas en el intervalo actual\n",
    "\n",
    "\\begin{align*}\n",
    "    f(x_{l_{1}}) &= \\left \\{\n",
    "    \\begin{array}{llcll}\n",
    "        si & f(x_{l_{1}}) = f(x_{l_{0}}) & \\longrightarrow & \\frac{f(x_{l_{1}})}{2} & \\\\\n",
    "        si & f(x_{l_{1}}) \\neq f(x_{l_{0}}) & \\longrightarrow & f(x_{l_{1}}) = f(1.263158) = -1.602273 & \\checkmark\n",
    "    \\end{array}\n",
    "    \\right . \\\\\n",
    "    f(x_{u_{1}}) &= \\left \\{\n",
    "    \\begin{array}{llcll}\n",
    "        si & f(x_{u_{1}}) = f(x_{u_{0}}) & \\longrightarrow & \\frac{f(x_{u_{1}})}{2} = \\frac{f(2)}{2} = 7 & \\checkmark \\\\\n",
    "        si & f(x_{u_{1}}) \\neq f(x_{u_{0}}) & \\longrightarrow & f(x_{u_{1}}) &\n",
    "    \\end{array}\n",
    "    \\right .\n",
    "\\end{align*}\n",
    "\n",
    "Raíz aproximada\n",
    "\n",
    "\\begin{equation*}\n",
    "    x_{r_{1}} = x_{u_{1}} - \\frac{x_{u_{1}} - x_{l_{1}}}{f(x_{u_{1}}) - f(x_{l_{1}})} f(x_{u_{1}}) = 2 - \\frac{2 - 1.263158}{7 - (-1.602273)} 7 = 1.400403\n",
    "\\end{equation*}\n",
    "\n",
    "Siguiente intervalo\n",
    "\n",
    "\\begin{equation*}\n",
    "    [x_{l_{2}}, x_{u_{2}}] = \\left \\{\n",
    "    \\begin{array}{llcll}\n",
    "        si & f(x_{l_{1}}) \\cdot f(x_{r_{1}}) = f(1.263158) \\cdot f(1.400403) < 0 & \\longrightarrow & [x_{l_{1}}, x_{r_{1}}] = [1.263158, 1.400403] & \\checkmark \\\\\n",
    "        si & f(x_{l_{1}}) \\cdot f(x_{r_{1}}) = f(1.263158) \\cdot f(1.400403) > 0 & \\longrightarrow & [x_{r_{1}}, x_{u_{1}}] = [1.400403, 2] &\n",
    "    \\end{array}\n",
    "    \\right .\n",
    "\\end{equation*}\n",
    "\n",
    "Error relativo\n",
    "\n",
    "\\begin{equation*}\n",
    "    e_{r} = \\bigg|\\frac{x_{r_{1}} - x_{r_{0}}}{x_{r_{1}}}\\bigg| \\times 100\\% = \\bigg|\\frac{1.400403 - 1.263158}{1.400403}\\bigg| \\times 100\\% = 9.80\\%\n",
    "\\end{equation*}\n",
    "\n",
    "### Iteración 2\n",
    "\n",
    "Intervalo actual\n",
    "\n",
    "\\begin{equation*}\n",
    "    [x_{l_{2}}, x_{u_{2}}] = [1.263158, 1.400403]\n",
    "\\end{equation*}\n",
    "\n",
    "Ordenadas en el intervalo actual\n",
    "\n",
    "\\begin{align*}\n",
    "    f(x_{l_{2}}) &= \\left \\{\n",
    "    \\begin{array}{llcll}\n",
    "        si & f(x_{l_{2}}) = f(x_{l_{1}}) & \\longrightarrow & \\frac{f(x_{l_{2}})}{2} = \\frac{f(1.263158)}{2} = -0.801137 & \\checkmark \\\\\n",
    "        si & f(x_{l_{2}}) \\neq f(x_{l_{1}}) & \\longrightarrow & f(x_{l_{2}}) &\n",
    "    \\end{array}\n",
    "    \\right . \\\\\n",
    "    f(x_{u_{2}}) &= \\left \\{\n",
    "    \\begin{array}{llcll}\n",
    "        si & f(x_{u_{2}}) = f(x_{u_{1}}) & \\longrightarrow & \\frac{f(x_{u_{2}})}{2} & \\\\\n",
    "        si & f(x_{u_{2}}) \\neq f(x_{u_{1}}) & \\longrightarrow & f(x_{u_{2}}) = f(1.400403) = 0.590885 & \\checkmark\n",
    "    \\end{array}\n",
    "    \\right .\n",
    "\\end{align*}\n",
    "\n",
    "Raíz aproximada\n",
    "\n",
    "\\begin{equation*}\n",
    "    x_{r_{2}} = x_{u_{2}} - \\frac{x_{u_{2}} - x_{l_{2}}}{f(x_{u_{2}}) - f(x_{l_{2}})} f(x_{u_{2}}) = 1.400403 - \\frac{1.400403 - 1.263158}{0.590885 - (-0.801137)} 0.590885 = 1.342145\n",
    "\\end{equation*}\n",
    "\n",
    "Siguiente intervalo\n",
    "\n",
    "\\begin{equation*}\n",
    "    [x_{l_{3}}, x_{u_{3}}] = \\left \\{\n",
    "    \\begin{array}{llcll}\n",
    "        si & f(x_{l_{2}}) \\cdot f(x_{r_{2}}) = f(1.263158) \\cdot f(1.342145) < 0 & \\longrightarrow & [x_{l_{2}}, x_{r_{2}}] = [1.263158, 1.342145] & \\\\\n",
    "        si & f(x_{l_{2}}) \\cdot f(x_{r_{2}}) = f(1.263158) \\cdot f(1.342145) > 0 & \\longrightarrow & [x_{r_{2}}, x_{u_{2}}] = [1.342145, 1.400403] & \\checkmark\n",
    "    \\end{array}\n",
    "    \\right .\n",
    "\\end{equation*}\n",
    "\n",
    "Error relativo\n",
    "\n",
    "\\begin{equation*}\n",
    "    e_{r} = \\bigg|\\frac{x_{r_{2}} - x_{r_{1}}}{x_{r_{2}}}\\bigg| \\times 100\\% = \\bigg|\\frac{1.342145 - 1.400403}{1.342145}\\bigg| \\times 100\\% = 4.34\\%\n",
    "\\end{equation*}\n",
    "\n",
    "### Iteración 3\n",
    "\n",
    "Intervalo actual\n",
    "\n",
    "\\begin{equation*}\n",
    "    [x_{l_{3}}, x_{u_{3}}] = [1.342145, 1.400403]\n",
    "\\end{equation*}\n",
    "\n",
    "Ordenadas en el intervalo actual\n",
    "\n",
    "\\begin{align*}\n",
    "    f(x_{l_{3}}) &= \\left \\{\n",
    "    \\begin{array}{llcll}\n",
    "        si & f(x_{l_{3}}) = f(x_{l_{2}}) & \\longrightarrow & \\frac{f(x_{l_{3}})}{2} & \\\\\n",
    "        si & f(x_{l_{3}}) \\neq f(x_{l_{2}}) & \\longrightarrow & f(x_{l_{3}}) = f(1.342145) = -0.376910 & \\checkmark\n",
    "    \\end{array}\n",
    "    \\right . \\\\\n",
    "    f(x_{u_{3}}) &= \\left \\{\n",
    "    \\begin{array}{llcll}\n",
    "        si & f(x_{u_{3}}) = f(x_{u_{2}}) & \\longrightarrow & \\frac{f(x_{u_{3}})}{2} = \\frac{f(1.400403)}{2} = 0.295443 & \\checkmark \\\\\n",
    "        si & f(x_{u_{3}}) \\neq f(x_{u_{2}}) & \\longrightarrow & f(x_{u_{3}}) &\n",
    "    \\end{array}\n",
    "    \\right .\n",
    "\\end{align*}\n",
    "\n",
    "Raíz aproximada\n",
    "\n",
    "\\begin{equation*}\n",
    "    x_{r_{3}} = x_{u_{3}} - \\frac{x_{u_{3}} - x_{l_{3}}}{f(x_{u_{3}}) - f(x_{l_{3}})} f(x_{u_{3}}) = 1.400403 - \\frac{1.400403 - 1.342145}{0.295443 - (-0.376910)} 0.295443 = 1.374803\n",
    "\\end{equation*}\n",
    "\n",
    "Siguiente intervalo\n",
    "\n",
    "\\begin{equation*}\n",
    "    [x_{l_{4}}, x_{u_{4}}] = \\left \\{\n",
    "    \\begin{array}{llcll}\n",
    "        si & f(x_{l_{3}}) \\cdot f(x_{r_{3}}) = f(1.342145) \\cdot f(1.374803) < 0 & \\longrightarrow & [x_{l_{3}}, x_{r_{3}}] = [1.342145, 1.374803] & \\checkmark \\\\\n",
    "        si & f(x_{l_{3}}) \\cdot f(x_{r_{3}}) = f(1.342145) \\cdot f(1.374803) > 0 & \\longrightarrow & [x_{r_{3}}, x_{u_{3}}] = [1.374803, 1.400403] &\n",
    "    \\end{array}\n",
    "    \\right .\n",
    "\\end{equation*}\n",
    "\n",
    "Error relativo\n",
    "\n",
    "\\begin{equation*}\n",
    "    e_{r} = \\bigg|\\frac{x_{r_{3}} - x_{r_{2}}}{x_{r_{3}}}\\bigg| \\times 100\\% = \\bigg|\\frac{1.374803 - 1.342145}{1.374803}\\bigg| \\times 100\\% = 2.38\\%\n",
    "\\end{equation*}\n",
    "        \n",
    "## Implementación de funciones auxiliares\n",
    "        \n",
    "Seudocódigo para calcular la raíz\n",
    "        \n",
    "````pascal\n",
    "function raiz(f(x), x_l, x_u)\n",
    "    x_r = x_u - f(x_u)*(x_u - x_l)/f(x_u) - f(x_l)\n",
    "    return x_r\n",
    "end function\n",
    "````\n",
    "\n",
    "Seudocódigo para calcular la raíz modificada\n",
    "\n",
    "````pascal    \n",
    "function raiz_modificada(x_l, x_u, y_l, y_u)\n",
    "    x_r = x_u - y_u*(x_u - x_l)/(y_u - y_l)\n",
    "    return x_r\n",
    "end function\n",
    "````\n",
    "\n",
    "Seudocódigo para determinar el siguiente intervalo\n",
    "\n",
    "````pascal        \n",
    "function intervalo_de_raiz(f(x), x_l, x_u, y_l, y_u)\n",
    "    x_r = raiz_modificada(x_l, x_u, y_l, y_u)\n",
    "    if y_l*f(x_r) < 0\n",
    "        x_u = x_r\n",
    "    end if\n",
    "    if y_l*f(x_r) > 0\n",
    "        x_l = x_r\n",
    "    end if\n",
    "    return x_l, x_u\n",
    "end function\n",
    "````"
   ]
  },
  {
   "cell_type": "code",
   "execution_count": 1,
   "metadata": {
    "collapsed": false
   },
   "outputs": [],
   "source": [
    "def raiz(f, x_l, x_u):\n",
    "    x_r = x_u - (f(x_u)*(x_u - x_l))/(f(x_u) - f(x_l))\n",
    "    return x_r\n",
    "\n",
    "def raiz_modificada(x_l, x_u, y_l, y_u):\n",
    "    x_r = x_u - (y_u*(x_u - x_l))/(y_u - y_l)\n",
    "    return x_r\n",
    "\n",
    "def intervalo_de_raiz(f, x_l, x_u, y_l, y_u):\n",
    "    x_r = raiz_modificada(x_l, x_u, y_l, y_u)\n",
    "    if y_l*f(x_r) < 0:\n",
    "        x_u = x_r\n",
    "    if y_l*f(x_r) > 0:\n",
    "        x_l = x_r\n",
    "    return x_l, x_u"
   ]
  },
  {
   "cell_type": "markdown",
   "metadata": {},
   "source": [
    "## Implementación no vectorizada\n",
    "\n",
    "````pascal\n",
    "function falsa_posicion_modificada(f(x), x_inferior, x_superior)\n",
    "    f_inferior_actual = f(x_inferior)\n",
    "    f_superior_actual = f(x_superior)\n",
    "    x_raiz_actual = raiz(f, x_inferior, x_superior)\n",
    "    error_permitido = 0.000001\n",
    "    while(True)\n",
    "        f_inferior_anterior = f_inferior_actual\n",
    "        f_superior_anterior = f_superior_actual\n",
    "        x_raiz_anterior = x_raiz_actual\n",
    "        x_inferior, x_superior = intervalo_de_raiz(f(x), x_inferior, x_superior,f_inferior_actual,f_superior_actual)\n",
    "        f_inferior_actual = f(x_inferior)\n",
    "        f_superior_actual = f(x_superior)\n",
    "        if f_inferior_actual = f_inferior_anterior\n",
    "            f_inferior_actual = f_inferior_actual/2\n",
    "        end if\n",
    "        if f_superior_actual = f_superior_anterior\n",
    "            f_superior_actual = f_superior_actual/2\n",
    "        end if\n",
    "        x_raiz_actual = raiz_modificada(x_inferior, x_superior, f_inferior_actual, f_superior_actual)\n",
    "        if x_raiz_actual != 0:\n",
    "            error_relativo = abs((x_raiz_actual - x_raiz_anterior)/x_raiz_actual)*100\n",
    "        end if\n",
    "        if error_relativo < error_permitido\n",
    "            exit\n",
    "        end if\n",
    "    end while\n",
    "    return x_raiz_actual\n",
    "end function\n",
    "````\n",
    "\n",
    "o tambien\n",
    "\n",
    "````pascal\n",
    "function falsa_posicion_modificada(f(x), x_inferior, x_superior)\n",
    "    f_inferior_actual = f(x_inferior)\n",
    "    f_superior_actual = f(x_superior)\n",
    "    x_raiz_actual = raiz(f, x_inferior, x_superior)\n",
    "    for i to iteracion_maxima do\n",
    "        f_inferior_anterior = f_inferior_actual\n",
    "        f_superior_anterior = f_superior_actual\n",
    "        x_raiz_anterior = x_raiz_actual\n",
    "        x_inferior, x_superior = intervalo_de_raiz(f(x), x_inferior, x_superior,f_inferior_actual,f_superior_actual)\n",
    "        f_inferior_actual = f(x_inferior)\n",
    "        f_superior_actual = f(x_superior)\n",
    "        if f_inferior_actual = f_inferior_anterior\n",
    "            f_inferior_actual = f_inferior_actual/2\n",
    "        end if\n",
    "        if f_superior_actual = f_superior_anterior\n",
    "            f_superior_actual = f_superior_actual/2\n",
    "        end if\n",
    "        x_raiz_actual = raiz_modificada(x_inferior, x_superior, f_inferior_actual, f_superior_actual)\n",
    "    end for\n",
    "    return x_raiz_actual\n",
    "end function\n",
    "````"
   ]
  },
  {
   "cell_type": "code",
   "execution_count": 2,
   "metadata": {
    "collapsed": false
   },
   "outputs": [],
   "source": [
    "def falsa_posicion_modificada(f, x_inferior, x_superior):\n",
    "    print(\"{0:2s}\\t{1:12s}\\t{2:12s}\\t{3:12s}\\t{4:16s}\".format(' i', 'x inferior', 'x superior', 'raiz', 'error relativo %'))\n",
    "    f_inferior_actual = f(x_inferior)\n",
    "    f_superior_actual = f(x_superior)\n",
    "    x_raiz_actual = raiz(f, x_inferior, x_superior)\n",
    "    i = 0\n",
    "    print(\"{0:2d}\\t{1:12.10f}\\t{2:12.10f}\\t{3:12.10f}\\t{4:16s}\".format(i, x_inferior, x_superior, x_raiz_actual, '????????????????'))\n",
    "    error_permitido = 0.000001\n",
    "    while True:\n",
    "        f_inferior_anterior = f_inferior_actual\n",
    "        f_superior_anterior = f_superior_actual\n",
    "        x_raiz_anterior = x_raiz_actual\n",
    "        x_inferior, x_superior = intervalo_de_raiz(f, x_inferior, x_superior,f_inferior_actual,f_superior_actual)\n",
    "        f_inferior_actual = f(x_inferior)\n",
    "        f_superior_actual = f(x_superior)\n",
    "        if f_inferior_actual == f_inferior_anterior:\n",
    "            f_inferior_actual = f_inferior_actual/2\n",
    "        if f_superior_actual == f_superior_anterior:\n",
    "            f_superior_actual = f_superior_actual/2\n",
    "        x_raiz_actual = raiz_modificada(x_inferior, x_superior, f_inferior_actual, f_superior_actual)\n",
    "        if x_raiz_actual != 0:\n",
    "            error_relativo = abs((x_raiz_actual - x_raiz_anterior)/x_raiz_actual)*100\n",
    "        i = i + 1\n",
    "        print(\"{0:2d}\\t{1:12.10f}\\t{2:12.10f}\\t{3:12.10f}\\t{4:16.13f}\".format(i, x_inferior, x_superior, x_raiz_actual, error_relativo))\n",
    "        if (error_relativo < error_permitido) or (i>=20):\n",
    "            break\n",
    "    print('\\nx =', x_raiz_actual)"
   ]
  },
  {
   "cell_type": "markdown",
   "metadata": {},
   "source": [
    "## Ejemplo 2\n",
    "\n",
    "Encontrar la raiz de\n",
    "\n",
    "\\begin{equation*}\n",
    "    y = x^{3} + 4 x^{2} - 10\n",
    "\\end{equation*}\n",
    "\n",
    "la raíz posiblemente se encuentre en el intervalo $[1,2]$"
   ]
  },
  {
   "cell_type": "code",
   "execution_count": 3,
   "metadata": {
    "collapsed": true
   },
   "outputs": [],
   "source": [
    "def f(x):\n",
    "    y = x**3 + 4*x**2 - 10\n",
    "    return y"
   ]
  },
  {
   "cell_type": "code",
   "execution_count": 4,
   "metadata": {
    "collapsed": false
   },
   "outputs": [
    {
     "data": {
      "text/plain": [
       "(1.263157894736842, 2)"
      ]
     },
     "execution_count": 4,
     "metadata": {},
     "output_type": "execute_result"
    }
   ],
   "source": [
    "intervalo_de_raiz(f, 1, 2, f(1), f(2))"
   ]
  },
  {
   "cell_type": "code",
   "execution_count": 5,
   "metadata": {
    "collapsed": false
   },
   "outputs": [
    {
     "data": {
      "text/plain": [
       "(1.3388278388278387, 2)"
      ]
     },
     "execution_count": 5,
     "metadata": {},
     "output_type": "execute_result"
    }
   ],
   "source": [
    "intervalo_de_raiz(f, 1.263157894736842, 2, f(1.263157894736842), f(2))"
   ]
  },
  {
   "cell_type": "code",
   "execution_count": 6,
   "metadata": {
    "collapsed": false
   },
   "outputs": [
    {
     "name": "stdout",
     "output_type": "stream",
     "text": [
      " i\tx inferior  \tx superior  \traiz        \terror relativo %\n",
      " 0\t1.0000000000\t2.0000000000\t1.2631578947\t????????????????\n",
      " 1\t1.2631578947\t2.0000000000\t1.4004033693\t 9.8004244769837\n",
      " 2\t1.2631578947\t1.4004033693\t1.3421451337\t 4.3406807634509\n",
      " 3\t1.3421451337\t1.4004033693\t1.3748035389\t 2.3754961565948\n",
      " 4\t1.3421451337\t1.3748035389\t1.3598670256\t 1.0983804349468\n",
      " 5\t1.3598670256\t1.3748035389\t1.3677320256\t 0.5750395430186\n",
      " 6\t1.3598670256\t1.3677320256\t1.3639281150\t 0.2788937691733\n",
      " 7\t1.3639281150\t1.3677320256\t1.3658662134\t 0.1418951824503\n",
      " 8\t1.3639281150\t1.3658662134\t1.3649078080\t 0.0702175888990\n",
      " 9\t1.3649078080\t1.3658662134\t1.3653899706\t 0.0353131773282\n",
      "10\t1.3649078080\t1.3653899706\t1.3651497210\t 0.0175987755998\n",
      "11\t1.3651497210\t1.3653899706\t1.3652700739\t 0.0088153236502\n",
      "12\t1.3651497210\t1.3652700739\t1.3652099600\t 0.0044032767682\n",
      "13\t1.3652099600\t1.3652700739\t1.3652400339\t 0.0022028303181\n",
      "14\t1.3652099600\t1.3652400339\t1.3652250015\t 0.0011010925722\n",
      "15\t1.3652250015\t1.3652400339\t1.3652325189\t 0.0005506329830\n",
      "16\t1.3652250015\t1.3652325189\t1.3652287605\t 0.0002752932901\n",
      "17\t1.3652287605\t1.3652325189\t1.3652306398\t 0.0001376528251\n",
      "18\t1.3652287605\t1.3652306398\t1.3652297002\t 0.0000688247723\n",
      "19\t1.3652297002\t1.3652306398\t1.3652301700\t 0.0000344128200\n",
      "20\t1.3652297002\t1.3652301700\t1.3652299351\t 0.0000172062956\n",
      "\n",
      "x = 1.365229935111884\n"
     ]
    }
   ],
   "source": [
    "falsa_posicion_modificada(f,1,2)"
   ]
  },
  {
   "cell_type": "markdown",
   "metadata": {},
   "source": [
    "## Ejemplo 3\n",
    "\n",
    "Encontrar la raiz de\n",
    "\n",
    "\\begin{equation*}\n",
    "    y = \\sin{10 x} + \\cos{3 x}\n",
    "\\end{equation*}\n",
    "\n",
    "la raíz posiblemente se encuentre en el intervalo $[12,16]$"
   ]
  },
  {
   "cell_type": "code",
   "execution_count": 7,
   "metadata": {
    "collapsed": true
   },
   "outputs": [],
   "source": [
    "from math import sin, cos\n",
    "\n",
    "def g(x):\n",
    "    y = sin(10*x) + cos(3*x)\n",
    "    return y"
   ]
  },
  {
   "cell_type": "code",
   "execution_count": 8,
   "metadata": {
    "collapsed": false
   },
   "outputs": [
    {
     "data": {
      "text/plain": [
       "(14.07311572112783, 16)"
      ]
     },
     "execution_count": 8,
     "metadata": {},
     "output_type": "execute_result"
    }
   ],
   "source": [
    "intervalo_de_raiz(g, 12, 16, g(12), g(16))"
   ]
  },
  {
   "cell_type": "code",
   "execution_count": 9,
   "metadata": {
    "collapsed": false
   },
   "outputs": [
    {
     "data": {
      "text/plain": [
       "(14.730875967228018, 9.855338749311382)"
      ]
     },
     "execution_count": 9,
     "metadata": {},
     "output_type": "execute_result"
    }
   ],
   "source": [
    "intervalo_de_raiz(g, 14.730875967228018, 16, f(14.730875967228018), f(16))"
   ]
  },
  {
   "cell_type": "code",
   "execution_count": 10,
   "metadata": {
    "collapsed": false
   },
   "outputs": [
    {
     "name": "stdout",
     "output_type": "stream",
     "text": [
      " i\tx inferior  \tx superior  \traiz        \terror relativo %\n",
      " 0\t12.0000000000\t16.0000000000\t14.0731157211\t????????????????\n",
      " 1\t14.0731157211\t16.0000000000\t15.3430413313\t 8.2768831991868\n",
      " 2\t15.3430413313\t16.0000000000\t15.3838294244\t 0.2651361501958\n",
      " 3\t15.3430413313\t15.3838294244\t15.3442304026\t 0.2580710845741\n",
      " 4\t15.3442304026\t15.3838294244\t15.3465241851\t 0.0149465930303\n",
      " 5\t15.3442304026\t15.3465241851\t15.3450791246\t 0.0094170936996\n",
      " 6\t15.3450791246\t15.3465241851\t15.3456957430\t 0.0040181845808\n",
      " 7\t15.3450791246\t15.3456957430\t15.3453670176\t 0.0021421804087\n",
      " 8\t15.3453670176\t15.3456957430\t15.3455258885\t 0.0010352913206\n",
      " 9\t15.3453670176\t15.3455258885\t15.3454451841\t 0.0005259175826\n",
      "10\t15.3454451841\t15.3455258885\t15.3454852202\t 0.0002608981458\n",
      "11\t15.3454451841\t15.3454852202\t15.3454651262\t 0.0001309436678\n",
      "12\t15.3454651262\t15.3454852202\t15.3454751547\t 0.0000653510882\n",
      "13\t15.3454651262\t15.3454751547\t15.3454701360\t 0.0000327047421\n",
      "14\t15.3454701360\t15.3454751547\t15.3454726442\t 0.0000163452876\n",
      "15\t15.3454701360\t15.3454726442\t15.3454713898\t 0.0000081743570\n",
      "16\t15.3454713898\t15.3454726442\t15.3454720170\t 0.0000040867642\n",
      "17\t15.3454713898\t15.3454720170\t15.3454717034\t 0.0000020434821\n",
      "18\t15.3454717034\t15.3454720170\t15.3454718602\t 0.0000010217170\n",
      "19\t15.3454717034\t15.3454718602\t15.3454717818\t 0.0000005108643\n",
      "\n",
      "x = 15.345471781788051\n"
     ]
    }
   ],
   "source": [
    "falsa_posicion_modificada(g,12,16)"
   ]
  },
  {
   "cell_type": "markdown",
   "metadata": {},
   "source": [
    "## Ejemplo 4\n",
    "\n",
    "Encontrar la raiz de\n",
    "\n",
    "\\begin{equation*}\n",
    "    y = \\sin{10 x} + \\cos{3 x}\n",
    "\\end{equation*}\n",
    "\n",
    "la raíz posiblemente se encuentre en el intervalo $[14,16]$"
   ]
  },
  {
   "cell_type": "code",
   "execution_count": 11,
   "metadata": {
    "collapsed": false
   },
   "outputs": [
    {
     "name": "stdout",
     "output_type": "stream",
     "text": [
      " i\tx inferior  \tx superior  \traiz        \terror relativo %\n",
      " 0\t14.0000000000\t16.0000000000\t15.1593801187\t????????????????\n",
      " 1\t15.1593801187\t16.0000000000\t15.8233005485\t 4.1958403542431\n",
      " 2\t15.1593801187\t15.8233005485\t15.7814368351\t 0.2652718750525\n",
      " 3\t15.1593801187\t15.7814368351\t15.6080622619\t 1.1108013940212\n",
      " 4\t15.1593801187\t15.6080622619\t15.2402895571\t 2.4131608744624\n",
      " 5\t15.2402895571\t15.6080622619\t15.4171836042\t 1.1473823730127\n",
      " 6\t15.2402895571\t15.4171836042\t15.2973205541\t 0.7835558498623\n",
      " 7\t15.2973205541\t15.4171836042\t15.3606259952\t 0.4121280020238\n",
      " 8\t15.2973205541\t15.3606259952\t15.3339065994\t 0.1742504142175\n",
      " 9\t15.3339065994\t15.3606259952\t15.3497433718\t 0.1031728805473\n",
      "10\t15.3339065994\t15.3497433718\t15.3428954934\t 0.0446322430237\n",
      "11\t15.3428954934\t15.3497433718\t15.3466184680\t 0.0242592502569\n",
      "12\t15.3428954934\t15.3466184680\t15.3448587408\t 0.0114678615271\n",
      "13\t15.3448587408\t15.3466184680\t15.3457666600\t 0.0059164147637\n",
      "14\t15.3448587408\t15.3457666600\t15.3453211388\t 0.0029033030742\n",
      "15\t15.3453211388\t15.3457666600\t15.3455462318\t 0.0014668295455\n",
      "16\t15.3453211388\t15.3455462318\t15.3454343464\t 0.0007291122350\n",
      "17\t15.3454343464\t15.3455462318\t15.3454904703\t 0.0003657356367\n",
      "18\t15.3454343464\t15.3454904703\t15.3454624582\t 0.0001825433529\n",
      "19\t15.3454624582\t15.3454904703\t15.3454764778\t 0.0000913596393\n",
      "20\t15.3454624582\t15.3454764778\t15.3454694717\t 0.0000456560349\n",
      "\n",
      "x = 15.345469471650302\n"
     ]
    }
   ],
   "source": [
    "falsa_posicion_modificada(g,14,16)"
   ]
  }
 ],
 "metadata": {
  "kernelspec": {
   "display_name": "Python 3",
   "language": "python",
   "name": "python3"
  },
  "language_info": {
   "codemirror_mode": {
    "name": "ipython",
    "version": 3
   },
   "file_extension": ".py",
   "mimetype": "text/x-python",
   "name": "python",
   "nbconvert_exporter": "python",
   "pygments_lexer": "ipython3",
   "version": "3.4.3"
  }
 },
 "nbformat": 4,
 "nbformat_minor": 0
}
