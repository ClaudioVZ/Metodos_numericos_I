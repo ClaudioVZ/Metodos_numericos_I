{
 "cells": [
  {
   "cell_type": "markdown",
   "metadata": {},
   "source": [
    "#Método de la secante\n",
    "\n",
    "El método de la secante es una extensión del método de Newton-Raphson, la derivada de la función se calcula usando una diferencia finita hacia atrás\n",
    "\n",
    "\\begin{equation*}\n",
    "    f'(x_{i}) = \\frac{f(x_{i-1}) - f(x_{i})}{x_{i-1} - x_{i}}\n",
    "\\end{equation*}\n",
    "\n",
    "y se reemplaza en la fórmula del método de Newton-Raphson \n",
    "\n",
    "\\begin{equation}\n",
    "    x_{i+1} = x_{i} - \\frac{1}{f'(x_{i})} f(x_{i}) = x_{i} - \\frac{x_{i-1} - x_{i}}{f(x_{i-1}) - f(x_{i})} f(x_{i})\n",
    "\\end{equation}\n",
    "\n",
    "Algoritmo\n",
    "\n",
    "    x_-1 es la raiz aproximada anterior\n",
    "    x_0 es la raiz aproximada actual\n",
    "    x_1 = x_0 - f(x_0)*(x_-1 - x_0)/f(x_-1) - f(x_0)\n",
    "    x_2 = x_1 - f(x_1)*(x_0 - x_1)/f(x_0) - f(x_1)\n",
    "    x_3 = x_2 - f(x_2)*(x_1 - x_2)/f(x_1) - f(x_2)\n",
    "    ...\n",
    "    \n",
    "##Ejemplo 1\n",
    "\n",
    "Encontrar la raiz de\n",
    "\n",
    "\\begin{equation*}\n",
    "    y = x^{5} + x^{3} + 3\n",
    "\\end{equation*}\n",
    "\n",
    "usar $x = 0$ y $x = -1$ como valores iniciales\n",
    "\n",
    "###Iteración 0\n",
    "\n",
    "Raíz aproximada anterior\n",
    "\n",
    "\\begin{equation*}\n",
    "    x_{-1} = 0\n",
    "\\end{equation*}\n",
    "\n",
    "Raíz aproximada actual\n",
    "\n",
    "\\begin{equation*}\n",
    "    x_{0} = -1\n",
    "\\end{equation*}\n",
    "\n",
    "Error relativo\n",
    "\n",
    "\\begin{equation*}\n",
    "    e_{r} = ? \n",
    "\\end{equation*}\n",
    "\n",
    "###Iteración 1\n",
    "\n",
    "Calculando las ordenadas en los puntos anteriores\n",
    "\n",
    "\\begin{align*}\n",
    "    f(x_{-1}) &= f(0) = 3 \\\\\n",
    "    f(x_{0}) &= f(-1) = 1\n",
    "\\end{align*}\n",
    "\n",
    "Raíz aproximada anterior\n",
    "\n",
    "\\begin{equation*}\n",
    "    x_{0} = -1\n",
    "\\end{equation*}\n",
    "\n",
    "Raíz aproximada actual\n",
    "\n",
    "\\begin{equation*}\n",
    "    x_{1} = x_{0} - \\frac{x_{-1} - x_{0}}{f(x_{-1}) - f(x_{0})} f(x_{0}) = -1 - \\frac{0 - (-1)}{3 - 1} 1 = -1.5\n",
    "\\end{equation*}\n",
    "\n",
    "Error relativo\n",
    "\n",
    "\\begin{equation*}\n",
    "    e_{r} = \\bigg|\\frac{x_{1} - x_{0}}{x_{1}}\\bigg| \\times 100\\% = \\bigg|\\frac{-1.5 - (-1)}{-1.5}\\bigg| \\times 100\\% = 33.33\\% \n",
    "\\end{equation*}\n",
    "\n",
    "###Iteración 2\n",
    "\n",
    "Calculando las ordenadas en los puntos anteriores\n",
    "\n",
    "\\begin{align*}\n",
    "    f(x_{0}) &= f(-1) = 1 \\\\\n",
    "    f(x_{1}) &= f(-1.5) = -7.96875\n",
    "\\end{align*}\n",
    "\n",
    "Raíz aproximada anterior\n",
    "\n",
    "\\begin{equation*}\n",
    "    x_{1} = -1.5\n",
    "\\end{equation*}\n",
    "\n",
    "Raíz aproximada actual\n",
    "\n",
    "\\begin{equation*}\n",
    "    x_{2} = x_{1} - \\frac{x_{0} - x_{1}}{f(x_{0}) - f(x_{1})} f(x_{1}) = -1.5 - \\frac{-1 - (-1.5)}{1 - (-7.96875)} (-7.96875) = -1.055749\n",
    "\\end{equation*}\n",
    "\n",
    "Error relativo\n",
    "\n",
    "\\begin{equation*}\n",
    "    e_{r} = \\bigg|\\frac{x_{2} - x_{1}}{x_{2}}\\bigg| \\times 100\\% = \\bigg|\\frac{-1.055749 - (-1.5)}{-1.055749}\\bigg| \\times 100\\% = 42.08\\% \n",
    "\\end{equation*}\n",
    "\n",
    "###Iteración 3\n",
    "\n",
    "Calculando las ordenadas en los puntos anteriores\n",
    "\n",
    "\\begin{align*}\n",
    "    f(x_{1}) &= f(-1.5) = -7.96875 \\\\\n",
    "    f(x_{2}) &= f(-1.055749) = 0.511650\n",
    "\\end{align*}\n",
    "\n",
    "Raíz aproximada anterior\n",
    "\n",
    "\\begin{equation*}\n",
    "    x_{2} = -1.055749\n",
    "\\end{equation*}\n",
    "\n",
    "Raíz aproximada actual\n",
    "\n",
    "\\begin{equation*}\n",
    "    x_{3} = x_{2} - \\frac{x_{1} - x_{2}}{f(x_{1}) - f(x_{2})} f(x_{2}) = -1.055749 - \\frac{-1.5 - (-1.055749)}{-7.96875 - 0.511650} 0.511650 = -1.082552\n",
    "\\end{equation*}\n",
    "\n",
    "Error relativo\n",
    "\n",
    "\\begin{equation*}\n",
    "    e_{r} = \\bigg|\\frac{x_{3} - x_{2}}{x_{3}}\\bigg| \\times 100\\% = \\bigg|\\frac{-1.082552 - (-1.055749)}{-1.082552}\\bigg| \\times 100\\% = 2.48\\% \n",
    "\\end{equation*}\n"
   ]
  },
  {
   "cell_type": "markdown",
   "metadata": {},
   "source": [
    "##Implementación de funciones auxiliares\n",
    "\n",
    "Seudocódigo para la derivada\n",
    "\n",
    "    function diferencia_atras(f(x), x_0, x_1)\n",
    "        f'(x) = f(x_0) - f(x_1)/x_0 - x_1 \n",
    "        return f'(x)\n",
    "    end function\n",
    "    \n",
    "Seudocódigo para obtener las últimas dos raices\n",
    "    \n",
    "    function raiz_xb_xc(f(x), xa, xb):\n",
    "        xc = xb - f(xb)/diferencia_atras(f(x), xa, xb)\n",
    "        return xb, xc\n",
    "    end function"
   ]
  },
  {
   "cell_type": "code",
   "execution_count": 1,
   "metadata": {
    "collapsed": true
   },
   "outputs": [],
   "source": [
    "def f(x):\n",
    "    # f(x) = x^5 + x^3 + 3\n",
    "    y = x**5 + x**3 + 3\n",
    "    return y\n",
    "\n",
    "def diferencia_atras(f, x_0, x_1):\n",
    "    pendiente = (f(x_0) - f(x_1))/(x_0 - x_1) \n",
    "    return pendiente\n",
    "\n",
    "def raiz(f, a, b):\n",
    "    c = b - f(b)/diferencia_atras(f, a, b)\n",
    "    return b, c"
   ]
  },
  {
   "cell_type": "code",
   "execution_count": 2,
   "metadata": {
    "collapsed": false
   },
   "outputs": [
    {
     "data": {
      "text/plain": [
       "2.0"
      ]
     },
     "execution_count": 2,
     "metadata": {},
     "output_type": "execute_result"
    }
   ],
   "source": [
    "diferencia_atras(f, 0, -1)"
   ]
  },
  {
   "cell_type": "code",
   "execution_count": 3,
   "metadata": {
    "collapsed": false
   },
   "outputs": [
    {
     "data": {
      "text/plain": [
       "(-1, -1.5)"
      ]
     },
     "execution_count": 3,
     "metadata": {},
     "output_type": "execute_result"
    }
   ],
   "source": [
    "raiz(f, 0, -1)"
   ]
  },
  {
   "cell_type": "markdown",
   "metadata": {},
   "source": [
    "##Implementación no vectorizada\n",
    "\n",
    "Seudocódigo\n",
    "\n",
    "    function secante(f(x), x_0, x_1)\n",
    "        x_anterior = x_0\n",
    "        x_actual = x_1\n",
    "        error_permitido = 0.000001\n",
    "        while(True)\n",
    "            x_anterior, x_actual = raiz(f(x), x_anterior, x_actual)\n",
    "            if x_raiz_actual != 0\n",
    "                error_relativo = abs((x_raiz_actual - x_raiz_anterior)/x_raiz_actual)*100\n",
    "            end if\n",
    "            if error_relativo < error_permitido\n",
    "                exit\n",
    "            end if\n",
    "        end while\n",
    "        mostrar x_actual\n",
    "    end function\n",
    "    \n",
    "o también\n",
    "\n",
    "    function secante(f(x), x_0, x_1)\n",
    "        x_anterior = x_0\n",
    "        x_actual = x_1\n",
    "        for 1 to maxima_iteracion do\n",
    "            x_anterior, x_actual = raiz(f(x), x_anterior, x_actual)\n",
    "        end for\n",
    "        mostrar x_actual\n",
    "    end function"
   ]
  },
  {
   "cell_type": "code",
   "execution_count": 4,
   "metadata": {
    "collapsed": true
   },
   "outputs": [],
   "source": [
    "def secante(f, x_0, x_1):\n",
    "    print(\"{0:s} \\t {1:15s} \\t {2:15s} \\t {3:15s}\".format('i', 'x anterior', 'x actual', 'error relativo %'))\n",
    "    x_anterior = x_0\n",
    "    x_actual = x_1\n",
    "    i = 0\n",
    "    print(\"{0:d} \\t {1:.15f} \\t {2:.15f} \\t {3:15s}\".format(i, x_anterior, x_actual, '???????????????'))\n",
    "    error_permitido = 0.000001\n",
    "    while True:\n",
    "        x_anterior, x_actual = raiz(f, x_anterior, x_actual)\n",
    "        if x_actual != 0:\n",
    "            error_relativo = abs((x_actual - x_anterior)/x_actual)*100\n",
    "        i = i + 1\n",
    "        print(\"{0:d} \\t {1:.15f} \\t {2:.15f} \\t {3:15.11f}\".format(i, x_anterior, x_actual, error_relativo))\n",
    "        if (error_relativo < error_permitido) or (i>=20):\n",
    "            break\n",
    "    print('\\nx =', x_actual)"
   ]
  },
  {
   "cell_type": "code",
   "execution_count": 5,
   "metadata": {
    "collapsed": false
   },
   "outputs": [
    {
     "name": "stdout",
     "output_type": "stream",
     "text": [
      "i \t x anterior      \t x actual        \t error relativo %\n",
      "0 \t 0.000000000000000 \t -1.000000000000000 \t ???????????????\n",
      "1 \t -1.000000000000000 \t -1.500000000000000 \t  33.33333333333\n",
      "2 \t -1.500000000000000 \t -1.055749128919861 \t  42.07920792079\n",
      "3 \t -1.055749128919861 \t -1.082552156595056 \t   2.47591097684\n",
      "4 \t -1.082552156595056 \t -1.107095365872601 \t   2.21690109399\n",
      "5 \t -1.107095365872601 \t -1.105235826838816 \t   0.16824816828\n",
      "6 \t -1.105235826838816 \t -1.105298375884311 \t   0.00565901904\n",
      "7 \t -1.105298375884311 \t -1.105298546022297 \t   0.00001539294\n",
      "8 \t -1.105298546022297 \t -1.105298546006170 \t   0.00000000146\n",
      "\n",
      "x = -1.1052985460061695\n"
     ]
    }
   ],
   "source": [
    "secante(f, 0, -1)"
   ]
  },
  {
   "cell_type": "code",
   "execution_count": 6,
   "metadata": {
    "collapsed": false,
    "scrolled": true
   },
   "outputs": [
    {
     "name": "stdout",
     "output_type": "stream",
     "text": [
      "i \t x anterior      \t x actual        \t error relativo %\n",
      "0 \t 0.000000000000000 \t -0.500000000000000 \t ???????????????\n",
      "1 \t -0.500000000000000 \t -9.600000000000000 \t  94.79166666667\n",
      "2 \t -9.600000000000000 \t -0.500313971661081 \t 1818.79510542695\n",
      "3 \t -0.500313971661081 \t -0.500627895630576 \t   0.06270604819\n",
      "4 \t -0.500627895630576 \t -3.169956277328793 \t  84.20710407866\n",
      "5 \t -3.169956277328793 \t -0.522201219983924 \t 507.03731742074\n",
      "6 \t -0.522201219983924 \t -0.543418645947658 \t   3.90443466045\n",
      "7 \t -0.543418645947658 \t -2.768143161922103 \t  80.36883881503\n",
      "8 \t -2.768143161922103 \t -0.577263290052511 \t 379.52870200187\n",
      "9 \t -0.577263290052511 \t -0.610021560159145 \t   5.37001841346\n",
      "10 \t -0.610021560159145 \t -2.210887327971188 \t  72.40829270486\n",
      "11 \t -2.210887327971188 \t -0.677993562925393 \t 226.09267238935\n",
      "12 \t -0.677993562925393 \t -0.739746925039866 \t   8.34790386065\n",
      "13 \t -0.739746925039866 \t -1.594891722781221 \t  53.61773376378\n",
      "14 \t -1.594891722781221 \t -0.887371034445026 \t  79.73222709243\n",
      "15 \t -0.887371034445026 \t -0.981746729543170 \t   9.61303890893\n",
      "16 \t -0.981746729543170 \t -1.158598872903698 \t  15.26431170413\n",
      "17 \t -1.158598872903698 \t -1.094888106874658 \t   5.81892940740\n",
      "18 \t -1.094888106874658 \t -1.104485964038430 \t   0.86898860432\n",
      "19 \t -1.104485964038430 \t -1.105311436713077 \t   0.07468236076\n",
      "20 \t -1.105311436713077 \t -1.105298530164615 \t   0.00116769797\n",
      "\n",
      "x = -1.1052985301646152\n"
     ]
    }
   ],
   "source": [
    "secante(f, 0, -0.5)"
   ]
  },
  {
   "cell_type": "code",
   "execution_count": null,
   "metadata": {
    "collapsed": true
   },
   "outputs": [],
   "source": []
  }
 ],
 "metadata": {
  "kernelspec": {
   "display_name": "Python 3",
   "language": "python",
   "name": "python3"
  },
  "language_info": {
   "codemirror_mode": {
    "name": "ipython",
    "version": 3
   },
   "file_extension": ".py",
   "mimetype": "text/x-python",
   "name": "python",
   "nbconvert_exporter": "python",
   "pygments_lexer": "ipython3",
   "version": "3.4.3"
  }
 },
 "nbformat": 4,
 "nbformat_minor": 0
}
