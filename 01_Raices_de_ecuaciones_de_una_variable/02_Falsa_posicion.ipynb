{
 "cells": [
  {
   "cell_type": "markdown",
   "metadata": {},
   "source": [
    "# Método de la falsa posición\n",
    "\n",
    "El método de la falsa posición o método de interpolación lineal aproxima la raíz de la función mediante una interpolación lineal del intervalo que contiene la raíz verdadera.\n",
    "\n",
    "grafico\n",
    "\n",
    "Interpolando los puntos $(x_{inferior}, f(x_{inferior}))$ y $(x_{superior}, f(x_{superior}))$\n",
    "\n",
    "\\begin{equation*}\n",
    "    \\frac{f(x_{superior}) - f(x_{inferior})}{x_{superior} - x_{inferior}} = \\frac{f(x_{superior}) - y}{x_{superior} - x}\n",
    "\\end{equation*}\n",
    "\n",
    "Según el gráfico $y = 0$ y $x \\approx x_{raiz}$\n",
    "\n",
    "\\begin{equation*}\n",
    "    \\frac{f(x_{superior}) - f(x_{inferior})}{x_{superior} - x_{inferior}} = \\frac{f(x_{superior})}{x_{superior} - x_{raiz}}\n",
    "\\end{equation*}\n",
    "\n",
    "Despejando $x_{raiz}$\n",
    "\n",
    "\\begin{equation}\n",
    "    x_{raiz} = x_{superior} - \\frac{x_{superior} - x_{inferior}}{f(x_{superior}) - f(x_{inferior})} f(x_{superior})\n",
    "\\end{equation}\n",
    "\n",
    "Algoritmo\n",
    "\n",
    "    la raiz verdadera está en el intervalo [x_inferior, x_superior]\n",
    "    calcular x_raiz\n",
    "    si f(x_inferior)*f(x_raiz) < 0\n",
    "        la raiz verdadera está en el intervalo [x_inferior, x_raiz]\n",
    "        calcular x_raiz\n",
    "    si f(x_inferior)*f(x_raiz) > 0\n",
    "        la raiz verdadera está en el intervalo [x_raiz, x_superior]\n",
    "        calcular x_raiz\n",
    "    si f(x_inferior)*f(x_raiz) = 0\n",
    "        se encontró la raiz verdadera\n",
    "        \n",
    "## Ejemplo 1\n",
    "\n",
    "Encontrar la raiz de\n",
    "\n",
    "\\begin{equation*}\n",
    "    y = x^{3} + 4 x^{2} - 10\n",
    "\\end{equation*}\n",
    "\n",
    "la raíz posiblemente se encuentre en $[x_{l}, x_{u}] = [1,2]$\n",
    "\n",
    "### Iteración 0\n",
    "\n",
    "Intervalo actual\n",
    "\n",
    "\\begin{equation*}\n",
    "    [x_{l_{0}}, x_{u_{0}}] = [1, 2]\n",
    "\\end{equation*}\n",
    "\n",
    "Ordenadas en el intervalo actual\n",
    "\n",
    "\\begin{align*}\n",
    "    f(x_{l_{0}}) &= f(1) = -5 \\\\\n",
    "    f(x_{u_{0}}) &= f(2) = 14\n",
    "\\end{align*}\n",
    "\n",
    "Raíz aproximada\n",
    "\n",
    "\\begin{equation*}\n",
    "    x_{r_{0}} = x_{u_{0}} - \\frac{x_{u_{0}} - x_{l_{0}}}{f(x_{u_{0}}) - f(x_{l_{0}})} f(x_{u_{0}}) = 2 - \\frac{2 - 1}{14 - (-5)} 14 = 1.263158\n",
    "\\end{equation*}\n",
    "\n",
    "Siguiente intervalo\n",
    "\n",
    "\\begin{equation*}\n",
    "    [x_{l_{1}}, x_{u_{1}}] = \\left \\{\n",
    "    \\begin{array}{llcll}\n",
    "        si & f(x_{l_{0}}) \\cdot f(x_{r_{0}}) = f(1) \\cdot f(1.263158) < 0 & \\longrightarrow & [x_{l_{0}}, x_{r_{0}}] = [1, 1.263158] & \\\\\n",
    "        si & f(x_{l_{0}}) \\cdot f(x_{r_{0}}) = f(1) \\cdot f(1.263158) > 0 & \\longrightarrow & [x_{r_{0}}, x_{u_{0}}] = [1.263158, 2] & \\checkmark\n",
    "    \\end{array}\n",
    "    \\right .\n",
    "\\end{equation*}\n",
    "\n",
    "Error relativo\n",
    "\n",
    "\\begin{equation*}\n",
    "    e_{r} = ? \n",
    "\\end{equation*}\n",
    "\n",
    "### Iteración 1\n",
    "\n",
    "Intervalo actual\n",
    "\n",
    "\\begin{equation*}\n",
    "    [x_{l_{1}}, x_{u_{1}}] = [1.263158, 2]\n",
    "\\end{equation*}\n",
    "\n",
    "Ordenadas en el intervalo actual\n",
    "\n",
    "\\begin{align*}\n",
    "    f(x_{l_{1}}) &= f(1.263158) = -1.602273 \\\\\n",
    "    f(x_{u_{1}}) &= f(2) = 14\n",
    "\\end{align*}\n",
    "\n",
    "Raíz aproximada\n",
    "\n",
    "\\begin{equation*}\n",
    "    x_{r_{1}} = x_{u_{1}} - \\frac{x_{u_{1}} - x_{l_{1}}}{f(x_{u_{1}}) - f(x_{l_{1}})} f(x_{u_{1}}) = 2 - \\frac{2 - 1.263158}{14 - (-1.602273)} 14 = 1.338828\n",
    "\\end{equation*}\n",
    "\n",
    "Siguiente intervalo\n",
    "\n",
    "\\begin{equation*}\n",
    "    [x_{l_{2}}, x_{u_{2}}] = \\left \\{\n",
    "    \\begin{array}{llcll}\n",
    "        si & f(x_{l_{1}}) \\cdot f(x_{r_{1}}) = f(1.263158) \\cdot f(1.338828) < 0 & \\longrightarrow & [x_{l_{1}}, x_{r_{1}}] = [1.263158, 1.338828] & \\\\\n",
    "        si & f(x_{l_{1}}) \\cdot f(x_{r_{1}}) = f(1.263158) \\cdot f(1.338828) > 0 & \\longrightarrow & [x_{r_{1}}, x_{u_{1}}] = [1.338828, 2] & \\checkmark\n",
    "    \\end{array}\n",
    "    \\right .\n",
    "\\end{equation*}\n",
    "\n",
    "Error relativo\n",
    "\n",
    "\\begin{equation*}\n",
    "    e_{r} = \\bigg|\\frac{x_{r_{1}} - x_{r_{0}}}{x_{r_{1}}}\\bigg| \\times 100\\% = \\bigg|\\frac{1.338828 - 1.263158}{1.338828}\\bigg| \\times 100\\% = 5.65\\%\n",
    "\\end{equation*}\n",
    "\n",
    "### Iteración 2\n",
    "\n",
    "Intervalo actual\n",
    "\n",
    "\\begin{equation*}\n",
    "    [x_{l_{2}}, x_{u_{2}}] = [1.338828, 2]\n",
    "\\end{equation*}\n",
    "\n",
    "Ordenadas en el intervalo actual\n",
    "\n",
    "\\begin{align*}\n",
    "    f(x_{l_{2}}) &= f(1.338828) = -0.430362 \\\\\n",
    "    f(x_{u_{2}}) &= f(2) = 14\n",
    "\\end{align*}\n",
    "\n",
    "Raíz aproximada\n",
    "\n",
    "\\begin{equation*}\n",
    "    x_{r_{2}} = x_{u_{2}} - \\frac{x_{u_{2}} - x_{l_{2}}}{f(x_{u_{2}}) - f(x_{l_{2}})} f(x_{u_{2}}) = 2 - \\frac{2 - 1.338828}{14 - (-0.430362)} 14 = 1.358546\n",
    "\\end{equation*}\n",
    "\n",
    "Siguiente intervalo\n",
    "\n",
    "\\begin{equation*}\n",
    "    [x_{l_{3}}, x_{u_{3}}] = \\left \\{\n",
    "    \\begin{array}{llcll}\n",
    "        si & f(x_{l_{2}}) \\cdot f(x_{r_{2}}) = f(1.338828) \\cdot f(1.358546) < 0 & \\longrightarrow & [x_{l_{2}}, x_{r_{2}}] = [1.263158, 1.338828] & \\\\\n",
    "        si & f(x_{l_{2}}) \\cdot f(x_{r_{2}}) = f(1.338828) \\cdot f(1.358546) > 0 & \\longrightarrow & [x_{r_{2}}, x_{u_{2}}] = [1.358546, 2] & \\checkmark\n",
    "    \\end{array}\n",
    "    \\right .\n",
    "\\end{equation*}\n",
    "\n",
    "Error relativo\n",
    "\n",
    "\\begin{equation*}\n",
    "    e_{r} = \\bigg|\\frac{x_{r_{2}} - x_{r_{1}}}{x_{r_{2}}}\\bigg| \\times 100\\% = \\bigg|\\frac{1.358546 - 1.338828}{1.358546}\\bigg| \\times 100\\% = 1.45\\%\n",
    "\\end{equation*}\n",
    "\n",
    "### Iteración 3\n",
    "\n",
    "Intervalo actual\n",
    "\n",
    "\\begin{equation*}\n",
    "    [x_{l_{3}}, x_{u_{3}}] = [1.358546, 2]\n",
    "\\end{equation*}\n",
    "\n",
    "Ordenadas en el intervalo actual\n",
    "\n",
    "\\begin{align*}\n",
    "    f(x_{l_{3}}) &= f(1.358546) = -0.110014 \\\\\n",
    "    f(x_{u_{3}}) &= f(2) = 14\n",
    "\\end{align*}\n",
    "\n",
    "Raíz aproximada\n",
    "\n",
    "\\begin{equation*}\n",
    "    x_{r_{3}} = x_{u_{3}} - \\frac{x_{u_{3}} - x_{l_{3}}}{f(x_{u_{3}}) - f(x_{l_{3}})} f(x_{u_{3}}) = 2 - \\frac{2 - 1.358546}{14 - (-0.110014)} 14 = 1.363547\n",
    "\\end{equation*}\n",
    "\n",
    "Siguiente intervalo\n",
    "\n",
    "\\begin{equation*}\n",
    "    [x_{l_{4}}, x_{u_{4}}] = \\left \\{\n",
    "    \\begin{array}{llcll}\n",
    "        si & f(x_{l_{3}}) \\cdot f(x_{r_{3}}) = f(1.358546) \\cdot f(1.363547) < 0 & \\longrightarrow & [x_{l_{3}}, x_{r_{3}}] = [1.263158, 1.338828] & \\\\\n",
    "        si & f(x_{l_{3}}) \\cdot f(x_{r_{3}}) = f(1.358546) \\cdot f(1.363547) > 0 & \\longrightarrow & [x_{r_{3}}, x_{u_{3}}] = [1.363547, 2] & \\checkmark\n",
    "    \\end{array}\n",
    "    \\right .\n",
    "\\end{equation*}\n",
    "\n",
    "Error relativo\n",
    "\n",
    "\\begin{equation*}\n",
    "    e_{r} = \\bigg|\\frac{x_{r_{3}} - x_{r_{2}}}{x_{r_{3}}}\\bigg| \\times 100\\% = \\bigg|\\frac{1.363547 - 1.358546}{1.363547}\\bigg| \\times 100\\% = 0.37\\%\n",
    "\\end{equation*}\n",
    "        \n",
    "## Implementación de funciones auxiliares\n",
    "        \n",
    "Seudocódigo para calcular la raíz\n",
    "\n",
    "````pascal\n",
    "function raiz(f(x), x_l, x_u)\n",
    "    x_r = x_u - f(x_u)*(x_u - x_l)/f(x_u) - f(x_l)\n",
    "    return x_r\n",
    "end function\n",
    "````\n",
    "\n",
    "Seudocódigo para determinar el siguiente intervalo\n",
    "        \n",
    "````pascal\n",
    "function intervalo_de_raiz(f(x), x_l, x_u)\n",
    "    x_r = raiz(f(x), x_l, x_u)\n",
    "    if f(x_l)*f(x_r) < 0\n",
    "        x_u = x_r\n",
    "    end if\n",
    "    if f(x_l)*f(x_r) > 0\n",
    "        x_l = x_r\n",
    "    end if\n",
    "    return x_l, x_u\n",
    "end function\n",
    "````"
   ]
  },
  {
   "cell_type": "code",
   "execution_count": 1,
   "metadata": {
    "collapsed": false
   },
   "outputs": [],
   "source": [
    "def raiz(f, x_l, x_u):\n",
    "    x_r = x_u - (f(x_u)*(x_u - x_l))/(f(x_u) - f(x_l))\n",
    "    return x_r\n",
    "\n",
    "def intervalo_de_raiz(f, x_l, x_u):\n",
    "    x_r = raiz(f, x_l, x_u)\n",
    "    if f(x_l)*f(x_r) < 0:\n",
    "        x_u = x_r\n",
    "    if f(x_l)*f(x_r) > 0:\n",
    "        x_l = x_r\n",
    "    return x_l, x_u"
   ]
  },
  {
   "cell_type": "markdown",
   "metadata": {},
   "source": [
    "## Implementación no vectorizada\n",
    "\n",
    "````pascal\n",
    "function falsa_posicion(f(x), x_inferior, x_superior)\n",
    "    x_raiz_actual = raiz(f(x), x_inferior, x_superior)\n",
    "    error_permitido = 0.000001\n",
    "    while(True)\n",
    "        x_raiz_anterior = x_raiz_actual\n",
    "        x_inferior, x_superior = intervalo_de_raiz(f(x), x_inferior, x_superior)\n",
    "        x_raiz_actual = raiz(f(x), x_inferior, x_superior)\n",
    "        if x_raiz_actual != 0\n",
    "            error_relativo = abs((x_raiz_actual - x_raiz_anterior)/x_raiz_actual)*100\n",
    "        end if\n",
    "        if error_relativo < error_permitido\n",
    "            exit\n",
    "        end if\n",
    "    end while\n",
    "    mostrar x_raiz_actual\n",
    "end function\n",
    "````\n",
    "\n",
    "o también\n",
    "\n",
    "````pascal\n",
    "function falsa_posicion(f(x), x_inferior, x_superior)\n",
    "    x_raiz_actual = raiz(f(x), x_inferior, x_superior)\n",
    "    for 1 to maxima_iteracion do\n",
    "        x_raiz_anterior = x_raiz_actual\n",
    "        x_inferior, x_superior = intervalo_de_raiz(f(x), x_inferior, x_superior)\n",
    "        x_raiz_actual = raiz(f(x), x_inferior, x_superior)\n",
    "    end for\n",
    "    mostrar x_raiz_actual\n",
    "end function\n",
    "````"
   ]
  },
  {
   "cell_type": "code",
   "execution_count": 2,
   "metadata": {
    "collapsed": true
   },
   "outputs": [],
   "source": [
    "def falsa_posicion(f, x_inferior, x_superior):\n",
    "    print(\"{0:2s}\\t{1:12s}\\t{2:12s}\\t{3:12s}\\t{4:16s}\".format(' i', 'x inferior', 'x superior', 'raiz', 'error relativo %'))\n",
    "    x_raiz_actual = raiz(f, x_inferior, x_superior)\n",
    "    i = 0\n",
    "    print(\"{0:2d}\\t{1:12.10f}\\t{2:12.10f}\\t{3:12.10f}\\t{4:16s}\".format(i, x_inferior, x_superior, x_raiz_actual, '????????????????'))\n",
    "    error_permitido = 0.000001\n",
    "    while True:\n",
    "        x_raiz_anterior = x_raiz_actual\n",
    "        x_inferior, x_superior = intervalo_de_raiz(f, x_inferior, x_superior)\n",
    "        x_raiz_actual = raiz(f, x_inferior, x_superior)\n",
    "        if x_raiz_actual != 0:\n",
    "            error_relativo = abs((x_raiz_actual - x_raiz_anterior)/x_raiz_actual)*100\n",
    "        i = i + 1\n",
    "        print(\"{0:2d}\\t{1:12.10f}\\t{2:12.10f}\\t{3:12.10f}\\t{4:16.13f}\".format(i, x_inferior, x_superior, x_raiz_actual, error_relativo))\n",
    "        if (error_relativo < error_permitido) or (i>=20):\n",
    "            break\n",
    "    print('\\nx =', x_raiz_actual)"
   ]
  },
  {
   "cell_type": "markdown",
   "metadata": {},
   "source": [
    "## Ejemplo 2\n",
    "\n",
    "Encontrar la raiz de\n",
    "\n",
    "\\begin{equation*}\n",
    "    y = x^{3} + 4 x^{2} - 10\n",
    "\\end{equation*}\n",
    "\n",
    "la raíz posiblemente se encuentre en el intervalo $[1,2]$"
   ]
  },
  {
   "cell_type": "code",
   "execution_count": 3,
   "metadata": {
    "collapsed": true
   },
   "outputs": [],
   "source": [
    "def f(x):\n",
    "    y = x**3 + 4*x**2 - 10\n",
    "    return y"
   ]
  },
  {
   "cell_type": "code",
   "execution_count": 4,
   "metadata": {
    "collapsed": false
   },
   "outputs": [
    {
     "data": {
      "text/plain": [
       "(1.263157894736842, 2)"
      ]
     },
     "execution_count": 4,
     "metadata": {},
     "output_type": "execute_result"
    }
   ],
   "source": [
    "intervalo_de_raiz(f, 1, 2)"
   ]
  },
  {
   "cell_type": "code",
   "execution_count": 5,
   "metadata": {
    "collapsed": false
   },
   "outputs": [
    {
     "data": {
      "text/plain": [
       "(1.3388278388278387, 2)"
      ]
     },
     "execution_count": 5,
     "metadata": {},
     "output_type": "execute_result"
    }
   ],
   "source": [
    "intervalo_de_raiz(f, 1.263157894736842, 2)"
   ]
  },
  {
   "cell_type": "code",
   "execution_count": 6,
   "metadata": {
    "collapsed": false
   },
   "outputs": [
    {
     "name": "stdout",
     "output_type": "stream",
     "text": [
      " i\tx inferior  \tx superior  \traiz        \terror relativo %\n",
      " 0\t1.0000000000\t2.0000000000\t1.2631578947\t????????????????\n",
      " 1\t1.2631578947\t2.0000000000\t1.3388278388\t 5.6519547843617\n",
      " 2\t1.3388278388\t2.0000000000\t1.3585463418\t 1.4514413229699\n",
      " 3\t1.3585463418\t2.0000000000\t1.3635474400\t 0.3667711199808\n",
      " 4\t1.3635474400\t2.0000000000\t1.3648070318\t 0.0922908334524\n",
      " 5\t1.3648070318\t2.0000000000\t1.3651237179\t 0.0231983411795\n",
      " 6\t1.3651237179\t2.0000000000\t1.3652033037\t 0.0058295916812\n",
      " 7\t1.3652033037\t2.0000000000\t1.3652233020\t 0.0014648389691\n",
      " 8\t1.3652233020\t2.0000000000\t1.3652283270\t 0.0003680732282\n",
      " 9\t1.3652283270\t2.0000000000\t1.3652295897\t 0.0000924861530\n",
      "10\t1.3652295897\t2.0000000000\t1.3652299069\t 0.0000232390694\n",
      "11\t1.3652299069\t2.0000000000\t1.3652299867\t 0.0000058392979\n",
      "12\t1.3652299867\t2.0000000000\t1.3652300067\t 0.0000014672445\n",
      "13\t1.3652300067\t2.0000000000\t1.3652300117\t 0.0000003686756\n",
      "\n",
      "x = 1.3652300117249507\n"
     ]
    }
   ],
   "source": [
    "falsa_posicion(f,1,2)"
   ]
  },
  {
   "cell_type": "markdown",
   "metadata": {},
   "source": [
    "## Ejemplo 3\n",
    "\n",
    "Encontrar la raiz de\n",
    "\n",
    "\\begin{equation*}\n",
    "    y = \\sin{10 x} + \\cos{3 x}\n",
    "\\end{equation*}\n",
    "\n",
    "la raíz posiblemente se encuentre en el intervalo $[12,16]$"
   ]
  },
  {
   "cell_type": "code",
   "execution_count": 7,
   "metadata": {
    "collapsed": true
   },
   "outputs": [],
   "source": [
    "from math import sin, cos\n",
    "\n",
    "def g(x):\n",
    "    y = sin(10*x) + cos(3*x)\n",
    "    return y"
   ]
  },
  {
   "cell_type": "code",
   "execution_count": 8,
   "metadata": {
    "collapsed": false
   },
   "outputs": [
    {
     "data": {
      "text/plain": [
       "(14.07311572112783, 16)"
      ]
     },
     "execution_count": 8,
     "metadata": {},
     "output_type": "execute_result"
    }
   ],
   "source": [
    "intervalo_de_raiz(g, 12, 16)"
   ]
  },
  {
   "cell_type": "code",
   "execution_count": 9,
   "metadata": {
    "collapsed": false
   },
   "outputs": [
    {
     "data": {
      "text/plain": [
       "(14.07311572112783, 15.020154586608253)"
      ]
     },
     "execution_count": 9,
     "metadata": {},
     "output_type": "execute_result"
    }
   ],
   "source": [
    "intervalo_de_raiz(g, 14.07311572112783, 16)"
   ]
  },
  {
   "cell_type": "code",
   "execution_count": 10,
   "metadata": {
    "collapsed": false
   },
   "outputs": [
    {
     "name": "stdout",
     "output_type": "stream",
     "text": [
      " i\tx inferior  \tx superior  \traiz        \terror relativo %\n",
      " 0\t12.0000000000\t16.0000000000\t14.0731157211\t????????????????\n",
      " 1\t14.0731157211\t16.0000000000\t15.0201545866\t 6.3051206298821\n",
      " 2\t14.0731157211\t15.0201545866\t14.8524823238\t 1.1289174370701\n",
      " 3\t14.8524823238\t15.0201545866\t14.9297677445\t 0.5176598990459\n",
      " 4\t14.8524823238\t14.9297677445\t14.8676739795\t 0.4176427664909\n",
      " 5\t14.8524823238\t14.8676739795\t14.8624123068\t 0.0354025483071\n",
      " 6\t14.8524823238\t14.8624123068\t14.8621618451\t 0.0016852310272\n",
      " 7\t14.8524823238\t14.8621618451\t14.8621504074\t 0.0000769583814\n",
      " 8\t14.8524823238\t14.8621504074\t14.8621498861\t 0.0000035075371\n",
      " 9\t14.8524823238\t14.8621498861\t14.8621498623\t 0.0000001598490\n",
      "\n",
      "x = 14.862149862347621\n"
     ]
    }
   ],
   "source": [
    "falsa_posicion(g, 12, 16)"
   ]
  },
  {
   "cell_type": "markdown",
   "metadata": {},
   "source": [
    "## Ejemplo 4\n",
    "\n",
    "Encontrar la raiz de\n",
    "\n",
    "\\begin{equation*}\n",
    "    y = \\sin{10 x} + \\cos{3 x}\n",
    "\\end{equation*}\n",
    "\n",
    "la raíz posiblemente se encuentre en el intervalo $[14,16]$"
   ]
  },
  {
   "cell_type": "code",
   "execution_count": 11,
   "metadata": {
    "collapsed": false
   },
   "outputs": [
    {
     "name": "stdout",
     "output_type": "stream",
     "text": [
      " i\tx inferior  \tx superior  \traiz        \terror relativo %\n",
      " 0\t14.0000000000\t16.0000000000\t15.1593801187\t????????????????\n",
      " 1\t15.1593801187\t16.0000000000\t15.7079833889\t 3.4925124165717\n",
      " 2\t15.1593801187\t15.7079833889\t15.4015955980\t 1.9893249957775\n",
      " 3\t15.1593801187\t15.4015955980\t15.2891944143\t 0.7351674691564\n",
      " 4\t15.2891944143\t15.4015955980\t15.3395857284\t 0.3285050518179\n",
      " 5\t15.3395857284\t15.4015955980\t15.3451144933\t 0.0360294798181\n",
      " 6\t15.3451144933\t15.4015955980\t15.3454516924\t 0.0021973882086\n",
      " 7\t15.3454516924\t15.4015955980\t15.3454706809\t 0.0001237395760\n",
      " 8\t15.3454706809\t15.4015955980\t15.3454717448\t 0.0000069331277\n",
      " 9\t15.3454717448\t15.4015955980\t15.3454718044\t 0.0000003883530\n",
      "\n",
      "x = 15.345471804383216\n"
     ]
    }
   ],
   "source": [
    "falsa_posicion(g,14,16)"
   ]
  }
 ],
 "metadata": {
  "kernelspec": {
   "display_name": "Python 3",
   "language": "python",
   "name": "python3"
  },
  "language_info": {
   "codemirror_mode": {
    "name": "ipython",
    "version": 3
   },
   "file_extension": ".py",
   "mimetype": "text/x-python",
   "name": "python",
   "nbconvert_exporter": "python",
   "pygments_lexer": "ipython3",
   "version": "3.4.3"
  }
 },
 "nbformat": 4,
 "nbformat_minor": 0
}
