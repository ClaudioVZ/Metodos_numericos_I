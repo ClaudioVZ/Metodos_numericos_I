{
 "cells": [
  {
   "cell_type": "markdown",
   "metadata": {},
   "source": [
    "# Método de la bisección\n",
    "\n",
    "El método de bisección, conocido también como de corte binario, de partición de intervalos o de Bolzano, es un método de búsqueda incremental en el que el intervalo se divide siempre a la mitad.\n",
    "\n",
    "grafico\n",
    "\n",
    "\\begin{equation}\n",
    "    x_{raiz} = \\frac{x_{inferior} + x_{superior}}{2}\n",
    "\\end{equation}\n",
    "\n",
    "Algoritmo\n",
    "\n",
    "    la raiz verdadera está en el intervalo [x_inferior, x_superior]\n",
    "    calcular x_raiz\n",
    "    si f(x_inferior)*f(x_raiz) < 0\n",
    "        la raiz verdadera está en el intervalo [x_inferior, x_raiz]\n",
    "        calcular x_raiz\n",
    "    si f(x_inferior)*f(x_raiz) > 0\n",
    "        la raiz verdadera está en el intervalo [x_raiz, x_superior]\n",
    "        calcular x_raiz\n",
    "    si f(x_inferior)*f(x_raiz) = 0\n",
    "        se encontró la raiz verdadera\n",
    "\n",
    "## Ejemplo 1\n",
    "\n",
    "Encontrar la raiz de\n",
    "\n",
    "\\begin{equation*}\n",
    "    y = x^{3} + 4 x^{2} - 10\n",
    "\\end{equation*}\n",
    "\n",
    "la raíz posiblemente se encuentre en $[x_{l}, x_{u}] = [1,2]$\n",
    "\n",
    "### Iteración 0\n",
    "\n",
    "Intervalo actual\n",
    "\n",
    "\\begin{equation*}\n",
    "    [x_{l_{0}}, x_{u_{0}}] = [1, 2]\n",
    "\\end{equation*}\n",
    "\n",
    "Raíz aproximada\n",
    "\n",
    "\\begin{equation*}\n",
    "    x_{r_{0}} = \\frac{x_{l_{0}} + x_{u_{0}}}{2} = \\frac{1 + 2}{2} = 1.5\n",
    "\\end{equation*}\n",
    "\n",
    "Siguiente intervalo\n",
    "\n",
    "\\begin{equation*}\n",
    "    [x_{l_{1}}, x_{u_{1}}] = \\left \\{\n",
    "    \\begin{array}{llcll}\n",
    "        si & f(x_{l_{0}}) \\cdot f(x_{r_{0}}) = f(1) \\cdot f(1.5) < 0 & \\longrightarrow & [x_{l_{0}}, x_{r_{0}}] = [1, 1.5] & \\checkmark \\\\\n",
    "        si & f(x_{l_{0}}) \\cdot f(x_{r_{0}}) = f(1) \\cdot f(1.5) > 0 & \\longrightarrow & [x_{r_{0}}, x_{u_{0}}] = [1.5, 2] &\n",
    "    \\end{array}\n",
    "    \\right .\n",
    "\\end{equation*}\n",
    "\n",
    "Error relativo\n",
    "\n",
    "\\begin{equation*}\n",
    "    e_{r} = ? \n",
    "\\end{equation*}\n",
    "\n",
    "### Iteración 1\n",
    "\n",
    "Intervalo actual\n",
    "\n",
    "\\begin{equation*}\n",
    "    [x_{l_{1}}, x_{u_{1}}] = [1.5, 2]\n",
    "\\end{equation*}\n",
    "\n",
    "Raíz aproximada\n",
    "\n",
    "\\begin{equation*}\n",
    "    x_{r_{1}} = \\frac{x_{l_{1}} + x_{u_{1}}}{2} = \\frac{1 + 1.5}{2} = 1.25\n",
    "\\end{equation*}\n",
    "\n",
    "Siguiente intervalo\n",
    "\n",
    "\\begin{equation*}\n",
    "    [x_{l_{2}}, x_{u_{2}}] = \\left \\{\n",
    "    \\begin{array}{llcll}\n",
    "        si & f(x_{l_{1}}) \\cdot f(x_{r_{1}}) = f(1) \\cdot f(1.25) < 0 & \\longrightarrow & [x_{l_{1}}, x_{r_{1}}] = [1, 1.25] & \\\\\n",
    "        si & f(x_{l_{1}}) \\cdot f(x_{r_{1}}) = f(1) \\cdot f(1.25) > 0 & \\longrightarrow & [x_{r_{1}}, x_{u_{1}}] = [1.25, 1.5] & \\checkmark\n",
    "    \\end{array}\n",
    "    \\right .\n",
    "\\end{equation*}\n",
    "\n",
    "Error relativo\n",
    "\n",
    "\\begin{equation*}\n",
    "    e_{r} = \\bigg|\\frac{x_{r_{1}} - x_{r_{0}}}{x_{r_{1}}}\\bigg| \\times 100\\% = \\bigg|\\frac{1.25 - 1.5}{1.25}\\bigg| \\times 100\\% = 20\\%\n",
    "\\end{equation*}\n",
    "\n",
    "### Iteración 2\n",
    "\n",
    "Intervalo actual\n",
    "\n",
    "\\begin{equation*}\n",
    "    [x_{l_{2}}, x_{u_{2}}] = [1.25, 1.5]\n",
    "\\end{equation*}\n",
    "\n",
    "Raíz aproximada\n",
    "\n",
    "\\begin{equation*}\n",
    "    x_{r_{2}} = \\frac{x_{l_{2}} + x_{u_{2}}}{2} = \\frac{1.25 + 1.5}{2} = 1.375\n",
    "\\end{equation*}\n",
    "\n",
    "Siguiente intervalo\n",
    "\n",
    "\\begin{equation*}\n",
    "    [x_{l_{3}}, x_{u_{3}}] = \\left \\{\n",
    "    \\begin{array}{llcll}\n",
    "        si & f(x_{l_{2}}) \\cdot f(x_{r_{2}}) = f(1.25) \\cdot f(1.375) < 0 & \\longrightarrow & [x_{l_{2}}, x_{r_{2}}] = [1.25, 1.375] & \\checkmark \\\\\n",
    "        si & f(x_{l_{2}}) \\cdot f(x_{r_{2}}) = f(1.25) \\cdot f(1.375) > 0 & \\longrightarrow & [x_{r_{2}}, x_{u_{2}}] = [1.375, 1.5] &\n",
    "    \\end{array}\n",
    "    \\right .\n",
    "\\end{equation*}\n",
    "\n",
    "Error relativo\n",
    "\n",
    "\\begin{equation*}\n",
    "    e_{r} = \\bigg|\\frac{x_{r_{2}} - x_{r_{1}}}{x_{r_{2}}}\\bigg| \\times 100\\% = \\bigg|\\frac{1.375 - 1.25}{1.375}\\bigg| \\times 100\\% = 9.09\\%\n",
    "\\end{equation*}\n",
    "\n",
    "### Iteración 3\n",
    "\n",
    "Intervalo actual\n",
    "\n",
    "\\begin{equation*}\n",
    "    [x_{l_{3}}, x_{u_{3}}] = [1.25, 1.375]\n",
    "\\end{equation*}\n",
    "\n",
    "Raíz aproximada\n",
    "\n",
    "\\begin{equation*}\n",
    "    x_{r_{3}} = \\frac{x_{l_{3}} + x_{u_{3}}}{2} = \\frac{1.25 + 1.375}{2} = 1.3125\n",
    "\\end{equation*}\n",
    "\n",
    "Siguiente intervalo\n",
    "\n",
    "\\begin{equation*}\n",
    "    [x_{l_{4}}, x_{u_{4}}] = \\left \\{\n",
    "    \\begin{array}{llcll}\n",
    "        si & f(x_{l_{3}}) \\cdot f(x_{r_{3}}) = f(1.25) \\cdot f(1.3125) < 0 & \\longrightarrow & [x_{l_{3}}, x_{r_{3}}] = [1.25, 1.3125] & \\\\\n",
    "        si & f(x_{l_{3}}) \\cdot f(x_{r_{3}}) = f(1.25) \\cdot f(1.3125) > 0 & \\longrightarrow & [x_{r_{3}}, x_{u_{3}}] = [1.3125, 1.375] & \\checkmark\n",
    "    \\end{array}\n",
    "    \\right .\n",
    "\\end{equation*}\n",
    "\n",
    "Error relativo\n",
    "\n",
    "\\begin{equation*}\n",
    "    e_{r} = \\bigg| \\frac{x_{r_{3}} - x_{r_{2}}}{x_{r_{3}}} \\bigg| \\times 100\\% = \\bigg|\\frac{1.3125 - 1.375}{1.3125}\\bigg| \\times 100\\% = 4.76\\%\n",
    "\\end{equation*}\n",
    "        \n",
    "## Implementación de funciones auxiliares\n",
    "        \n",
    "Seudocódigo para calcular la raíz\n",
    "\n",
    "````pascal\n",
    "function raiz(x_l, x_u)\n",
    "    x_r = (x_l + x_u)/2\n",
    "    return x_r\n",
    "end function\n",
    "````\n",
    "        \n",
    "Seudocódigo para determinar el siguiente intervalo\n",
    "\n",
    "````pascal\n",
    "function intervalo_de_raiz(f(x), x_l, x_u)\n",
    "    x_r = raiz(x_l, x_u)\n",
    "    if f(x_l)*f(x_r) < 0\n",
    "        x_u = x_r\n",
    "    end if\n",
    "    if f(x_l)*f(x_r) > 0\n",
    "        x_l = x_r\n",
    "    end if\n",
    "    return x_l, x_u\n",
    "end function\n",
    "````"
   ]
  },
  {
   "cell_type": "code",
   "execution_count": 1,
   "metadata": {
    "collapsed": false
   },
   "outputs": [],
   "source": [
    "def raiz(x_l, x_u):\n",
    "    x_r = (x_l + x_u)/2\n",
    "    return x_r\n",
    "\n",
    "def intervalo_de_raiz(f, x_l, x_u):\n",
    "    x_r = raiz(x_l, x_u)\n",
    "    if f(x_l)*f(x_r) < 0:\n",
    "        x_u = x_r\n",
    "    if f(x_l)*f(x_r) > 0:\n",
    "        x_l = x_r\n",
    "    return x_l, x_u"
   ]
  },
  {
   "cell_type": "markdown",
   "metadata": {},
   "source": [
    "## Implementación no vectorizada\n",
    "\n",
    "Seudocódigo\n",
    "\n",
    "````pascal\n",
    "function biseccion(f(x), x_inferior, x_superior)\n",
    "    x_raiz_actual = raiz(x_inferior, x_superior)\n",
    "    error_permitido = 0.000001\n",
    "    while(True)\n",
    "        x_raiz_anterior = x_raiz_actual\n",
    "        x_inferior, x_superior = intervalo_de_raiz(f(x), x_inferior, x_superior)\n",
    "        x_raiz_actual = raiz(x_inferior, x_superior)\n",
    "        if x_raiz_actual != 0\n",
    "            error_relativo = abs((x_raiz_actual - x_raiz_anterior)/x_raiz_actual)*100\n",
    "        end if\n",
    "        if error_relativo < error_permitido\n",
    "            exit\n",
    "        end if\n",
    "    end while\n",
    "    mostrar x_raiz_actual\n",
    "end function\n",
    "````\n",
    "    \n",
    "o también\n",
    "\n",
    "````pascal\n",
    "function biseccion(f(x), x_inferior, x_superior)\n",
    "    x_raiz_actual = raiz(x_inferior, x_superior)\n",
    "    for 1 to maxima_iteracion do\n",
    "        x_raiz_anterior = x_raiz_actual\n",
    "        x_inferior, x_superior = intervalo_de_raiz(f(x), x_inferior, x_superior)\n",
    "        x_raiz_actual = raiz(x_inferior, x_superior)\n",
    "    end for\n",
    "    mostrar x_raiz_actual\n",
    "end function\n",
    "````"
   ]
  },
  {
   "cell_type": "code",
   "execution_count": 2,
   "metadata": {
    "collapsed": false
   },
   "outputs": [],
   "source": [
    "def biseccion(f, x_inferior, x_superior):\n",
    "    print(\"{0:2s}\\t{1:12s}\\t{2:12s}\\t{3:12s}\\t{4:16s}\".format(' i', 'x inferior', 'x superior', 'raiz', 'error relativo %'))\n",
    "    x_raiz_actual = raiz(x_inferior, x_superior)\n",
    "    i = 0\n",
    "    print(\"{0:2d}\\t{1:12.10f}\\t{2:12.10f}\\t{3:12.10f}\\t{4:16s}\".format(i, x_inferior, x_superior, x_raiz_actual, '????????????????'))\n",
    "    error_permitido = 0.000001\n",
    "    while True:\n",
    "        x_raiz_anterior = x_raiz_actual\n",
    "        x_inferior, x_superior = intervalo_de_raiz(f, x_inferior, x_superior)\n",
    "        x_raiz_actual = raiz(x_inferior, x_superior)\n",
    "        if x_raiz_actual != 0:\n",
    "            error_relativo = abs((x_raiz_actual - x_raiz_anterior)/x_raiz_actual)*100\n",
    "        i = i + 1\n",
    "        print(\"{0:2d}\\t{1:12.10f}\\t{2:12.10f}\\t{3:12.10f}\\t{4:16.13f}\".format(i, x_inferior, x_superior, x_raiz_actual, error_relativo))\n",
    "        if (error_relativo < error_permitido) or (i>=20):\n",
    "            break\n",
    "    print('\\nx =', x_raiz_actual)"
   ]
  },
  {
   "cell_type": "markdown",
   "metadata": {},
   "source": [
    "## Ejemplo 2\n",
    "\n",
    "Encontrar la raiz de\n",
    "\n",
    "\\begin{equation*}\n",
    "    y = x^{3} + 4 x^{2} - 10\n",
    "\\end{equation*}\n",
    "\n",
    "la raíz posiblemente se encuentre en el intervalo $[1,2]$"
   ]
  },
  {
   "cell_type": "code",
   "execution_count": 3,
   "metadata": {
    "collapsed": true
   },
   "outputs": [],
   "source": [
    "def f(x):\n",
    "    y = x**3 + 4*x**2 - 10\n",
    "    return y"
   ]
  },
  {
   "cell_type": "code",
   "execution_count": 4,
   "metadata": {
    "collapsed": false
   },
   "outputs": [
    {
     "data": {
      "text/plain": [
       "(1, 1.5)"
      ]
     },
     "execution_count": 4,
     "metadata": {},
     "output_type": "execute_result"
    }
   ],
   "source": [
    "intervalo_de_raiz(f, 1, 2)"
   ]
  },
  {
   "cell_type": "code",
   "execution_count": 5,
   "metadata": {
    "collapsed": false
   },
   "outputs": [
    {
     "data": {
      "text/plain": [
       "(1.25, 1.5)"
      ]
     },
     "execution_count": 5,
     "metadata": {},
     "output_type": "execute_result"
    }
   ],
   "source": [
    "intervalo_de_raiz(f, 1, 1.5)"
   ]
  },
  {
   "cell_type": "code",
   "execution_count": 6,
   "metadata": {
    "collapsed": false
   },
   "outputs": [
    {
     "data": {
      "text/plain": [
       "(1.25, 1.375)"
      ]
     },
     "execution_count": 6,
     "metadata": {},
     "output_type": "execute_result"
    }
   ],
   "source": [
    "intervalo_de_raiz(f, 1.25, 1.5)"
   ]
  },
  {
   "cell_type": "code",
   "execution_count": 7,
   "metadata": {
    "collapsed": false
   },
   "outputs": [
    {
     "name": "stdout",
     "output_type": "stream",
     "text": [
      " i\tx inferior  \tx superior  \traiz        \terror relativo %\n",
      " 0\t1.0000000000\t2.0000000000\t1.5000000000\t????????????????\n",
      " 1\t1.0000000000\t1.5000000000\t1.2500000000\t20.0000000000000\n",
      " 2\t1.2500000000\t1.5000000000\t1.3750000000\t 9.0909090909091\n",
      " 3\t1.2500000000\t1.3750000000\t1.3125000000\t 4.7619047619048\n",
      " 4\t1.3125000000\t1.3750000000\t1.3437500000\t 2.3255813953488\n",
      " 5\t1.3437500000\t1.3750000000\t1.3593750000\t 1.1494252873563\n",
      " 6\t1.3593750000\t1.3750000000\t1.3671875000\t 0.5714285714286\n",
      " 7\t1.3593750000\t1.3671875000\t1.3632812500\t 0.2865329512894\n",
      " 8\t1.3632812500\t1.3671875000\t1.3652343750\t 0.1430615164521\n",
      " 9\t1.3632812500\t1.3652343750\t1.3642578125\t 0.0715819613457\n",
      "10\t1.3642578125\t1.3652343750\t1.3647460938\t 0.0357781753131\n",
      "11\t1.3647460938\t1.3652343750\t1.3649902344\t 0.0178858880343\n",
      "12\t1.3649902344\t1.3652343750\t1.3651123047\t 0.0089421443262\n",
      "13\t1.3651123047\t1.3652343750\t1.3651733398\t 0.0044708722672\n",
      "14\t1.3651733398\t1.3652343750\t1.3652038574\t 0.0022353861630\n",
      "15\t1.3652038574\t1.3652343750\t1.3652191162\t 0.0011176805892\n",
      "16\t1.3652191162\t1.3652343750\t1.3652267456\t 0.0005588371716\n",
      "17\t1.3652267456\t1.3652343750\t1.3652305603\t 0.0002794178051\n",
      "18\t1.3652267456\t1.3652305603\t1.3652286530\t 0.0001397090977\n",
      "19\t1.3652286530\t1.3652305603\t1.3652296066\t 0.0000698545001\n",
      "20\t1.3652296066\t1.3652305603\t1.3652300835\t 0.0000349272378\n",
      "\n",
      "x = 1.3652300834655762\n"
     ]
    }
   ],
   "source": [
    "biseccion(f, 1, 2)"
   ]
  },
  {
   "cell_type": "markdown",
   "metadata": {},
   "source": [
    "## Ejemplo 3\n",
    "\n",
    "Encontrar la raiz de\n",
    "\n",
    "\\begin{equation*}\n",
    "    y = \\sin{10 x} + \\cos{3 x}\n",
    "\\end{equation*}\n",
    "\n",
    "la raíz posiblemente se encuentre en el intervalo $[14,15]$"
   ]
  },
  {
   "cell_type": "code",
   "execution_count": 8,
   "metadata": {
    "collapsed": true
   },
   "outputs": [],
   "source": [
    "from math import sin, cos\n",
    "\n",
    "def g(x):\n",
    "    y = sin(10*x) + cos(3*x)\n",
    "    return y"
   ]
  },
  {
   "cell_type": "code",
   "execution_count": 9,
   "metadata": {
    "collapsed": false
   },
   "outputs": [
    {
     "data": {
      "text/plain": [
       "(14.5, 15)"
      ]
     },
     "execution_count": 9,
     "metadata": {},
     "output_type": "execute_result"
    }
   ],
   "source": [
    "intervalo_de_raiz(g, 14, 15)"
   ]
  },
  {
   "cell_type": "code",
   "execution_count": 10,
   "metadata": {
    "collapsed": false
   },
   "outputs": [
    {
     "data": {
      "text/plain": [
       "(14.75, 15)"
      ]
     },
     "execution_count": 10,
     "metadata": {},
     "output_type": "execute_result"
    }
   ],
   "source": [
    "intervalo_de_raiz(g, 14.5, 15)"
   ]
  },
  {
   "cell_type": "code",
   "execution_count": 11,
   "metadata": {
    "collapsed": false,
    "scrolled": false
   },
   "outputs": [
    {
     "data": {
      "text/plain": [
       "(14.75, 14.875)"
      ]
     },
     "execution_count": 11,
     "metadata": {},
     "output_type": "execute_result"
    }
   ],
   "source": [
    "intervalo_de_raiz(g, 14.75, 15)"
   ]
  },
  {
   "cell_type": "code",
   "execution_count": 12,
   "metadata": {
    "collapsed": false,
    "scrolled": false
   },
   "outputs": [
    {
     "name": "stdout",
     "output_type": "stream",
     "text": [
      " i\tx inferior  \tx superior  \traiz        \terror relativo %\n",
      " 0\t14.0000000000\t15.0000000000\t14.5000000000\t????????????????\n",
      " 1\t14.5000000000\t15.0000000000\t14.7500000000\t 1.6949152542373\n",
      " 2\t14.7500000000\t15.0000000000\t14.8750000000\t 0.8403361344538\n",
      " 3\t14.7500000000\t14.8750000000\t14.8125000000\t 0.4219409282700\n",
      " 4\t14.8125000000\t14.8750000000\t14.8437500000\t 0.2105263157895\n",
      " 5\t14.8437500000\t14.8750000000\t14.8593750000\t 0.1051524710831\n",
      " 6\t14.8593750000\t14.8750000000\t14.8671875000\t 0.0525486074619\n",
      " 7\t14.8593750000\t14.8671875000\t14.8632812500\t 0.0262812089356\n",
      " 8\t14.8593750000\t14.8632812500\t14.8613281250\t 0.0131423314496\n",
      " 9\t14.8613281250\t14.8632812500\t14.8623046875\t 0.0065707339510\n",
      "10\t14.8613281250\t14.8623046875\t14.8618164062\t 0.0032854749154\n",
      "11\t14.8618164062\t14.8623046875\t14.8620605469\t 0.0016427104723\n",
      "12\t14.8620605469\t14.8623046875\t14.8621826172\t 0.0008213484900\n",
      "13\t14.8620605469\t14.8621826172\t14.8621215820\t 0.0004106759315\n",
      "14\t14.8621215820\t14.8621826172\t14.8621520996\t 0.0002053375441\n",
      "15\t14.8621215820\t14.8621520996\t14.8621368408\t 0.0001026688775\n",
      "16\t14.8621368408\t14.8621520996\t14.8621444702\t 0.0000513344124\n",
      "17\t14.8621444702\t14.8621520996\t14.8621482849\t 0.0000256671996\n",
      "18\t14.8621482849\t14.8621520996\t14.8621501923\t 0.0000128335982\n",
      "19\t14.8621482849\t14.8621501923\t14.8621492386\t 0.0000064167995\n",
      "20\t14.8621492386\t14.8621501923\t14.8621497154\t 0.0000032083996\n",
      "\n",
      "x = 14.862149715423584\n"
     ]
    }
   ],
   "source": [
    "biseccion(g, 14, 15)"
   ]
  },
  {
   "cell_type": "markdown",
   "metadata": {},
   "source": [
    "## Ejemplo 4\n",
    "\n",
    "Encontrar la raiz de\n",
    "\n",
    "\\begin{equation*}\n",
    "    y = \\sin{10 x} + \\cos{3 x}\n",
    "\\end{equation*}\n",
    "\n",
    "la raíz posiblemente se encuentre en el intervalo $[12,16]$"
   ]
  },
  {
   "cell_type": "code",
   "execution_count": 13,
   "metadata": {
    "collapsed": false
   },
   "outputs": [
    {
     "name": "stdout",
     "output_type": "stream",
     "text": [
      " i\tx inferior  \tx superior  \traiz        \terror relativo %\n",
      " 0\t12.0000000000\t16.0000000000\t14.0000000000\t????????????????\n",
      " 1\t14.0000000000\t16.0000000000\t15.0000000000\t 6.6666666666667\n",
      " 2\t14.0000000000\t15.0000000000\t14.5000000000\t 3.4482758620690\n",
      " 3\t14.5000000000\t15.0000000000\t14.7500000000\t 1.6949152542373\n",
      " 4\t14.7500000000\t15.0000000000\t14.8750000000\t 0.8403361344538\n",
      " 5\t14.7500000000\t14.8750000000\t14.8125000000\t 0.4219409282700\n",
      " 6\t14.8125000000\t14.8750000000\t14.8437500000\t 0.2105263157895\n",
      " 7\t14.8437500000\t14.8750000000\t14.8593750000\t 0.1051524710831\n",
      " 8\t14.8593750000\t14.8750000000\t14.8671875000\t 0.0525486074619\n",
      " 9\t14.8593750000\t14.8671875000\t14.8632812500\t 0.0262812089356\n",
      "10\t14.8593750000\t14.8632812500\t14.8613281250\t 0.0131423314496\n",
      "11\t14.8613281250\t14.8632812500\t14.8623046875\t 0.0065707339510\n",
      "12\t14.8613281250\t14.8623046875\t14.8618164062\t 0.0032854749154\n",
      "13\t14.8618164062\t14.8623046875\t14.8620605469\t 0.0016427104723\n",
      "14\t14.8620605469\t14.8623046875\t14.8621826172\t 0.0008213484900\n",
      "15\t14.8620605469\t14.8621826172\t14.8621215820\t 0.0004106759315\n",
      "16\t14.8621215820\t14.8621826172\t14.8621520996\t 0.0002053375441\n",
      "17\t14.8621215820\t14.8621520996\t14.8621368408\t 0.0001026688775\n",
      "18\t14.8621368408\t14.8621520996\t14.8621444702\t 0.0000513344124\n",
      "19\t14.8621444702\t14.8621520996\t14.8621482849\t 0.0000256671996\n",
      "20\t14.8621482849\t14.8621520996\t14.8621501923\t 0.0000128335982\n",
      "\n",
      "x = 14.862150192260742\n"
     ]
    }
   ],
   "source": [
    "biseccion(g, 12, 16)"
   ]
  }
 ],
 "metadata": {
  "kernelspec": {
   "display_name": "Python 3",
   "language": "python",
   "name": "python3"
  },
  "language_info": {
   "codemirror_mode": {
    "name": "ipython",
    "version": 3
   },
   "file_extension": ".py",
   "mimetype": "text/x-python",
   "name": "python",
   "nbconvert_exporter": "python",
   "pygments_lexer": "ipython3",
   "version": "3.4.3"
  }
 },
 "nbformat": 4,
 "nbformat_minor": 0
}
