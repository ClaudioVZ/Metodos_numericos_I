{
 "cells": [
  {
   "cell_type": "markdown",
   "metadata": {},
   "source": [
    "# Polinomio de Lagrange\n",
    "\n",
    "\\begin{equation}\n",
    "    f_n(x) = \\sum_{i=0}^{n} \\ell_{i} f(x_{i})\n",
    "\\end{equation}\n",
    "\n",
    "## Polinomio lineal\n",
    "\n",
    "\\begin{equation*}\n",
    "    f(x) = \\frac{x - x_{1}}{x_{0} - x_{1}} f(x_{0}) + \\frac{x - x_{0}}{x_{1} - x_{0}} f(x_{1})\n",
    "\\end{equation*}\n",
    "\n",
    "### Primera derivada\n",
    "\n",
    "\\begin{equation}\n",
    "    f'(x) = \\frac{1}{x_{0} - x_{1}} f(x_{0}) + \\frac{1}{x_{1} - x_{0}} f(x_{1})\n",
    "\\end{equation}"
   ]
  },
  {
   "cell_type": "code",
   "execution_count": null,
   "metadata": {
    "collapsed": true
   },
   "outputs": [],
   "source": []
  },
  {
   "cell_type": "markdown",
   "metadata": {
    "collapsed": true
   },
   "source": [
    "## Polinomio cuadrático\n",
    "\n",
    "\\begin{equation*}\n",
    "    f(x) = \\frac{(x - x_{1})(x - x_{2})}{(x_{0} - x_{1})(x_{0} - x_{2})} f(x_{0}) + \\frac{(x - x_{0})(x - x_{2})}{(x_{1} - x_{0})(x_{1} - x_{2})} f(x_{1}) + \\frac{(x - x_{0})(x - x_{1})}{(x_{2} - x_{0})(x_{2} - x_{1})} f(x_{2})\n",
    "\\end{equation*}\n",
    "\n",
    "### Primera derivada\n",
    "\n",
    "\\begin{equation}\n",
    "    f'(x) = \\frac{2 x - (x_{1} - x_{2})}{(x_{0} - x_{1})(x_{0} - x_{2})} f(x_{0}) - \\frac{2 x - (x_{0} - x_{2})}{(x_{1} - x_{0})(x_{1} - x_{2})} f(x_{1}) + \\frac{2 x - (x_{0} - x_{1})}{(x_{2} - x_{0})(x_{2} - x_{1})} f(x_{2})\n",
    "\\end{equation}\n",
    "\n",
    "### Segunda derivada\n",
    "\n",
    "\\begin{equation}\n",
    "    f''(x) = \\frac{2}{(x_{0} - x_{1})(x_{0} - x_{2})} f(x_{0}) - \\frac{2}{(x_{1} - x_{0})(x_{1} - x_{2})} f(x_{1}) + \\frac{2}{(x_{2} - x_{0})(x_{2} - x_{1})} f(x_{2})\n",
    "\\end{equation}"
   ]
  },
  {
   "cell_type": "code",
   "execution_count": null,
   "metadata": {
    "collapsed": true
   },
   "outputs": [],
   "source": []
  },
  {
   "cell_type": "markdown",
   "metadata": {},
   "source": [
    "## Polinomio cúbico\n",
    "\n",
    "\\begin{equation*}\n",
    "    f(x) = \\frac{(x - x_{1})(x - x_{2})(x - x_{3})}{(x_{0} - x_{1})(x_{0} - x_{2})(x_{0} - x_{3})} f(x_{0}) + \\frac{(x - x_{0})(x - x_{2})(x - x_{3})}{(x_{1} - x_{0})(x_{1} - x_{2})(x_{1} - x_{3})} f(x_{1}) + \\frac{(x - x_{0})(x - x_{1})(x - x_{3})}{(x_{2} - x_{0})(x_{2} - x_{1})(x_{2} - x_{3})} f(x_{2}) + \\frac{(x - x_{0})(x - x_{1})(x - x_{2})}{(x_{3} - x_{0})(x_{3} - x_{1})(x_{3} - x_{2})} f(x_{3})\n",
    "\\end{equation*}\n",
    "\n",
    "### Primera derivada\n",
    "\n",
    "\\begin{equation*}\n",
    "    f'(x) = \\frac{3 x^{2} - 2 x (x_{1} + x_{2} + x_{3}) + x_{1} (x_{2} + x_{3}) + x_{2} x_{3}}{(x_{0} - x_{1})(x_{0} - x_{2})(x_{0} - x_{3})} f(x_{0}) + \\frac{3 x^{2} - 2 x (x_{0} + x_{2} + x_{3}) + x_{0} (x_{2} + x_{3}) + x_{2} x_{3}}{(x_{1} - x_{0})(x_{1} - x_{2})(x_{1} - x_{3})} f(x_{1}) + \\frac{3 x^{2} - 2 x (x_{0} + x_{1} + x_{3}) + x_{0} (x_{1} + x_{3}) + x_{1} x_{3}}{(x_{2} - x_{0})(x_{2} - x_{1})(x_{2} - x_{3})} f(x_{2}) + \\frac{3 x^{2} - 2 x (x_{0} + x_{1} + x_{2}) + x_{0} (x_{1} + x_{2}) + x_{1} x_{2}}{(x_{3} - x_{0})(x_{3} - x_{1})(x_{3} - x_{2})} f(x_{3})\n",
    "\\end{equation*}\n",
    "\n",
    "### Segunda derivada\n",
    "\n",
    "\\begin{equation*}\n",
    "    f''(x) = \\frac{2[3 x - (x_{1} + x_{2} + x_{3})]}{(x_{0} - x_{1})(x_{0} - x_{2})(x_{0} - x_{3})} f(x_{0}) + \\frac{2[3 x - (x_{0} + x_{2} + x_{3})]}{(x_{1} - x_{0})(x_{1} - x_{2})(x_{1} - x_{3})} f(x_{1}) + \\frac{2[3 x - (x_{0} + x_{1} + x_{3})]}{(x_{2} - x_{0})(x_{2} - x_{1})(x_{2} - x_{3})} f(x_{2}) + \\frac{2[3 x - (x_{0} + x_{1} + x_{2})]}{(x_{3} - x_{0})(x_{3} - x_{1})(x_{3} - x_{2})} f(x_{3})\n",
    "\\end{equation*}\n",
    "\n",
    "### Tercera derivada\n",
    "\n",
    "\\begin{equation*}\n",
    "    f'''(x) = \\frac{6}{(x_{0} - x_{1})(x_{0} - x_{2})(x_{0} - x_{3})} f(x_{0}) + \\frac{6}{(x_{1} - x_{0})(x_{1} - x_{2})(x_{1} - x_{3})} f(x_{1}) + \\frac{6}{(x_{2} - x_{0})(x_{2} - x_{1})(x_{2} - x_{3})} f(x_{2}) + \\frac{6}{(x_{3} - x_{0})(x_{3} - x_{1})(x_{3} - x_{2})} f(x_{3})\n",
    "\\end{equation*}"
   ]
  },
  {
   "cell_type": "code",
   "execution_count": null,
   "metadata": {
    "collapsed": true
   },
   "outputs": [],
   "source": []
  }
 ],
 "metadata": {
  "kernelspec": {
   "display_name": "Python 3",
   "language": "python",
   "name": "python3"
  },
  "language_info": {
   "codemirror_mode": {
    "name": "ipython",
    "version": 3
   },
   "file_extension": ".py",
   "mimetype": "text/x-python",
   "name": "python",
   "nbconvert_exporter": "python",
   "pygments_lexer": "ipython3",
   "version": "3.4.3"
  }
 },
 "nbformat": 4,
 "nbformat_minor": 0
}
