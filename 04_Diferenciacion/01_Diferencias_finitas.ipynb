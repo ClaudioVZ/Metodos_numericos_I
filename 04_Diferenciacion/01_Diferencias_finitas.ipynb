{
 "cells": [
  {
   "cell_type": "markdown",
   "metadata": {},
   "source": [
    "#Diferencias divididas finitas \n",
    "\n",
    "##Serie de Taylor\n",
    "\n",
    "\\begin{equation}\n",
    "    f(x) = \\sum_{n=0}^{\\infty} \\frac{f^{(n)}(a)}{n!} (x - a)^{n}\n",
    "\\end{equation}\n",
    "\n",
    "###Expansión hacia adelante\n",
    "\n",
    "\\begin{equation*}\n",
    "    f(x) \\approx f(a) + f'(a) (x - a) + \\frac{1}{2} f''(a) (x - a)^{2} + \\frac{1}{6} f'''(a) (x - a)^{3} + \\cdots\n",
    "\\end{equation*}\n",
    "\n",
    "Usando un cambio de variable $x - a = h$\n",
    "\n",
    "\\begin{equation*}\n",
    "    f(x) \\approx f(a) + f'(a) h + \\frac{1}{2} f''(a) h^{2} + \\frac{1}{6} f'''(a) h^{3} + \\cdots\n",
    "\\end{equation*}\n",
    "\n",
    "Reemplazando $a = x - h$\n",
    "\n",
    "\\begin{equation*}\n",
    "    f(x) \\approx f(x - h) + f'(x - h) h + \\frac{1}{2} f''(x - h) h^{2} + \\frac{1}{6} f'''(x - h) h^{3} + \\cdots\n",
    "\\end{equation*}\n",
    "\n",
    "Usando un cambio de variable $x = x_{i}$\n",
    "\n",
    "\\begin{equation*}\n",
    "    f(x_{i}) \\approx f(x_{i} - h) + f'(x_{i} - h) h + \\frac{1}{2} f''(x_{i} - h) h^{2} + \\frac{1}{6} f'''(x_{i} - h) h^{3} + \\cdots\n",
    "\\end{equation*}\n",
    "\n",
    "Reemplazando $x_{i} - h = x_{i-1}$\n",
    "\n",
    "\\begin{equation*}\n",
    "    f(x_{i}) \\approx f(x_{i-1}) + f'(x_{i-1}) h + \\frac{1}{2} f''(x_{i-1}) h^{2} + \\frac{1}{6} f'''(x_{i-1}) h^{3} + \\cdots\n",
    "\\end{equation*}\n",
    "\n",
    "Recorriendo los índices\n",
    "\n",
    "\\begin{equation}\n",
    "    f(x_{i+1}) \\approx f(x_{i}) + f'(x_{i}) h + \\frac{1}{2} f''(x_{i}) h^{2} + \\frac{1}{6} f'''(x_{i}) h^{3} + \\cdots\n",
    "\\end{equation}\n",
    "\n",
    "###Expansión hacia atrás\n",
    "\n",
    "La expansión hacia adelante puede escribirse como \n",
    "\n",
    "\\begin{equation*}\n",
    "    f(x_{i} + h) \\approx f(x_{i}) (h)^{0} + f'(x_{i}) (h)^{1} + \\frac{1}{2} f''(x_{i}) (h)^{2} + \\frac{1}{6} f'''(x_{i}) (h)^{3} + \\cdots\n",
    "\\end{equation*}\n",
    "\n",
    "Entonces la expansión hacia atrás será\n",
    "\n",
    "\\begin{equation*}\n",
    "    f(x_{i} - h) \\approx f(x_{i}) (-h)^{0} + f'(x_{i}) (-h)^{1} + \\frac{1}{2} f''(x_{i}) (-h)^{2} + \\frac{1}{6} f'''(x_{i}) (-h)^{3} + \\cdots\n",
    "\\end{equation*}\n",
    "\n",
    "Simplificando\n",
    "\n",
    "\\begin{equation}\n",
    "    f(x_{i-1}) \\approx f(x_{i}) - f'(x_{i}) h + \\frac{1}{2} f''(x_{i}) h^{2} - \\frac{1}{6} f'''(x_{i}) h^{3} + \\cdots\n",
    "\\end{equation}\n",
    "\n",
    "##Primera diferencia hacia adelante\n",
    "\n",
    "Usando dos términos de la serie de Taylor expandida hacia adelante\n",
    "\n",
    "\\begin{equation*}\n",
    "    f(x_{i+1}) \\approx f(x_{i}) + f'(x_{i}) h\n",
    "\\end{equation*}\n",
    "\n",
    "Despejando la primera derivada\n",
    "\n",
    "\\begin{equation}\n",
    "    f'(x_{i}) = \\frac{f(x_{i+1}) - f(x_{i})}{h}\n",
    "\\end{equation}"
   ]
  },
  {
   "cell_type": "code",
   "execution_count": 1,
   "metadata": {
    "collapsed": false
   },
   "outputs": [],
   "source": [
    "def g(x):\n",
    "    resultado = - 0.1*x**4 - 0.15*x**3 - 0.5*x**2 - 0.25*x + 1.2\n",
    "    return resultado\n",
    "\n",
    "def fx_adelante(f,x,h):\n",
    "    derivada = (f(x+h) - f(x))/h\n",
    "    return derivada"
   ]
  },
  {
   "cell_type": "code",
   "execution_count": 2,
   "metadata": {
    "collapsed": false
   },
   "outputs": [],
   "source": [
    "print('f\\'(0.5) =', fx_adelante(g,0.5,0.25))"
   ]
  },
  {
   "cell_type": "markdown",
   "metadata": {},
   "source": [
    "##Primera diferencia hacia atrás\n",
    "\n",
    "Usando dos términos de la serie de Taylor expandida hacia atrás\n",
    "\n",
    "\\begin{equation*}\n",
    "    f(x_{i-1}) \\approx f(x_{i}) - f'(x_{i}) h\n",
    "\\end{equation*}\n",
    "\n",
    "Despejando la primera derivada\n",
    "\n",
    "\\begin{equation}\n",
    "    f'(x_{i}) = \\frac{f(x_{i}) - f(x_{i-1})}{h}\n",
    "\\end{equation}"
   ]
  },
  {
   "cell_type": "code",
   "execution_count": 3,
   "metadata": {
    "collapsed": true
   },
   "outputs": [],
   "source": [
    "def fx_atras(f,x,h):\n",
    "    derivada = (f(x) - f(x-h))/h\n",
    "    return derivada"
   ]
  },
  {
   "cell_type": "code",
   "execution_count": 4,
   "metadata": {
    "collapsed": false
   },
   "outputs": [],
   "source": [
    "print('f\\'(0.5) =', fx_atras(g,0.5,0.25))"
   ]
  },
  {
   "cell_type": "markdown",
   "metadata": {},
   "source": [
    "##Primera diferencia centrada\n",
    "\n",
    "Usando tres términos de la serie de Taylor expandida hacia adelante\n",
    "\n",
    "\\begin{equation}\n",
    "    f(x_{i+1}) \\approx f(x_{i}) + f'(x_{i}) h + \\frac{1}{2} f''(x_{i}) h^{2} \\label{ecuacion6}\n",
    "\\end{equation}\n",
    "\n",
    "Usando tres términos de la serie de Taylor expandida hacia atrás\n",
    "\n",
    "\\begin{equation}\n",
    "    f(x_{i-1}) \\approx f(x_{i}) - f'(x_{i}) h + \\frac{1}{2} f''(x_{i}) h^{2} \\label{ecuacion7}\n",
    "\\end{equation}\n",
    "\n",
    "Restando \\eqref{ecuacion7} de \\eqref{ecuacion6}\n",
    "\n",
    "\\begin{equation*}\n",
    "    f(x_{i+1}) - f(x_{i-1}) \\approx 2 f'(x_{i}) h\n",
    "\\end{equation*}\n",
    "\n",
    "Despejando la primera derivada\n",
    "\n",
    "\\begin{equation}\n",
    "    f'(x_{i}) = \\frac{f(x_{i+1}) - f(x_{i-1})}{2 h}\n",
    "\\end{equation}\n",
    "\n",
    "También puede escribirse como el promedio de una diferencia hacia adelante y una diferencia hacia atrás\n",
    "\n",
    "\\begin{equation*}\n",
    "    f'(x_{i}) = \\frac{\\frac{f(x_{i+1}) - f(x_{i})}{h} + \\frac{f(x_{i}) - f(x_{i-1})}{h}}{2}\n",
    "\\end{equation*}"
   ]
  },
  {
   "cell_type": "code",
   "execution_count": 5,
   "metadata": {
    "collapsed": true
   },
   "outputs": [],
   "source": [
    "def fx_centrada(f,x,h):\n",
    "    derivada = (fx_adelante(f,x,h) + fx_atras(f,x,h))/2\n",
    "    return derivada"
   ]
  },
  {
   "cell_type": "code",
   "execution_count": 6,
   "metadata": {
    "collapsed": false
   },
   "outputs": [],
   "source": [
    "print('f\\'(0.5) =', fx_centrada(g,0.5,0.25))"
   ]
  },
  {
   "cell_type": "markdown",
   "metadata": {},
   "source": [
    "##Segunda diferencia hacia adelante\n",
    "\n",
    "Usando tres términos de la serie de Taylor expandida hacia adelante una posición\n",
    "\n",
    "\\begin{equation*}\n",
    "    f(x_{i+1}) \\approx f(x_{i}) + f'(x_{i}) h + \\frac{1}{2} f''(x_{i}) h^{2}\n",
    "\\end{equation*}\n",
    "\n",
    "Multiplicando por dos\n",
    "\n",
    "\\begin{equation}\n",
    "    2 f(x_{i+1}) \\approx 2 f(x_{i}) + 2 f'(x_{i}) h + f''(x_{i}) h^{2} \\label{ecuacion9}\n",
    "\\end{equation}\n",
    "\n",
    "Usando tres términos de la serie de Taylor expandida hacia adelante dos posiciones\n",
    "\n",
    "\\begin{equation}\n",
    "    f(x_{i+2}) \\approx f(x_{i}) + 2 f'(x_{i}) h + 2 f''(x_{i}) h^{2} \\label{ecuacion10}\n",
    "\\end{equation}\n",
    "\n",
    "Restando \\eqref{ecuacion10} de \\eqref{ecuacion9}\n",
    "\n",
    "\\begin{equation*}\n",
    "    2 f(x_{i+1}) - f(x_{i+2}) \\approx f(x_{i}) - f''(x_{i}) h^{2}\n",
    "\\end{equation*}\n",
    "\n",
    "Despejando la segunda derivada\n",
    "\n",
    "\\begin{equation}\n",
    "    f''(x_{i}) = \\frac{f(x_{i+2}) - 2 f(x_{i+1}) + f(x_{i})}{h^{2}}\n",
    "\\end{equation}"
   ]
  },
  {
   "cell_type": "code",
   "execution_count": 7,
   "metadata": {
    "collapsed": true
   },
   "outputs": [],
   "source": [
    "def fxx_adelante(f,x,h):\n",
    "    derivada = (f(x+2*h) - 2*f(x+h) + f(x))/h**2\n",
    "    return derivada"
   ]
  },
  {
   "cell_type": "code",
   "execution_count": 8,
   "metadata": {
    "collapsed": false
   },
   "outputs": [],
   "source": [
    "print('f\\'\\'(0.5) =', fxx_adelante(g,0.5,0.25))"
   ]
  },
  {
   "cell_type": "markdown",
   "metadata": {
    "collapsed": true
   },
   "source": [
    "##Segunda diferencia hacia atrás\n",
    "\n",
    "Usando tres términos de la serie de Taylor expandida hacia atrás una posición\n",
    "\n",
    "\\begin{equation*}\n",
    "    f(x_{i-1}) \\approx f(x_{i}) - f'(x_{i}) h + \\frac{1}{2} f''(x_{i}) h^{2}\n",
    "\\end{equation*}\n",
    "\n",
    "Multiplicando por dos\n",
    "\n",
    "\\begin{equation}\n",
    "    2 f(x_{i-1}) \\approx 2 f(x_{i}) - 2 f'(x_{i}) h + f''(x_{i}) h^{2} \\label{ecuacion12}\n",
    "\\end{equation}\n",
    "\n",
    "Usando tres términos de la serie de Taylor expandida hacia atrás dos posiciones\n",
    "\n",
    "\\begin{equation}\n",
    "    f(x_{i-2}) \\approx f(x_{i}) - 2 f'(x_{i}) h + 2 f''(x_{i}) h^{2} \\label{ecuacion13}\n",
    "\\end{equation}\n",
    "\n",
    "Restando \\eqref{ecuacion13} de \\eqref{ecuacion12}\n",
    "\n",
    "\\begin{equation*}\n",
    "    2 f(x_{i-1}) - f(x_{i-2}) \\approx f(x_{i}) - f''(x_{i}) h^{2}\n",
    "\\end{equation*}\n",
    "\n",
    "Despejando la segunda derivada\n",
    "\n",
    "\\begin{equation}\n",
    "    f''(x_{i}) = \\frac{f(x_{i}) - 2 f(x_{i-1}) + f(x_{i-2})}{h^{2}}\n",
    "\\end{equation}"
   ]
  },
  {
   "cell_type": "code",
   "execution_count": 9,
   "metadata": {
    "collapsed": true
   },
   "outputs": [],
   "source": [
    "def fxx_atras(f,x,h):\n",
    "    derivada = (f(x) - 2*f(x-h) + f(x-2*h))/h**2\n",
    "    return derivada"
   ]
  },
  {
   "cell_type": "code",
   "execution_count": 10,
   "metadata": {
    "collapsed": false
   },
   "outputs": [
    {
     "name": "stdout",
     "output_type": "stream",
     "text": [
      "f''(0.5) = -1.3125000000000036\n"
     ]
    }
   ],
   "source": [
    "print('f\\'\\'(0.5) =', fxx_atras(g,0.5,0.25))"
   ]
  },
  {
   "cell_type": "markdown",
   "metadata": {
    "collapsed": true
   },
   "source": [
    "##Segunda diferencia centrada\n",
    "\n",
    "Usando tres términos de la serie de Taylor expandida hacia adelante\n",
    "\n",
    "\\begin{equation}\n",
    "    f(x_{i+1}) \\approx f(x_{i}) + f'(x_{i}) h + \\frac{1}{2} f''(x_{i}) h^{2} \\label{ecuacion15}\n",
    "\\end{equation}\n",
    "\n",
    "Usando tres términos de la serie de Taylor expandida hacia atrás\n",
    "\n",
    "\\begin{equation}\n",
    "    f(x_{i-1}) \\approx f(x_{i}) - f'(x_{i}) h + \\frac{1}{2} f''(x_{i}) h^{2} \\label{ecuacion16}\n",
    "\\end{equation}\n",
    "\n",
    "Sumando \\eqref{ecuacion16} a \\eqref{ecuacion15}\n",
    "\n",
    "\\begin{equation*}\n",
    "    f(x_{i+1}) + f(x_{i-1}) \\approx 2 f(x_{i}) + f''(x_{i}) h^{2}\n",
    "\\end{equation*}\n",
    "\n",
    "Despejando la segunda derivada\n",
    "\n",
    "\\begin{equation}\n",
    "    f''(x_{i}) = \\frac{f(x_{i+1}) - 2 f(x_{i}) + f(x_{i-1})}{h^{2}}\n",
    "\\end{equation}\n",
    "\n",
    "También puede escribirse como la diferencia de una diferencia hacia adelante y una diferencia hacia atrás\n",
    "\n",
    "\\begin{equation*}\n",
    "    f''(x_{i}) = \\frac{\\frac{f(x_{i+1}) - f(x_{i})}{h} - \\frac{f(x_{i}) - f(x_{i-1})}{h}}{h}\n",
    "\\end{equation*}"
   ]
  },
  {
   "cell_type": "code",
   "execution_count": 11,
   "metadata": {
    "collapsed": true
   },
   "outputs": [],
   "source": [
    "def fxx_centrada(f,x,h):\n",
    "    derivada = (fxx_adelante(f,x,h) - fxx_atras(f,x,h))/h\n",
    "    return derivada"
   ]
  },
  {
   "cell_type": "code",
   "execution_count": 12,
   "metadata": {
    "collapsed": false
   },
   "outputs": [
    {
     "name": "stdout",
     "output_type": "stream",
     "text": [
      "f''(0.5) = -4.1999999999999815\n"
     ]
    }
   ],
   "source": [
    "print('f\\'\\'(0.5) =', fxx_centrada(g,0.5,0.25))"
   ]
  }
 ],
 "metadata": {
  "kernelspec": {
   "display_name": "Python 3",
   "language": "python",
   "name": "python3"
  },
  "language_info": {
   "codemirror_mode": {
    "name": "ipython",
    "version": 3
   },
   "file_extension": ".py",
   "mimetype": "text/x-python",
   "name": "python",
   "nbconvert_exporter": "python",
   "pygments_lexer": "ipython3",
   "version": "3.4.3"
  }
 },
 "nbformat": 4,
 "nbformat_minor": 0
}
