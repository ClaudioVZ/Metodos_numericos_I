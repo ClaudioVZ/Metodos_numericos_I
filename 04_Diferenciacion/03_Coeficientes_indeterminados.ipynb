{
 "cells": [
  {
   "cell_type": "markdown",
   "metadata": {},
   "source": [
    "#Método de los coeficientes indeterminados\n",
    "\n",
    "Aproximando la primera derivada usando $x=\\frac{1}{2}$ y  $h=\\frac{1}{10}$\n",
    "\n",
    "\\begin{equation*}\n",
    "    f'(x) = a_{1} f(x+h) + a_{2} f(x)\n",
    "\\end{equation*}\n",
    "\n",
    "Reemplazando\n",
    "\n",
    "\\begin{equation*}\n",
    "    f'(x) = a_{1} f \\biggr( \\frac{3}{5} \\biggl) + a_{2} f \\biggr( \\frac{1}{2} \\biggl)\n",
    "\\end{equation*}\n",
    "\n",
    "Usando $f(x) = 1$\n",
    "\n",
    "\\begin{align*}\n",
    "    a_{1} f \\biggr( \\frac{3}{5} \\biggl) + a_{2} f \\biggr( \\frac{1}{2} \\biggl) &= 0 \\\\\n",
    "    a_{1} + a_{2} &= 0\n",
    "\\end{align*}\n",
    "\n",
    "Usando $f(x) = x$\n",
    "\n",
    "\\begin{align*}\n",
    "    a_{1} f \\biggr( \\frac{3}{5} \\biggl) + a_{2} f \\biggr( \\frac{1}{2} \\biggl) &= 1 \\\\\n",
    "    \\frac{3}{5} a_{1} + \\frac{1}{2} a_{2} &= 0\n",
    "\\end{align*}\n",
    "\n",
    "Formando un sistema de ecuaciones\n",
    "\n",
    "\\begin{align*}\n",
    "    a_{1} + a_{2} &= 0 \\\\\n",
    "    \\frac{3}{5} a_{1} + \\frac{1}{2} a_{2} &= 0\n",
    "\\end{align*}"
   ]
  },
  {
   "cell_type": "code",
   "execution_count": null,
   "metadata": {
    "collapsed": true
   },
   "outputs": [],
   "source": []
  }
 ],
 "metadata": {
  "kernelspec": {
   "display_name": "Python 3",
   "language": "python",
   "name": "python3"
  },
  "language_info": {
   "codemirror_mode": {
    "name": "ipython",
    "version": 3
   },
   "file_extension": ".py",
   "mimetype": "text/x-python",
   "name": "python",
   "nbconvert_exporter": "python",
   "pygments_lexer": "ipython3",
   "version": "3.4.3"
  }
 },
 "nbformat": 4,
 "nbformat_minor": 0
}
