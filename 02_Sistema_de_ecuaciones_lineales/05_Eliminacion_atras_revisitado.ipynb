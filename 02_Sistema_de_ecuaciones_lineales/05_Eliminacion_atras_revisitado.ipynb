{
 "cells": [
  {
   "cell_type": "markdown",
   "metadata": {
    "collapsed": true
   },
   "source": [
    "#Eliminación hacia atrás revisitado\n",
    "\n",
    "Los cálculos se reducirán a la mitad para aumentar la velocidad\n",
    "\n",
    "\\begin{equation*}\n",
    "    \\begin{array}{llll}\n",
    "        a_{11} = a'''_{11} & & & \\\\\n",
    "        a_{21} = a''_{21} & a_{22} = a''_{22} & & \\\\\n",
    "        a_{31} = a'_{31} & a_{32} = a'_{32} & a_{33} = a'_{33} & \\\\\n",
    "        a_{41} = a_{41} & a_{42} = a_{42} & a_{43} = a_{43} & a_{44} = a_{44}\n",
    "    \\end{array}\n",
    "\\end{equation*}\n",
    "\n",
    "##Seudocódigo\n",
    "\n",
    "    function eliminacion_atras(a)\n",
    "        m, n = tamaño(a)\n",
    "        for k=m to 2 do\n",
    "            for i=k-1 to 1 do\n",
    "                for j=k-1 to 1 do\n",
    "                    a(i,j) = a(i,j) - a(i,k)*a(k,j)/a(k,k)\n",
    "                end for\n",
    "            end for\n",
    "        end for\n",
    "    end function\n",
    "    \n",
    "otra alternativa para reducir tiempo de cálculo\n",
    "\n",
    "    function eliminacion_atras(a)\n",
    "        m, n = tamaño(a)\n",
    "        for k=m to 2 do\n",
    "            for i=k-1 to 1 do\n",
    "                factor = a(i,k)/a(k,k)\n",
    "                for j=k-1 to 1 do\n",
    "                    a(i,j) = a(i,j) - a(i,k)*a(k,j)/a(k,k)\n",
    "                end for\n",
    "            end for\n",
    "        end for\n",
    "    end function\n",
    "    \n",
    "##Implementación eliminación hacia atrás"
   ]
  },
  {
   "cell_type": "code",
   "execution_count": 1,
   "metadata": {
    "collapsed": true
   },
   "outputs": [],
   "source": [
    "import numpy as np\n",
    "\n",
    "def eliminacion_atras(A):\n",
    "    a = np.copy(A)\n",
    "    m, n = a.shape\n",
    "    for k in range(m-1,-1,-1):\n",
    "        for i in range(k-1,-1,-1):\n",
    "            factor = a[i,k]/a[k,k]\n",
    "            for j in range(k-1,-1,-1):\n",
    "                a[i,j] = a[i,j] - factor*a[k,j]\n",
    "    return a"
   ]
  },
  {
   "cell_type": "code",
   "execution_count": 2,
   "metadata": {
    "collapsed": false
   },
   "outputs": [
    {
     "name": "stdout",
     "output_type": "stream",
     "text": [
      "[[  3.   -0.1  -0.2]\n",
      " [  0.1   7.   -0.3]\n",
      " [  0.3  -0.2  10. ]]\n"
     ]
    }
   ],
   "source": [
    "A = np.array([[3,-0.1,-0.2],\n",
    "              [0.1,7,-0.3],\n",
    "              [0.3,-0.2,10]])\n",
    "print(A)"
   ]
  },
  {
   "cell_type": "code",
   "execution_count": 3,
   "metadata": {
    "collapsed": false
   },
   "outputs": [
    {
     "name": "stdout",
     "output_type": "stream",
     "text": [
      "[[  3.00762082  -0.104       -0.2       ]\n",
      " [  0.109        6.994       -0.3       ]\n",
      " [  0.3         -0.2         10.        ]]\n"
     ]
    }
   ],
   "source": [
    "B = eliminacion_atras(A)\n",
    "print(B)"
   ]
  },
  {
   "cell_type": "code",
   "execution_count": 4,
   "metadata": {
    "collapsed": false
   },
   "outputs": [
    {
     "data": {
      "text/plain": [
       "array([[  3.00762082,   0.        ,   0.        ],\n",
       "       [  0.109     ,   6.994     ,   0.        ],\n",
       "       [  0.3       ,  -0.2       ,  10.        ]])"
      ]
     },
     "execution_count": 4,
     "metadata": {},
     "output_type": "execute_result"
    }
   ],
   "source": [
    "np.tril(B)"
   ]
  },
  {
   "cell_type": "code",
   "execution_count": 5,
   "metadata": {
    "collapsed": false
   },
   "outputs": [
    {
     "name": "stdout",
     "output_type": "stream",
     "text": [
      "[[ 1.  1.  2.  3.]\n",
      " [ 2.  1. -1.  1.]\n",
      " [ 3. -1. -1.  2.]\n",
      " [-1.  2.  3. -1.]]\n"
     ]
    }
   ],
   "source": [
    "A = np.array([[1,1,2,3],\n",
    "              [2,1,-1,1],\n",
    "              [3,-1,-1,2],\n",
    "              [-1,2,3,-1]],float)\n",
    "print(A)"
   ]
  },
  {
   "cell_type": "code",
   "execution_count": 6,
   "metadata": {
    "collapsed": false
   },
   "outputs": [
    {
     "name": "stdout",
     "output_type": "stream",
     "text": [
      "[[ -4.33333333   0.4         11.           3.        ]\n",
      " [  0.6          1.8          2.           1.        ]\n",
      " [  1.           3.           5.           2.        ]\n",
      " [ -1.           2.           3.          -1.        ]]\n"
     ]
    }
   ],
   "source": [
    "B = eliminacion_atras(A)\n",
    "print(B)"
   ]
  },
  {
   "cell_type": "code",
   "execution_count": 7,
   "metadata": {
    "collapsed": false
   },
   "outputs": [
    {
     "data": {
      "text/plain": [
       "array([[-4.33333333,  0.        ,  0.        ,  0.        ],\n",
       "       [ 0.6       ,  1.8       ,  0.        ,  0.        ],\n",
       "       [ 1.        ,  3.        ,  5.        ,  0.        ],\n",
       "       [-1.        ,  2.        ,  3.        , -1.        ]])"
      ]
     },
     "execution_count": 7,
     "metadata": {},
     "output_type": "execute_result"
    }
   ],
   "source": [
    "np.tril(B)"
   ]
  }
 ],
 "metadata": {
  "kernelspec": {
   "display_name": "Python 3",
   "language": "python",
   "name": "python3"
  },
  "language_info": {
   "codemirror_mode": {
    "name": "ipython",
    "version": 3
   },
   "file_extension": ".py",
   "mimetype": "text/x-python",
   "name": "python",
   "nbconvert_exporter": "python",
   "pygments_lexer": "ipython3",
   "version": "3.4.3"
  }
 },
 "nbformat": 4,
 "nbformat_minor": 0
}
