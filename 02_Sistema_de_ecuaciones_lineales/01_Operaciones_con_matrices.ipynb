{
 "cells": [
  {
   "cell_type": "markdown",
   "metadata": {},
   "source": [
    "# Operaciones con matrices\n",
    "\n",
    "## Suma algebraica\n",
    "\n",
    "La suma de dos matrices $\\mathbf{A}_{m \\times n}$ y $\\mathbf{B}_{m \\times n}$ se define como\n",
    "\n",
    "\\begin{equation}\n",
    "    \\begin{bmatrix}\n",
    "        a_{(1,1)} & a_{(1,2)} & a_{(1,3)} \\\\\n",
    "        a_{(2,1)} & a_{(2,2)} & a_{(2,3)} \\\\\n",
    "        a_{(3,1)} & a_{(3,2)} & a_{(3,3)}\n",
    "    \\end{bmatrix} +\n",
    "    \\begin{bmatrix}\n",
    "        b_{(1,1)} & b_{(1,2)} & b_{(1,3)} \\\\\n",
    "        b_{(2,1)} & b_{(2,2)} & b_{(2,3)} \\\\\n",
    "        b_{(3,1)} & b_{(3,2)} & b_{(3,3)}\n",
    "    \\end{bmatrix} =\n",
    "    \\begin{bmatrix}\n",
    "        a_{(1,1)} + b_{(1,1)} & a_{(1,2)} + b_{(1,2)} & a_{(1,3)} + b_{(1,3)} \\\\\n",
    "        a_{(2,1)} + b_{(2,1)} & a_{(2,2)} + b_{(2,2)} & a_{(2,3)} + b_{(2,3)} \\\\\n",
    "        a_{(3,1)} + b_{(3,1)} & a_{(3,2)} + b_{(3,2)} & a_{(3,3)} + b_{(3,3)}\n",
    "    \\end{bmatrix}\n",
    "\\end{equation}\n",
    "\n",
    "la matriz resultante $\\mathbf{C}_{m \\times n}$ es\n",
    "\n",
    "\\begin{equation*}\n",
    "    \\begin{matrix}\n",
    "        c_{(1,1)} = a_{(1,1)} + b_{(1,1)} &\n",
    "        c_{(1,2)} = a_{(1,2)} + b_{(1,2)} &\n",
    "        c_{(1,3)} = a_{(1,3)} + b_{(1,3)} \\\\\n",
    "        c_{(2,1)} = a_{(2,1)} + b_{(2,1)} &\n",
    "        c_{(2,2)} = a_{(2,2)} + b_{(2,2)} &\n",
    "        c_{(2,3)} = a_{(2,3)} + b_{(2,3)} \\\\\n",
    "        c_{(3,1)} = a_{(3,1)} + b_{(3,1)} &\n",
    "        c_{(3,2)} = a_{(3,2)} + b_{(3,2)} &\n",
    "        c_{(3,3)} = a_{(3,3)} + b_{(3,3)}\n",
    "    \\end{matrix}\n",
    "\\end{equation*}\n",
    "\n",
    "### Primer patrón\n",
    "\n",
    "\\begin{equation*}\n",
    "    \\begin{matrix}\n",
    "        c_{(1,\\color{blue}{1})} = a_{(1,\\color{blue}{1})} + b_{(1,\\color{blue}{1})} &\n",
    "        c_{(1,\\color{green}{2})} = a_{(1,\\color{green}{2})} + b_{(1,\\color{green}{2})} &\n",
    "        c_{(1,\\color{red}{3})} = a_{(1,\\color{red}{3})} + b_{(1,\\color{red}{3})} \\\\\n",
    "        c_{(2,\\color{blue}{1})} = a_{(2,\\color{blue}{1})} + b_{(2,\\color{blue}{1})} &\n",
    "        c_{(2,\\color{green}{2})} = a_{(2,\\color{green}{2})} + b_{(2,\\color{green}{2})} &\n",
    "        c_{(2,\\color{red}{3})} = a_{(2,\\color{red}{3})} + b_{(2,\\color{red}{3})} \\\\\n",
    "        c_{(3,\\color{blue}{1})} = a_{(3,\\color{blue}{1})} + b_{(3,\\color{blue}{1})} &\n",
    "        c_{(3,\\color{green}{2})} = a_{(3,\\color{green}{2})} + b_{(3,\\color{green}{2})} &\n",
    "        c_{(3,\\color{red}{3})} = a_{(3,\\color{red}{3})} + b_{(3,\\color{red}{3})} \n",
    "    \\end{matrix}\n",
    "\\end{equation*}\n",
    "\n",
    "lo anterior se puede escribir como\n",
    "\n",
    "\\begin{equation*}\n",
    "    c_{(?,j)} = a_{(?,j)} + b_{(?,j)}\n",
    "\\end{equation*}\n",
    "\n",
    "para $j = 1, 2, 3, \\dots , n$\n",
    "\n",
    "### Segundo patrón\n",
    "\n",
    "\\begin{equation*}\n",
    "    \\begin{matrix}\n",
    "        c_{(\\color{blue}{1},1)} = a_{(\\color{blue}{1},1)} + b_{(\\color{blue}{1},1)} &\n",
    "        c_{(\\color{blue}{1},2)} = a_{(\\color{blue}{1},2)} + b_{(\\color{blue}{1},2)} &\n",
    "        c_{(\\color{blue}{1},3)} = a_{(\\color{blue}{1},3)} + b_{(\\color{blue}{1},3)} \\\\\n",
    "        c_{(\\color{green}{2},1)} = a_{(\\color{green}{2},1)} + b_{(\\color{green}{2},1)} &\n",
    "        c_{(\\color{green}{2},2)} = a_{(\\color{green}{2},2)} + b_{(\\color{green}{2},2)} &\n",
    "        c_{(\\color{green}{2},3)} = a_{(\\color{green}{2},3)} + b_{(\\color{green}{2},3)} \\\\\n",
    "        c_{(\\color{red}{3},1)} = a_{(\\color{red}{3},1)} + b_{(\\color{red}{3},1)} &\n",
    "        c_{(\\color{red}{3},2)} = a_{(\\color{red}{3},2)} + b_{(\\color{red}{3},2)} &\n",
    "        c_{(\\color{red}{3},3)} = a_{(\\color{red}{3},3)} + b_{(\\color{red}{3},3)} \n",
    "    \\end{matrix}\n",
    "\\end{equation*}\n",
    "\n",
    "lo anterior se puede escribir como\n",
    "\n",
    "\\begin{equation*}\n",
    "    c_{(i,j)} = a_{(i,j)} + b_{(i,j)}\n",
    "\\end{equation*}\n",
    "\n",
    "para $i = 1, 2, 3, \\dots , m$\n",
    "\n",
    "## Fórmula matemática\n",
    "\n",
    "\\begin{align*}\n",
    "    i &= 1, \\dots , m \\\\\n",
    "    & \\quad j = 1, \\dots , m \\\\\n",
    "    & \\quad \\quad c_{(i,j)} = a_{(i,j)} + b_{(i,j)}\n",
    "\\end{align*}\n",
    "\n",
    "## Seudocódigo de funciones auxiliares\n",
    "\n",
    "````pascal\n",
    "function tamaño(a)\n",
    "    return filas, columnas\n",
    "end function\n",
    "    \n",
    "function comparar_tamaño(a, b)\n",
    "    filas_a, columnas_a = tamaño(a)\n",
    "    filas_b, columnas_b = tamaño(b)\n",
    "    if(filas_a = filas_b and columnas_a = columnas_b)\n",
    "        return True\n",
    "    else\n",
    "        return False\n",
    "    end if-else\n",
    "end function\n",
    "````\n",
    "\n",
    "## Seudocódigo del algoritmo\n",
    "\n",
    "````pascal\n",
    "function suma(a, b)\n",
    "    if(comparar_tamaño(a, b) = True)\n",
    "        m, n = tamaño(a)\n",
    "        for i=1 to m do\n",
    "            for j=1 to n do\n",
    "                c(i,j) = a(i,j) + b(i,j)\n",
    "            end for\n",
    "        end for\n",
    "        return c\n",
    "    else\n",
    "        mostrar \"No se puede sumar\"\n",
    "    end if-else     \n",
    "end function\n",
    "````\n",
    "\n",
    "## Implementación vectorizada usando listas"
   ]
  },
  {
   "cell_type": "code",
   "execution_count": 1,
   "metadata": {
    "collapsed": false
   },
   "outputs": [],
   "source": [
    "import copy\n",
    "\n",
    "def tamaño(a):\n",
    "    if(isinstance(a, list)):\n",
    "        return len(a), len(a[0])\n",
    "\n",
    "def comparar_tamaño(a, b):\n",
    "    filas_a, columnas_a = tamaño(a)\n",
    "    filas_b, columnas_b = tamaño(b)\n",
    "    if((columnas_a == columnas_b) and (filas_a == filas_b)):\n",
    "        return True\n",
    "    else:\n",
    "        return False\n",
    "\n",
    "def suma(a, b):\n",
    "    if(comparar_tamaño(a, b) == True):\n",
    "        m, n = tamaño(a)\n",
    "        c = copy.deepcopy(a)\n",
    "        for i in range(m):\n",
    "            for j in range(n):\n",
    "                c[i][j] = a[i][j] + b[i][j]\n",
    "        return c\n",
    "    else:\n",
    "        print(\"No se puede sumar\")"
   ]
  },
  {
   "cell_type": "code",
   "execution_count": 2,
   "metadata": {
    "collapsed": false
   },
   "outputs": [
    {
     "name": "stdout",
     "output_type": "stream",
     "text": [
      "[[1, 2, 3], [4, 5, 6], [7, 8, 9]]\n"
     ]
    }
   ],
   "source": [
    "a = [[1,2,3],[4,5,6],[7,8,9]]\n",
    "print(a)"
   ]
  },
  {
   "cell_type": "code",
   "execution_count": 3,
   "metadata": {
    "collapsed": false
   },
   "outputs": [
    {
     "name": "stdout",
     "output_type": "stream",
     "text": [
      "[[1, 1, 1], [2, 2, 2], [3, 3, 3]]\n"
     ]
    }
   ],
   "source": [
    "b = [[1,1,1],[2,2,2],[3,3,3]]\n",
    "print(b)"
   ]
  },
  {
   "cell_type": "code",
   "execution_count": 4,
   "metadata": {
    "collapsed": false
   },
   "outputs": [
    {
     "name": "stdout",
     "output_type": "stream",
     "text": [
      "[[2, 3, 4], [6, 7, 8], [10, 11, 12]]\n"
     ]
    }
   ],
   "source": [
    "c = suma(a,b)\n",
    "print(c)"
   ]
  },
  {
   "cell_type": "markdown",
   "metadata": {},
   "source": [
    "## Implementación vectorizada usando arreglos"
   ]
  },
  {
   "cell_type": "code",
   "execution_count": 5,
   "metadata": {
    "collapsed": true
   },
   "outputs": [],
   "source": [
    "import numpy as np\n",
    "\n",
    "def suma1(a, b):\n",
    "    if(a.shape == b.shape):\n",
    "        m, n = a.shape\n",
    "        c = np.zeros((m,n))\n",
    "        for i in range(m):\n",
    "            for j in range(n):\n",
    "                c[i,j] = a[i,j] + b[i,j]\n",
    "        return c\n",
    "    else:\n",
    "        print(\"No se puede sumar\")"
   ]
  },
  {
   "cell_type": "code",
   "execution_count": 6,
   "metadata": {
    "collapsed": false,
    "scrolled": true
   },
   "outputs": [
    {
     "name": "stdout",
     "output_type": "stream",
     "text": [
      "[[1 2 3]\n",
      " [4 5 6]\n",
      " [7 8 9]]\n"
     ]
    }
   ],
   "source": [
    "A = np.array([[1,2,3],[4,5,6],[7,8,9]])\n",
    "print(A)"
   ]
  },
  {
   "cell_type": "code",
   "execution_count": 7,
   "metadata": {
    "collapsed": false
   },
   "outputs": [
    {
     "name": "stdout",
     "output_type": "stream",
     "text": [
      "[[1 1 1]\n",
      " [2 2 2]\n",
      " [3 3 3]]\n"
     ]
    }
   ],
   "source": [
    "B = np.array([[1,1,1],[2,2,2],[3,3,3]])\n",
    "print(B)"
   ]
  },
  {
   "cell_type": "code",
   "execution_count": 8,
   "metadata": {
    "collapsed": false
   },
   "outputs": [
    {
     "name": "stdout",
     "output_type": "stream",
     "text": [
      "[[  2.   3.   4.]\n",
      " [  6.   7.   8.]\n",
      " [ 10.  11.  12.]]\n"
     ]
    }
   ],
   "source": [
    "C = suma1(A, B)\n",
    "print(C)"
   ]
  },
  {
   "cell_type": "code",
   "execution_count": 9,
   "metadata": {
    "collapsed": false
   },
   "outputs": [
    {
     "name": "stdout",
     "output_type": "stream",
     "text": [
      "[[ 2  3  4]\n",
      " [ 6  7  8]\n",
      " [10 11 12]]\n"
     ]
    }
   ],
   "source": [
    "# revisando el resultado\n",
    "print(A + B)"
   ]
  },
  {
   "cell_type": "code",
   "execution_count": 10,
   "metadata": {
    "collapsed": false
   },
   "outputs": [
    {
     "name": "stdout",
     "output_type": "stream",
     "text": [
      "No se puede sumar\n"
     ]
    }
   ],
   "source": [
    "# revisando posibles errores\n",
    "suma1(A[:,:2], B)"
   ]
  },
  {
   "cell_type": "markdown",
   "metadata": {},
   "source": [
    "## Multiplicación\n",
    "\n",
    "La mutiplicación de dos matrices $\\mathbf{A}_{m \\times r}$ y $\\mathbf{B}_{r \\times n}$ se define como\n",
    "\n",
    "\\begin{equation}\n",
    "    \\begin{bmatrix}\n",
    "        a_{(1,1)} & a_{(1,2)} & a_{(1,3)} \\\\\n",
    "        a_{(2,1)} & a_{(2,2)} & a_{(2,3)} \\\\\n",
    "        a_{(3,1)} & a_{(3,2)} & a_{(3,3)} \\\\\n",
    "        a_{(4,1)} & a_{(4,2)} & a_{(4,3)}\n",
    "    \\end{bmatrix}\n",
    "    \\begin{bmatrix}\n",
    "        b_{(1,1)} & b_{(1,2)} \\\\\n",
    "        b_{(2,1)} & b_{(2,2)} \\\\\n",
    "        b_{(3,1)} & b_{(3,2)} \\\\\n",
    "    \\end{bmatrix} =\n",
    "    \\begin{bmatrix}\n",
    "        \\begin{bmatrix}\n",
    "             a_{(1,1)} & a_{(1,2)} & a_{(1,3)}\n",
    "        \\end{bmatrix}\n",
    "        \\begin{bmatrix}\n",
    "             b_{(1,1)} \\\\\n",
    "             b_{(2,1)} \\\\\n",
    "             b_{(3,1)}\n",
    "        \\end{bmatrix} &\n",
    "        \\begin{bmatrix}\n",
    "             a_{(1,1)} & a_{(1,2)} & a_{(1,3)}\n",
    "        \\end{bmatrix}\n",
    "        \\begin{bmatrix}\n",
    "             b_{(1,2)} \\\\\n",
    "             b_{(2,2)} \\\\\n",
    "             b_{(3,2)}\n",
    "        \\end{bmatrix} \\\\\n",
    "        \\begin{bmatrix}\n",
    "             a_{(2,1)} & a_{(2,2)} & a_{(2,3)}\n",
    "        \\end{bmatrix}\n",
    "        \\begin{bmatrix}\n",
    "             b_{(1,1)} \\\\\n",
    "             b_{(2,1)} \\\\\n",
    "             b_{(3,1)}\n",
    "        \\end{bmatrix} &\n",
    "        \\begin{bmatrix}\n",
    "             a_{(2,1)} & a_{(2,2)} & a_{(2,3)}\n",
    "        \\end{bmatrix}\n",
    "        \\begin{bmatrix}\n",
    "             b_{(1,2)} \\\\\n",
    "             b_{(2,2)} \\\\\n",
    "             b_{(3,2)}\n",
    "        \\end{bmatrix} \\\\\n",
    "        \\begin{bmatrix}\n",
    "             a_{(3,1)} & a_{(3,2)} & a_{(3,3)}\n",
    "        \\end{bmatrix}\n",
    "        \\begin{bmatrix}\n",
    "             b_{(1,1)} \\\\\n",
    "             b_{(2,1)} \\\\\n",
    "             b_{(3,1)}\n",
    "        \\end{bmatrix} &\n",
    "        \\begin{bmatrix}\n",
    "             a_{(3,1)} & a_{(3,2)} & a_{(3,3)}\n",
    "        \\end{bmatrix}\n",
    "        \\begin{bmatrix}\n",
    "             b_{(1,2)} \\\\\n",
    "             b_{(2,2)} \\\\\n",
    "             b_{(3,2)}\n",
    "        \\end{bmatrix} \\\\\n",
    "        \\begin{bmatrix}\n",
    "             a_{(4,1)} & a_{(4,2)} & a_{(4,3)}\n",
    "        \\end{bmatrix}\n",
    "        \\begin{bmatrix}\n",
    "             b_{(1,1)} \\\\\n",
    "             b_{(2,1)} \\\\\n",
    "             b_{(3,1)}\n",
    "        \\end{bmatrix} &\n",
    "        \\begin{bmatrix}\n",
    "             a_{(4,1)} & a_{(4,2)} & a_{(4,3)}\n",
    "        \\end{bmatrix}\n",
    "        \\begin{bmatrix}\n",
    "             b_{(1,2)} \\\\\n",
    "             b_{(2,2)} \\\\\n",
    "             b_{(3,2)}\n",
    "        \\end{bmatrix} \\\\\n",
    "    \\end{bmatrix}\n",
    "\\end{equation}\n",
    "\n",
    "la matriz resultante $\\mathbf{C}_{m \\times n}$ es\n",
    "\n",
    "\\begin{equation*}\n",
    "    \\begin{matrix}\n",
    "        c_{(1,1)} = a_{(1,1)} b_{(1,1)} + a_{(1,2)} b_{(2,1)} + a_{(1,3)} b_{(3,1)} &\n",
    "        c_{(1,2)} = a_{(1,1)} b_{(1,2)} + a_{(1,2)} b_{(2,2)} + a_{(1,3)} b_{(3,2)} \\\\\n",
    "        c_{(2,1)} = a_{(2,1)} b_{(1,1)} + a_{(2,2)} b_{(2,1)} + a_{(2,3)} b_{(3,1)} &\n",
    "        c_{(2,2)} = a_{(2,1)} b_{(1,2)} + a_{(2,2)} b_{(2,2)} + a_{(2,3)} b_{(3,2)} \\\\\n",
    "        c_{(3,1)} = a_{(3,1)} b_{(1,1)} + a_{(3,2)} b_{(2,1)} + a_{(3,3)} b_{(3,1)} &\n",
    "        c_{(3,2)} = a_{(3,1)} b_{(1,2)} + a_{(3,2)} b_{(2,2)} + a_{(3,3)} b_{(3,2)} \\\\\n",
    "        c_{(4,1)} = a_{(4,1)} b_{(1,1)} + a_{(4,2)} b_{(2,1)} + a_{(4,3)} b_{(3,1)} &\n",
    "        c_{(4,2)} = a_{(4,1)} b_{(1,2)} + a_{(4,2)} b_{(2,2)} + a_{(4,3)} b_{(3,2)} \n",
    "    \\end{matrix}\n",
    "\\end{equation*}\n",
    "\n",
    "### Primer patrón\n",
    "\n",
    "\\begin{equation*}\n",
    "    \\begin{matrix}\n",
    "        c_{(1,1)} = a_{(1,\\color{blue}{1})} b_{(\\color{blue}{1},1)} + a_{(1,\\color{green}{2})} b_{(\\color{green}{2},1)} + a_{(1,\\color{red}{3})} b_{(\\color{red}{3},1)} &\n",
    "        c_{(1,2)} = a_{(1,\\color{blue}{1})} b_{(\\color{blue}{1},2)} + a_{(1,\\color{green}{2})} b_{(\\color{green}{2},2)} + a_{(1,\\color{red}{3})} b_{(\\color{red}{3},2)} \\\\\n",
    "        c_{(2,1)} = a_{(2,\\color{blue}{1})} b_{(\\color{blue}{1},1)} + a_{(2,\\color{green}{2})} b_{(\\color{green}{2},1)} + a_{(2,\\color{red}{3})} b_{(\\color{red}{3},1)} &\n",
    "        c_{(2,2)} = a_{(2,\\color{blue}{1})} b_{(\\color{blue}{1},2)} + a_{(2,\\color{green}{2})} b_{(\\color{green}{2},2)} + a_{(2,\\color{red}{3})} b_{(\\color{red}{3},2)} \\\\\n",
    "        c_{(3,1)} = a_{(3,\\color{blue}{1})} b_{(\\color{blue}{1},1)} + a_{(3,\\color{green}{2})} b_{(\\color{green}{2},1)} + a_{(3,\\color{red}{3})} b_{(\\color{red}{3},1)} &\n",
    "        c_{(3,2)} = a_{(3,\\color{blue}{1})} b_{(\\color{blue}{1},2)} + a_{(3,\\color{green}{2})} b_{(\\color{green}{2},2)} + a_{(3,\\color{red}{3})} b_{(\\color{red}{3},2)} \\\\\n",
    "        c_{(4,1)} = a_{(4,\\color{blue}{1})} b_{(\\color{blue}{1},1)} + a_{(4,\\color{green}{2})} b_{(\\color{green}{2},1)} + a_{(4,\\color{red}{3})} b_{(\\color{red}{3},1)} &\n",
    "        c_{(4,2)} = a_{(4,\\color{blue}{1})} b_{(\\color{blue}{1},2)} + a_{(4,\\color{green}{2})} b_{(\\color{green}{2},2)} + a_{(4,\\color{red}{3})} b_{(\\color{red}{3},2)} \n",
    "    \\end{matrix}\n",
    "\\end{equation*} \n",
    "\n",
    "lo anterior puede escribirse como\n",
    "\n",
    "\\begin{equation*}\n",
    "    c_{(?,?)} = \\sum_{k = 1}^{r} a_{(?,k)} b_{(k,?)}\n",
    "\\end{equation*}\n",
    "\n",
    "para $k = 1, 2, 3, \\dots , r$\n",
    "\n",
    "### Segundo patrón\n",
    "\n",
    "\\begin{equation*}\n",
    "    \\begin{matrix}\n",
    "        c_{(1,\\color{blue}{1})} = a_{(1,1)} b_{(1,\\color{blue}{1})} + a_{(1,2)} b_{(2,\\color{blue}{1})} + a_{(1,3)} b_{(3,\\color{blue}{1})} &\n",
    "        c_{(1,\\color{green}{2})} = a_{(1,1)} b_{(1,\\color{green}{2})} + a_{(1,2)} b_{(2,\\color{green}{2})} + a_{(1,3)} b_{(3,\\color{green}{2})} \\\\\n",
    "        c_{(2,\\color{blue}{1})} = a_{(2,1)} b_{(1,\\color{blue}{1})} + a_{(2,2)} b_{(2,\\color{blue}{1})} + a_{(2,3)} b_{(3,\\color{blue}{1})} &\n",
    "        c_{(2,\\color{green}{2})} = a_{(2,1)} b_{(1,\\color{green}{2})} + a_{(2,2)} b_{(2,\\color{green}{2})} + a_{(2,3)} b_{(3,\\color{green}{2})} \\\\\n",
    "        c_{(3,\\color{blue}{1})} = a_{(3,1)} b_{(1,\\color{blue}{1})} + a_{(3,2)} b_{(2,\\color{blue}{1})} + a_{(3,3)} b_{(3,\\color{blue}{1})} &\n",
    "        c_{(3,\\color{green}{2})} = a_{(3,1)} b_{(1,\\color{green}{2})} + a_{(3,2)} b_{(2,\\color{green}{2})} + a_{(3,3)} b_{(3,\\color{green}{2})} \\\\\n",
    "        c_{(4,\\color{blue}{1})} = a_{(4,1)} b_{(1,\\color{blue}{1})} + a_{(4,2)} b_{(2,\\color{blue}{1})} + a_{(4,3)} b_{(3,\\color{blue}{1})} &\n",
    "        c_{(4,\\color{green}{2})} = a_{(4,1)} b_{(1,\\color{green}{2})} + a_{(4,2)} b_{(2,\\color{green}{2})} + a_{(4,3)} b_{(3,\\color{green}{2})} \n",
    "    \\end{matrix}\n",
    "\\end{equation*}\n",
    "\n",
    "lo anterior puede escribirse como\n",
    "\n",
    "\\begin{equation*}\n",
    "    c_{(?,j)} = \\sum_{k = 1}^{r} a_{(?,k)} b_{(k,j)}\n",
    "\\end{equation*}\n",
    "\n",
    "para $j = 1, 2, \\dots , n$\n",
    "\n",
    "### Tercer patrón\n",
    "\n",
    "\\begin{equation*}\n",
    "    \\begin{matrix}\n",
    "        c_{(\\color{blue}{1},1)} = a_{(\\color{blue}{1},1)} b_{(1,1)} + a_{(\\color{blue}{1},2)} b_{(2,1)} + a_{(\\color{blue}{1},3)} b_{(3,1)} &\n",
    "        c_{(\\color{blue}{1},2)} = a_{(\\color{blue}{1},1)} b_{(1,2)} + a_{(\\color{blue}{1},2)} b_{(2,2)} + a_{(\\color{blue}{1},3)} b_{(3,2)} \\\\\n",
    "        c_{(\\color{green}{2},1)} = a_{(\\color{green}{2},1)} b_{(1,1)} + a_{(\\color{green}{2},2)} b_{(2,1)} + a_{(\\color{green}{2},3)} b_{(3,1)} &\n",
    "        c_{(\\color{green}{2},2)} = a_{(\\color{green}{2},1)} b_{(1,2)} + a_{(\\color{green}{2},2)} b_{(2,2)} + a_{(\\color{green}{2},3)} b_{(3,2)} \\\\\n",
    "        c_{(\\color{red}{3},1)} = a_{(\\color{red}{3},1)} b_{(1,1)} + a_{(\\color{red}{3},2)} b_{(2,1)} + a_{(\\color{red}{3},3)} b_{(3,1)} &\n",
    "        c_{(\\color{red}{3},2)} = a_{(\\color{red}{3},1)} b_{(1,2)} + a_{(\\color{red}{3},2)} b_{(2,2)} + a_{(\\color{red}{3},3)} b_{(3,2)} \\\\\n",
    "        c_{(\\color{fuchsia}{4},1)} = a_{(\\color{fuchsia}{4},1)} b_{(1,1)} + a_{(\\color{fuchsia}{4},2)} b_{(2,1)} + a_{(\\color{fuchsia}{4},3)} b_{(3,1)} &\n",
    "        c_{(\\color{fuchsia}{4},2)} = a_{(\\color{fuchsia}{4},1)} b_{(1,2)} + a_{(\\color{fuchsia}{4},2)} b_{(2,2)} + a_{(\\color{fuchsia}{4},3)} b_{(3,2)} \n",
    "    \\end{matrix}\n",
    "\\end{equation*}\n",
    "\n",
    "lo anterior puede escribirse como\n",
    "\n",
    "\\begin{equation*}\n",
    "    c_{(i,j)} = \\sum_{k = 1}^{r} a_{(i,k)} b_{(k,j)}\n",
    "\\end{equation*}\n",
    "\n",
    "para $i = 1, 2, 3, 4, \\dots , m$\n",
    "\n",
    "## Fórmula matemática\n",
    "\n",
    "\\begin{align*}\n",
    "    i &= 1, \\dots , m \\\\\n",
    "    & \\quad j = 1, \\dots , n \\\\\n",
    "    & \\quad \\quad c_{(i,j)} = \\sum_{k = 1}^{r} a_{(i,k)} b_{(k,j)}\n",
    "\\end{align*}\n",
    "\n",
    "## Seudocódigo de funciones auxiliares\n",
    "\n",
    "````pascal\n",
    "function tamaño(a)\n",
    "    return filas, columnas\n",
    "end function\n",
    "    \n",
    "function comparar_columnas_filas(a, b)\n",
    "    filas_a, columnas_a = tamaño(a)\n",
    "    filas_b, columnas_b = tamaño(b)\n",
    "    if(columnas_a = filas_b)\n",
    "        return True\n",
    "    else\n",
    "        return False\n",
    "    end if-else\n",
    "end function\n",
    "````\n",
    "\n",
    "## Seudocódigo del algoritmo\n",
    "\n",
    "````pascal\n",
    "function mutiplicar(a, b)\n",
    "    if(comparar_columnas_filas(a, b) = True)\n",
    "        m, r = tamaño(a)\n",
    "        r, n = tamaño(a)\n",
    "        for i=1 to m do\n",
    "            for j=1 to n do\n",
    "                sumatoria = 0\n",
    "                for k=1 to r do\n",
    "                    sumatoria = sumatoria + a(i,k)*b(k,j)\n",
    "                end for\n",
    "                c(i,j) = sumatoria\n",
    "            end for\n",
    "        end for\n",
    "        return c\n",
    "    else\n",
    "        mostrar \"No se puede multiplicar\"\n",
    "    end if-else     \n",
    "end function\n",
    "````\n",
    "\n",
    "## Implementación vectorizada usando arreglos"
   ]
  },
  {
   "cell_type": "code",
   "execution_count": 11,
   "metadata": {
    "collapsed": false
   },
   "outputs": [],
   "source": [
    "import numpy as np\n",
    "\n",
    "def comparar_columnas_filas(a, b):\n",
    "    filas_a, columnas_a = a.shape\n",
    "    filas_b, columnas_b = b.shape\n",
    "    if(columnas_a == filas_b):\n",
    "        return True\n",
    "    else:\n",
    "        return False\n",
    "\n",
    "#Una función más corta   \n",
    "#    \n",
    "#def comparar_columnas_filas(a, b):\n",
    "#    if(a.shape[1] == b.shape[0]):\n",
    "#        return True\n",
    "#    else:\n",
    "#        return False\n",
    "\n",
    "def multiplicar(a, b):\n",
    "    if(comparar_columnas_filas(a, b) == True):\n",
    "        m, r = a.shape\n",
    "        r, n = b.shape\n",
    "        c = np.zeros((m,n))\n",
    "        for i in range(m):\n",
    "            for j in range(n):\n",
    "                sumatoria = 0\n",
    "                for k in range(r):\n",
    "                    sumatoria = sumatoria + a[i,k]*b[k,j]\n",
    "                c[i,j] = sumatoria\n",
    "        return c\n",
    "    else:\n",
    "        print(\"No se puede multiplicar\")"
   ]
  },
  {
   "cell_type": "code",
   "execution_count": 12,
   "metadata": {
    "collapsed": false,
    "scrolled": true
   },
   "outputs": [
    {
     "name": "stdout",
     "output_type": "stream",
     "text": [
      "[[ 1  2  3]\n",
      " [ 4  5  6]\n",
      " [ 7  8  9]\n",
      " [10 11 12]]\n"
     ]
    }
   ],
   "source": [
    "A = np.array([[1,2,3],[4,5,6],[7,8,9],[10,11,12]])\n",
    "print(A)"
   ]
  },
  {
   "cell_type": "code",
   "execution_count": 13,
   "metadata": {
    "collapsed": false
   },
   "outputs": [
    {
     "name": "stdout",
     "output_type": "stream",
     "text": [
      "[[13 14]\n",
      " [15 16]\n",
      " [17 18]]\n"
     ]
    }
   ],
   "source": [
    "B = np.array([[13,14],[15,16],[17,18]])\n",
    "print(B)"
   ]
  },
  {
   "cell_type": "code",
   "execution_count": 14,
   "metadata": {
    "collapsed": false
   },
   "outputs": [
    {
     "name": "stdout",
     "output_type": "stream",
     "text": [
      "[[  94.  100.]\n",
      " [ 229.  244.]\n",
      " [ 364.  388.]\n",
      " [ 499.  532.]]\n"
     ]
    }
   ],
   "source": [
    "C = multiplicar(A,B)\n",
    "print(C)"
   ]
  },
  {
   "cell_type": "code",
   "execution_count": 15,
   "metadata": {
    "collapsed": false
   },
   "outputs": [
    {
     "name": "stdout",
     "output_type": "stream",
     "text": [
      "[[ 94 100]\n",
      " [229 244]\n",
      " [364 388]\n",
      " [499 532]]\n"
     ]
    }
   ],
   "source": [
    "# revisando el resultado\n",
    "print(np.dot(A,B))"
   ]
  },
  {
   "cell_type": "code",
   "execution_count": 16,
   "metadata": {
    "collapsed": false
   },
   "outputs": [
    {
     "name": "stdout",
     "output_type": "stream",
     "text": [
      "No se puede multiplicar\n"
     ]
    }
   ],
   "source": [
    "# revisando posibles errores\n",
    "multiplicar(A[:,:2], B)"
   ]
  },
  {
   "cell_type": "markdown",
   "metadata": {},
   "source": [
    "## Transpuesta\n",
    "\n",
    "La transpuesta de $\\mathbf{A}_{m \\times n}$ se define como\n",
    "\n",
    "\\begin{equation}\n",
    "    \\begin{bmatrix}\n",
    "        a_{(1,1)} & a_{(1,2)} \\\\\n",
    "        a_{(2,1)} & a_{(2,2)} \\\\\n",
    "        a_{(3,1)} & a_{(3,2)}\n",
    "    \\end{bmatrix}^{T} =\n",
    "    \\begin{bmatrix}\n",
    "        a_{(1,1)} & a_{(2,1)} & a_{(3,1)} \\\\\n",
    "        a_{(1,2)} & a_{(2,2)} & a_{(3,2)}\n",
    "    \\end{bmatrix}\n",
    "\\end{equation}\n",
    "\n",
    "la matriz resultante $\\mathbf{B}_{n \\times m}$ es\n",
    "\n",
    "\\begin{equation*}\n",
    "    \\begin{matrix}\n",
    "        b_{(1,1)} = a_{(1,1)} & b_{(1,2)} = a_{(2,1)} & b_{(1,3)} = a_{(3,1)} \\\\\n",
    "        b_{(2,1)} = a_{(1,2)} & b_{(2,2)} = a_{(2,2)} & b_{(2,3)} = a_{(3,2)}\n",
    "    \\end{matrix}\n",
    "\\end{equation*}\n",
    "\n",
    "### Primer patrón\n",
    "\n",
    "\\begin{equation*}\n",
    "    \\begin{matrix}\n",
    "        b_{(1,\\color{blue}{1})} = a_{(\\color{blue}{1},1)} & b_{(1,\\color{green}{2})} = a_{(\\color{green}{2},1)} & b_{(1,\\color{red}{3})} = a_{(\\color{red}{3},1)} \\\\\n",
    "        b_{(2,\\color{blue}{1})} = a_{(\\color{blue}{1},2)} & b_{(2,\\color{green}{2})} = a_{(\\color{green}{2},2)} & b_{(2,\\color{red}{3})} = a_{(\\color{red}{3},2)}\n",
    "    \\end{matrix}\n",
    "\\end{equation*}\n",
    "\n",
    "lo anterior se puede escribir como\n",
    "\n",
    "\\begin{equation*}\n",
    "    b_{(?,j)} = a_{(j,?)}\n",
    "\\end{equation*}\n",
    "\n",
    "para $j = 1, 2, 3, \\dots , m$\n",
    "\n",
    "### Segundo patrón\n",
    "\n",
    "\\begin{equation*}\n",
    "    \\begin{matrix}\n",
    "        b_{(\\color{blue}{1},1)} = a_{(1,\\color{blue}{1})} & b_{(\\color{blue}{1},2)} = a_{(2,\\color{blue}{1})} & b_{(\\color{blue}{1},3)} = a_{(3,\\color{blue}{1})} \\\\\n",
    "        b_{(\\color{green}{2},1)} = a_{(1,\\color{green}{2})} & b_{(\\color{green}{2},2)} = a_{(2,\\color{green}{2})} & b_{(\\color{green}{2},3)} = a_{(3,\\color{green}{2})}\n",
    "    \\end{matrix}\n",
    "\\end{equation*}\n",
    "\n",
    "lo anterior se puede escribir como\n",
    "\n",
    "\\begin{equation*}\n",
    "    b_{(i,j)} = a_{(j,i)}\n",
    "\\end{equation*}\n",
    "\n",
    "para $i = 1, 2, \\dots , n$\n",
    "\n",
    "## Fórmula matemática\n",
    "\n",
    "\\begin{align*}\n",
    "    i &= 1, \\dots , n \\\\\n",
    "    & \\quad j = 1, \\dots , m \\\\\n",
    "    & \\quad \\quad b_{(i,j)} = a_{(j,i)}\n",
    "\\end{align*}\n",
    "\n",
    "## Seudocódigo de funciones auxiliares\n",
    "\n",
    "````pascal\n",
    "function tamaño(a)\n",
    "    return filas, columnas\n",
    "end function\n",
    "````\n",
    "\n",
    "## Seudocódigo del algoritmo\n",
    "\n",
    "````pascal\n",
    "function transpuesta(a)\n",
    "    m, n = tamaño(a)\n",
    "    for i=1 to n do\n",
    "        for j=1 to m do\n",
    "            b(i,j) = a(j,i)\n",
    "        end for\n",
    "    end for\n",
    "    return b     \n",
    "end function\n",
    "````\n",
    "\n",
    "## Implementación vectorizada usando arreglos"
   ]
  },
  {
   "cell_type": "code",
   "execution_count": 17,
   "metadata": {
    "collapsed": true
   },
   "outputs": [],
   "source": [
    "def transpuesta(a):\n",
    "    m, n = a.shape\n",
    "    b = np.zeros((n,m))\n",
    "    for i in range(n):\n",
    "        for j in range(m):\n",
    "            b[i,j] = a[j,i]\n",
    "    return b"
   ]
  },
  {
   "cell_type": "code",
   "execution_count": 18,
   "metadata": {
    "collapsed": false
   },
   "outputs": [
    {
     "name": "stdout",
     "output_type": "stream",
     "text": [
      "[[1 2 3]\n",
      " [4 5 6]\n",
      " [7 8 9]]\n"
     ]
    }
   ],
   "source": [
    "A = np.array([[1,2,3],[4,5,6],[7,8,9]])\n",
    "print(A)"
   ]
  },
  {
   "cell_type": "code",
   "execution_count": 19,
   "metadata": {
    "collapsed": false
   },
   "outputs": [
    {
     "name": "stdout",
     "output_type": "stream",
     "text": [
      "[[ 1.  4.  7.]\n",
      " [ 2.  5.  8.]\n",
      " [ 3.  6.  9.]]\n"
     ]
    }
   ],
   "source": [
    "B = transpuesta(A)\n",
    "print(B)"
   ]
  },
  {
   "cell_type": "code",
   "execution_count": 20,
   "metadata": {
    "collapsed": false
   },
   "outputs": [
    {
     "name": "stdout",
     "output_type": "stream",
     "text": [
      "[[1 4 7]\n",
      " [2 5 8]\n",
      " [3 6 9]]\n"
     ]
    }
   ],
   "source": [
    "# revisando el resultado\n",
    "print(np.transpose(A))"
   ]
  },
  {
   "cell_type": "markdown",
   "metadata": {},
   "source": [
    "## Traza\n",
    "\n",
    "La traza de una matriz $\\mathbf{A}_{m \\times m}$ se define como\n",
    "\n",
    "\\begin{equation}\n",
    "    \\begin{bmatrix}\n",
    "        a_{(1,1)} & a_{(1,2)} & a_{(1,3)} & a_{(1,4)} \\\\\n",
    "        a_{(2,1)} & a_{(2,2)} & a_{(2,3)} & a_{(2,4)} \\\\\n",
    "        a_{(3,1)} & a_{(3,2)} & a_{(3,3)} & a_{(3,4)} \\\\\n",
    "        a_{(4,1)} & a_{(4,2)} & a_{(4,3)} & a_{(4,4)}\n",
    "    \\end{bmatrix} = a_{(1,1)} + a_{(2,2)} + a_{(3,3)} + a_{(4,4)}\n",
    "\\end{equation}\n",
    "\n",
    "el resultado es\n",
    "\n",
    "\\begin{equation*}\n",
    "    \\text{tr}(\\mathbf{A}) = a_{(1,1)} + a_{(2,2)} + a_{(3,3)} + a_{(4,4)}\n",
    "\\end{equation*}\n",
    "\n",
    "### Patrón\n",
    "\n",
    "\\begin{equation*}\n",
    "    \\text{tr}(\\mathbf{A}) = a_{(\\color{blue}{1},\\color{blue}{1})} + a_{(\\color{green}{2},\\color{green}{2})} + a_{(\\color{red}{3},\\color{red}{3})} + a_{(\\color{fuchsia}{4},\\color{fuchsia}{4})}\n",
    "\\end{equation*}\n",
    "\n",
    "puede escribirse como\n",
    "\n",
    "\\begin{equation*}\n",
    "    \\text{tr}(\\mathbf{A}) = \\sum_{i=1}^{m} a_{(i,i)}\n",
    "\\end{equation*}\n",
    "\n",
    "para $i = 1, 2, 3, 4, \\dots, m$\n",
    "\n",
    "## Seudocódigo de funciones auxiliares\n",
    "\n",
    "````pascal\n",
    "function tamaño(a)\n",
    "    return filas, columnas\n",
    "end function\n",
    "````\n",
    "\n",
    "## Seudocódigo del algoritmo\n",
    "\n",
    "````pascal\n",
    "function traza(a)\n",
    "    m, n = tamaño(a)\n",
    "    if(m = n)\n",
    "        sumatoria = 0\n",
    "        for i=1 to m do\n",
    "            sumatoria = sumatoria + a(i,i)\n",
    "        end for\n",
    "        return sumatoria\n",
    "    else\n",
    "        mostrar \"No es una matriz cuadrada\"\n",
    "    end if-else   \n",
    "end function\n",
    "````\n",
    "\n",
    "## Implementación vectorizada usando arreglos"
   ]
  },
  {
   "cell_type": "code",
   "execution_count": 21,
   "metadata": {
    "collapsed": false
   },
   "outputs": [],
   "source": [
    "import numpy as np\n",
    "\n",
    "def traza(a):\n",
    "    m, n = a.shape\n",
    "    if(m == n):\n",
    "        sumatoria = 0\n",
    "        for i in range(m):\n",
    "            sumatoria = sumatoria + a[i,i]\n",
    "        return sumatoria\n",
    "    else:\n",
    "        print(\"No es una matriz cuadrada\")"
   ]
  },
  {
   "cell_type": "code",
   "execution_count": 22,
   "metadata": {
    "collapsed": false
   },
   "outputs": [
    {
     "name": "stdout",
     "output_type": "stream",
     "text": [
      "[[1 2 3]\n",
      " [4 5 6]\n",
      " [7 8 9]]\n"
     ]
    }
   ],
   "source": [
    "A = np.array([[1,2,3],[4,5,6],[7,8,9]])\n",
    "print(A)"
   ]
  },
  {
   "cell_type": "code",
   "execution_count": 23,
   "metadata": {
    "collapsed": false
   },
   "outputs": [
    {
     "name": "stdout",
     "output_type": "stream",
     "text": [
      "tr(A) = 15\n"
     ]
    }
   ],
   "source": [
    "B = traza(A)\n",
    "print('tr(A) =', B)"
   ]
  },
  {
   "cell_type": "code",
   "execution_count": 24,
   "metadata": {
    "collapsed": false
   },
   "outputs": [
    {
     "name": "stdout",
     "output_type": "stream",
     "text": [
      "tr(A) = 15\n"
     ]
    }
   ],
   "source": [
    "# revisando el resultado\n",
    "print('tr(A) =',np.trace(A))"
   ]
  }
 ],
 "metadata": {
  "kernelspec": {
   "display_name": "Python 3",
   "language": "python",
   "name": "python3"
  },
  "language_info": {
   "codemirror_mode": {
    "name": "ipython",
    "version": 3
   },
   "file_extension": ".py",
   "mimetype": "text/x-python",
   "name": "python",
   "nbconvert_exporter": "python",
   "pygments_lexer": "ipython3",
   "version": "3.4.3"
  }
 },
 "nbformat": 4,
 "nbformat_minor": 0
}
