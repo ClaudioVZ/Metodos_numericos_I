{
 "cells": [
  {
   "cell_type": "markdown",
   "metadata": {},
   "source": [
    "# Eliminación hacia adelante revisitado\n",
    "\n",
    "Los cálculos innecesarios se eliminarán para aumentar la velocidad\n",
    "\n",
    "\\begin{equation*}\n",
    "    \\begin{array}{llll}\n",
    "        a_{11} = a_{11} & a_{12} = a_{12} & a_{13} = a_{13} & a_{14} = a_{14} \\\\\n",
    "        & a_{22} = a_{22}' & a_{23} = a_{23}' & a_{24} = a_{24}' \\\\\n",
    "        & & a_{33} = a_{33}'' & a_{34} = a_{34}'' \\\\\n",
    "        & & & a_{44} = a_{44}'''\n",
    "    \\end{array}\n",
    "\\end{equation*}\n",
    "\n",
    "## Fórmula matemática\n",
    "\n",
    "\\begin{align*}\n",
    "    k &= 1, \\dots, m - 1 \\\\\n",
    "    & \\quad i = 1 + k, \\dots, m \\\\\n",
    "    & \\quad \\quad j = 1 + k, \\dots, n \\\\\n",
    "    & \\quad \\quad \\quad a_{ij} = a_{ij} - \\frac{a_{ik}}{a_{kk}} a_{kj}\n",
    "\\end{align*}\n",
    "\n",
    "\n",
    "## Seudocódigo\n",
    "\n",
    "````pascal\n",
    "function eliminacion_adelante(a)\n",
    "    m, n = tamaño(a)\n",
    "    for k=1 to m-1 do\n",
    "        for i=1+k to m do\n",
    "            for j=1+k to n do\n",
    "                a(i,j) = a(i,j) - a(i,k)*a(k,j)/a(k,k)\n",
    "            end for\n",
    "        end for\n",
    "    end for\n",
    "end function\n",
    "````\n",
    "\n",
    "otra alternativa para reducir tiempo de cálculo\n",
    "\n",
    "````pascal\n",
    "function eliminacion_adelante(a)\n",
    "    m, n = tamaño(a)\n",
    "    for k=1 to m-1 do\n",
    "        for i=1+k to m do\n",
    "            factor = a(i,k)/a(k,k)\n",
    "            for j=1+k to n do\n",
    "                a(i,j) = a(i,j) - factor*a(k,j)\n",
    "            end for\n",
    "        end for\n",
    "    end for\n",
    "end function\n",
    "````\n",
    "\n",
    "## Implementación eliminación hacia adelante"
   ]
  },
  {
   "cell_type": "code",
   "execution_count": 1,
   "metadata": {
    "collapsed": true
   },
   "outputs": [],
   "source": [
    "import numpy as np\n",
    "\n",
    "def eliminacion_adelante(A):\n",
    "    a = np.copy(A)\n",
    "    m, n = a.shape\n",
    "    for k in range(0,m-1):\n",
    "        for i in range(1+k,m):\n",
    "            factor = a[i,k]/a[k,k]\n",
    "            for j in range(1+k,n):\n",
    "                a[i,j] = a[i,j] - factor*a[k,j]\n",
    "    return a"
   ]
  },
  {
   "cell_type": "code",
   "execution_count": 2,
   "metadata": {
    "collapsed": false
   },
   "outputs": [
    {
     "name": "stdout",
     "output_type": "stream",
     "text": [
      "[[  3.   -0.1  -0.2]\n",
      " [  0.1   7.   -0.3]\n",
      " [  0.3  -0.2  10. ]]\n"
     ]
    }
   ],
   "source": [
    "A = np.array([[3,-0.1,-0.2],[0.1,7,-0.3],[0.3,-0.2,10]])\n",
    "print(A)"
   ]
  },
  {
   "cell_type": "code",
   "execution_count": 3,
   "metadata": {
    "collapsed": false
   },
   "outputs": [
    {
     "name": "stdout",
     "output_type": "stream",
     "text": [
      "[[  3.          -0.1         -0.2       ]\n",
      " [  0.1          7.00333333  -0.29333333]\n",
      " [  0.3         -0.19        10.01204188]]\n"
     ]
    }
   ],
   "source": [
    "B = eliminacion_adelante(A)\n",
    "print(B)"
   ]
  },
  {
   "cell_type": "code",
   "execution_count": 4,
   "metadata": {
    "collapsed": false
   },
   "outputs": [
    {
     "data": {
      "text/plain": [
       "array([[  3.        ,  -0.1       ,  -0.2       ],\n",
       "       [  0.        ,   7.00333333,  -0.29333333],\n",
       "       [  0.        ,   0.        ,  10.01204188]])"
      ]
     },
     "execution_count": 4,
     "metadata": {},
     "output_type": "execute_result"
    }
   ],
   "source": [
    "np.triu(B)"
   ]
  },
  {
   "cell_type": "code",
   "execution_count": 5,
   "metadata": {
    "collapsed": false
   },
   "outputs": [
    {
     "name": "stdout",
     "output_type": "stream",
     "text": [
      "[[ 1.  1.  2.  3.]\n",
      " [ 2.  1. -1.  1.]\n",
      " [ 3. -1. -1.  2.]\n",
      " [-1.  2.  3. -1.]]\n"
     ]
    }
   ],
   "source": [
    "A = np.array([[1,1,2,3],\n",
    "              [2,1,-1,1],\n",
    "              [3,-1,-1,2],\n",
    "              [-1,2,3,-1]],float)\n",
    "print(A)"
   ]
  },
  {
   "cell_type": "code",
   "execution_count": 6,
   "metadata": {
    "collapsed": false
   },
   "outputs": [
    {
     "name": "stdout",
     "output_type": "stream",
     "text": [
      "[[  1.   1.   2.   3.]\n",
      " [  2.  -1.  -5.  -5.]\n",
      " [  3.  -4.  13.  13.]\n",
      " [ -1.   3. -10.  -3.]]\n"
     ]
    }
   ],
   "source": [
    "B = eliminacion_adelante(A)\n",
    "print(B)"
   ]
  },
  {
   "cell_type": "code",
   "execution_count": 7,
   "metadata": {
    "collapsed": false
   },
   "outputs": [
    {
     "data": {
      "text/plain": [
       "array([[  1.,   1.,   2.,   3.],\n",
       "       [  0.,  -1.,  -5.,  -5.],\n",
       "       [  0.,   0.,  13.,  13.],\n",
       "       [  0.,   0.,   0.,  -3.]])"
      ]
     },
     "execution_count": 7,
     "metadata": {},
     "output_type": "execute_result"
    }
   ],
   "source": [
    "np.triu(B)"
   ]
  }
 ],
 "metadata": {
  "kernelspec": {
   "display_name": "Python 3",
   "language": "python",
   "name": "python3"
  },
  "language_info": {
   "codemirror_mode": {
    "name": "ipython",
    "version": 3
   },
   "file_extension": ".py",
   "mimetype": "text/x-python",
   "name": "python",
   "nbconvert_exporter": "python",
   "pygments_lexer": "ipython3",
   "version": "3.4.3"
  }
 },
 "nbformat": 4,
 "nbformat_minor": 0
}
