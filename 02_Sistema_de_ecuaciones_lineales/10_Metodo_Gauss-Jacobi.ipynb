{
 "cells": [
  {
   "cell_type": "markdown",
   "metadata": {},
   "source": [
    "#Método de Gauss-Jacobi\n",
    "\n",
    "Resolver el sistema de ecuaciones\n",
    "\n",
    "\\begin{align*}\n",
    "    10 x_{1} - x_{2} + 2 x_{3} &= 6 \\\\\n",
    "    -x_{1} + 11 x_{2} - x_{3} + 3 x_{4} &= 25 \\\\\n",
    "    2 x_{1} - x_{2} + 10 x_{3} - x_{4} &= -11 \\\\\n",
    "    3 x_{2} - x_{3} + 8 x_{4} &= 15\n",
    "\\end{align*}\n",
    "\n",
    "Despejando $x_{i}$\n",
    "\n",
    "\\begin{alignat*}{5}\n",
    "    x_{1}^{(k)} &= \\cfrac{6}{10} & &+ \\cfrac{1}{10} x_{2}^{(k-1)} &- \\cfrac{2}{10} x_{3}^{(k-1)} & \\\\\n",
    "    x_{2}^{(k)} &= \\cfrac{25}{11} &+ \\cfrac{1}{11} x_{1}^{(k-1)} & &+ \\cfrac{1}{11} x_{3}^{(k-1)} &- \\cfrac{3}{11} x_{4}^{(k-1)} \\\\\n",
    "    x_{3}^{(k)} &= \\cfrac{-11}{10} &- \\cfrac{2}{10} x_{1}^{(k-1)} &+ \\cfrac{1}{10} x_{2}^{(k-1)} & &+ \\cfrac{1}{10} x_{4}^{(k-1)} \\\\\n",
    "    x_{4}^{(k)} &= \\cfrac{15}{8} & &- \\cfrac{3}{8} x_{2}^{(k-1)} &+ \\cfrac{1}{8} x_{3}^{(k-1)} &\n",
    "\\end{alignat*}\n",
    "\n",
    "###Iteración 0\n",
    "\n",
    "\\begin{align*}\n",
    "    x_{1}^{(0)} &= \\color{blue}{0} \\\\\n",
    "    x_{2}^{(0)} &= \\color{blue}{0} \\\\\n",
    "    x_{3}^{(0)} &= \\color{blue}{0} \\\\\n",
    "    x_{4}^{(0)} &= \\color{blue}{0}\n",
    "\\end{align*}\n",
    "\n",
    "###Iteración 1\n",
    "\n",
    "\\begin{align*}\n",
    "    x_{1}^{(1)} &= \\frac{6 + x_{2}^{(0)} - 2 x_{3}^{(0)}}{10} = \\frac{6 + \\color{blue}{0} - 2 (\\color{blue}{0})}{10} = \\color{green}{0.6} \\\\\n",
    "    x_{2}^{(1)} &= \\frac{25 + x_{1}^{(0)} + x_{3}^{(0)} - 3 x_{4}^{(0)}}{11} = \\frac{25 + \\color{blue}{0} + \\color{blue}{0} - 3 (\\color{blue}{0})}{11} = \\color{green}{2.272727} \\\\\n",
    "    x_{3}^{(1)} &= \\frac{-11 - 2 x_{1}^{(0)} + x_{2}^{(0)} + x_{4}^{(0)}}{10} = \\frac{-11 - 2 (\\color{blue}{0}) + \\color{blue}{0} + \\color{blue}{0}}{10} = \\color{green}{-1.1} \\\\\n",
    "    x_{4}^{(1)} &= \\frac{15 - 3 x_{2}^{(0)} + x_{3}^{(0)}}{8} = \\frac{15 - 3 (\\color{blue}{0}) + \\color{blue}{0}}{8} = \\color{green}{1.875}\n",
    "\\end{align*}\n",
    "\n",
    "###Iteración 2\n",
    "\n",
    "\\begin{align*}\n",
    "    x_{1}^{(2)} &= \\frac{6 + x_{2}^{(1)} - 2 x_{3}^{(1)}}{10} = \\frac{6 + \\color{green}{2.272727} - 2 (\\color{green}{-1.1})}{10} = \\color{red}{1.047273} \\\\\n",
    "    x_{2}^{(2)} &= \\frac{25 + x_{1}^{(1)} + x_{3}^{(1)} - 3 x_{4}^{(1)}}{11} = \\frac{25 + \\color{green}{0.6} + (\\color{green}{- 1.1}) - 3 (\\color{green}{1.875})}{11} = \\color{red}{1.715909} \\\\\n",
    "    x_{3}^{(2)} &= \\frac{-11 - 2 x_{1}^{(1)} + x_{2}^{(1)} + x_{4}^{(1)}}{10} = \\frac{-11 - 2 (\\color{green}{0.6}) + \\color{green}{2.272727} + \\color{green}{1.875}}{10} = \\color{red}{-0.805227} \\\\\n",
    "    x_{4}^{(2)} &= \\frac{15 - 3 x_{2}^{(1)} + x_{3}^{(1)}}{8} = \\frac{15 - 3 (\\color{green}{2.272727}) + (\\color{green}{- 1.1})}{8} = \\color{red}{0.885227}\n",
    "\\end{align*}\n",
    "\n",
    "###Iteración 3\n",
    "\n",
    "\\begin{align*}\n",
    "    x_{1}^{(3)} &= \\frac{6 + x_{2}^{(2)} - 2 x_{3}^{(2)}}{10} = \\frac{6 + \\color{red}{1.715909} - 2 (\\color{red}{-0.805227})}{10} = \\color{fuchsia}{0.932636} \\\\\n",
    "    x_{2}^{(3)} &= \\frac{25 + x_{1}^{(2)} + x_{3}^{(2)} - 3 x_{4}^{(2)}}{11} = \\frac{25 + \\color{red}{1.047273} + (\\color{red}{-0.805227}) - 3 (\\color{red}{0.885227})}{11} = \\color{fuchsia}{2.053306} \\\\\n",
    "    x_{3}^{(3)} &= \\frac{-11 - 2 x_{1}^{(2)} + x_{2}^{(2)} + x_{4}^{(2)}}{10} = \\frac{-11 - 2 (\\color{red}{1.047273}) + \\color{red}{1.715909} + \\color{red}{0.885227}}{10} = \\color{fuchsia}{-1.049341} \\\\\n",
    "    x_{4}^{(3)} &= \\frac{15 - 3 x_{2}^{(2)} + x_{3}^{(2)}}{8} = \\frac{15 - 3 (\\color{red}{1.715909}) + (\\color{red}{-0.805227})}{8} = \\color{fuchsia}{1.130881}\n",
    "\\end{align*}\n",
    "\n",
    "##Patrón de cálculo\n",
    "\n",
    "\\begin{align*}\n",
    "        a_{11} x_{1} + a_{12} x_{2} + a_{13} x_{3} + a_{14} x_{4} &= b_{1} \\\\\n",
    "        a_{21} x_{1} + a_{22} x_{2} + a_{23} x_{3} + a_{24} x_{4} &= b_{2} \\\\\n",
    "        a_{31} x_{1} + a_{32} x_{2} + a_{33} x_{3} + a_{34} x_{4} &= b_{3} \\\\\n",
    "        a_{41} x_{1} + a_{42} x_{2} + a_{43} x_{3} + a_{44} x_{4} &= b_{4}\n",
    "\\end{align*}\n",
    "\n",
    "Despejando $x_{i}$\n",
    "\n",
    "\\begin{alignat*}{5}\n",
    "    x_{1} &= \\cfrac{b_{1}}{a_{11}} & &- \\cfrac{a_{12}}{a_{11}} x_{2} &- \\cfrac{a_{13}}{a_{11}} x_{3} &- \\cfrac{a_{14}}{a_{11}} x_{4} \\\\\n",
    "    x_{2} &= \\cfrac{b_{2}}{a_{22}} &- \\cfrac{a_{21}}{a_{22}} x_{1} & &- \\cfrac{a_{23}}{a_{22}} x_{3} &- \\cfrac{a_{24}}{a_{22}} x_{4} \\\\\n",
    "    x_{3} &= \\cfrac{b_{3}}{a_{33}} &- \\cfrac{a_{31}}{a_{33}} x_{1} &- \\cfrac{a_{32}}{a_{33}} x_{2} & &- \\cfrac{a_{34}}{a_{33}} x_{4} \\\\\n",
    "    x_{4} &= \\cfrac{b_{4}}{a_{44}} &- \\cfrac{a_{41}}{a_{44}} x_{1} &- \\cfrac{a_{42}}{a_{44}} x_{2} &- \\cfrac{a_{43}}{a_{44}} x_{3} &\n",
    "\\end{alignat*}\n",
    "\n",
    "###Primer patrón\n",
    "\n",
    "\\begin{alignat*}{5}\n",
    "    x_{1}^{(\\color{blue}{1})} &= \\cfrac{b_{1}}{a_{11}} & &- \\cfrac{a_{12}}{a_{11}} x_{2}^{(\\color{blue}{1} - 1)} &- \\cfrac{a_{13}}{a_{11}} x_{3}^{(\\color{blue}{1} - 1)} &- \\cfrac{a_{14}}{a_{11}} x_{4}^{(\\color{blue}{1} - 1)} \\\\\n",
    "    x_{2}^{(\\color{blue}{1})} &= \\cfrac{b_{2}}{a_{22}} &- \\cfrac{a_{21}}{a_{22}} x_{1}^{(\\color{blue}{1} - 1)} & &- \\cfrac{a_{23}}{a_{22}} x_{3}^{(\\color{blue}{1} - 1)} &- \\cfrac{a_{24}}{a_{22}} x_{4}^{(\\color{blue}{1} - 1)} \\\\\n",
    "    x_{3}^{(\\color{blue}{1})} &= \\cfrac{b_{3}}{a_{33}} &- \\cfrac{a_{31}}{a_{33}} x_{1}^{(\\color{blue}{1} - 1)} &- \\cfrac{a_{32}}{a_{33}} x_{2}^{(\\color{blue}{1} - 1)} & &- \\cfrac{a_{34}}{a_{33}} x_{4}^{(\\color{blue}{1} - 1)} \\\\\n",
    "    x_{4}^{(\\color{blue}{1})} &= \\cfrac{b_{4}}{a_{44}} &- \\cfrac{a_{41}}{a_{44}} x_{1}^{(\\color{blue}{1} - 1)} &- \\cfrac{a_{42}}{a_{44}} x_{2}^{(\\color{blue}{1} - 1)} &- \\cfrac{a_{43}}{a_{44}} x_{3}^{(\\color{blue}{1} - 1)} & \\\\\n",
    "    x_{1}^{(\\color{green}{2})} &= \\cfrac{b_{1}}{a_{11}} & &- \\cfrac{a_{12}}{a_{11}} x_{2}^{(\\color{green}{2} - 1)} &- \\cfrac{a_{13}}{a_{11}} x_{3}^{(\\color{green}{2} - 1)} &- \\cfrac{a_{14}}{a_{11}} x_{4}^{(\\color{green}{2} - 1)} \\\\\n",
    "    x_{2}^{(\\color{green}{2})} &= \\cfrac{b_{2}}{a_{22}} &- \\cfrac{a_{21}}{a_{22}} x_{1}^{(\\color{green}{2} - 1)} & &- \\cfrac{a_{23}}{a_{22}} x_{3}^{(\\color{green}{2} - 1)} &- \\cfrac{a_{24}}{a_{22}} x_{4}^{(\\color{green}{2} - 1)} \\\\\n",
    "    x_{3}^{(\\color{green}{2})} &= \\cfrac{b_{3}}{a_{33}} &- \\cfrac{a_{31}}{a_{33}} x_{1}^{(\\color{green}{2} - 1)} &- \\cfrac{a_{32}}{a_{33}} x_{2}^{(\\color{green}{2} - 1)} & &- \\cfrac{a_{34}}{a_{33}} x_{4}^{(\\color{green}{2} - 1)} \\\\\n",
    "    x_{4}^{(\\color{green}{2})} &= \\cfrac{b_{4}}{a_{44}} &- \\cfrac{a_{41}}{a_{44}} x_{1}^{(\\color{green}{2} - 1)} &- \\cfrac{a_{42}}{a_{44}} x_{2}^{(\\color{green}{2} - 1)} &- \\cfrac{a_{43}}{a_{44}} x_{3}^{(\\color{green}{2} - 1)} & \\\\\n",
    "    x_{1}^{(\\color{red}{3})} &= \\cfrac{b_{1}}{a_{11}} & &- \\cfrac{a_{12}}{a_{11}} x_{2}^{(\\color{red}{3} - 1)} &- \\cfrac{a_{13}}{a_{11}} x_{3}^{(\\color{red}{3} - 1)} &- \\cfrac{a_{14}}{a_{11}} x_{4}^{(\\color{red}{3} - 1)} \\\\\n",
    "    x_{2}^{(\\color{red}{3})} &= \\cfrac{b_{2}}{a_{22}} &- \\cfrac{a_{21}}{a_{22}} x_{1}^{(\\color{red}{3} - 1)} & &- \\cfrac{a_{23}}{a_{22}} x_{3}^{(\\color{red}{3} - 1)} &- \\cfrac{a_{24}}{a_{22}} x_{4}^{(\\color{red}{3} - 1)} \\\\\n",
    "    x_{3}^{(\\color{red}{3})} &= \\cfrac{b_{3}}{a_{33}} &- \\cfrac{a_{31}}{a_{33}} x_{1}^{(\\color{red}{3} - 1)} &- \\cfrac{a_{32}}{a_{33}} x_{2}^{(\\color{red}{3} - 1)} & &- \\cfrac{a_{34}}{a_{33}} x_{4}^{(\\color{red}{3} - 1)} \\\\\n",
    "    x_{4}^{(\\color{red}{3})} &= \\cfrac{b_{4}}{a_{44}} &- \\cfrac{a_{41}}{a_{44}} x_{1}^{(\\color{red}{3} - 1)} &- \\cfrac{a_{42}}{a_{44}} x_{2}^{(\\color{red}{3} - 1)} &- \\cfrac{a_{43}}{a_{44}} x_{3}^{(\\color{red}{3} - 1)} &\n",
    "\\end{alignat*}\n",
    "\n",
    "Lo anterior puede ser escrito como\n",
    "\n",
    "\\begin{alignat*}{5}\n",
    "    x_{1}^{(k)} &= \\cfrac{b_{1}}{a_{11}} & &- \\cfrac{a_{12}}{a_{11}} x_{2}^{(k-1)} &- \\cfrac{a_{13}}{a_{11}} x_{3}^{(k-1)} &- \\cfrac{a_{14}}{a_{11}} x_{4}^{(k-1)} \\\\\n",
    "    x_{2}^{(k)} &= \\cfrac{b_{2}}{a_{22}} &- \\cfrac{a_{21}}{a_{22}} x_{1}^{(k-1)} & &- \\cfrac{a_{23}}{a_{22}} x_{3}^{(k-1)} &- \\cfrac{a_{24}}{a_{22}} x_{4}^{(k-1)} \\\\\n",
    "    x_{3}^{(k)} &= \\cfrac{b_{3}}{a_{33}} &- \\cfrac{a_{31}}{a_{33}} x_{1}^{(k-1)} &- \\cfrac{a_{32}}{a_{33}} x_{2}^{(k-1)} & &- \\cfrac{a_{34}}{a_{33}} x_{4}^{(k-1)} \\\\\n",
    "    x_{4}^{(k)} &= \\cfrac{b_{4}}{a_{44}} &- \\cfrac{a_{41}}{a_{44}} x_{1}^{(k-1)} &- \\cfrac{a_{42}}{a_{44}} x_{2}^{(k-1)} &- \\cfrac{a_{43}}{a_{44}} x_{3}^{(k-1)} &\n",
    "\\end{alignat*}\n",
    "\n",
    "para $k = 1, \\dots,$\n",
    "\n",
    "###Segundo patrón\n",
    "\n",
    "\\begin{alignat*}{5}\n",
    "    x_{\\color{blue}{1}}^{(k)} &= \\cfrac{b_{\\color{blue}{1}}}{a_{\\color{blue}{11}}} & &- \\cfrac{a_{\\color{blue}{1}2}}{a_{\\color{blue}{11}}} x_{2}^{(k-1)} &- \\cfrac{a_{\\color{blue}{1}3}}{a_{\\color{blue}{11}}} x_{3}^{(k-1)} &- \\cfrac{a_{\\color{blue}{1}4}}{a_{\\color{blue}{11}}} x_{4}^{(k-1)} \\\\\n",
    "    x_{\\color{green}{2}}^{(k)} &= \\cfrac{b_{\\color{green}{2}}}{a_{\\color{green}{22}}} &- \\cfrac{a_{\\color{green}{2}1}}{a_{\\color{green}{22}}} x_{1}^{(k-1)} & &- \\cfrac{a_{\\color{green}{2}3}}{a_{\\color{green}{22}}} x_{3}^{(k-1)} &- \\cfrac{a_{\\color{green}{2}4}}{a_{\\color{green}{22}}} x_{4}^{(k-1)} \\\\\n",
    "    x_{\\color{red}{3}}^{(k)} &= \\cfrac{b_{\\color{red}{3}}}{a_{\\color{red}{33}}} &- \\cfrac{a_{\\color{red}{3}1}}{a_{\\color{red}{33}}} x_{1}^{(k-1)} &- \\cfrac{a_{\\color{red}{3}2}}{a_{\\color{red}{33}}} x_{2}^{(k-1)} & &- \\cfrac{a_{\\color{red}{3}4}}{a_{\\color{red}{33}}} x_{4}^{(k-1)} \\\\\n",
    "    x_{\\color{fuchsia}{4}}^{(k)} &= \\cfrac{b_{\\color{fuchsia}{4}}}{a_{\\color{fuchsia}{44}}} &- \\cfrac{a_{\\color{fuchsia}{4}1}}{a_{\\color{fuchsia}{44}}} x_{1}^{(k-1)} &- \\cfrac{a_{\\color{fuchsia}{4}2}}{a_{\\color{fuchsia}{44}}} x_{2}^{(k-1)} &- \\cfrac{a_{\\color{fuchsia}{4}3}}{a_{\\color{fuchsia}{44}}} x_{3}^{(k-1)} &\n",
    "\\end{alignat*}\n",
    "\n",
    "Lo anterior puede ser escrito como\n",
    "\n",
    "\\begin{equation*}\n",
    "    x_{i}^{(k)} = \\frac{1}{a_{ii}} \\biggl( b_{i} - \\sum a_{i?} x_{?}^{(k-1)} \\biggr)\n",
    "\\end{equation*}\n",
    "\n",
    "para $i = 1, \\dots, m$\n",
    "\n",
    "###Tercer patrón\n",
    "\n",
    "\\begin{alignat*}{5}\n",
    "    x_{1}^{(k)} &= \\cfrac{b_{1}}{a_{11}} & &- \\cfrac{a_{1\\color{green}{2}}}{a_{11}} x_{\\color{green}{2}}^{(k-1)} &- \\cfrac{a_{1\\color{red}{3}}}{a_{11}} x_{\\color{red}{3}}^{(k-1)} &- \\cfrac{a_{1\\color{fuchsia}{4}}}{a_{11}} x_{\\color{fuchsia}{4}}^{(k-1)} \\\\\n",
    "    x_{2}^{(k)} &= \\cfrac{b_{2}}{a_{22}} &- \\cfrac{a_{2\\color{blue}{1}}}{a_{22}} x_{\\color{blue}{1}}^{(k-1)} & &- \\cfrac{a_{2\\color{red}{3}}}{a_{22}} x_{\\color{red}{3}}^{(k-1)} &- \\cfrac{a_{2\\color{fuchsia}{4}}}{a_{22}} x_{\\color{fuchsia}{4}}^{(k-1)} \\\\\n",
    "    x_{3}^{(k)} &= \\cfrac{b_{3}}{a_{33}} &- \\cfrac{a_{3\\color{blue}{1}}}{a_{33}} x_{\\color{blue}{1}}^{(k-1)} &- \\cfrac{a_{3\\color{green}{2}}}{a_{33}} x_{\\color{green}{2}}^{(k-1)} & &- \\cfrac{a_{3\\color{fuchsia}{4}}}{a_{33}} x_{\\color{fuchsia}{4}}^{(k-1)} \\\\\n",
    "    x_{4}^{(k)} &= \\cfrac{b_{4}}{a_{44}} &- \\cfrac{a_{4\\color{blue}{1}}}{a_{44}} x_{\\color{blue}{1}}^{(k-1)} &- \\cfrac{a_{4\\color{green}{2}}}{a_{44}} x_{\\color{green}{2}}^{(k-1)} &- \\cfrac{a_{4\\color{red}{3}}}{a_{44}} x_{\\color{red}{3}}^{(k-1)} &\n",
    "\\end{alignat*}\n",
    "\n",
    "Lo anterior puede ser escrito como\n",
    "\n",
    "\\begin{equation*}\n",
    "    x_{i}^{(k)} = \\frac{1}{a_{ii}} \\biggl( b_{i} - \\sum_{\\substack{j = 1 \\\\ j \\neq i}}^{n} a_{ij} x_{j}^{(k-1)} \\biggr)\n",
    "\\end{equation*}\n",
    "\n",
    "para $j = 1, \\dots, n$\n",
    "\n",
    "##Fórmula matemática\n",
    "\n",
    "\\begin{align*}\n",
    "    k &= 1, \\dots \\\\\n",
    "    i &= 1, \\dots, m \\\\\n",
    "    j &= 1, \\dots, n \\\\\n",
    "    x_{i}^{(k)} &= \\frac{1}{a_{ii}} \\biggl( b_{i} - \\sum_{\\substack{j = 1 \\\\ j \\neq i}}^{n} a_{ij} x_{j}^{(k-1)} \\biggr)\n",
    "\\end{align*}\n",
    "\n",
    "##Seudocódigo\n",
    "\n",
    "    function metodo_gauss_jacobi(A,b)\n",
    "        m, n = tamaño(A)\n",
    "        iteraciones = ...\n",
    "        x_actual = [0,...,0]\n",
    "        for k=1 to iteraciones do\n",
    "            x_anterior = x_actual\n",
    "            for i=1 to m do\n",
    "                sumatoria = 0\n",
    "                for j=1 to n do\n",
    "                    if (j != i) then\n",
    "                        sumatoria = sumatoria + A(i,j)*x_anterior(j)\n",
    "                    end if\n",
    "                end for\n",
    "            end for\n",
    "            x_actual(i) = (b(i) - sumatoria) / A(i,i)\n",
    "        end for\n",
    "        return x\n",
    "    end function\n",
    "    \n",
    "##Implementación"
   ]
  },
  {
   "cell_type": "code",
   "execution_count": 1,
   "metadata": {
    "collapsed": false
   },
   "outputs": [],
   "source": [
    "import numpy as np\n",
    "\n",
    "#versión simple\n",
    "#\n",
    "#def metodo_gauss_jacobi(A, b):\n",
    "#    m, n = A.shape\n",
    "#    x_actual = np.zeros(n)\n",
    "#    for k in range(0,10):\n",
    "#        x_anterior = np.copy(x_actual)\n",
    "#        for i in range(0,m):\n",
    "#            sumatoria = b[i]\n",
    "#            for j in range(0,n):\n",
    "#                if j != i:\n",
    "#                    sumatoria = sumatoria - A[i,j]*x_anterior[j]\n",
    "#            x_actual[i] = sumatoria/A[i,i]\n",
    "#        print(x_actual)\n",
    "\n",
    "def metodo_gauss_jacobi(A, b):\n",
    "    m, n = A.shape\n",
    "    x_actual = np.zeros(n)\n",
    "    error_permitido = 0.000001\n",
    "    print(\"{0:s} \\t {1:9s} \\t {2:9s} \\t {3:9s} \\t {4:9s} \\t {5:9s}\".format('k', 'x(1)', 'x(2)', 'x(3)', 'x(4)', 'error relativo %'))\n",
    "    print(\"{0:d} \\t {1:10.9f} \\t {2:10.9f} \\t {3:10.9f} \\t {4:10.9f} \\t {5:9s}\".format(0, x_actual[0], x_actual[1], x_actual[2], x_actual[3], '??????????????'))\n",
    "    for k in range(0,30):\n",
    "        x_anterior = np.copy(x_actual)\n",
    "        for i in range(0,m):\n",
    "            sumatoria = b[i]\n",
    "            for j in range(0,n):\n",
    "                if j != i:\n",
    "                    sumatoria = sumatoria - A[i,j]*x_anterior[j]\n",
    "            x_actual[i] = sumatoria/A[i,i]\n",
    "        error_relativo = np.linalg.norm(((x_actual - x_anterior)/x_actual)*100)\n",
    "        print(\"{0:d} \\t {1:10.9f} \\t {2:10.9f} \\t {3:10.9f} \\t {4:10.9f} \\t {5:14.10f}\".format(k+1, x_actual[0], x_actual[1], x_actual[2], x_actual[3], error_relativo))\n",
    "        if error_relativo < error_permitido:\n",
    "            break\n",
    "            \n",
    "#versión matricial\n",
    "#\n",
    "#def metodo_gauss_jacobi(A, b):\n",
    "#    m, n = A.shape\n",
    "#    T = np.copy(A)\n",
    "#    diagonal = np.diag_indices(m)\n",
    "#    T[diagonal] = 0\n",
    "#    x_actual = np.zeros(n)\n",
    "#    for k in range(0,10):\n",
    "#        x_anterior = np.copy(x_actual)\n",
    "#        x_actual = (b - np.dot(T, x_anterior))/np.diag(A)\n",
    "#        print(x_actual)"
   ]
  },
  {
   "cell_type": "code",
   "execution_count": 2,
   "metadata": {
    "collapsed": true
   },
   "outputs": [],
   "source": [
    "A = np.array([[10,-1,2,0],\n",
    "              [-1,11,-1,3],\n",
    "              [2,-1,10,-1],\n",
    "              [0,3,-1,8]])\n",
    "B = np.array([6,25,-11,15])"
   ]
  },
  {
   "cell_type": "code",
   "execution_count": 3,
   "metadata": {
    "collapsed": false,
    "scrolled": false
   },
   "outputs": [
    {
     "name": "stdout",
     "output_type": "stream",
     "text": [
      "k \t x(1)      \t x(2)      \t x(3)      \t x(4)      \t error relativo %\n",
      "0 \t 0.000000000 \t 0.000000000 \t 0.000000000 \t 0.000000000 \t ??????????????\n",
      "1 \t 0.600000000 \t 2.272727273 \t -1.100000000 \t 1.875000000 \t 200.0000000000\n",
      "2 \t 1.047272727 \t 1.715909091 \t -0.805227273 \t 0.885227273 \t 129.3004487833\n",
      "3 \t 0.932636364 \t 2.053305785 \t -1.049340909 \t 1.130880682 \t  37.8700582539\n",
      "4 \t 1.015198760 \t 1.953695764 \t -0.968108626 \t 0.973842717 \t  20.5566463252\n",
      "5 \t 0.988991302 \t 2.011414726 \t -1.010285904 \t 1.021350510 \t   7.3703118056\n",
      "6 \t 1.003198653 \t 1.992241261 \t -0.994521737 \t 0.994433740 \t   3.5736350152\n",
      "7 \t 0.998128473 \t 2.002306882 \t -1.001972231 \t 1.003594310 \t   1.3772496526\n",
      "8 \t 1.000625134 \t 1.998670301 \t -0.999035576 \t 0.998888391 \t   0.6353873367\n",
      "9 \t 0.999674145 \t 2.000447672 \t -1.000369158 \t 1.000619190 \t   0.2542335085\n",
      "10 \t 1.000118599 \t 1.999767947 \t -0.999828143 \t 0.999785978 \t   0.1140334089\n",
      "11 \t 0.999942423 \t 2.000084775 \t -1.000068327 \t 1.000108502 \t   0.0466705097\n",
      "12 \t 1.000022143 \t 1.999958963 \t -0.999969157 \t 0.999959669 \t   0.0205671464\n",
      "13 \t 0.999989728 \t 2.000015816 \t -1.000012565 \t 1.000019244 \t   0.0085394468\n",
      "14 \t 1.000004095 \t 1.999992675 \t -0.999994439 \t 0.999992498 \t   0.0037204984\n",
      "15 \t 0.999998155 \t 2.000002924 \t -1.000002302 \t 1.000003442 \t   0.0015591888\n",
      "16 \t 1.000000753 \t 1.999998684 \t -0.999998995 \t 0.999998616 \t   0.0006742738\n",
      "17 \t 0.999999667 \t 2.000000537 \t -1.000000421 \t 1.000000619 \t   0.0002842911\n",
      "18 \t 1.000000138 \t 1.999999763 \t -0.999999818 \t 0.999999746 \t   0.0001223459\n",
      "19 \t 0.999999940 \t 2.000000098 \t -1.000000077 \t 1.000000112 \t   0.0000517881\n",
      "20 \t 1.000000025 \t 1.999999957 \t -0.999999967 \t 0.999999954 \t   0.0000222166\n",
      "21 \t 0.999999989 \t 2.000000018 \t -1.000000014 \t 1.000000020 \t   0.0000094283\n",
      "22 \t 1.000000005 \t 1.999999992 \t -0.999999994 \t 0.999999992 \t   0.0000040363\n",
      "23 \t 0.999999998 \t 2.000000003 \t -1.000000003 \t 1.000000004 \t   0.0000017158\n",
      "24 \t 1.000000001 \t 1.999999999 \t -0.999999999 \t 0.999999998 \t   0.0000007335\n"
     ]
    }
   ],
   "source": [
    "metodo_gauss_jacobi(A,B)"
   ]
  },
  {
   "cell_type": "code",
   "execution_count": 4,
   "metadata": {
    "collapsed": false
   },
   "outputs": [],
   "source": [
    "l = [22, 13, 45, 50, 98, 69, 43, 44, 1]"
   ]
  },
  {
   "cell_type": "code",
   "execution_count": 5,
   "metadata": {
    "collapsed": false
   },
   "outputs": [
    {
     "data": {
      "text/plain": [
       "[23, 14, 50, 55, 103, 74, 44, 45, 2]"
      ]
     },
     "execution_count": 5,
     "metadata": {},
     "output_type": "execute_result"
    }
   ],
   "source": [
    "[[x+1,x+5][x >= 45] for x in l]"
   ]
  },
  {
   "cell_type": "code",
   "execution_count": 6,
   "metadata": {
    "collapsed": false
   },
   "outputs": [
    {
     "data": {
      "text/plain": [
       "[23, 14, 50, 55, 103, 74, 44, 45, 2]"
      ]
     },
     "execution_count": 6,
     "metadata": {},
     "output_type": "execute_result"
    }
   ],
   "source": [
    "[x+5 if x >= 45 else x+1 for x in l]"
   ]
  },
  {
   "cell_type": "code",
   "execution_count": 7,
   "metadata": {
    "collapsed": false
   },
   "outputs": [
    {
     "data": {
      "text/plain": [
       "[46, 51, 99, 70]"
      ]
     },
     "execution_count": 7,
     "metadata": {},
     "output_type": "execute_result"
    }
   ],
   "source": [
    "[x+1 for x in l if x >= 45]"
   ]
  }
 ],
 "metadata": {
  "kernelspec": {
   "display_name": "Python 3",
   "language": "python",
   "name": "python3"
  },
  "language_info": {
   "codemirror_mode": {
    "name": "ipython",
    "version": 3
   },
   "file_extension": ".py",
   "mimetype": "text/x-python",
   "name": "python",
   "nbconvert_exporter": "python",
   "pygments_lexer": "ipython3",
   "version": "3.4.3"
  }
 },
 "nbformat": 4,
 "nbformat_minor": 0
}
