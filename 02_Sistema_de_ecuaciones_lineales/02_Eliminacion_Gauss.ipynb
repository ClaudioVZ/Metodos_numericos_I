{
 "cells": [
  {
   "cell_type": "markdown",
   "metadata": {},
   "source": [
    "# Eliminación de Gauss\n",
    "\n",
    "## Eliminación hacia adelante\n",
    "\n",
    "Transformar el sistema de ecuaciones en un sistema triangular superior\n",
    "\n",
    "\\begin{equation*}\n",
    "    \\begin{bmatrix}\n",
    "        3 & -0.1 & -0.2 \\\\\n",
    "        0.1 & 7 & -0.3 \\\\\n",
    "        0.3 & -0.2 & 10\n",
    "    \\end{bmatrix}\n",
    "    \\begin{bmatrix}\n",
    "        x_{1} \\\\\n",
    "        x_{2} \\\\\n",
    "        x_{3}\n",
    "    \\end{bmatrix} =\n",
    "    \\begin{bmatrix}\n",
    "        7.85 \\\\\n",
    "        -19.3 \\\\\n",
    "        71.4\n",
    "    \\end{bmatrix}\n",
    "\\end{equation*}\n",
    "\n",
    "Primera fila pivote\n",
    "\n",
    "\\begin{equation*}\n",
    "    \\begin{bmatrix}\n",
    "        3 & -0.1 & -0.2 \\\\\n",
    "        0.1 - \\frac{0.1}{3} (3) & 7 - \\frac{0.1}{3} (-0.1) & -0.3 - \\frac{0.1}{3} (-0.2) \\\\\n",
    "        0.3 - \\frac{0.3}{3} (3) & -0.2 - \\frac{0.3}{3} (-0.1) & 10 - \\frac{0.3}{3} (-0.2)\n",
    "    \\end{bmatrix}\n",
    "    \\begin{bmatrix}\n",
    "        x_{1} \\\\\n",
    "        x_{2} \\\\\n",
    "        x_{3}\n",
    "    \\end{bmatrix} =\n",
    "    \\begin{bmatrix}\n",
    "        7.85 \\\\\n",
    "        -19.3 - \\frac{0.1}{3} (7.85) \\\\\n",
    "        71.4 - \\frac{0.3}{3} (7.85)\n",
    "    \\end{bmatrix}\n",
    "\\end{equation*}\n",
    "\n",
    "Simplificando\n",
    "\n",
    "\\begin{equation*}\n",
    "    \\begin{bmatrix}\n",
    "        3 & -0.1 & -0.2 \\\\\n",
    "        0 & 7.003333 & -0.293333 \\\\\n",
    "        0 & -0.19 & 10.02\n",
    "    \\end{bmatrix}\n",
    "    \\begin{bmatrix}\n",
    "        x_{1} \\\\\n",
    "        x_{2} \\\\\n",
    "        x_{3}\n",
    "    \\end{bmatrix} =\n",
    "    \\begin{bmatrix}\n",
    "        7.85 \\\\\n",
    "        -19.561667 \\\\\n",
    "        70.615\n",
    "    \\end{bmatrix}\n",
    "\\end{equation*}\n",
    "\n",
    "Segunda fila pivote\n",
    "\n",
    "\\begin{equation*}\n",
    "    \\begin{bmatrix}\n",
    "        3 & -0.1 & -0.2 \\\\\n",
    "        0 & 7.003333 & -0.293333 \\\\\n",
    "        0 & -0.19 - \\frac{-0.19}{7.003333} (7.003333) & 10.02 - \\frac{-0.19}{7.003333} (-0.293333)\n",
    "    \\end{bmatrix}\n",
    "    \\begin{bmatrix}\n",
    "        x_{1} \\\\\n",
    "        x_{2} \\\\\n",
    "        x_{3}\n",
    "    \\end{bmatrix} =\n",
    "    \\begin{bmatrix}\n",
    "        7.85 \\\\\n",
    "        -19.561667 \\\\\n",
    "        70.615 - \\frac{-0.19}{7.003333} (-19.561667)\n",
    "    \\end{bmatrix}\n",
    "\\end{equation*}\n",
    "\n",
    "Simplificando\n",
    "\n",
    "\\begin{equation*}\n",
    "    \\begin{bmatrix}\n",
    "        3 & -0.1 & -0.2 \\\\\n",
    "        0 & 7.003333 & -0.293333 \\\\\n",
    "        0 & 0 & 10.011204\n",
    "    \\end{bmatrix}\n",
    "    \\begin{bmatrix}\n",
    "        x_{1} \\\\\n",
    "        x_{2} \\\\\n",
    "        x_{3}\n",
    "    \\end{bmatrix} =\n",
    "    \\begin{bmatrix}\n",
    "        7.85 \\\\\n",
    "        -19.561667 \\\\\n",
    "        70.084293\n",
    "    \\end{bmatrix}\n",
    "\\end{equation*}\n",
    "\n",
    "## Algoritmo de cálculo\n",
    "\n",
    "\\begin{align*}\n",
    "    a_{11} x_{1} + a_{12} x_{2} + a_{13} x_{3} + a_{14} x_{4} &= b_{1} \\\\\n",
    "    a_{21} x_{1} + a_{22} x_{2} + a_{23} x_{3} + a_{24} x_{4} &= b_{2} \\\\\n",
    "    a_{31} x_{1} + a_{32} x_{2} + a_{33} x_{3} + a_{34} x_{4} &= b_{3} \\\\\n",
    "    a_{41} x_{1} + a_{42} x_{2} + a_{43} x_{3} + a_{44} x_{4} &= b_{4}\n",
    "\\end{align*}\n",
    "\n",
    "### Primera fila pivote\n",
    "\n",
    "\\begin{align*}\n",
    "    a_{11} x_{1} + a_{12} x_{2} + a_{13} x_{3} + a_{14} x_{4} &= b_{1} \\\\\n",
    "    a_{21} x_{1} + a_{22} x_{2} + a_{23} x_{3} + a_{24} x_{4} - \\frac{a_{21}}{a_{11}} ( a_{11} x_{1} + a_{12} x_{2} + a_{13} x_{3} + a_{14} x_{4} ) &= b_{2} - \\frac{a_{21}}{a_{11}} b_{1} \\\\\n",
    "    a_{31} x_{1} + a_{32} x_{2} + a_{33} x_{3} + a_{34} x_{4} - \\frac{a_{31}}{a_{11}} ( a_{11} x_{1} + a_{12} x_{2} + a_{13} x_{3} + a_{14} x_{4} ) &= b_{3} - \\frac{a_{31}}{a_{11}} b_{1} \\\\\n",
    "    a_{41} x_{1} + a_{42} x_{2} + a_{43} x_{3} + a_{44} x_{4} - \\frac{a_{41}}{a_{11}} ( a_{11} x_{1} + a_{12} x_{2} + a_{13} x_{3} + a_{14} x_{4} ) &= b_{4} - \\frac{a_{41}}{a_{11}} b_{1}\n",
    "\\end{align*}\n",
    "\n",
    "Expandiendo y agrupando términos\n",
    "\n",
    "\\begin{align*}\n",
    "    a_{11} x_{1} + a_{12} x_{2} + a_{13} x_{3} + a_{14} x_{4} &= b_{1} \\\\\n",
    "    \\bigg( a_{21} - \\frac{a_{21}}{a_{11}} a_{11} \\bigg) x_{1} + \\bigg( a_{22} - \\frac{a_{21}}{a_{11}} a_{12} \\bigg) x_{2} + \\bigg( a_{23} - \\frac{a_{21}}{a_{11}} a_{13} \\bigg) x_{3} + \\bigg( a_{24} - \\frac{a_{21}}{a_{11}} a_{14} \\bigg) x_{4} &= b_{2} - \\frac{a_{21}}{a_{11}} b_{1} \\\\\n",
    "    \\bigg( a_{31} - \\frac{a_{31}}{a_{11}} a_{11} \\bigg) x_{1} + \\bigg( a_{32} - \\frac{a_{31}}{a_{11}} a_{12} \\bigg) x_{2} + \\bigg( a_{33} - \\frac{a_{21}}{a_{11}} a_{13} \\bigg) x_{3} + \\bigg( a_{34} - \\frac{a_{21}}{a_{11}} a_{14} \\bigg) x_{4} &= b_{3} - \\frac{a_{31}}{a_{11}} b_{1} \\\\\n",
    "    \\bigg( a_{41} - \\frac{a_{41}}{a_{11}} a_{11} \\bigg) x_{1} + \\bigg( a_{42} - \\frac{a_{41}}{a_{11}} a_{12} \\bigg) x_{2} + \\bigg( a_{43} - \\frac{a_{21}}{a_{11}} a_{13} \\bigg) x_{3} + \\bigg( a_{44} - \\frac{a_{21}}{a_{11}} a_{14} \\bigg) x_{4} &= b_{4} - \\frac{a_{41}}{a_{11}} b_{1}\n",
    "\\end{align*}\n",
    "\n",
    "Usando un cambio de variable\n",
    "\n",
    "\\begin{align*}\n",
    "    a_{11} x_{1} + a_{12} x_{2} + a_{13} x_{3} + a_{14} x_{4} &= b_{1} \\\\\n",
    "    a'_{22} x_{2} + a'_{23} x_{3} + a'_{24} x_{4} &= b'_{2} \\\\\n",
    "    a'_{32} x_{2} + a'_{33} x_{3} + a'_{34} x_{4} &= b'_{3} \\\\\n",
    "    a'_{42} x_{2} + a'_{43} x_{3} + a'_{44} x_{4} &= b'_{4}\n",
    "\\end{align*}\n",
    "\n",
    "### Segunda fila pivote\n",
    "\n",
    "\\begin{align*}\n",
    "    a_{11} x_{1} + a_{12} x_{2} + a_{13} x_{3} + a_{14} x_{4} &= b_{1} \\\\\n",
    "    a'_{22} x_{2} + a'_{23} x_{3} + a'_{24} x_{4} &= b'_{2} \\\\\n",
    "    a'_{32} x_{2} + a'_{33} x_{3} + a'_{34} x_{4} - \\frac{a'_{32}}{a'_{22}} ( a'_{22} x_{2} + a'_{23} x_{3} + a'_{24} x_{4} ) &= b'_{3} - \\frac{a'_{32}}{a'_{22}} b'_{2} \\\\\n",
    "    a'_{42} x_{2} + a'_{43} x_{3} + a'_{44} x_{4} - \\frac{a'_{42}}{a'_{22}} ( a'_{22} x_{2} + a'_{23} x_{3} + a'_{24} x_{4} ) &= b'_{4} - \\frac{a'_{42}}{a'_{22}} b'_{2}\n",
    "\\end{align*}\n",
    "\n",
    "Expandiendo y agrupando términos\n",
    "\n",
    "\\begin{align*}\n",
    "    a_{11} x_{1} + a_{12} x_{2} + a_{13} x_{3} + a_{14} x_{4} &= b_{1} \\\\\n",
    "    a'_{22} x_{2} + a'_{23} x_{3} + a'_{24} x_{4} &= b'_{2} \\\\\n",
    "    \\bigg( a'_{32} - \\frac{a'_{32}}{a'_{22}} a'_{22} \\bigg) x_{2} + \\bigg( a'_{33} - \\frac{a'_{32}}{a'_{22}} a'_{23} \\bigg) x_{3} + \\bigg( a'_{34} - \\frac{a'_{32}}{a'_{22}} a'_{24} \\bigg) x_{4} &= b'_{3} - \\frac{a'_{32}}{a'_{22}} b'_{2} \\\\\n",
    "    \\bigg( a'_{42} - \\frac{a'_{42}}{a'_{22}} a'_{22} \\bigg) x_{2} + \\bigg( a'_{43} - \\frac{a'_{42}}{a'_{22}} a'_{23} \\bigg) x_{3} + \\bigg( a'_{44} - \\frac{a'_{42}}{a'_{22}} a'_{24} \\bigg) x_{4} &= b'_{4} - \\frac{a'_{42}}{a'_{22}} b'_{2}\n",
    "\\end{align*}\n",
    "\n",
    "Usando un cambio de variable\n",
    "\n",
    "\\begin{align*}\n",
    "    a_{11} x_{1} + a_{12} x_{2} + a_{13} x_{3} + a_{14} x_{4} &= b_{1} \\\\\n",
    "    a'_{22} x_{2} + a'_{23} x_{3} + a'_{24} x_{4} &= b'_{2} \\\\\n",
    "    a''_{33} x_{3} + a''_{34} x_{4} &= b''_{3} \\\\\n",
    "    a''_{43} x_{3} + a''_{44} x_{4} &= b''_{4}\n",
    "\\end{align*}\n",
    "\n",
    "### Tercera fila pivote\n",
    "\n",
    "\\begin{align*}\n",
    "    a_{11} x_{1} + a_{12} x_{2} + a_{13} x_{3} + a_{14} x_{4} &= b_{1} \\\\\n",
    "    a'_{22} x_{2} + a'_{23} x_{3} + a'_{24} x_{4} &= b'_{2} \\\\\n",
    "    a''_{33} x_{3} + a''_{34} x_{4} &= b''_{3} \\\\\n",
    "    a''_{43} x_{3} + a''_{44} x_{4} - \\frac{a''_{43}}{a''_{33}} ( a''_{33} x_{3} + a''_{34} x_{4} )&= b''_{4} - \\frac{a''_{43}}{a''_{33}} b''_{3}\n",
    "\\end{align*}\n",
    "\n",
    "Expandiendo y agrupando términos\n",
    "\n",
    "\\begin{align*}\n",
    "    a_{11} x_{1} + a_{12} x_{2} + a_{13} x_{3} + a_{14} x_{4} &= b_{1} \\\\\n",
    "    a'_{22} x_{2} + a'_{23} x_{3} + a'_{24} x_{4} &= b'_{2} \\\\\n",
    "    a''_{33} x_{3} + a''_{34} x_{4} &= b''_{3} \\\\\n",
    "    \\bigg( a''_{43} - \\frac{a''_{43}}{a''_{33}} a''_{33} \\bigg) x_{3} + \\bigg( a''_{44} - \\frac{a''_{43}}{a''_{33}} a''_{34} \\bigg) x_{4} &= b''_{4} - \\frac{a''_{43}}{a''_{33}} b''_{3}\n",
    "\\end{align*}\n",
    "\n",
    "Usando un cambio de variable\n",
    "\n",
    "\\begin{align*}\n",
    "    a_{11} x_{1} + a_{12} x_{2} + a_{13} x_{3} + a_{14} x_{4} &= b_{1} \\\\\n",
    "    a'_{22} x_{2} + a'_{23} x_{3} + a'_{24} x_{4} &= b'_{2} \\\\\n",
    "    a''_{33} x_{3} + a''_{34} x_{4} &= b''_{3} \\\\\n",
    "    a'''_{44} x_{4} &= b'''_{4}\n",
    "\\end{align*}\n",
    "\n",
    "Lo anterior puede escribirse como\n",
    "\n",
    "\\begin{equation*}\n",
    "    \\begin{array}{llll:l}\n",
    "        a_{11} = a_{11} & a_{12} = a_{12} & a_{13} = a_{13} & a_{14} = a_{14} & b_{1} = b_{1} \\\\\n",
    "        a_{21} = a_{21} - \\frac{a_{21}}{a_{11}} a_{11} & a_{22} = a_{22} - \\frac{a_{21}}{a_{11}} a_{12} & a_{23} = a_{23} - \\frac{a_{21}}{a_{11}} a_{13} & a_{24} = a_{24} - \\frac{a_{21}}{a_{11}} a_{14} & b_{2} = b_{2} - \\frac{a_{21}}{a_{11}} b_{1} \\\\\n",
    "        a_{31} = a_{31} - \\frac{a_{31}}{a_{11}} a_{11} & a_{32} = a_{32} - \\frac{a_{31}}{a_{11}} a_{12} & a_{33} = a_{33} - \\frac{a_{31}}{a_{11}} a_{13} & a_{34} = a_{34} - \\frac{a_{31}}{a_{11}} a_{14} & b_{3} = b_{3} - \\frac{a_{31}}{a_{11}} b_{1} \\\\\n",
    "        a_{41} = a_{41} - \\frac{a_{41}}{a_{11}} a_{11} & a_{42} = a_{42} - \\frac{a_{41}}{a_{11}} a_{12} & a_{43} = a_{43} - \\frac{a_{41}}{a_{11}} a_{13} & a_{44} = a_{44} - \\frac{a_{41}}{a_{11}} a_{14} & b_{4} = b_{4} - \\frac{a_{41}}{a_{11}} b_{1} \\\\\n",
    "        \\hline\n",
    "        a_{11} = a_{11} & a_{12} = a_{12} & a_{13} = a_{13} & a_{14} = a_{14} & b_{1} = b_{1} \\\\\n",
    "        a_{21} = a_{21} & a_{22} = a_{22} & a_{23} = a_{23} & a_{24} = a_{24} & b_{2} = b_{2} \\\\\n",
    "        a_{31} = a_{31} - \\frac{a_{32}}{a_{22}} a_{21} & a_{32} = a_{32} - \\frac{a_{32}}{a_{22}} a_{22} & a_{33} = a_{33} - \\frac{a_{32}}{a_{22}} a_{23} & a_{34} = a_{34} - \\frac{a_{32}}{a_{22}} a_{24} & b_{3} = b_{3} - \\frac{a_{32}}{a_{22}} b_{2} \\\\\n",
    "        a_{41} = a_{41} - \\frac{a_{42}}{a_{22}} a_{21} & a_{42} = a_{42} - \\frac{a_{42}}{a_{22}} a_{22} & a_{43} = a_{43} - \\frac{a_{42}}{a_{22}} a_{23} & a_{44} = a_{44} - \\frac{a_{42}}{a_{22}} a_{24} & b_{4} = b_{4} - \\frac{a_{42}}{a_{22}} b_{2} \\\\\n",
    "        \\hline\n",
    "        a_{11} = a_{11} & a_{12} = a_{12} & a_{13} = a_{13} & a_{14} = a_{14} & b_{1} = b_{1} \\\\\n",
    "        a_{21} = a_{21} & a_{22} = a_{22} & a_{23} = a_{23} & a_{24} = a_{24} & b_{2} = b_{2} \\\\\n",
    "        a_{31} = a_{31} & a_{32} = a_{32} & a_{33} = a_{33} & a_{34} = a_{34} & b_{3} = b_{3} \\\\\n",
    "        a_{41} = a_{41} - \\frac{a_{43}}{a_{33}} a_{31} & a_{42} = a_{42} - \\frac{a_{43}}{a_{33}} a_{32} & a_{43} = a_{43} - \\frac{a_{43}}{a_{33}} a_{33} & a_{44} = a_{44} - \\frac{a_{43}}{a_{33}} a_{34} & b_{4} = b_{4} - \\frac{a_{43}}{a_{33}} b_{3}\n",
    "    \\end{array}\n",
    "\\end{equation*}\n",
    "\n",
    "## Patrón de cálculo\n",
    "\n",
    "### Primer patrón\n",
    "\n",
    "\\begin{equation*}\n",
    "    \\begin{array}{llll:l}\n",
    "        a_{11} = a_{11} & a_{12} = a_{12} & a_{13} = a_{13} & a_{14} = a_{14} & b_{1} = b_{1} \\\\\n",
    "        a_{2\\color{blue}{1}} = a_{2\\color{blue}{1}} - \\frac{a_{21}}{a_{11}} a_{1\\color{blue}{1}} & a_{2\\color{green}{2}} = a_{2\\color{green}{2}} - \\frac{a_{21}}{a_{11}} a_{1\\color{green}{2}} & a_{2\\color{red}{3}} = a_{2\\color{red}{3}} - \\frac{a_{21}}{a_{11}} a_{1\\color{red}{3}} & a_{2\\color{fuchsia}{4}} = a_{2\\color{fuchsia}{4}} - \\frac{a_{21}}{a_{11}} a_{1\\color{fuchsia}{4}} & b_{2} = b_{2} - \\frac{a_{21}}{a_{11}} b_{1} \\\\\n",
    "        a_{3\\color{blue}{1}} = a_{3\\color{blue}{1}} - \\frac{a_{31}}{a_{11}} a_{1\\color{blue}{1}} & a_{3\\color{green}{2}} = a_{3\\color{green}{2}} - \\frac{a_{31}}{a_{11}} a_{1\\color{green}{2}} & a_{3\\color{red}{3}} = a_{3\\color{red}{3}} - \\frac{a_{31}}{a_{11}} a_{1\\color{red}{3}} & a_{3\\color{fuchsia}{4}} = a_{3\\color{fuchsia}{4}} - \\frac{a_{31}}{a_{11}} a_{1\\color{fuchsia}{4}} & b_{3} = b_{3} - \\frac{a_{31}}{a_{11}} b_{1} \\\\\n",
    "        a_{4\\color{blue}{1}} = a_{4\\color{blue}{1}} - \\frac{a_{41}}{a_{11}} a_{1\\color{blue}{1}} & a_{4\\color{green}{2}} = a_{4\\color{green}{2}} - \\frac{a_{41}}{a_{11}} a_{1\\color{green}{2}} & a_{4\\color{red}{3}} = a_{4\\color{red}{3}} - \\frac{a_{41}}{a_{11}} a_{1\\color{red}{3}} & a_{4\\color{fuchsia}{4}} = a_{4\\color{fuchsia}{4}} - \\frac{a_{41}}{a_{11}} a_{1\\color{fuchsia}{4}} & b_{4} = b_{4} - \\frac{a_{41}}{a_{11}} b_{1} \\\\\n",
    "        \\hline\n",
    "        a_{11} = a_{11} & a_{12} = a_{12} & a_{13} = a_{13} & a_{14} = a_{14} & b_{1} = b_{1} \\\\\n",
    "        a_{21} = a_{21} & a_{22} = a_{22} & a_{23} = a_{23} & a_{24} = a_{24} & b_{2} = b_{2} \\\\\n",
    "        a_{3\\color{blue}{1}} = a_{3\\color{blue}{1}} - \\frac{a_{32}}{a_{22}} a_{2\\color{blue}{1}} & a_{3\\color{green}{2}} = a_{3\\color{green}{2}} - \\frac{a_{32}}{a_{22}} a_{2\\color{green}{2}} & a_{3\\color{red}{3}} = a_{3\\color{red}{3}} - \\frac{a_{32}}{a_{22}} a_{2\\color{red}{3}} & a_{3\\color{fuchsia}{4}} = a_{3\\color{fuchsia}{4}} - \\frac{a_{32}}{a_{22}} a_{2\\color{fuchsia}{4}} & b_{3} = b_{3} - \\frac{a_{32}}{a_{22}} b_{2} \\\\\n",
    "        a_{4\\color{blue}{1}} = a_{4\\color{blue}{1}} - \\frac{a_{42}}{a_{22}} a_{2\\color{blue}{1}} & a_{4\\color{green}{2}} = a_{4\\color{green}{2}} - \\frac{a_{42}}{a_{22}} a_{2\\color{green}{2}} & a_{4\\color{red}{3}} = a_{4\\color{red}{3}} - \\frac{a_{42}}{a_{22}} a_{2\\color{red}{3}} & a_{4\\color{fuchsia}{4}} = a_{4\\color{fuchsia}{4}} - \\frac{a_{42}}{a_{22}} a_{2\\color{fuchsia}{4}} & b_{4} = b_{4} - \\frac{a_{42}}{a_{22}} b_{2} \\\\\n",
    "        \\hline\n",
    "        a_{11} = a_{11} & a_{12} = a_{12} & a_{13} = a_{13} & a_{14} = a_{14} & b_{1} = b_{1} \\\\\n",
    "        a_{21} = a_{21} & a_{22} = a_{22} & a_{23} = a_{23} & a_{24} = a_{24} & b_{2} = b_{2} \\\\\n",
    "        a_{31} = a_{31} & a_{32} = a_{32} & a_{33} = a_{33} & a_{34} = a_{34} & b_{3} = b_{3} \\\\\n",
    "        a_{4\\color{blue}{1}} = a_{4\\color{blue}{1}} - \\frac{a_{43}}{a_{33}} a_{3\\color{blue}{1}} & a_{4\\color{green}{2}} = a_{4\\color{green}{2}} - \\frac{a_{43}}{a_{33}} a_{3\\color{green}{2}} & a_{4\\color{red}{3}} = a_{4\\color{red}{3}} - \\frac{a_{43}}{a_{33}} a_{3\\color{red}{3}} & a_{4\\color{fuchsia}{4}} = a_{4\\color{fuchsia}{4}} - \\frac{a_{43}}{a_{33}} a_{3\\color{fuchsia}{4}} & b_{4} = b_{4} - \\frac{a_{43}}{a_{33}} b_{3}\n",
    "    \\end{array}\n",
    "\\end{equation*}\n",
    "\n",
    "lo anterior puede escribirse como\n",
    "\n",
    "\\begin{equation*}\n",
    "    a_{?j} = a_{?j} - \\frac{a_{??}}{a_{??}} a_{?j}\n",
    "\\end{equation*}\n",
    "\n",
    "para $j = 1, 2, 3, 4 = 1 , \\dots, n$\n",
    "\n",
    "### Segundo patrón\n",
    "\n",
    "\\begin{equation*}\n",
    "    \\begin{array}{llll:l}\n",
    "        a_{11} = a_{11} & a_{12} = a_{12} & a_{13} = a_{13} & a_{14} = a_{14} & b_{1} = b_{1} \\\\\n",
    "        a_{\\color{blue}{2}1} = a_{\\color{blue}{2}1} - \\frac{a_{\\color{blue}{2}1}}{a_{11}} a_{11} & a_{\\color{blue}{2}2} = a_{\\color{blue}{2}2} - \\frac{a_{\\color{blue}{2}1}}{a_{11}} a_{12} & a_{\\color{blue}{2}3} = a_{\\color{blue}{2}3} - \\frac{a_{\\color{blue}{2}1}}{a_{11}} a_{13} & a_{\\color{blue}{2}4} = a_{\\color{blue}{2}4} - \\frac{a_{\\color{blue}{2}1}}{a_{11}} a_{14} & b_{\\color{blue}{2}} = b_{\\color{blue}{2}} - \\frac{a_{\\color{blue}{2}1}}{a_{11}} b_{1} \\\\\n",
    "        a_{\\color{green}{3}1} = a_{\\color{green}{3}1} - \\frac{a_{\\color{green}{3}1}}{a_{11}} a_{11} & a_{\\color{green}{3}2} = a_{\\color{green}{3}2} - \\frac{a_{\\color{green}{3}1}}{a_{11}} a_{12} & a_{\\color{green}{3}3} = a_{\\color{green}{3}3} - \\frac{a_{\\color{green}{3}1}}{a_{11}} a_{13} & a_{\\color{green}{3}4} = a_{\\color{green}{3}4} - \\frac{a_{\\color{green}{3}1}}{a_{11}} a_{14} & b_{\\color{green}{3}} = b_{\\color{green}{3}} - \\frac{a_{\\color{green}{3}1}}{a_{11}} b_{1} \\\\\n",
    "        a_{\\color{red}{4}1} = a_{\\color{red}{4}1} - \\frac{a_{\\color{red}{4}1}}{a_{11}} a_{11} & a_{\\color{red}{4}2} = a_{\\color{red}{4}2} - \\frac{a_{\\color{red}{4}1}}{a_{11}} a_{12} & a_{\\color{red}{4}3} = a_{\\color{red}{4}3} - \\frac{a_{\\color{red}{4}1}}{a_{11}} a_{13} & a_{\\color{red}{4}4} = a_{\\color{red}{4}4} - \\frac{a_{\\color{red}{4}1}}{a_{11}} a_{14} & b_{\\color{red}{4}} = b_{\\color{red}{4}} - \\frac{a_{\\color{red}{4}1}}{a_{11}} b_{1} \\\\\n",
    "        \\hline\n",
    "        a_{11} = a_{11} & a_{12} = a_{12} & a_{13} = a_{13} & a_{14} = a_{14} & b_{1} = b_{1} \\\\\n",
    "        a_{21} = a_{21} & a_{22} = a_{22} & a_{23} = a_{23} & a_{24} = a_{24} & b_{2} = b_{2} \\\\\n",
    "        a_{\\color{green}{3}1} = a_{\\color{green}{3}1} - \\frac{a_{\\color{green}{3}2}}{a_{22}} a_{21} & a_{\\color{green}{3}2} = a_{\\color{green}{3}2} - \\frac{a_{\\color{green}{3}2}}{a_{22}} a_{22} & a_{\\color{green}{3}3} = a_{\\color{green}{3}3} - \\frac{a_{\\color{green}{3}2}}{a_{22}} a_{23} & a_{\\color{green}{3}4} = a_{\\color{green}{3}4} - \\frac{a_{\\color{green}{3}2}}{a_{22}} a_{24} & b_{\\color{green}{3}} = b_{\\color{green}{3}} - \\frac{a_{\\color{green}{3}2}}{a_{22}} b_{2} \\\\\n",
    "        a_{\\color{red}{4}1} = a_{\\color{red}{4}1} - \\frac{a_{\\color{red}{4}2}}{a_{22}} a_{21} & a_{\\color{red}{4}2} = a_{\\color{red}{4}2} - \\frac{a_{\\color{red}{4}2}}{a_{22}} a_{22} & a_{\\color{red}{4}3} = a_{\\color{red}{4}3} - \\frac{a_{\\color{red}{4}2}}{a_{22}} a_{23} & a_{\\color{red}{4}4} = a_{\\color{red}{4}4} - \\frac{a_{\\color{red}{4}2}}{a_{22}} a_{24} & b_{\\color{red}{4}} = b_{\\color{red}{4}} - \\frac{a_{\\color{red}{4}2}}{a_{22}} b_{2} \\\\\n",
    "        \\hline\n",
    "        a_{11} = a_{11} & a_{12} = a_{12} & a_{13} = a_{13} & a_{14} = a_{14} & b_{1} = b_{1} \\\\\n",
    "        a_{21} = a_{21} & a_{22} = a_{22} & a_{23} = a_{23} & a_{24} = a_{24} & b_{2} = b_{2} \\\\\n",
    "        a_{31} = a_{31} & a_{32} = a_{32} & a_{33} = a_{33} & a_{34} = a_{34} & b_{3} = b_{3} \\\\\n",
    "        a_{\\color{red}{4}1} = a_{\\color{red}{4}1} - \\frac{a_{\\color{red}{4}3}}{a_{33}} a_{31} & a_{\\color{red}{4}2} = a_{\\color{red}{4}2} - \\frac{a_{\\color{red}{4}3}}{a_{33}} a_{32} & a_{\\color{red}{4}3} = a_{\\color{red}{4}3} - \\frac{a_{\\color{red}{4}3}}{a_{33}} a_{33} & a_{\\color{red}{4}4} = a_{\\color{red}{4}4} - \\frac{a_{\\color{red}{4}3}}{a_{33}} a_{34} & b_{\\color{red}{4}} = b_{\\color{red}{4}} - \\frac{a_{\\color{red}{4}3}}{a_{33}} b_{3}\n",
    "    \\end{array}\n",
    "\\end{equation*}\n",
    "\n",
    "lo anterior puede escribirse como\n",
    "\n",
    "\\begin{align*}\n",
    "    a_{ij} &= a_{ij} - \\frac{a_{i?}}{a_{??}} a_{?j} \\\\\n",
    "    b_{i} &= b_{i} - \\frac{a_{i?}}{a_{??}} b_{?}\n",
    "\\end{align*}\n",
    "\n",
    "para\n",
    "\n",
    "\\begin{align*}\n",
    "    i &= 2, 3, 4 = 2, \\dots, m \\\\\n",
    "    &= 3, 4 = 3, \\dots, m \\\\\n",
    "    &= 4 = 4 , \\dots, m\n",
    "\\end{align*}\n",
    "\n",
    "### Tercer patrón\n",
    "\n",
    "\\begin{equation*}\n",
    "    \\begin{array}{llll:l}\n",
    "        a_{11} = a_{11} & a_{12} = a_{12} & a_{13} = a_{13} & a_{14} = a_{14} & b_{1} = b_{1} \\\\\n",
    "        a_{21} = a_{21} - \\frac{a_{2\\color{blue}{1}}}{a_{\\color{blue}{11}}} a_{\\color{blue}{1}1} & a_{22} = a_{22} - \\frac{a_{2\\color{blue}{1}}}{a_{\\color{blue}{11}}} a_{\\color{blue}{1}2} & a_{23} = a_{23} - \\frac{a_{2\\color{blue}{1}}}{a_{\\color{blue}{11}}} a_{\\color{blue}{1}3} & a_{24} = a_{24} - \\frac{a_{2\\color{blue}{1}}}{a_{\\color{blue}{11}}} a_{\\color{blue}{1}4} & b_{2} = b_{2} - \\frac{a_{2\\color{blue}{1}}}{a_{\\color{blue}{11}}} b_{\\color{blue}{1}} \\\\\n",
    "        a_{31} = a_{31} - \\frac{a_{3\\color{blue}{1}}}{a_{\\color{blue}{11}}} a_{\\color{blue}{1}1} & a_{32} = a_{32} - \\frac{a_{3\\color{blue}{1}}}{a_{\\color{blue}{11}}} a_{\\color{blue}{1}2} & a_{33} = a_{33} - \\frac{a_{3\\color{blue}{1}}}{a_{\\color{blue}{11}}} a_{\\color{blue}{1}3} & a_{34} = a_{34} - \\frac{a_{3\\color{blue}{1}}}{a_{\\color{blue}{11}}} a_{\\color{blue}{1}4} & b_{3} = b_{3} - \\frac{a_{3\\color{blue}{1}}}{a_{\\color{blue}{11}}} b_{\\color{blue}{1}} \\\\\n",
    "        a_{41} = a_{41} - \\frac{a_{4\\color{blue}{1}}}{a_{\\color{blue}{11}}} a_{\\color{blue}{1}1} & a_{42} = a_{42} - \\frac{a_{4\\color{blue}{1}}}{a_{\\color{blue}{11}}} a_{\\color{blue}{1}2} & a_{43} = a_{43} - \\frac{a_{4\\color{blue}{1}}}{a_{\\color{blue}{11}}} a_{\\color{blue}{1}3} & a_{44} = a_{44} - \\frac{a_{4\\color{blue}{1}}}{a_{\\color{blue}{11}}} a_{\\color{blue}{1}4} & b_{4} = b_{4} - \\frac{a_{4\\color{blue}{1}}}{a_{\\color{blue}{11}}} b_{\\color{blue}{1}} \\\\\n",
    "        \\hline\n",
    "        a_{11} = a_{11} & a_{12} = a_{12} & a_{13} = a_{13} & a_{14} = a_{14} & b_{1} = b_{1} \\\\\n",
    "        a_{21} = a_{21} & a_{22} = a_{22} & a_{23} = a_{23} & a_{24} = a_{24} & b_{2} = b_{2} \\\\\n",
    "        a_{31} = a_{31} - \\frac{a_{3\\color{green}{2}}}{a_{\\color{green}{22}}} a_{\\color{green}{2}1} & a_{32} = a_{32} - \\frac{a_{3\\color{green}{2}}}{a_{\\color{green}{22}}} a_{\\color{green}{2}2} & a_{33} = a_{33} - \\frac{a_{3\\color{green}{2}}}{a_{\\color{green}{22}}} a_{\\color{green}{2}3} & a_{34} = a_{34} - \\frac{a_{3\\color{green}{2}}}{a_{\\color{green}{22}}} a_{\\color{green}{2}4} & b_{3} = b_{3} - \\frac{a_{3\\color{green}{2}}}{a_{\\color{green}{22}}} b_{\\color{green}{2}} \\\\\n",
    "        a_{41} = a_{41} - \\frac{a_{4\\color{green}{2}}}{a_{\\color{green}{22}}} a_{\\color{green}{2}1} & a_{42} = a_{42} - \\frac{a_{4\\color{green}{2}}}{a_{\\color{green}{22}}} a_{\\color{green}{2}2} & a_{43} = a_{43} - \\frac{a_{4\\color{green}{2}}}{a_{\\color{green}{22}}} a_{\\color{green}{2}3} & a_{44} = a_{44} - \\frac{a_{4\\color{green}{2}}}{a_{\\color{green}{22}}} a_{\\color{green}{2}4} & b_{4} = b_{4} - \\frac{a_{4\\color{green}{2}}}{a_{\\color{green}{22}}} b_{\\color{green}{2}} \\\\\n",
    "        \\hline\n",
    "        a_{11} = a_{11} & a_{12} = a_{12} & a_{13} = a_{13} & a_{14} = a_{14} & b_{1} = b_{1} \\\\\n",
    "        a_{21} = a_{21} & a_{22} = a_{22} & a_{23} = a_{23} & a_{24} = a_{24} & b_{2} = b_{2} \\\\\n",
    "        a_{31} = a_{31} & a_{32} = a_{32} & a_{33} = a_{33} & a_{34} = a_{34} & b_{3} = b_{3} \\\\\n",
    "        a_{41} = a_{41} - \\frac{a_{4\\color{red}{3}}}{a_{\\color{red}{33}}} a_{\\color{red}{3}1} & a_{42} = a_{42} - \\frac{a_{4\\color{red}{3}}}{a_{\\color{red}{33}}} a_{\\color{red}{3}2} & a_{43} = a_{43} - \\frac{a_{4\\color{red}{3}}}{a_{\\color{red}{33}}} a_{\\color{red}{3}3} & a_{44} = a_{44} - \\frac{a_{4\\color{red}{3}}}{a_{\\color{red}{33}}} a_{\\color{red}{3}4} & b_{4} = b_{4} - \\frac{a_{4\\color{red}{3}}}{a_{\\color{red}{33}}} b_{\\color{red}{3}}\n",
    "    \\end{array}\n",
    "\\end{equation*}\n",
    "\n",
    "lo anterior puede escribirse como\n",
    "\n",
    "\\begin{align*}\n",
    "    a_{ij} &= a_{ij} - \\frac{a_{ik}}{a_{kk}} a_{kj} \\\\\n",
    "    b_{i} &= b_{i} - \\frac{a_{ik}}{a_{kk}} b_{k}\n",
    "\\end{align*}\n",
    "\n",
    "para $k = 1, 2, 3 = 1, \\dots, m - 1$\n",
    "\n",
    "### Fórmula matemática\n",
    "\n",
    "\\begin{align*}\n",
    "    k &= 1, \\dots, m - 1 \\\\\n",
    "    & \\quad i = 1 + k, \\dots, m \\\\\n",
    "    & \\quad \\quad j = 1, \\dots, n \\\\\n",
    "    & \\quad \\quad \\quad a_{ij} = a_{ij} - \\frac{a_{ik}}{a_{kk}} a_{kj} \\\\\n",
    "    & \\quad \\quad b_{i} = b_{i} - \\frac{a_{ik}}{a_{kk}} b_{k}\n",
    "\\end{align*}\n",
    "\n",
    "## Seudocódigo\n",
    "\n",
    "````pascal\n",
    "function eliminacion_adelante(a,b)\n",
    "    m, n = tamaño(a)\n",
    "    for k=1 to m-1 do\n",
    "        for i=1+k to m do\n",
    "            for j=1 to n do\n",
    "                a(i,j) = a(i,j) - a(i,k)*a(k,j)/a(k,k)\n",
    "            end for\n",
    "            b(i) = b(i) - a(i,k)*b(k)/a(k,k)\n",
    "        end for\n",
    "    end for\n",
    "end function\n",
    "````\n",
    "\n",
    "otra alternativa para reducir tiempo de cálculo\n",
    "\n",
    "````pascal\n",
    "function eliminacion_adelante(a,b)\n",
    "    m, n = tamaño(a)\n",
    "    for k=1 to m-1 do\n",
    "        for i=1+k to m do\n",
    "            factor = a(i,k)/a(k,k)\n",
    "            for j=1 to n do\n",
    "                a(i,j) = a(i,j) - factor*a(k,j)\n",
    "            end for\n",
    "            b(i) = b(i) - factor*b(k)\n",
    "        end for\n",
    "    end for\n",
    "end function\n",
    "````\n",
    "\n",
    "## Implementación eliminación hacia adelante"
   ]
  },
  {
   "cell_type": "code",
   "execution_count": 1,
   "metadata": {
    "collapsed": false
   },
   "outputs": [],
   "source": [
    "import numpy as np\n",
    "\n",
    "def eliminacion_adelante(A,B):\n",
    "    a = np.copy(A)\n",
    "    b = np.copy(B)\n",
    "    m, n = a.shape\n",
    "    for k in range(0,m-1):\n",
    "        for i in range(1+k,m):\n",
    "            factor = a[i,k]/a[k,k]\n",
    "            for j in range(0,n):\n",
    "                a[i,j] = a[i,j] - factor*a[k,j]\n",
    "            b[i,0] = b[i,0] - factor*b[k,0]\n",
    "    return a,b"
   ]
  },
  {
   "cell_type": "code",
   "execution_count": 2,
   "metadata": {
    "collapsed": false
   },
   "outputs": [
    {
     "name": "stdout",
     "output_type": "stream",
     "text": [
      "[[  3.   -0.1  -0.2]\n",
      " [  0.1   7.   -0.3]\n",
      " [  0.3  -0.2  10. ]]\n"
     ]
    }
   ],
   "source": [
    "A = np.array([[3,-0.1,-0.2],[0.1,7,-0.3],[0.3,-0.2,10]])\n",
    "print(A)"
   ]
  },
  {
   "cell_type": "code",
   "execution_count": 3,
   "metadata": {
    "collapsed": false
   },
   "outputs": [
    {
     "name": "stdout",
     "output_type": "stream",
     "text": [
      "[[  7.85]\n",
      " [-19.3 ]\n",
      " [ 71.4 ]]\n"
     ]
    }
   ],
   "source": [
    "B = np.array([7.85,-19.3,71.4]).reshape((3,1))\n",
    "print(B)"
   ]
  },
  {
   "cell_type": "code",
   "execution_count": 4,
   "metadata": {
    "collapsed": false
   },
   "outputs": [
    {
     "data": {
      "text/plain": [
       "array([[  3.        ,  -0.1       ,  -0.2       ],\n",
       "       [  0.        ,   7.00333333,  -0.29333333],\n",
       "       [  0.        ,   0.        ,  10.01204188]])"
      ]
     },
     "execution_count": 4,
     "metadata": {},
     "output_type": "execute_result"
    }
   ],
   "source": [
    "eliminacion_adelante(A,B)[0]"
   ]
  },
  {
   "cell_type": "code",
   "execution_count": 5,
   "metadata": {
    "collapsed": false
   },
   "outputs": [
    {
     "data": {
      "text/plain": [
       "array([[  7.85      ],\n",
       "       [-19.56166667],\n",
       "       [ 70.08429319]])"
      ]
     },
     "execution_count": 5,
     "metadata": {},
     "output_type": "execute_result"
    }
   ],
   "source": [
    "eliminacion_adelante(A,B)[1]"
   ]
  },
  {
   "cell_type": "code",
   "execution_count": 6,
   "metadata": {
    "collapsed": false
   },
   "outputs": [
    {
     "name": "stdout",
     "output_type": "stream",
     "text": [
      "[[  3.          -0.1         -0.2          7.85      ]\n",
      " [  0.           7.00333333  -0.29333333 -19.56166667]\n",
      " [  0.           0.          10.01204188  70.08429319]]\n"
     ]
    }
   ],
   "source": [
    "#revisando\n",
    "from scipy.linalg import lu\n",
    "p, l, u = lu(np.concatenate((A,B),axis=1), permute_l=False, overwrite_a=False, check_finite=True)\n",
    "print(u)"
   ]
  },
  {
   "cell_type": "markdown",
   "metadata": {},
   "source": [
    "## Sustitución hacia atrás\n",
    "\n",
    "Resolver el sistema de ecuaciones\n",
    "\n",
    "\\begin{equation*}\n",
    "    \\begin{bmatrix}\n",
    "        3 & -0.1 & -0.2 \\\\\n",
    "        0 & 7.003333 & -0.293333 \\\\\n",
    "        0 & 0 & 10.011204\n",
    "    \\end{bmatrix}\n",
    "    \\begin{bmatrix}\n",
    "        x_{1} \\\\\n",
    "        x_{2} \\\\\n",
    "        x_{3}\n",
    "    \\end{bmatrix} =\n",
    "    \\begin{bmatrix}\n",
    "        7.85 \\\\\n",
    "        -19.561667 \\\\\n",
    "        70.084293\n",
    "    \\end{bmatrix}\n",
    "\\end{equation*}\n",
    "\n",
    "Incógnita $x_{3}$\n",
    "\n",
    "\\begin{equation*}\n",
    "    x_{3} = \\frac{70.084293}{10.011204} = 7.000586\n",
    "\\end{equation*}\n",
    "\n",
    "Incógnita $x_{2}$\n",
    "\n",
    "\\begin{equation*}\n",
    "    x_{2} = \\frac{-19.561667 - (-0.293333)(7.000586)}{7.003333} = -2.499976\n",
    "\\end{equation*}\n",
    "\n",
    "Incógnita $x_{1}$\n",
    "\n",
    "\\begin{equation*}\n",
    "    x_{1} = \\frac{7.85 - (-0.1)(-2.499976) - (-0.2)(7.000586)}{3} = 3.000040\n",
    "\\end{equation*}\n",
    "\n",
    "## Algoritmo de cálculo\n",
    "\n",
    "\\begin{align*}\n",
    "    a_{11} x_{1} + a_{12} x_{2} + a_{13} x_{3} + a_{14} x_{4} &= b_{1} \\\\\n",
    "    a_{22} x_{2} + a_{23} x_{3} + a_{24} x_{4} &= b_{2} \\\\\n",
    "    a_{33} x_{3} + a_{34} x_{4} &= b_{3} \\\\\n",
    "    a_{44} x_{4} &= b_{4}\n",
    "\\end{align*}\n",
    "\n",
    "Incognita $x_{4}$\n",
    "\n",
    "\\begin{equation*}\n",
    "    x_{4} = \\frac{b_{4}}{a_{44}}\n",
    "\\end{equation*}\n",
    "\n",
    "Incognita $x_{3}$\n",
    "\n",
    "\\begin{equation*}\n",
    "    x_{3} = \\frac{b_{3} - a_{34} x_{4}}{a_{33}}\n",
    "\\end{equation*}\n",
    "\n",
    "Incognita $x_{2}$\n",
    "\n",
    "\\begin{equation*}\n",
    "    x_{2} = \\frac{b_{2} - a_{23} x_{3} - a_{24} x_{4} }{a_{22}}\n",
    "\\end{equation*}\n",
    "\n",
    "Incognita $x_{1}$\n",
    "\n",
    "\\begin{equation*}\n",
    "    x_{1} = \\frac{b_{1} - a_{12} x_{2} - a_{13} x_{3} - a_{14} x_{4} }{a_{11}}\n",
    "\\end{equation*}\n",
    "\n",
    "## Patrón de cálculo\n",
    "\n",
    "### Primer patrón\n",
    "\n",
    "\\begin{align*}\n",
    "    x_{\\color{blue}{4}} &= \\frac{b_{\\color{blue}{4}}}{a_{\\color{blue}{44}}} \\\\\n",
    "    x_{3} &= \\frac{b_{3} - a_{34} x_{4}}{a_{33}} \\\\\n",
    "    x_{2} &= \\frac{b_{2} - a_{23} x_{3} - a_{24} x_{4} }{a_{22}} \\\\\n",
    "    x_{1} &= \\frac{b_{1} - a_{12} x_{2} - a_{13} x_{3} - a_{14} x_{4} }{a_{11}}\n",
    "\\end{align*}\n",
    "\n",
    "lo anterior puede escribirse como\n",
    "\n",
    "\\begin{equation*}\n",
    "    x_{m} = \\frac{b_{m}}{a_{mm}}\n",
    "\\end{equation*}\n",
    "\n",
    "### Segundo patrón\n",
    "\n",
    "\\begin{align*}\n",
    "    x_{4} &= \\frac{b_{4}}{a_{44}} \\\\\n",
    "    x_{3} &= \\frac{b_{3} - a_{3\\color{blue}{4}} x_{\\color{blue}{4}}}{a_{33}} \\\\\n",
    "    x_{2} &= \\frac{b_{2} - a_{2\\color{green}{3}} x_{\\color{green}{3}} - a_{2\\color{blue}{4}} x_{\\color{blue}{4}} }{a_{22}} \\\\\n",
    "    x_{1} &= \\frac{b_{1} - a_{1\\color{red}{2}} x_{\\color{red}{2}} - a_{1\\color{green}{3}} x_{\\color{green}{3}} - a_{1\\color{blue}{4}} x_{\\color{blue}{4}} }{a_{11}}\n",
    "\\end{align*}\n",
    "\n",
    "lo anterior puede escribirse como\n",
    "\n",
    "\\begin{equation*}\n",
    "    x_{?} = \\frac{b_{?} - \\sum_{n}^{j} a_{?j} x_{j}}{a_{??}}\n",
    "\\end{equation*}\n",
    "\n",
    "para\n",
    "\n",
    "\\begin{align*}\n",
    "    j &= 4 = n, \\dots, 4 \\\\\n",
    "    &= 4, 3 = n, \\dots, 3 \\\\\n",
    "    &= 4, 3, 2 = n, \\dots, 2\n",
    "\\end{align*}\n",
    "\n",
    "### Tercer patrón\n",
    "\n",
    "\\begin{align*}\n",
    "    x_{4} &= \\frac{b_{4}}{a_{44}} \\\\\n",
    "    x_{\\color{blue}{3}} &= \\frac{b_{\\color{blue}{3}} - a_{\\color{blue}{3}4} x_{4}}{a_{\\color{blue}{33}}} \\\\\n",
    "    x_{\\color{green}{2}} &= \\frac{b_{\\color{green}{2}} - a_{\\color{green}{2}3} x_{3} - a_{\\color{green}{2}4} x_{4} }{a_{\\color{green}{22}}} \\\\\n",
    "    x_{\\color{red}{1}} &= \\frac{b_{\\color{red}{1}} - a_{\\color{red}{1}2} x_{2} - a_{\\color{red}{1}3} x_{3} - a_{\\color{red}{1}4} x_{4} }{a_{\\color{red}{11}}}\n",
    "\\end{align*}\n",
    "\n",
    "lo anterior puede escribirse como\n",
    "\n",
    "\\begin{equation*}\n",
    "    x_{i} = \\frac{b_{i} - \\sum_{n}^{j} a_{ij} x_{j}}{a_{ii}}\n",
    "\\end{equation*}\n",
    "\n",
    "para $i = 3, 2, 1 = m - 1, \\dots, 1$\n",
    "\n",
    "## Fórmula matemática\n",
    "\n",
    "\\begin{align*}\n",
    "    x_{m} &= \\frac{b_{m}}{a_{mm}} \\\\\n",
    "    i &= m - 1, \\dots, 1 \\\\\n",
    "    & \\quad x_{i} = \\frac{b_{i} - \\sum_{j=n}^{1+i} a_{ij} x_{j}}{a_{ii}}\n",
    "\\end{align*}\n",
    "\n",
    "## Seudocódigo\n",
    "\n",
    "````pascal\n",
    "function sustitucion_atras(a,b)\n",
    "    m, n = tamaño(a)\n",
    "    x(m) = b(m)/a(m,m)\n",
    "    for i=m-1 to 1 do\n",
    "        sumatoria = b(i)\n",
    "        for j=n to 1+i do\n",
    "            sumatoria = sumatoria - a(i,j)*x(j)\n",
    "        end for\n",
    "        x(i) = sumatoria / a(i,i)\n",
    "    end for\n",
    "    return x\n",
    "end function\n",
    "````\n",
    "\n",
    "## Implementación sustitución hacia atrás"
   ]
  },
  {
   "cell_type": "code",
   "execution_count": 7,
   "metadata": {
    "collapsed": false
   },
   "outputs": [],
   "source": [
    "import numpy as np\n",
    "\n",
    "def sustitucion_atras(a,b):\n",
    "    m, n = a.shape\n",
    "    x = np.zeros(b.shape)\n",
    "    x[m-1,0] = b[m-1,0]/a[m-1,m-1]\n",
    "    for i in range(m-2,-1,-1):\n",
    "        sumatoria = b[i,0]\n",
    "        for j in range(n-1,i,-1):\n",
    "            sumatoria = sumatoria - a[i,j]*x[j,0]\n",
    "        x[i,0] = sumatoria/a[i,i]\n",
    "    return x"
   ]
  },
  {
   "cell_type": "code",
   "execution_count": 8,
   "metadata": {
    "collapsed": false
   },
   "outputs": [
    {
     "name": "stdout",
     "output_type": "stream",
     "text": [
      "[[  3.        -0.1       -0.2     ]\n",
      " [  0.         7.003333  -0.293333]\n",
      " [  0.         0.        10.011204]]\n"
     ]
    }
   ],
   "source": [
    "A = np.array([[3,-0.1,-0.2],[0,7.003333,-0.293333],[0,0,10.011204]])\n",
    "print(A)"
   ]
  },
  {
   "cell_type": "code",
   "execution_count": 9,
   "metadata": {
    "collapsed": false
   },
   "outputs": [
    {
     "name": "stdout",
     "output_type": "stream",
     "text": [
      "[[  7.85    ]\n",
      " [-19.561667]\n",
      " [ 70.084293]]\n"
     ]
    }
   ],
   "source": [
    "B = np.array([[7.85],[-19.561667],[70.084293]])\n",
    "print(B)"
   ]
  },
  {
   "cell_type": "code",
   "execution_count": 10,
   "metadata": {
    "collapsed": false
   },
   "outputs": [
    {
     "data": {
      "text/plain": [
       "array([[ 3.00003986],\n",
       "       [-2.49997596],\n",
       "       [ 7.00058584]])"
      ]
     },
     "execution_count": 10,
     "metadata": {},
     "output_type": "execute_result"
    }
   ],
   "source": [
    "sustitucion_atras(A,B)"
   ]
  },
  {
   "cell_type": "code",
   "execution_count": 11,
   "metadata": {
    "collapsed": false,
    "scrolled": true
   },
   "outputs": [
    {
     "name": "stdout",
     "output_type": "stream",
     "text": [
      "[[ 3.00003986]\n",
      " [-2.49997596]\n",
      " [ 7.00058584]]\n"
     ]
    },
    {
     "data": {
      "text/plain": [
       "True"
      ]
     },
     "execution_count": 11,
     "metadata": {},
     "output_type": "execute_result"
    }
   ],
   "source": [
    "#revisando el resultado\n",
    "X = np.linalg.solve(A, B)\n",
    "print(X)\n",
    "#revisando la solución\n",
    "np.allclose(np.dot(A, X), B)"
   ]
  },
  {
   "cell_type": "code",
   "execution_count": 12,
   "metadata": {
    "collapsed": false
   },
   "outputs": [
    {
     "name": "stdout",
     "output_type": "stream",
     "text": [
      "[[ 1.  2.  3.]\n",
      " [ 0.  4.  5.]\n",
      " [ 0.  0.  6.]]\n"
     ]
    }
   ],
   "source": [
    "A = np.array([[1,2,3],[0,4,5],[0,0,6]],float)\n",
    "print(A)"
   ]
  },
  {
   "cell_type": "code",
   "execution_count": 13,
   "metadata": {
    "collapsed": false
   },
   "outputs": [
    {
     "name": "stdout",
     "output_type": "stream",
     "text": [
      "[[ 7.]\n",
      " [ 8.]\n",
      " [ 9.]]\n"
     ]
    }
   ],
   "source": [
    "B = np.array([[7],[8],[9]],float)\n",
    "print(B)"
   ]
  },
  {
   "cell_type": "code",
   "execution_count": 14,
   "metadata": {
    "collapsed": false
   },
   "outputs": [
    {
     "data": {
      "text/plain": [
       "array([[ 2.25 ],\n",
       "       [ 0.125],\n",
       "       [ 1.5  ]])"
      ]
     },
     "execution_count": 14,
     "metadata": {},
     "output_type": "execute_result"
    }
   ],
   "source": [
    "sustitucion_atras(A,B)"
   ]
  },
  {
   "cell_type": "code",
   "execution_count": 15,
   "metadata": {
    "collapsed": false
   },
   "outputs": [
    {
     "name": "stdout",
     "output_type": "stream",
     "text": [
      "[[ 2.25 ]\n",
      " [ 0.125]\n",
      " [ 1.5  ]]\n"
     ]
    },
    {
     "data": {
      "text/plain": [
       "True"
      ]
     },
     "execution_count": 15,
     "metadata": {},
     "output_type": "execute_result"
    }
   ],
   "source": [
    "#revisando el resultado\n",
    "X = np.linalg.solve(A, B)\n",
    "print(X)\n",
    "#revisando la solución\n",
    "np.allclose(np.dot(A, X), B)"
   ]
  },
  {
   "cell_type": "markdown",
   "metadata": {},
   "source": [
    "# Implementación eliminación de Gauss"
   ]
  },
  {
   "cell_type": "code",
   "execution_count": 16,
   "metadata": {
    "collapsed": true
   },
   "outputs": [],
   "source": [
    "def eliminacion_gauss(a,b):\n",
    "    A, B = eliminacion_adelante(a,b)\n",
    "    x = sustitucion_atras(A,B)\n",
    "    print(x)"
   ]
  },
  {
   "cell_type": "code",
   "execution_count": 17,
   "metadata": {
    "collapsed": false
   },
   "outputs": [
    {
     "name": "stdout",
     "output_type": "stream",
     "text": [
      "[[  3.   -0.1  -0.2]\n",
      " [  0.1   7.   -0.3]\n",
      " [  0.3  -0.2  10. ]]\n"
     ]
    }
   ],
   "source": [
    "A = np.array([[3,-0.1,-0.2],[0.1,7,-0.3],[0.3,-0.2,10]])\n",
    "print(A)"
   ]
  },
  {
   "cell_type": "code",
   "execution_count": 18,
   "metadata": {
    "collapsed": false
   },
   "outputs": [
    {
     "name": "stdout",
     "output_type": "stream",
     "text": [
      "[[  7.85]\n",
      " [-19.3 ]\n",
      " [ 71.4 ]]\n"
     ]
    }
   ],
   "source": [
    "B = np.array([7.85,-19.3,71.4]).reshape((3,1))\n",
    "print(B)"
   ]
  },
  {
   "cell_type": "code",
   "execution_count": 19,
   "metadata": {
    "collapsed": false
   },
   "outputs": [
    {
     "name": "stdout",
     "output_type": "stream",
     "text": [
      "[[ 3. ]\n",
      " [-2.5]\n",
      " [ 7. ]]\n"
     ]
    }
   ],
   "source": [
    "eliminacion_gauss(A,B)"
   ]
  },
  {
   "cell_type": "code",
   "execution_count": 20,
   "metadata": {
    "collapsed": false
   },
   "outputs": [
    {
     "name": "stdout",
     "output_type": "stream",
     "text": [
      "[[ 3. ]\n",
      " [-2.5]\n",
      " [ 7. ]]\n"
     ]
    },
    {
     "data": {
      "text/plain": [
       "True"
      ]
     },
     "execution_count": 20,
     "metadata": {},
     "output_type": "execute_result"
    }
   ],
   "source": [
    "#revisando el resultado\n",
    "solucion = np.linalg.solve(A, B)\n",
    "print(solucion)\n",
    "#revisando la solución\n",
    "np.allclose(np.dot(A, solucion), B)"
   ]
  },
  {
   "cell_type": "code",
   "execution_count": 21,
   "metadata": {
    "collapsed": true
   },
   "outputs": [],
   "source": [
    "C = np.array([[4,-1,1],\n",
    "              [2,5,2],\n",
    "              [1,2,4]],float)\n",
    "D = np.array([[8],\n",
    "              [3],\n",
    "              [11]],float)"
   ]
  },
  {
   "cell_type": "code",
   "execution_count": 22,
   "metadata": {
    "collapsed": false
   },
   "outputs": [
    {
     "name": "stdout",
     "output_type": "stream",
     "text": [
      "[[ 1.]\n",
      " [-1.]\n",
      " [ 3.]]\n"
     ]
    }
   ],
   "source": [
    "eliminacion_gauss(C,D)"
   ]
  },
  {
   "cell_type": "code",
   "execution_count": 23,
   "metadata": {
    "collapsed": false
   },
   "outputs": [
    {
     "name": "stdout",
     "output_type": "stream",
     "text": [
      "[[ 1.]\n",
      " [-1.]\n",
      " [ 3.]]\n"
     ]
    },
    {
     "data": {
      "text/plain": [
       "True"
      ]
     },
     "execution_count": 23,
     "metadata": {},
     "output_type": "execute_result"
    }
   ],
   "source": [
    "#revisando el resultado\n",
    "solucion = np.linalg.solve(C, D)\n",
    "print(solucion)\n",
    "#revisando la solución\n",
    "np.allclose(np.dot(C, solucion), D)"
   ]
  },
  {
   "cell_type": "code",
   "execution_count": 24,
   "metadata": {
    "collapsed": true
   },
   "outputs": [],
   "source": [
    "E = np.array([[1,5,-1,1,-1],\n",
    "              [2,2,4,-1,1],\n",
    "              [3,12,-3,-2,3],\n",
    "              [4,10,-2,4,-5],\n",
    "              [16,-10,6,-1,-1]],float)\n",
    "F = np.array([[2],\n",
    "              [4],\n",
    "              [8],\n",
    "              [16],\n",
    "              [32]],float)"
   ]
  },
  {
   "cell_type": "code",
   "execution_count": 25,
   "metadata": {
    "collapsed": false
   },
   "outputs": [
    {
     "name": "stdout",
     "output_type": "stream",
     "text": [
      "[[ -0.125     ]\n",
      " [  1.42105263]\n",
      " [ -1.19078947]\n",
      " [-30.76315789]\n",
      " [-24.59210526]]\n"
     ]
    }
   ],
   "source": [
    "eliminacion_gauss(E,F)"
   ]
  },
  {
   "cell_type": "code",
   "execution_count": 26,
   "metadata": {
    "collapsed": false
   },
   "outputs": [
    {
     "name": "stdout",
     "output_type": "stream",
     "text": [
      "[[ -0.125     ]\n",
      " [  1.42105263]\n",
      " [ -1.19078947]\n",
      " [-30.76315789]\n",
      " [-24.59210526]]\n"
     ]
    },
    {
     "data": {
      "text/plain": [
       "True"
      ]
     },
     "execution_count": 26,
     "metadata": {},
     "output_type": "execute_result"
    }
   ],
   "source": [
    "#revisando el resultado\n",
    "solucion = np.linalg.solve(E, F)\n",
    "print(solucion)\n",
    "#revisando la solución\n",
    "np.allclose(np.dot(E, solucion), F)"
   ]
  }
 ],
 "metadata": {
  "kernelspec": {
   "display_name": "Python 3",
   "language": "python",
   "name": "python3"
  },
  "language_info": {
   "codemirror_mode": {
    "name": "ipython",
    "version": 3
   },
   "file_extension": ".py",
   "mimetype": "text/x-python",
   "name": "python",
   "nbconvert_exporter": "python",
   "pygments_lexer": "ipython3",
   "version": "3.4.3"
  }
 },
 "nbformat": 4,
 "nbformat_minor": 0
}
