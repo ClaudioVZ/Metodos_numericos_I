{
 "cells": [
  {
   "cell_type": "markdown",
   "metadata": {},
   "source": [
    "# Algoritmo de Crout revisitado\n",
    "\n",
    "Superponiendo las matrices $\\mathbf{L}$ y $\\mathbf{U}$\n",
    "\n",
    "\\begin{equation*}\n",
    "    \\begin{array}{llll}\n",
    "        l_{11} = a_{11} & u_{12} = \\cfrac{a_{12}}{l_{11}} & u_{13} = \\cfrac{a_{13}}{l_{11}} & u_{14} = \\cfrac{a_{14}}{l_{11}} \\\\\n",
    "        l_{21} = a_{21} & l_{22} = a_{22} - l_{21} u_{12} & u_{23} = \\cfrac{a_{23} - l_{21} u_{13}}{l_{22}} & u_{24} = \\cfrac{a_{24} - l_{21} u_{14}}{l_{22}} \\\\\n",
    "        l_{31} = a_{31} & l_{32} = a_{32} - l_{31} u_{12} & l_{33} = a_{33} - l_{31} u_{13} - l_{32} u_{23} & u_{34} = \\cfrac{a_{34} - l_{31} u_{14} - l_{32} u_{24}}{l_{33}} \\\\\n",
    "        l_{41} = a_{41} & l_{42} = a_{42} - l_{41} u_{12} & l_{43} = a_{43} - l_{41} u_{13} - l_{42} u_{23} & l_{44} = a_{44} - l_{41} u_{14} - l_{42} u_{24} - l_{43} u_{34}\n",
    "    \\end{array}\n",
    "\\end{equation*}\n",
    "\n",
    "Se usara una matriz para ahorrar memoria\n",
    "\n",
    "\\begin{equation*}\n",
    "    \\begin{array}{llll}\n",
    "        a_{11} = a_{11} & a_{12} = \\cfrac{a_{12}}{a_{11}} & a_{13} = \\cfrac{a_{13}}{a_{11}} & a_{14} = \\cfrac{a_{14}}{a_{11}} \\\\\n",
    "        a_{21} = a_{21} & a_{22} = a_{22} - a_{21} a_{12} & a_{23} = \\cfrac{a_{23} - a_{21} a_{13}}{a_{22}} & a_{24} = \\cfrac{a_{24} - a_{21} a_{14}}{a_{22}} \\\\\n",
    "        a_{31} = a_{31} & a_{32} = a_{32} - a_{31} a_{12} & a_{33} = a_{33} - a_{31} a_{13} - a_{32} a_{23} & a_{34} = \\cfrac{a_{34} - a_{31} a_{14} - a_{32} a_{24}}{a_{33}} \\\\\n",
    "        a_{41} = a_{41} & a_{42} = a_{42} - a_{41} a_{12} & a_{43} = a_{43} - a_{41} a_{13} - a_{42} a_{23} & a_{44} = a_{44} - a_{41} a_{14} - a_{42} a_{24} - a_{43} a_{34}\n",
    "    \\end{array}\n",
    "\\end{equation*}\n",
    "\n",
    "## Fórmula matemática\n",
    "\n",
    "\\begin{align*}\n",
    "    j &= 2, \\dots, n \\\\\n",
    "    & \\quad a_{1j} = \\frac{a_{1j}}{a_{11}} \\\\\n",
    "    j &= 2, \\dots, n-1 \\\\\n",
    "    & \\quad a_{jj} = a_{jj} - \\sum_{k=1}^{j-1} a_{jk} a_{kj} \\\\\n",
    "    & \\quad i = j+1, m \\\\\n",
    "    & \\quad \\quad a_{ij} = a_{ij} - \\sum_{k=1}^{j-1} a_{ik} a_{kj} \\\\\n",
    "    & \\quad \\quad a_{ji} = \\frac{a_{ji} - \\sum_{k=1}^{j-1} a_{jk} a_{ki}}{a_{jj}} \\\\\n",
    "    a_{nn} &= a_{nn} - \\sum_{k=1}^{n-1} a_{nk} a_{kn}\n",
    "\\end{align*}\n",
    "\n",
    "\n",
    "## Seudocódigo\n",
    "\n",
    "````pascal\n",
    "function lu_crout(A)\n",
    "    for j=2 to n do\n",
    "        a(1,j) = a(1,j)/a(1,1)\n",
    "    end for\n",
    "    for j=2 to n-1 do\n",
    "        suma = a(j,j)\n",
    "        for k=1 to j-1 do\n",
    "            suma = suma - a(j,k)*a(k,j)\n",
    "        end for\n",
    "        a(j,j) = suma\n",
    "        for i=j+1 to m do\n",
    "            sumav = a(i,j)\n",
    "            sumah = a(j,i)\n",
    "            for k=1 to j-1 do\n",
    "                sumav = sumav - a(i,k)*a(k,j)\n",
    "                sumah = sumah - a(j,k)*a(k,i)\n",
    "            end for\n",
    "            a(i,j) = sumav\n",
    "            a(j,i) = sumah/a(j,j)\n",
    "        end for\n",
    "    end for\n",
    "    suma = a(n,n)\n",
    "    for k=1 to n-1 do\n",
    "        suma = suma - a(n,k)*a(k,n)\n",
    "    end for\n",
    "    a(n,n) = suma\n",
    "    return a\n",
    "end function\n",
    "````\n",
    "\n",
    "## Implementación"
   ]
  },
  {
   "cell_type": "code",
   "execution_count": 1,
   "metadata": {
    "collapsed": false
   },
   "outputs": [],
   "source": [
    "import numpy as np\n",
    "\n",
    "def lu_crout(A):\n",
    "    a = np.copy(A)\n",
    "    m, n = a.shape\n",
    "    for j in range(1,n):\n",
    "        a[0,j] = a[0,j]/a[0,0]\n",
    "        \n",
    "    for j in range(1,n-1):\n",
    "        suma = a[j,j]\n",
    "        for k in range(0,j):\n",
    "            suma = suma - a[j,k]*a[k,j]\n",
    "        a[j,j] = suma\n",
    "        for i in range(j+1,m):\n",
    "            sumav = a[i,j]\n",
    "            sumah = a[j,i]\n",
    "            for k in range(0,j):\n",
    "                sumav = sumav - a[i,k]*a[k,j]\n",
    "                sumah = sumah - a[j,k]*a[k,i]\n",
    "            a[i,j] = sumav\n",
    "            a[j,i] = sumah/a[j,j]\n",
    "            \n",
    "    suma = a[n-1,n-1]\n",
    "    for k in range(0,n-1):\n",
    "        suma = suma - a[n-1,k]*a[k,n-1]\n",
    "    a[n-1,n-1] = suma\n",
    "    \n",
    "    return a"
   ]
  },
  {
   "cell_type": "code",
   "execution_count": 2,
   "metadata": {
    "collapsed": false
   },
   "outputs": [
    {
     "name": "stdout",
     "output_type": "stream",
     "text": [
      "[[ 1.  1.  2.  3.]\n",
      " [ 2.  1. -1.  1.]\n",
      " [ 3. -1. -1.  2.]\n",
      " [-1.  2.  3. -1.]]\n"
     ]
    }
   ],
   "source": [
    "A = np.array([[1,1,2,3],\n",
    "              [2,1,-1,1],\n",
    "              [3,-1,-1,2],\n",
    "              [-1,2,3,-1]],float)\n",
    "print(A)"
   ]
  },
  {
   "cell_type": "code",
   "execution_count": 3,
   "metadata": {
    "collapsed": false
   },
   "outputs": [
    {
     "name": "stdout",
     "output_type": "stream",
     "text": [
      "[[  1.   1.   2.   3.]\n",
      " [  2.  -1.   5.   5.]\n",
      " [  3.  -4.  13.   1.]\n",
      " [ -1.   3. -10.  -3.]]\n"
     ]
    }
   ],
   "source": [
    "#resultado\n",
    "B = lu_crout(A)\n",
    "print(B)"
   ]
  },
  {
   "cell_type": "code",
   "execution_count": 4,
   "metadata": {
    "collapsed": false
   },
   "outputs": [
    {
     "name": "stdout",
     "output_type": "stream",
     "text": [
      "[[  1.   0.   0.   0.]\n",
      " [  2.  -1.   0.   0.]\n",
      " [  3.  -4.  13.   0.]\n",
      " [ -1.   3. -10.  -3.]]\n",
      "[[ 1.  1.  2.  3.]\n",
      " [ 0.  1.  5.  5.]\n",
      " [ 0.  0.  1.  1.]\n",
      " [ 0.  0.  0.  1.]]\n"
     ]
    }
   ],
   "source": [
    "L = np.tril(B)\n",
    "U = np.triu(B)\n",
    "np.fill_diagonal(U,1)\n",
    "\n",
    "print(L) #matriz triangular inferior\n",
    "print(U) #matriz triangular superior"
   ]
  },
  {
   "cell_type": "code",
   "execution_count": 5,
   "metadata": {
    "collapsed": false
   },
   "outputs": [
    {
     "data": {
      "text/plain": [
       "array([[ 1.,  1.,  2.,  3.],\n",
       "       [ 2.,  1., -1.,  1.],\n",
       "       [ 3., -1., -1.,  2.],\n",
       "       [-1.,  2.,  3., -1.]])"
      ]
     },
     "execution_count": 5,
     "metadata": {},
     "output_type": "execute_result"
    }
   ],
   "source": [
    "#revisando el resultado\n",
    "np.dot(L,U)"
   ]
  },
  {
   "cell_type": "code",
   "execution_count": 6,
   "metadata": {
    "collapsed": false
   },
   "outputs": [
    {
     "name": "stdout",
     "output_type": "stream",
     "text": [
      "[[  3.   -0.1  -0.2]\n",
      " [  0.1   7.   -0.3]\n",
      " [  0.3  -0.2  10. ]]\n"
     ]
    }
   ],
   "source": [
    "A = np.array([[3,-0.1,-0.2],\n",
    "              [0.1,7,-0.3],\n",
    "              [0.3,-0.2,10]],float)\n",
    "print(A)"
   ]
  },
  {
   "cell_type": "code",
   "execution_count": 7,
   "metadata": {
    "collapsed": false
   },
   "outputs": [
    {
     "name": "stdout",
     "output_type": "stream",
     "text": [
      "[[  3.          -0.03333333  -0.06666667]\n",
      " [  0.1          7.00333333  -0.04188482]\n",
      " [  0.3         -0.19        10.01204188]]\n"
     ]
    }
   ],
   "source": [
    "#resultado\n",
    "B = lu_crout(A)\n",
    "print(B)"
   ]
  },
  {
   "cell_type": "code",
   "execution_count": 8,
   "metadata": {
    "collapsed": false
   },
   "outputs": [
    {
     "name": "stdout",
     "output_type": "stream",
     "text": [
      "[[  3.           0.           0.        ]\n",
      " [  0.1          7.00333333   0.        ]\n",
      " [  0.3         -0.19        10.01204188]]\n",
      "[[ 1.         -0.03333333 -0.06666667]\n",
      " [ 0.          1.         -0.04188482]\n",
      " [ 0.          0.          1.        ]]\n"
     ]
    }
   ],
   "source": [
    "L = np.tril(B)\n",
    "U = np.triu(B)\n",
    "np.fill_diagonal(U,1)\n",
    "\n",
    "print(L) #matriz triangular inferior\n",
    "print(U) #matriz triangular superior"
   ]
  },
  {
   "cell_type": "code",
   "execution_count": 9,
   "metadata": {
    "collapsed": false
   },
   "outputs": [
    {
     "data": {
      "text/plain": [
       "array([[  3. ,  -0.1,  -0.2],\n",
       "       [  0.1,   7. ,  -0.3],\n",
       "       [  0.3,  -0.2,  10. ]])"
      ]
     },
     "execution_count": 9,
     "metadata": {},
     "output_type": "execute_result"
    }
   ],
   "source": [
    "#revisando el resultado\n",
    "np.dot(L,U)"
   ]
  }
 ],
 "metadata": {
  "kernelspec": {
   "display_name": "Python 3",
   "language": "python",
   "name": "python3"
  },
  "language_info": {
   "codemirror_mode": {
    "name": "ipython",
    "version": 3
   },
   "file_extension": ".py",
   "mimetype": "text/x-python",
   "name": "python",
   "nbconvert_exporter": "python",
   "pygments_lexer": "ipython3",
   "version": "3.4.3"
  }
 },
 "nbformat": 4,
 "nbformat_minor": 0
}
