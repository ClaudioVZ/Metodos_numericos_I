{
 "cells": [
  {
   "cell_type": "markdown",
   "metadata": {},
   "source": [
    "# Eliminación de Gauss\n",
    "\n",
    "## Eliminación hacia atrás\n",
    "\n",
    "Transformar el sistema de ecuaciones en un sistema triangular inferior\n",
    "\n",
    "\\begin{equation*}\n",
    "    \\begin{bmatrix}\n",
    "        3 & -0.1 & -0.2 \\\\\n",
    "        0.1 & 7 & -0.3 \\\\\n",
    "        0.3 & -0.2 & 10\n",
    "    \\end{bmatrix}\n",
    "    \\begin{bmatrix}\n",
    "        x_{1} \\\\\n",
    "        x_{2} \\\\\n",
    "        x_{3}\n",
    "    \\end{bmatrix} =\n",
    "    \\begin{bmatrix}\n",
    "        7.85 \\\\\n",
    "        -19.3 \\\\\n",
    "        71.4\n",
    "    \\end{bmatrix}\n",
    "\\end{equation*}\n",
    "\n",
    "Tercera fila pivote\n",
    "\n",
    "\\begin{equation*}\n",
    "    \\begin{bmatrix}\n",
    "        3 - \\frac{-0.2}{10} (0.3) & -0.1 - \\frac{-0.2}{10} (-0.2) & -0.2 - \\frac{-0.2}{10} (10) \\\\\n",
    "        0.1 - \\frac{-0.3}{10} (0.3) & 7 - \\frac{-0.3}{10} (-0.2) & -0.3 - \\frac{-0.3}{10} (10) \\\\\n",
    "        0.3 & -0.2 & 10\n",
    "    \\end{bmatrix}\n",
    "    \\begin{bmatrix}\n",
    "        x_{1} \\\\\n",
    "        x_{2} \\\\\n",
    "        x_{3}\n",
    "    \\end{bmatrix} =\n",
    "    \\begin{bmatrix}\n",
    "        7.85 - \\frac{-0.2}{10} (71.4) \\\\\n",
    "        -19.3 - \\frac{-0.3}{10} (71.4) \\\\\n",
    "        71.4\n",
    "    \\end{bmatrix}\n",
    "\\end{equation*}\n",
    "\n",
    "Simplificando\n",
    "\n",
    "\\begin{equation*}\n",
    "    \\begin{bmatrix}\n",
    "        3.006 & -0.104 & 0 \\\\\n",
    "        0.109 & 6.994 & 0 \\\\\n",
    "        0.3 & -0.2 & 10\n",
    "    \\end{bmatrix}\n",
    "    \\begin{bmatrix}\n",
    "        x_{1} \\\\\n",
    "        x_{2} \\\\\n",
    "        x_{3}\n",
    "    \\end{bmatrix} =\n",
    "    \\begin{bmatrix}\n",
    "        9.278 \\\\\n",
    "        -17.158 \\\\\n",
    "        71.4\n",
    "    \\end{bmatrix}\n",
    "\\end{equation*}\n",
    "\n",
    "Segunda fila pivote\n",
    "\n",
    "\\begin{equation*}\n",
    "    \\begin{bmatrix}\n",
    "        3.006 - \\frac{-0.104}{6.994} (0.109) & -0.104 - \\frac{-0.104}{6.994} (6.994) & 0 \\\\\n",
    "        0.109 & 6.994 & 0 \\\\\n",
    "        0.3 & -0.2 & 10\n",
    "    \\end{bmatrix}\n",
    "    \\begin{bmatrix}\n",
    "        x_{1} \\\\\n",
    "        x_{2} \\\\\n",
    "        x_{3}\n",
    "    \\end{bmatrix} =\n",
    "    \\begin{bmatrix}\n",
    "        9.278 - \\frac{-0.104}{6.994} (-17.158) \\\\\n",
    "        -17.158 \\\\\n",
    "        71.4\n",
    "    \\end{bmatrix}\n",
    "\\end{equation*}\n",
    "\n",
    "Simplificando\n",
    "\n",
    "\\begin{equation*}\n",
    "    \\begin{bmatrix}\n",
    "        3.007621 & 0 & 0 \\\\\n",
    "        0.109 & 6.994 & 0 \\\\\n",
    "        0.3 & -0.2 & 10\n",
    "    \\end{bmatrix}\n",
    "    \\begin{bmatrix}\n",
    "        x_{1} \\\\\n",
    "        x_{2} \\\\\n",
    "        x_{3}\n",
    "    \\end{bmatrix} =\n",
    "    \\begin{bmatrix}\n",
    "        9.022862 \\\\\n",
    "        -17.158 \\\\\n",
    "        71.4\n",
    "    \\end{bmatrix}\n",
    "\\end{equation*}\n",
    "\n",
    "## Algoritmo de cálculo\n",
    "\n",
    "\\begin{align*}\n",
    "    a_{11} x_{1} + a_{12} x_{2} + a_{13} x_{3} + a_{14} x_{4} &= b_{1} \\\\\n",
    "    a_{21} x_{1} + a_{22} x_{2} + a_{23} x_{3} + a_{24} x_{4} &= b_{2} \\\\\n",
    "    a_{31} x_{1} + a_{32} x_{2} + a_{33} x_{3} + a_{34} x_{4} &= b_{3} \\\\\n",
    "    a_{41} x_{1} + a_{42} x_{2} + a_{43} x_{3} + a_{44} x_{4} &= b_{4}\n",
    "\\end{align*}\n",
    "\n",
    "### Cuarta fila pivote\n",
    "\n",
    "\\begin{align*}\n",
    "    a_{11} x_{1} + a_{12} x_{2} + a_{13} x_{3} + a_{14} x_{4} - \\frac{a_{14}}{a_{44}} ( a_{41} x_{1} + a_{42} x_{2} + a_{43} x_{3} + a_{44} x_{4} ) &= b_{1} - \\frac{a_{14}}{a_{44}} b_{4} \\\\\n",
    "    a_{21} x_{1} + a_{22} x_{2} + a_{23} x_{3} + a_{24} x_{4} - \\frac{a_{24}}{a_{44}} ( a_{41} x_{1} + a_{42} x_{2} + a_{43} x_{3} + a_{44} x_{4} ) &= b_{2} - \\frac{a_{24}}{a_{44}} b_{4} \\\\\n",
    "    a_{21} x_{1} + a_{22} x_{2} + a_{23} x_{3} + a_{34} x_{4} - \\frac{a_{34}}{a_{44}} ( a_{41} x_{1} + a_{42} x_{2} + a_{43} x_{3} + a_{44} x_{4} ) &= b_{3} - \\frac{a_{34}}{a_{44}} b_{4} \\\\\n",
    "    a_{41} x_{1} + a_{42} x_{2} + a_{43} x_{3} + a_{44} x_{4} &= b_{4}\n",
    "\\end{align*}\n",
    "\n",
    "Expandiendo y agrupando términos\n",
    "\n",
    "\\begin{align*}\n",
    "    \\bigg( a_{11} - \\frac{a_{13}}{a_{33}} a_{41} \\bigg) x_{1} + \\bigg( a_{12} - \\frac{a_{13}}{a_{33}} a_{42} \\bigg) x_{2} + \\bigg( a_{13} - \\frac{a_{13}}{a_{33}} a_{43} \\bigg) x_{3} + \\bigg( a_{14} - \\frac{a_{14}}{a_{33}} a_{44} \\bigg) x_{4} &= b_{1} - \\frac{a_{14}}{a_{44}} b_{4} \\\\\n",
    "    \\bigg( a_{21} - \\frac{a_{23}}{a_{33}} a_{41} \\bigg) x_{1} + \\bigg( a_{22} - \\frac{a_{23}}{a_{33}} a_{42} \\bigg) x_{2} + \\bigg( a_{23} - \\frac{a_{23}}{a_{33}} a_{43} \\bigg) x_{3} + \\bigg( a_{24} - \\frac{a_{24}}{a_{33}} a_{44} \\bigg) x_{4} &= b_{2} - \\frac{a_{24}}{a_{44}} b_{4} \\\\\n",
    "    \\bigg( a_{31} - \\frac{a_{23}}{a_{33}} a_{41} \\bigg) x_{1} + \\bigg( a_{32} - \\frac{a_{23}}{a_{33}} a_{42} \\bigg) x_{2} + \\bigg( a_{33} - \\frac{a_{23}}{a_{33}} a_{43} \\bigg) x_{3} + \\bigg( a_{34} - \\frac{a_{34}}{a_{33}} a_{44} \\bigg) x_{4} &= b_{3} - \\frac{a_{34}}{a_{44}} b_{4} \\\\\n",
    "    a_{41} x_{1} + a_{42} x_{2} + a_{43} x_{3} + a_{44} x_{4} &= b_{4}\n",
    "\\end{align*}\n",
    "\n",
    "Usando un cambio de variable\n",
    "\n",
    "\\begin{alignedat}{5}\n",
    "    a'_{11} x_{1} & {}+{} a'_{12} x_{2} & {}+{} a'_{13} x_{3} & & {}={} b'_{1} \\\\\n",
    "    a'_{21} x_{1} & {}+{} a'_{22} x_{2} & {}+{} a'_{23} x_{3} & & {}={} b'_{2} \\\\\n",
    "    a'_{31} x_{1} & {}+{} a'_{32} x_{2} & {}+{} a'_{33} x_{3} & & {}={} b'_{3} \\\\\n",
    "    a_{41} x_{1} & {}+{} a_{42} x_{2} & {}+{} a_{43} x_{3} & {}+{} a_{44} x_{4} & {}={} b_{4}\n",
    "\\end{alignedat}\n",
    "\n",
    "### Tercera fila pivote\n",
    "\n",
    "\\begin{align*}\n",
    "    a'_{11} x_{1} + a'_{12} x_{2} + a'_{13} x_{3} - \\frac{a'_{13}}{a'_{33}} ( a'_{31} x_{1} + a'_{32} x_{2} + a'_{33} x_{3} ) &= b'_{1} - \\frac{a'_{13}}{a'_{33}} b'_{3} \\\\\n",
    "    a'_{21} x_{1} + a'_{22} x_{2} + a'_{23} x_{3} - \\frac{a'_{23}}{a'_{33}} ( a'_{31} x_{1} + a'_{32} x_{2} + a'_{33} x_{3} ) &= b'_{2} - \\frac{a'_{23}}{a'_{33}} b'_{3} \\\\\n",
    "    a'_{31} x_{1} + a'_{32} x_{2} + a'_{33} x_{3} &= b'_{3} \\\\\n",
    "    a_{41} x_{1} + a_{42} x_{2} + a_{43} x_{3} + a_{44} x_{4} &= b_{4}\n",
    "\\end{align*}\n",
    "\n",
    "Expandiendo y agrupando términos\n",
    "\n",
    "\\begin{align*}\n",
    "    \\bigg( a'_{11} - \\frac{a'_{13}}{a'_{33}} a'_{31} \\bigg) x_{1} + \\bigg( a'_{12} - \\frac{a'_{13}}{a'_{33}} a'_{32} \\bigg) x_{2} + \\bigg( a'_{13} - \\frac{a'_{13}}{a'_{33}} a'_{33} \\bigg) x_{3} &= b'_{1} - \\frac{a'_{13}}{a'_{33}} b'_{3} \\\\\n",
    "    \\bigg( a'_{21} - \\frac{a'_{23}}{a'_{33}} a'_{31} \\bigg) x_{1} + \\bigg( a'_{22} - \\frac{a'_{23}}{a'_{33}} a'_{32} \\bigg) x_{2} + \\bigg( a'_{23} - \\frac{a'_{23}}{a'_{33}} a'_{33} \\bigg) x_{3} &= b'_{2} - \\frac{a'_{23}}{a'_{33}} b'_{3} \\\\\n",
    "    a'_{31} x_{1} + a'_{32} x_{2} + a'_{33} x_{3} &= b'_{3} \\\\\n",
    "    a_{41} x_{1} + a_{42} x_{2} + a_{43} x_{3} + a_{44} x_{4} &= b_{4}\n",
    "\\end{align*}\n",
    "\n",
    "Usando un cambio de variable\n",
    "\n",
    "\\begin{alignedat}{5}\n",
    "    a''_{11} x_{1} & {}+{} a''_{12} x_{2} & & & {}={} b''_{1} \\\\\n",
    "    a''_{21} x_{1} & {}+{} a''_{22} x_{2} & & & {}={} b''_{2} \\\\\n",
    "    a'_{31} x_{1} & {}+{} a'_{32} x_{2} & {}+{} a'_{33} x_{3} & & {}={} b'_{3} \\\\\n",
    "    a_{41} x_{1} & {}+{} a_{42} x_{2} & {}+{} a_{43} x_{3} & {}+{} a_{44} x_{4} & {}={} b_{4}\n",
    "\\end{alignedat}\n",
    "\n",
    "### Segunda fila pivote\n",
    "\n",
    "\\begin{align*}\n",
    "    a''_{11} x_{1} + a''_{12} x_{2} - \\frac{a''_{12}}{a''_{22}} ( a''_{21} x_{1} + a''_{22} x_{2} ) &= b''_{1} - \\frac{a''_{12}}{a''_{22}} b''_{2} \\\\\n",
    "    a''_{21} x_{1} + a''_{22} x_{2} &= b''_{2} \\\\\n",
    "    a'_{31} x_{1} + a'_{32} x_{2} + a'_{33} x_{3} &= b'_{3} \\\\\n",
    "    a_{41} x_{1} + a_{42} x_{2} + a_{43} x_{3} + a_{44} x_{4} &= b_{4}\n",
    "\\end{align*}\n",
    "\n",
    "Expandiendo y agrupando términos\n",
    "\n",
    "\\begin{alignedat}{5}\n",
    "    \\bigg( a''_{11} - \\frac{a''_{12}}{a''_{22}} a''_{21} \\bigg) x_{1} + \\bigg( a''_{12} - \\frac{a''_{12}}{a''_{22}} a''_{22} \\bigg) x_{2} &= b''_{1} - \\frac{a''_{12}}{a''_{22}} b''_{2} \\\\\n",
    "    a''_{21} x_{1} + a''_{22} x_{2} &= b''_{2} \\\\\n",
    "    a'_{31} x_{1} + a'_{32} x_{2} + a'_{33} x_{3} &= b'_{3} \\\\\n",
    "    a_{41} x_{1} + a_{42} x_{2} + a_{43} x_{3} + a_{44} x_{4} &= b_{4}\n",
    "\\end{alignedat}\n",
    "\n",
    "Usando un cambio de variable\n",
    "\n",
    "\\begin{alignedat}{5}\n",
    "    a'''_{11} x_{1} & & & & {}={} b'''_{1} \\\\\n",
    "    a''_{21} x_{1} & {}+{} a''_{22} x_{2} & & & {}={} b''_{2} \\\\\n",
    "    a'_{31} x_{1} & {}+{} a'_{32} x_{2} & {}+{} a'_{33} x_{3} & & {}={} b'_{3} \\\\\n",
    "    a_{41} x_{1} & {}+{} a_{42} x_{2} & {}+{} a_{43} x_{3} & {}+{} a_{44} x_{4} & {}={} b_{4}\n",
    "\\end{alignedat}\n",
    "\n",
    "Lo anterior puede escribirse como\n",
    "\n",
    "\\begin{equation*}\n",
    "    \\begin{array}{llll:l}\n",
    "        a_{11} = a_{11} - \\frac{a_{14}}{a_{44}} a_{41} & a_{12} = a_{12} - \\frac{a_{14}}{a_{44}} a_{42} & a_{13} = a_{13} - \\frac{a_{14}}{a_{44}} a_{43} & a_{14} = a_{14} - \\frac{a_{14}}{a_{44}} a_{44} & b_{1} = b_{1} - \\frac{a_{14}}{a_{44}} b_{4} \\\\\n",
    "        a_{21} = a_{21} - \\frac{a_{24}}{a_{44}} a_{41} & a_{22} = a_{22} - \\frac{a_{24}}{a_{44}} a_{42} & a_{23} = a_{23} - \\frac{a_{24}}{a_{44}} a_{43} & a_{24} = a_{24} - \\frac{a_{24}}{a_{44}} a_{44} & b_{2} = b_{2} - \\frac{a_{24}}{a_{44}} b_{4} \\\\\n",
    "        a_{31} = a_{31} - \\frac{a_{34}}{a_{44}} a_{41} & a_{32} = a_{32} - \\frac{a_{34}}{a_{44}} a_{42} & a_{33} = a_{33} - \\frac{a_{34}}{a_{44}} a_{43} & a_{34} = a_{34} - \\frac{a_{34}}{a_{44}} a_{44} & b_{3} = b_{3} - \\frac{a_{34}}{a_{44}} b_{4} \\\\\n",
    "        a_{41} = a_{41} & a_{42} = a_{42} & a_{43} = a_{43} & a_{44} = a_{44} & b_{4} = b_{4} \\\\\n",
    "        \\hline\n",
    "        a_{11} = a_{11} - \\frac{a_{13}}{a_{33}} a_{31} & a_{12} = a_{12} - \\frac{a_{13}}{a_{33}} a_{32} & a_{13} = a_{13} - \\frac{a_{13}}{a_{33}} a_{33} & a_{14} = a_{14} - \\frac{a_{13}}{a_{33}} a_{34} & b_{1} = b_{1} - \\frac{a_{13}}{a_{33}} b_{3} \\\\\n",
    "        a_{21} = a_{21} - \\frac{a_{23}}{a_{33}} a_{31} & a_{22} = a_{22} - \\frac{a_{23}}{a_{33}} a_{32} & a_{23} = a_{23} - \\frac{a_{23}}{a_{33}} a_{33} & a_{24} = a_{24} - \\frac{a_{23}}{a_{33}} a_{34} & b_{2} = b_{2} - \\frac{a_{23}}{a_{33}} b_{3} \\\\\n",
    "        a_{31} = a_{31} & a_{32} = a_{32} & a_{33} = a_{33} & a_{34} = a_{34} & b_{3} = b_{3} \\\\\n",
    "        a_{41} = a_{41} & a_{42} = a_{42} & a_{43} = a_{43} & a_{44} = a_{44} & b_{4} = b_{4} \\\\\n",
    "        \\hline\n",
    "        a_{11} = a_{11} - \\frac{a_{12}}{a_{22}} a_{21} & a_{12} = a_{12} - \\frac{a_{12}}{a_{22}} a_{22} & a_{13} = a_{13} - \\frac{a_{12}}{a_{22}} a_{23} & a_{14} = a_{14} - \\frac{a_{12}}{a_{22}} a_{24} & b_{1} = b_{1} - \\frac{a_{12}}{a_{22}} b_{2} \\\\\n",
    "        a_{21} = a_{21} & a_{22} = a_{22} & a_{23} = a_{23} & a_{24} = a_{24} & b_{2} = b_{2} \\\\\n",
    "        a_{31} = a_{31} & a_{32} = a_{32} & a_{33} = a_{33} & a_{34} = a_{34} & b_{3} = b_{3} \\\\\n",
    "        a_{41} = a_{41} & a_{42} = a_{42} & a_{43} = a_{43} & a_{44} = a_{44} & b_{4} = b_{4}\n",
    "    \\end{array}\n",
    "\\end{equation*}\n",
    "\n",
    "## Patrón de cálculo\n",
    "\n",
    "### Primer patrón\n",
    "\n",
    "\\begin{equation*}\n",
    "    \\begin{array}{llll:l}\n",
    "        a_{1\\color{fuchsia}{1}} = a_{1\\color{fuchsia}{1}} - \\frac{a_{14}}{a_{44}} a_{4\\color{fuchsia}{1}} & a_{1\\color{red}{2}} = a_{1\\color{red}{2}} - \\frac{a_{14}}{a_{44}} a_{4\\color{red}{2}} & a_{1\\color{green}{3}} = a_{1\\color{green}{3}} - \\frac{a_{14}}{a_{44}} a_{4\\color{green}{3}} & a_{1\\color{blue}{4}} = a_{1\\color{blue}{4}} - \\frac{a_{14}}{a_{44}} a_{4\\color{blue}{4}} & b_{1} = b_{1} - \\frac{a_{14}}{a_{44}} b_{4} \\\\\n",
    "        a_{2\\color{fuchsia}{1}} = a_{2\\color{fuchsia}{1}} - \\frac{a_{24}}{a_{44}} a_{4\\color{fuchsia}{1}} & a_{2\\color{red}{2}} = a_{2\\color{red}{2}} - \\frac{a_{24}}{a_{44}} a_{4\\color{red}{2}} & a_{2\\color{green}{3}} = a_{2\\color{green}{3}} - \\frac{a_{24}}{a_{44}} a_{4\\color{green}{3}} & a_{2\\color{blue}{4}} = a_{2\\color{blue}{4}} - \\frac{a_{24}}{a_{44}} a_{4\\color{blue}{4}} & b_{2} = b_{2} - \\frac{a_{24}}{a_{44}} b_{4} \\\\\n",
    "        a_{3\\color{fuchsia}{1}} = a_{3\\color{fuchsia}{1}} - \\frac{a_{34}}{a_{44}} a_{4\\color{fuchsia}{1}} & a_{3\\color{red}{2}} = a_{3\\color{red}{2}} - \\frac{a_{34}}{a_{44}} a_{4\\color{red}{2}} & a_{3\\color{green}{3}} = a_{3\\color{green}{3}} - \\frac{a_{34}}{a_{44}} a_{4\\color{green}{3}} & a_{3\\color{blue}{4}} = a_{3\\color{blue}{4}} - \\frac{a_{34}}{a_{44}} a_{4\\color{blue}{4}} & b_{3} = b_{3} - \\frac{a_{34}}{a_{44}} b_{4} \\\\\n",
    "        a_{41} = a_{41} & a_{42} = a_{42} & a_{43} = a_{43} & a_{44} = a_{44} & b_{4} = b_{4} \\\\\n",
    "        \\hline\n",
    "        a_{1\\color{fuchsia}{1}} = a_{1\\color{fuchsia}{1}} - \\frac{a_{13}}{a_{33}} a_{3\\color{fuchsia}{1}} & a_{1\\color{red}{2}} = a_{1\\color{red}{2}} - \\frac{a_{13}}{a_{33}} a_{3\\color{red}{2}} & a_{1\\color{green}{3}} = a_{1\\color{green}{3}} - \\frac{a_{13}}{a_{33}} a_{3\\color{green}{3}} & a_{1\\color{blue}{4}} = a_{1\\color{blue}{4}} - \\frac{a_{13}}{a_{33}} a_{3\\color{blue}{4}} & b_{1} = b_{1} - \\frac{a_{13}}{a_{33}} b_{3} \\\\\n",
    "        a_{2\\color{fuchsia}{1}} = a_{2\\color{fuchsia}{1}} - \\frac{a_{23}}{a_{33}} a_{3\\color{fuchsia}{1}} & a_{2\\color{red}{2}} = a_{2\\color{red}{2}} - \\frac{a_{23}}{a_{33}} a_{3\\color{red}{2}} & a_{2\\color{green}{3}} = a_{2\\color{green}{3}} - \\frac{a_{23}}{a_{33}} a_{3\\color{green}{3}} & a_{2\\color{blue}{4}} = a_{2\\color{blue}{4}} - \\frac{a_{23}}{a_{33}} a_{3\\color{blue}{4}} & b_{2} = b_{2} - \\frac{a_{23}}{a_{33}} b_{3} \\\\\n",
    "        a_{31} = a_{31} & a_{32} = a_{32} & a_{33} = a_{33} & a_{34} = a_{34} & b_{3} = b_{3} \\\\\n",
    "        a_{41} = a_{41} & a_{42} = a_{42} & a_{43} = a_{43} & a_{44} = a_{44} & b_{4} = b_{4} \\\\\n",
    "        \\hline\n",
    "        a_{1\\color{fuchsia}{1}} = a_{1\\color{fuchsia}{1}} - \\frac{a_{12}}{a_{22}} a_{2\\color{fuchsia}{1}} & a_{1\\color{red}{2}} = a_{1\\color{red}{2}} - \\frac{a_{12}}{a_{22}} a_{2\\color{red}{2}} & a_{1\\color{green}{3}} = a_{1\\color{green}{3}} - \\frac{a_{12}}{a_{22}} a_{2\\color{green}{3}} & a_{1\\color{blue}{4}} = a_{1\\color{blue}{4}} - \\frac{a_{12}}{a_{22}} a_{2\\color{blue}{4}} & b_{1} = b_{1} - \\frac{a_{12}}{a_{22}} b_{2} \\\\\n",
    "        a_{21} = a_{21} & a_{22} = a_{22} & a_{23} = a_{23} & a_{24} = a_{24} & b_{2} = b_{2} \\\\\n",
    "        a_{31} = a_{31} & a_{32} = a_{32} & a_{33} = a_{33} & a_{34} = a_{34} & b_{3} = b_{3} \\\\\n",
    "        a_{41} = a_{41} & a_{42} = a_{42} & a_{43} = a_{43} & a_{44} = a_{44} & b_{4} = b_{4}\n",
    "    \\end{array}\n",
    "\\end{equation*}\n",
    "\n",
    "lo anterior puede escribirse como\n",
    "\n",
    "\\begin{equation*}\n",
    "    a_{?j} = a_{?j} - \\frac{a_{??}}{a_{??}} a_{?j}\n",
    "\\end{equation*}\n",
    "\n",
    "para $j = 4, 3, 2, 1 = n , \\dots, 1$\n",
    "\n",
    "### Segundo patrón\n",
    "\n",
    "\\begin{equation*}\n",
    "    \\begin{array}{llll:l}\n",
    "        a_{\\color{red}{1}1} = a_{\\color{red}{1}1} - \\frac{a_{\\color{red}{1}4}}{a_{44}} a_{41} & a_{\\color{red}{1}2} = a_{\\color{red}{1}2} - \\frac{a_{\\color{red}{1}4}}{a_{44}} a_{42} & a_{\\color{red}{1}3} = a_{\\color{red}{1}3} - \\frac{a_{\\color{red}{1}4}}{a_{44}} a_{43} & a_{\\color{red}{1}4} = a_{\\color{red}{1}4} - \\frac{a_{\\color{red}{1}4}}{a_{44}} a_{44} & b_{\\color{red}{1}} = b_{\\color{red}{1}} - \\frac{a_{\\color{red}{1}4}}{a_{44}} b_{4} \\\\\n",
    "        a_{\\color{green}{2}1} = a_{\\color{green}{2}1} - \\frac{a_{\\color{green}{2}4}}{a_{44}} a_{41} & a_{\\color{green}{2}2} = a_{\\color{green}{2}2} - \\frac{a_{\\color{green}{2}4}}{a_{44}} a_{42} & a_{\\color{green}{2}3} = a_{\\color{green}{2}3} - \\frac{a_{\\color{green}{2}4}}{a_{44}} a_{43} & a_{\\color{green}{2}4} = a_{\\color{green}{2}4} - \\frac{a_{\\color{green}{2}4}}{a_{44}} a_{44} & b_{\\color{green}{2}} = b_{\\color{green}{2}} - \\frac{a_{\\color{green}{2}4}}{a_{44}} b_{4} \\\\\n",
    "        a_{\\color{blue}{3}1} = a_{\\color{blue}{3}1} - \\frac{a_{\\color{blue}{3}4}}{a_{44}} a_{41} & a_{\\color{blue}{3}2} = a_{\\color{blue}{3}2} - \\frac{a_{\\color{blue}{3}4}}{a_{44}} a_{42} & a_{\\color{blue}{3}3} = a_{\\color{blue}{3}3} - \\frac{a_{\\color{blue}{3}4}}{a_{44}} a_{43} & a_{\\color{blue}{3}4} = a_{\\color{blue}{3}4} - \\frac{a_{\\color{blue}{3}4}}{a_{44}} a_{44} & b_{\\color{blue}{3}} = b_{\\color{blue}{3}} - \\frac{a_{\\color{blue}{3}4}}{a_{44}} b_{4} \\\\\n",
    "        a_{41} = a_{41} & a_{42} = a_{42} & a_{43} = a_{43} & a_{44} = a_{44} & b_{4} = b_{4} \\\\\n",
    "        \\hline\n",
    "        a_{\\color{red}{1}1} = a_{\\color{red}{1}1} - \\frac{a_{\\color{red}{1}3}}{a_{33}} a_{31} & a_{\\color{red}{1}2} = a_{\\color{red}{1}2} - \\frac{a_{\\color{red}{1}3}}{a_{33}} a_{32} & a_{\\color{red}{1}3} = a_{\\color{red}{1}3} - \\frac{a_{\\color{red}{1}3}}{a_{33}} a_{33} & a_{\\color{red}{1}4} = a_{\\color{red}{1}4} - \\frac{a_{\\color{red}{1}3}}{a_{33}} a_{34} & b_{\\color{red}{1}} = b_{\\color{red}{1}} - \\frac{a_{\\color{red}{1}3}}{a_{33}} b_{3} \\\\\n",
    "        a_{\\color{green}{2}1} = a_{\\color{green}{2}1} - \\frac{a_{\\color{green}{2}3}}{a_{33}} a_{31} & a_{\\color{green}{2}2} = a_{\\color{green}{2}2} - \\frac{a_{\\color{green}{2}3}}{a_{33}} a_{32} & a_{\\color{green}{2}3} = a_{\\color{green}{2}3} - \\frac{a_{\\color{green}{2}3}}{a_{33}} a_{33} & a_{\\color{green}{2}4} = a_{\\color{green}{2}4} - \\frac{a_{\\color{green}{2}3}}{a_{33}} a_{34} & b_{\\color{green}{2}} = b_{\\color{green}{2}} - \\frac{a_{\\color{green}{2}3}}{a_{33}} b_{3} \\\\\n",
    "        a_{31} = a_{31} & a_{32} = a_{32} & a_{33} = a_{33} & a_{34} = a_{34} & b_{3} = b_{3} \\\\\n",
    "        a_{41} = a_{41} & a_{42} = a_{42} & a_{43} = a_{43} & a_{44} = a_{44} & b_{4} = b_{4} \\\\\n",
    "        \\hline\n",
    "        a_{\\color{red}{1}1} = a_{\\color{red}1} - \\frac{a_{\\color{red}{1}2}}{a_{22}} a_{21} & a_{\\color{red}{1}2} = a_{\\color{red}{1}2} - \\frac{a_{\\color{red}{1}2}}{a_{22}} a_{22} & a_{\\color{red}{1}3} = a_{\\color{red}{1}3} - \\frac{a_{\\color{red}{1}2}}{a_{22}} a_{23} & a_{\\color{red}{1}4} = a_{\\color{red}{1}4} - \\frac{a_{\\color{red}{1}2}}{a_{22}} a_{24} & b_{\\color{red}{1}} = b_{\\color{red}{1}} - \\frac{a_{\\color{red}{1}2}}{a_{22}} b_{2} \\\\\n",
    "        a_{21} = a_{21} & a_{22} = a_{22} & a_{23} = a_{23} & a_{24} = a_{24} & b_{2} = b_{2} \\\\\n",
    "        a_{31} = a_{31} & a_{32} = a_{32} & a_{33} = a_{33} & a_{34} = a_{34} & b_{3} = b_{3} \\\\\n",
    "        a_{41} = a_{41} & a_{42} = a_{42} & a_{43} = a_{43} & a_{44} = a_{44} & b_{4} = b_{4}\n",
    "    \\end{array}\n",
    "\\end{equation*}\n",
    "\n",
    "lo anterior puede escribirse como\n",
    "\n",
    "\\begin{align*}\n",
    "    a_{ij} &= a_{ij} - \\frac{a_{i?}}{a_{??}} a_{?j} \\\\\n",
    "    b_{i} &= b_{i} - \\frac{a_{i?}}{a_{??}} b_{?}\n",
    "\\end{align*}\n",
    "\n",
    "para\n",
    "\n",
    "\\begin{align*}\n",
    "    i &= 3, 2, 1 \\\\\n",
    "    &= 2, 1 \\\\\n",
    "    &= 1 \\\\\n",
    "\\end{align*}\n",
    "\n",
    "### Tercer patrón\n",
    "\n",
    "\\begin{equation*}\n",
    "    \\begin{array}{llll:l}\n",
    "        a_{11} = a_{11} - \\frac{a_{1\\color{blue}{4}}}{a_{\\color{blue}{44}}} a_{\\color{blue}{4}1} & a_{12} = a_{12} - \\frac{a_{1\\color{blue}{4}}}{a_{\\color{blue}{44}}} a_{\\color{blue}{4}2} & a_{13} = a_{13} - \\frac{a_{1\\color{blue}{4}}}{a_{\\color{blue}{44}}} a_{\\color{blue}{4}3} & a_{14} = a_{14} - \\frac{a_{1\\color{blue}{4}}}{a_{\\color{blue}{44}}} a_{\\color{blue}{4}4} & b_{1} = b_{1} - \\frac{a_{1\\color{blue}{4}}}{a_{\\color{blue}{44}}} b_{\\color{blue}{4}} \\\\\n",
    "        a_{21} = a_{21} - \\frac{a_{2\\color{blue}{4}}}{a_{\\color{blue}{44}}} a_{\\color{blue}{4}1} & a_{22} = a_{22} - \\frac{a_{2\\color{blue}{4}}}{a_{\\color{blue}{44}}} a_{\\color{blue}{4}2} & a_{23} = a_{23} - \\frac{a_{2\\color{blue}{4}}}{a_{\\color{blue}{44}}} a_{\\color{blue}{4}3} & a_{24} = a_{24} - \\frac{a_{2\\color{blue}{4}}}{a_{\\color{blue}{44}}} a_{\\color{blue}{4}4} & b_{2} = b_{2} - \\frac{a_{2\\color{blue}{4}}}{a_{\\color{blue}{44}}} b_{\\color{blue}{4}} \\\\\n",
    "        a_{31} = a_{31} - \\frac{a_{3\\color{blue}{4}}}{a_{\\color{blue}{44}}} a_{\\color{blue}{4}1} & a_{32} = a_{32} - \\frac{a_{3\\color{blue}{4}}}{a_{\\color{blue}{44}}} a_{\\color{blue}{4}2} & a_{33} = a_{33} - \\frac{a_{3\\color{blue}{4}}}{a_{\\color{blue}{44}}} a_{\\color{blue}{4}3} & a_{34} = a_{34} - \\frac{a_{3\\color{blue}{4}}}{a_{\\color{blue}{44}}} a_{\\color{blue}{4}4} & b_{3} = b_{3} - \\frac{a_{3\\color{blue}{4}}}{a_{\\color{blue}{44}}} b_{\\color{blue}{4}} \\\\\n",
    "        a_{41} = a_{41} & a_{42} = a_{42} & a_{43} = a_{43} & a_{44} = a_{44} & b_{4} = b_{4} \\\\\n",
    "        \\hline\n",
    "        a_{11} = a_{11} - \\frac{a_{1\\color{green}{3}}}{a_{\\color{green}{33}}} a_{\\color{green}{3}1} & a_{12} = a_{12} - \\frac{a_{1\\color{green}{3}}}{a_{\\color{green}{33}}} a_{\\color{green}{3}2} & a_{13} = a_{13} - \\frac{a_{1\\color{green}{3}}}{a_{\\color{green}{33}}} a_{\\color{green}{3}3} & a_{14} = a_{14} - \\frac{a_{1\\color{green}{3}}}{a_{\\color{green}{33}}} a_{\\color{green}{3}4} & b_{1} = b_{1} - \\frac{a_{1\\color{green}{3}}}{a_{\\color{green}{33}}} b_{\\color{green}{3}} \\\\\n",
    "        a_{21} = a_{21} - \\frac{a_{2\\color{green}{3}}}{a_{\\color{green}{33}}} a_{\\color{green}{3}1} & a_{22} = a_{22} - \\frac{a_{2\\color{green}{3}}}{a_{\\color{green}{33}}} a_{\\color{green}{3}2} & a_{23} = a_{23} - \\frac{a_{2\\color{green}{3}}}{a_{\\color{green}{33}}} a_{\\color{green}{3}3} & a_{24} = a_{24} - \\frac{a_{2\\color{green}{3}}}{a_{\\color{green}{33}}} a_{\\color{green}{3}4} & b_{2} = b_{2} - \\frac{a_{2\\color{green}{3}}}{a_{\\color{green}{33}}} b_{\\color{green}{3}} \\\\\n",
    "        a_{31} = a_{31} & a_{32} = a_{32} & a_{33} = a_{33} & a_{34} = a_{34} & b_{3} = b_{3} \\\\\n",
    "        a_{41} = a_{41} & a_{42} = a_{42} & a_{43} = a_{43} & a_{44} = a_{44} & b_{4} = b_{4} \\\\\n",
    "        \\hline\n",
    "        a_{11} = a_{11} - \\frac{a_{1\\color{red}{2}}}{a_{\\color{red}{22}}} a_{\\color{red}{2}1} & a_{12} = a_{12} - \\frac{a_{1\\color{red}{2}}}{a_{\\color{red}{22}}} a_{\\color{red}{2}2} & a_{13} = a_{13} - \\frac{a_{1\\color{red}{2}}}{a_{\\color{red}{22}}} a_{\\color{red}{2}3} & a_{14} = a_{14} - \\frac{a_{1\\color{red}{2}}}{a_{\\color{red}{22}}} a_{\\color{red}{2}4} & b_{1} = b_{1} - \\frac{a_{1\\color{red}{2}}}{a_{\\color{red}{22}}} b_{\\color{red}{2}} \\\\\n",
    "        a_{21} = a_{21} & a_{22} = a_{22} & a_{23} = a_{23} & a_{24} = a_{24} & b_{2} = b_{2} \\\\\n",
    "        a_{31} = a_{31} & a_{32} = a_{32} & a_{33} = a_{33} & a_{34} = a_{34} & b_{3} = b_{3} \\\\\n",
    "        a_{41} = a_{41} & a_{42} = a_{42} & a_{43} = a_{43} & a_{44} = a_{44} & b_{4} = b_{4}\n",
    "    \\end{array}\n",
    "\\end{equation*}\n",
    "\n",
    "lo anterior puede escribirse como\n",
    "\n",
    "\\begin{align*}\n",
    "    a_{ij} &= a_{ij} - \\frac{a_{ik}}{a_{kk}} a_{kj} \\\\\n",
    "    b_{i} &= b_{i} - \\frac{a_{ik}}{a_{kk}} b_{k}\n",
    "\\end{align*}\n",
    "\n",
    "para $k = 4, 3, 2 = m, \\dots, 2$\n",
    "\n",
    "### Fórmula matemática\n",
    "\n",
    "\\begin{align*}\n",
    "    k &= m, \\dots, 2 \\\\\n",
    "    & \\quad i = k-1, \\dots, 1 \\\\\n",
    "    & \\quad \\quad j = n, \\dots, 1 \\\\\n",
    "    & \\quad \\quad \\quad a_{ij} = a_{ij} - \\frac{a_{ik}}{a_{kk}} a_{kj} \\\\\n",
    "    & \\quad \\quad b_{i} = b_{i} - \\frac{a_{ik}}{a_{kk}} b_{k}\n",
    "\\end{align*}\n",
    "\n",
    "## Seudocódigo\n",
    "\n",
    "````pascal\n",
    "function eliminacion_atras(a,b)\n",
    "    m, n = tamaño(a)\n",
    "    for k=m to 2 do\n",
    "        for i=k-1 to 1 do\n",
    "            for j=n to 1 do\n",
    "                a(i,j) = a(i,j) - a(i,k)*a(k,j)/a(k,k)\n",
    "            end for\n",
    "            b(i) = b(i) - a(i,k)*b(k)/a(k,k)\n",
    "        end for\n",
    "    end for\n",
    "end function\n",
    "````\n",
    "\n",
    "otra alternativa para reducir tiempo de cálculo\n",
    "\n",
    "````pascal\n",
    "function eliminacion_atras(a,b)\n",
    "    m, n = tamaño(a)\n",
    "    for k=m to 2 do\n",
    "        for i=k-1 to 1 do\n",
    "            factor = a(i,k)/a(k,k)\n",
    "            for j=n to 1 do\n",
    "                a(i,j) = a(i,j) - a(i,k)*a(k,j)/a(k,k)\n",
    "            end for\n",
    "            b(i) = b(i) - a(i,k)*b(k)/a(k,k)\n",
    "        end for\n",
    "    end for\n",
    "end function\n",
    "````\n",
    "\n",
    "## Implementación eliminación hacia atrás"
   ]
  },
  {
   "cell_type": "code",
   "execution_count": 1,
   "metadata": {
    "collapsed": true
   },
   "outputs": [],
   "source": [
    "import numpy as np\n",
    "\n",
    "def eliminacion_atras(A,B):\n",
    "    a = np.copy(A)\n",
    "    b = np.copy(B)\n",
    "    m, n = a.shape\n",
    "    for k in range(m-1,-1,-1):\n",
    "        for i in range(k-1,-1,-1):\n",
    "            factor = a[i,k]/a[k,k]\n",
    "            for j in range(n-1,-1,-1):\n",
    "                a[i,j] = a[i,j] - factor*a[k,j]\n",
    "            b[i,0] = b[i,0] - factor*b[k,0]\n",
    "    return a,b"
   ]
  },
  {
   "cell_type": "code",
   "execution_count": 2,
   "metadata": {
    "collapsed": false
   },
   "outputs": [
    {
     "name": "stdout",
     "output_type": "stream",
     "text": [
      "[[  3.   -0.1  -0.2]\n",
      " [  0.1   7.   -0.3]\n",
      " [  0.3  -0.2  10. ]]\n"
     ]
    }
   ],
   "source": [
    "A = np.array([[3,-0.1,-0.2],[0.1,7,-0.3],[0.3,-0.2,10]])\n",
    "print(A)"
   ]
  },
  {
   "cell_type": "code",
   "execution_count": 3,
   "metadata": {
    "collapsed": false
   },
   "outputs": [
    {
     "name": "stdout",
     "output_type": "stream",
     "text": [
      "[[  7.85]\n",
      " [-19.3 ]\n",
      " [ 71.4 ]]\n"
     ]
    }
   ],
   "source": [
    "B = np.array([7.85,-19.3,71.4]).reshape((3,1))\n",
    "print(B)"
   ]
  },
  {
   "cell_type": "code",
   "execution_count": 4,
   "metadata": {
    "collapsed": false
   },
   "outputs": [
    {
     "data": {
      "text/plain": [
       "array([[  3.00762082,   0.        ,   0.        ],\n",
       "       [  0.109     ,   6.994     ,   0.        ],\n",
       "       [  0.3       ,  -0.2       ,  10.        ]])"
      ]
     },
     "execution_count": 4,
     "metadata": {},
     "output_type": "execute_result"
    }
   ],
   "source": [
    "eliminacion_atras(A,B)[0]"
   ]
  },
  {
   "cell_type": "code",
   "execution_count": 5,
   "metadata": {
    "collapsed": false
   },
   "outputs": [
    {
     "data": {
      "text/plain": [
       "array([[  9.02286245],\n",
       "       [-17.158     ],\n",
       "       [ 71.4       ]])"
      ]
     },
     "execution_count": 5,
     "metadata": {},
     "output_type": "execute_result"
    }
   ],
   "source": [
    "eliminacion_atras(A,B)[1]"
   ]
  },
  {
   "cell_type": "markdown",
   "metadata": {},
   "source": [
    "## Sustitución hacia adelante\n",
    "\n",
    "Resolver el sistema de ecuaciones\n",
    "\n",
    "\\begin{equation*}\n",
    "    \\begin{bmatrix}\n",
    "        3.007621 & 0 & 0 \\\\\n",
    "        0.109 & 6.994 & 0 \\\\\n",
    "        0.3 & -0.2 & 10\n",
    "    \\end{bmatrix}\n",
    "    \\begin{bmatrix}\n",
    "        x_{1} \\\\\n",
    "        x_{2} \\\\\n",
    "        x_{3}\n",
    "    \\end{bmatrix} =\n",
    "    \\begin{bmatrix}\n",
    "        9.022862 \\\\\n",
    "        -17.158 \\\\\n",
    "        71.4\n",
    "    \\end{bmatrix}\n",
    "\\end{equation*}\n",
    "\n",
    "Incógnita $x_{1}$\n",
    "\n",
    "\\begin{equation*}\n",
    "    x_{1} = \\frac{9.022862}{3.007621} = 3\n",
    "\\end{equation*}\n",
    "\n",
    "Incógnita $x_{2}$\n",
    "\n",
    "\\begin{equation*}\n",
    "    x_{2} = \\frac{-17.158 - (0.109)(3)}{6.994} = -2.5\n",
    "\\end{equation*}\n",
    "\n",
    "Incógnita $x_{1}$\n",
    "\n",
    "\\begin{equation*}\n",
    "    x_{1} = \\frac{71.4 - (0.3)(3) - (-0.2)(-2.5)}{10} = 7\n",
    "\\end{equation*}\n",
    "\n",
    "## Algoritmo de cálculo\n",
    "\n",
    "\\begin{alignedat}{5}\n",
    "    a_{11} x_{1} & & & & {}={} b_{1} \\\\\n",
    "    a_{21} x_{1} & {}+{} a_{22} x_{2} & & & {}={} b_{2} \\\\\n",
    "    a_{31} x_{1} & {}+{} a_{32} x_{2} & {}+{} a_{33} x_{3} & & {}={} b_{3} \\\\\n",
    "    a_{41} x_{1} & {}+{} a_{42} x_{2} & {}+{} a_{43} x_{3} & {}+{} a_{44} x_{4} & {}={} b_{4}\n",
    "\\end{alignedat}\n",
    "\n",
    "Incognita $x_{1}$\n",
    "\n",
    "\\begin{equation*}\n",
    "    x_{1} = \\frac{b_{1}}{a_{11}}\n",
    "\\end{equation*}\n",
    "\n",
    "Incognita $x_{2}$\n",
    "\n",
    "\\begin{equation*}\n",
    "    x_{2} = \\frac{b_{2} - a_{21} x_{1}}{a_{22}}\n",
    "\\end{equation*}\n",
    "\n",
    "Incognita $x_{3}$\n",
    "\n",
    "\\begin{equation*}\n",
    "    x_{3} = \\frac{b_{3} - a_{31} x_{1} - a_{32} x_{2} }{a_{33}}\n",
    "\\end{equation*}\n",
    "\n",
    "Incognita $x_{4}$\n",
    "\n",
    "\\begin{equation*}\n",
    "    x_{4} = \\frac{b_{4} - a_{41} x_{1} - a_{42} x_{2} - a_{43} x_{3} }{a_{44}}\n",
    "\\end{equation*}\n",
    "\n",
    "## Patrón de cálculo\n",
    "\n",
    "### Primer patrón\n",
    "\n",
    "\\begin{align*}\n",
    "    x_{\\color{blue}{1}} &= \\frac{b_{\\color{blue}{1}}}{a_{\\color{blue}{11}}} \\\\\n",
    "    x_{2} &= \\frac{b_{2} - a_{21} x_{1}}{a_{22}} \\\\\n",
    "    x_{3} &= \\frac{b_{3} - a_{31} x_{1} - a_{32} x_{2} }{a_{33}} \\\\\n",
    "    x_{4} &= \\frac{b_{4} - a_{41} x_{1} - a_{42} x_{2} - a_{43} x_{3} }{a_{44}}\n",
    "\\end{align*}\n",
    "\n",
    "lo anterior puede escribirse como\n",
    "\n",
    "\\begin{equation*}\n",
    "    x_{1} = \\frac{b_{1}}{a_{11}}\n",
    "\\end{equation*}\n",
    "\n",
    "### Segundo patrón\n",
    "\n",
    "\\begin{align*}\n",
    "    x_{1} &= \\frac{b_{1}}{a_{11}} \\\\\n",
    "    x_{2} &= \\frac{b_{2} - a_{2\\color{blue}{1}} x_{\\color{blue}{1}}}{a_{22}} \\\\\n",
    "    x_{3} &= \\frac{b_{3} - a_{3\\color{blue}{1}} x_{\\color{blue}{1}} - a_{3\\color{green}{2}} x_{\\color{green}{2}} }{a_{33}} \\\\\n",
    "    x_{4} &= \\frac{b_{4} - a_{4\\color{blue}{1}} x_{\\color{blue}{1}} - a_{4\\color{green}{2}} x_{\\color{green}{2}} - a_{4\\color{red}{3}} x_{\\color{red}{3}} }{a_{44}}\n",
    "\\end{align*}\n",
    "\n",
    "lo anterior puede escribirse como\n",
    "\n",
    "\\begin{equation*}\n",
    "    x_{?} = \\frac{b_{?} - \\sum_{j}^{n} a_{?j} x_{j}}{a_{??}}\n",
    "\\end{equation*}\n",
    "\n",
    "para\n",
    "\n",
    "\\begin{align*}\n",
    "    j &= 1 \\\\\n",
    "    &= 1, 2 \\\\\n",
    "    &= 1, 2, 3\n",
    "\\end{align*}\n",
    "\n",
    "### Tercer patrón\n",
    "\n",
    "\\begin{align*}\n",
    "    x_{1} &= \\frac{b_{1}}{a_{11}} \\\\\n",
    "    x_{\\color{blue}{2}} &= \\frac{b_{\\color{blue}{2}} - a_{\\color{blue}{2}1} x_{1}}{a_{\\color{blue}{22}}} \\\\\n",
    "    x_{\\color{green}{3}} &= \\frac{b_{\\color{green}{3}} - a_{\\color{green}{3}1} x_{1} - a_{\\color{green}{3}2} x_{2} }{a_{\\color{green}{33}}} \\\\\n",
    "    x_{\\color{red}{4}} &= \\frac{b_{\\color{red}{4}} - a_{\\color{red}{4}1} x_{1} - a_{\\color{red}{4}2} x_{2} - a_{\\color{red}{4}1} x_{4} }{a_{\\color{red}{44}}}\n",
    "\\end{align*}\n",
    "\n",
    "lo anterior puede escribirse como\n",
    "\n",
    "\\begin{equation*}\n",
    "    x_{i} = \\frac{b_{i} - \\sum_{j}^{n} a_{ij} x_{j}}{a_{ii}}\n",
    "\\end{equation*}\n",
    "\n",
    "para $i = 2, 3, 4 = 2, \\dots, m$\n",
    "\n",
    "## Fórmula matemática\n",
    "\n",
    "\\begin{align*}\n",
    "    x_{1} &= \\frac{b_{1}}{a_{11}} \\\\\n",
    "    i &= 2, \\dots, m \\\\\n",
    "    & \\quad x_{i} = \\frac{b_{i} - \\sum_{j=1}^{i-1} a_{ij} x_{j}}{a_{ii}}\n",
    "\\end{align*}\n",
    "\n",
    "## Seudocódigo\n",
    "\n",
    "````pascal\n",
    "function sustitucion_adelante(a,b)\n",
    "    m, n = tamaño(a)\n",
    "    x(1) = b(1)/a(1,1)\n",
    "    for i=2 to m do\n",
    "        sumatoria = b(i)\n",
    "        for j=1 to i-1 do\n",
    "            sumatoria = sumatoria - a(i,j)*x(j)\n",
    "        end for\n",
    "        x(i) = sumatoria / a(i,i)\n",
    "    end for\n",
    "    return x\n",
    "end function\n",
    "````\n",
    "\n",
    "## Implementación sustitución hacia adelante"
   ]
  },
  {
   "cell_type": "code",
   "execution_count": 6,
   "metadata": {
    "collapsed": true
   },
   "outputs": [],
   "source": [
    "import numpy as np\n",
    "\n",
    "def sustitucion_adelante(a,b):\n",
    "    m, n = a.shape\n",
    "    x = np.zeros(b.shape)\n",
    "    x[0,0] = b[0,0]/a[0,0]\n",
    "    for i in range(1,m):\n",
    "        sumatoria = b[i,0]\n",
    "        for j in range(0,i):\n",
    "            sumatoria = sumatoria - a[i,j]*x[j,0]\n",
    "        x[i,0] = sumatoria/a[i,i]\n",
    "    return x"
   ]
  },
  {
   "cell_type": "code",
   "execution_count": 7,
   "metadata": {
    "collapsed": false
   },
   "outputs": [
    {
     "name": "stdout",
     "output_type": "stream",
     "text": [
      "[[  3.007621   0.         0.      ]\n",
      " [  0.109      6.994      0.      ]\n",
      " [  0.3       -0.2       10.      ]]\n"
     ]
    }
   ],
   "source": [
    "A = np.array([[3.007621,0,0],\n",
    "              [0.109,6.994,0],\n",
    "              [0.3,-0.2,10]])\n",
    "print(A)"
   ]
  },
  {
   "cell_type": "code",
   "execution_count": 8,
   "metadata": {
    "collapsed": false
   },
   "outputs": [
    {
     "name": "stdout",
     "output_type": "stream",
     "text": [
      "[[  9.022862]\n",
      " [-17.158   ]\n",
      " [ 71.4     ]]\n"
     ]
    }
   ],
   "source": [
    "B = np.array([[9.022862],\n",
    "              [-17.158],\n",
    "              [71.4]])\n",
    "print(B)"
   ]
  },
  {
   "cell_type": "code",
   "execution_count": 9,
   "metadata": {
    "collapsed": false
   },
   "outputs": [
    {
     "data": {
      "text/plain": [
       "array([[ 2.99999967],\n",
       "       [-2.49999999],\n",
       "       [ 7.00000001]])"
      ]
     },
     "execution_count": 9,
     "metadata": {},
     "output_type": "execute_result"
    }
   ],
   "source": [
    "sustitucion_adelante(A,B)"
   ]
  },
  {
   "cell_type": "code",
   "execution_count": 10,
   "metadata": {
    "collapsed": false
   },
   "outputs": [
    {
     "name": "stdout",
     "output_type": "stream",
     "text": [
      "[[ 2.99999967]\n",
      " [-2.49999999]\n",
      " [ 7.00000001]]\n"
     ]
    },
    {
     "data": {
      "text/plain": [
       "True"
      ]
     },
     "execution_count": 10,
     "metadata": {},
     "output_type": "execute_result"
    }
   ],
   "source": [
    "#revisando el resultado\n",
    "X = np.linalg.solve(A, B)\n",
    "print(X)\n",
    "#revisando la solución\n",
    "np.allclose(np.dot(A, X), B)"
   ]
  },
  {
   "cell_type": "code",
   "execution_count": 11,
   "metadata": {
    "collapsed": false
   },
   "outputs": [
    {
     "name": "stdout",
     "output_type": "stream",
     "text": [
      "[[1 0 0]\n",
      " [2 3 0]\n",
      " [4 5 6]]\n"
     ]
    }
   ],
   "source": [
    "A = np.array([[1,0,0],[2,3,0],[4,5,6]])\n",
    "print(A)"
   ]
  },
  {
   "cell_type": "code",
   "execution_count": 12,
   "metadata": {
    "collapsed": false
   },
   "outputs": [
    {
     "name": "stdout",
     "output_type": "stream",
     "text": [
      "[[7]\n",
      " [8]\n",
      " [9]]\n"
     ]
    }
   ],
   "source": [
    "B = np.array([[7],[8],[9]])\n",
    "print(B)"
   ]
  },
  {
   "cell_type": "code",
   "execution_count": 13,
   "metadata": {
    "collapsed": false
   },
   "outputs": [
    {
     "data": {
      "text/plain": [
       "array([[ 7. ],\n",
       "       [-2. ],\n",
       "       [-1.5]])"
      ]
     },
     "execution_count": 13,
     "metadata": {},
     "output_type": "execute_result"
    }
   ],
   "source": [
    "sustitucion_adelante(A,B)"
   ]
  },
  {
   "cell_type": "code",
   "execution_count": 14,
   "metadata": {
    "collapsed": false
   },
   "outputs": [
    {
     "name": "stdout",
     "output_type": "stream",
     "text": [
      "[[ 7. ]\n",
      " [-2. ]\n",
      " [-1.5]]\n"
     ]
    },
    {
     "data": {
      "text/plain": [
       "True"
      ]
     },
     "execution_count": 14,
     "metadata": {},
     "output_type": "execute_result"
    }
   ],
   "source": [
    "#revisando el resultado\n",
    "X = np.linalg.solve(A, B)\n",
    "print(X)\n",
    "#revisando la solución\n",
    "np.allclose(np.dot(A, X), B)"
   ]
  },
  {
   "cell_type": "markdown",
   "metadata": {
    "collapsed": true
   },
   "source": [
    "# Implementación eliminación de Gauss"
   ]
  },
  {
   "cell_type": "code",
   "execution_count": 15,
   "metadata": {
    "collapsed": true
   },
   "outputs": [],
   "source": [
    "def eliminacion_gauss(a,b):\n",
    "    A, B = eliminacion_atras(a,b)\n",
    "    x = sustitucion_adelante(A,B)\n",
    "    print(x)"
   ]
  },
  {
   "cell_type": "code",
   "execution_count": 16,
   "metadata": {
    "collapsed": true
   },
   "outputs": [],
   "source": [
    "C = np.array([[4,-1,1],\n",
    "              [2,5,2],\n",
    "              [1,2,4]],float)\n",
    "D = np.array([[8],\n",
    "              [3],\n",
    "              [11]],float)"
   ]
  },
  {
   "cell_type": "code",
   "execution_count": 17,
   "metadata": {
    "collapsed": false
   },
   "outputs": [
    {
     "name": "stdout",
     "output_type": "stream",
     "text": [
      "[[ 1.]\n",
      " [-1.]\n",
      " [ 3.]]\n"
     ]
    }
   ],
   "source": [
    "eliminacion_gauss(C,D)"
   ]
  },
  {
   "cell_type": "code",
   "execution_count": 18,
   "metadata": {
    "collapsed": false
   },
   "outputs": [
    {
     "name": "stdout",
     "output_type": "stream",
     "text": [
      "[[ 1.]\n",
      " [-1.]\n",
      " [ 3.]]\n"
     ]
    },
    {
     "data": {
      "text/plain": [
       "True"
      ]
     },
     "execution_count": 18,
     "metadata": {},
     "output_type": "execute_result"
    }
   ],
   "source": [
    "#revisando el resultado\n",
    "solucion = np.linalg.solve(C, D)\n",
    "print(solucion)\n",
    "#revisando la solución\n",
    "np.allclose(np.dot(C, solucion), D)"
   ]
  },
  {
   "cell_type": "code",
   "execution_count": 25,
   "metadata": {
    "collapsed": true
   },
   "outputs": [],
   "source": [
    "E = np.array([[1,5,-1,1,-1],\n",
    "              [2,2,4,-1,1],\n",
    "              [3,12,-3,-2,3],\n",
    "              [4,10,-2,4,-5],\n",
    "              [16,-10,6,-1,-1]],float)\n",
    "F = np.array([[2],\n",
    "              [4],\n",
    "              [8],\n",
    "              [16],\n",
    "              [32]],float)"
   ]
  },
  {
   "cell_type": "code",
   "execution_count": 26,
   "metadata": {
    "collapsed": false
   },
   "outputs": [
    {
     "name": "stdout",
     "output_type": "stream",
     "text": [
      "[[ -0.125     ]\n",
      " [  1.42105263]\n",
      " [ -1.19078947]\n",
      " [-30.76315789]\n",
      " [-24.59210526]]\n"
     ]
    }
   ],
   "source": [
    "eliminacion_gauss(E,F)"
   ]
  },
  {
   "cell_type": "code",
   "execution_count": 27,
   "metadata": {
    "collapsed": false
   },
   "outputs": [
    {
     "name": "stdout",
     "output_type": "stream",
     "text": [
      "[[ -0.125     ]\n",
      " [  1.42105263]\n",
      " [ -1.19078947]\n",
      " [-30.76315789]\n",
      " [-24.59210526]]\n"
     ]
    },
    {
     "data": {
      "text/plain": [
       "True"
      ]
     },
     "execution_count": 27,
     "metadata": {},
     "output_type": "execute_result"
    }
   ],
   "source": [
    "#revisando el resultado\n",
    "solucion = np.linalg.solve(E, F)\n",
    "print(solucion)\n",
    "#revisando la solución\n",
    "np.allclose(np.dot(E, solucion), F)"
   ]
  }
 ],
 "metadata": {
  "kernelspec": {
   "display_name": "Python 3",
   "language": "python",
   "name": "python3"
  },
  "language_info": {
   "codemirror_mode": {
    "name": "ipython",
    "version": 3
   },
   "file_extension": ".py",
   "mimetype": "text/x-python",
   "name": "python",
   "nbconvert_exporter": "python",
   "pygments_lexer": "ipython3",
   "version": "3.4.3"
  }
 },
 "nbformat": 4,
 "nbformat_minor": 0
}
