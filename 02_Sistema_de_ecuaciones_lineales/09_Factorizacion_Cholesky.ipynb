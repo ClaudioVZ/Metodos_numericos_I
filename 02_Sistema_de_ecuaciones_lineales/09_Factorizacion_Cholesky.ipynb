{
 "cells": [
  {
   "cell_type": "markdown",
   "metadata": {},
   "source": [
    "#Factorización de Cholesky\n",
    "\n",
    "Es una factorización LU de matrices simétricas\n",
    "\n",
    "\\begin{equation*}\n",
    "     \\mathbf{A} = \\mathbf{L} \\ \\mathbf{L}^{T}\n",
    "\\end{equation*}\n",
    "\n",
    "Factorizar la matriz simétrica $\\mathbf{A}_{m \\times m}$\n",
    "\n",
    "\\begin{equation*}\n",
    "     \\begin{bmatrix}\n",
    "         a_{11} & & & \\\\\n",
    "         a_{21} & a_{22} & & \\\\\n",
    "         a_{31} & a_{32} & a_{33} & \\\\\n",
    "         a_{41} & a_{42} & a_{43} & a_{44}\n",
    "     \\end{bmatrix} =\n",
    "     \\begin{bmatrix}\n",
    "         l_{11} & 0 & 0 & 0 \\\\\n",
    "         l_{21} & l_{22} & 0 & 0 \\\\\n",
    "         l_{31} & l_{32} & l_{33} & 0 \\\\\n",
    "         l_{41} & l_{42} & l_{43} & l_{44}\n",
    "     \\end{bmatrix}\n",
    "     \\begin{bmatrix}\n",
    "         l_{11} & l_{21} & l_{31} & l_{41} \\\\\n",
    "         0 & l_{22} & l_{32} & l_{42} \\\\\n",
    "         0 & 0 & l_{33} & l_{43} \\\\\n",
    "         0 & 0 & 0 & l_{44}\n",
    "     \\end{bmatrix}\n",
    "\\end{equation*}\n",
    "\n",
    "Multiplicando el lado derecho\n",
    "\n",
    "\\begin{equation*}\n",
    "    \\begin{bmatrix}\n",
    "         a_{11} & & & \\\\\n",
    "         a_{21} & a_{22} & & \\\\\n",
    "         a_{31} & a_{32} & a_{33} & \\\\\n",
    "         a_{41} & a_{42} & a_{43} & a_{44}\n",
    "     \\end{bmatrix} =\n",
    "    \\begin{bmatrix}\n",
    "    l_{11}^{2} & & & \\\\\n",
    "    l_{11} l_{21} & l_{21}^{2} + l_{22}^{2} & & \\\\\n",
    "    l_{11} l_{31} & l_{21} l_{31} + l_{22} l_{32} & l_{31}^{2} + l_{32}^{2} + l_{33}^{2} & \\\\\n",
    "    l_{11} l_{41} & l_{21} l_{41} + l_{22} l_{42} & l_{31} l_{41} + l_{32} l_{42} + l_{33} l_{43} & l_{41}^{2} + l_{42}^{2} + l_{43}^{2} + l_{44}^{2}\n",
    "    \\end{bmatrix}\n",
    "\\end{equation*}\n",
    "\n",
    "Despejando $\\mathbf{L}$\n",
    "\n",
    "\\begin{equation}\n",
    "    \\begin{bmatrix}\n",
    "         l_{11} & & & \\\\\n",
    "         l_{21} & l_{22} & & \\\\\n",
    "         l_{31} & l_{32} & l_{33} & \\\\\n",
    "         l_{41} & l_{42} & l_{43} & l_{44}\n",
    "     \\end{bmatrix} =\n",
    "    \\begin{bmatrix}\n",
    "    \\sqrt{a_{11}} & & & \\\\\n",
    "    \\frac{a_{21}}{l_{11}} & \\sqrt{a_{22} - l_{21}^{2}} & & \\\\\n",
    "    \\frac{a_{31}}{l_{11}} & \\frac{a_{32} - l_{31} l_{21}}{l_{22}} & \\sqrt{a_{33} - l_{31}^{2} - l_{32}^{2}} & \\\\\n",
    "    \\frac{a_{41}}{l_{11}} & \\frac{a_{42} - l_{41} l_{21}}{l_{22}} & \\frac{a_{43} - l_{41} l_{31} - l_{42} l_{32}}{l_{33}} & \\sqrt{a_{44} - l_{41}^{2} - l_{42}^{2} - l_{43}^{2}}\n",
    "    \\end{bmatrix}\n",
    "\\end{equation}"
   ]
  },
  {
   "cell_type": "markdown",
   "metadata": {},
   "source": [
    "#Algoritmo de Cholesky–Crout\n",
    "\n",
    "Factorizar la matriz $\\mathbf{A}$\n",
    "\n",
    "\\begin{equation*}\n",
    "    \\mathbf{A} =\n",
    "    \\begin{bmatrix}\n",
    "        7 & 4 & 2 & 1 \\\\\n",
    "        4 & 8 & 5 & 3 \\\\\n",
    "        2 & 5 & 9 & 6 \\\\\n",
    "        1 & 3 & 6 & 10\n",
    "    \\end{bmatrix}\n",
    "\\end{equation*}\n",
    "\n",
    "Calculando la primera columna\n",
    "\n",
    "\\begin{align*}\n",
    "    l_{11} &= \\sqrt{a_{11}} = \\sqrt{7} = 2.645751 \\\\\n",
    "    l_{21} &= \\frac{a_{21}}{l_{11}} = \\frac{4}{2.645751} = 1.511858 \\\\\n",
    "    l_{31} &= \\frac{a_{31}}{l_{11}} = \\frac{2}{2.645751} = 0.755929 \\\\\n",
    "    l_{41} &= \\frac{a_{41}}{l_{11}} = \\frac{1}{2.645751} = 0.377964\n",
    "\\end{align*}\n",
    "\n",
    "Reemplazando\n",
    "\n",
    "\\begin{equation*}\n",
    "    \\begin{bmatrix}\n",
    "        2.645751 & 0 & 0 & 0 \\\\\n",
    "        1.511858 & & 0 & 0 \\\\\n",
    "        0.755929 & & & 0 \\\\\n",
    "        0.377964 & & &\n",
    "    \\end{bmatrix}\n",
    "\\end{equation*}\n",
    "\n",
    "Calculando la segunda columna\n",
    "\n",
    "\\begin{align*}\n",
    "    l_{22} &= \\sqrt{a_{22} - l_{21}^{2}} = \\sqrt{8 - 1.511858^{2}} = 2.390457 \\\\\n",
    "    l_{32} &= \\frac{a_{32} - l_{31} l_{21}}{l_{22}} = \\frac{5 - 0.755929 (1.511858)}{2.390457} = 1.613559 \\\\\n",
    "    l_{42} &= \\frac{a_{42} - l_{41} l_{21}}{l_{22}} = \\frac{3 - 0.377964 (1.511858)}{2.390457} = 1.015945\n",
    "\\end{align*}\n",
    "\n",
    "Reemplazando\n",
    "\n",
    "\\begin{equation*}\n",
    "    \\begin{bmatrix}\n",
    "        2.645751 & 0 & 0 & 0 \\\\\n",
    "        1.511858 & 2.390457 & 0 & 0 \\\\\n",
    "        0.755929 & 1.613559 & & 0 \\\\\n",
    "        0.377964 & 1.015945 & &\n",
    "    \\end{bmatrix}\n",
    "\\end{equation*}\n",
    "\n",
    "Calculando la tercera columna\n",
    "\n",
    "\\begin{align*}\n",
    "    l_{33} &= \\sqrt{a_{33} - l_{31}^{2} - l_{32}^{2}} = \\sqrt{9 - 0.755929^{2} - 1.613559^{2}} = 2.413503 \\\\\n",
    "    l_{43} &= \\frac{a_{43} - l_{41} l_{31} - l_{42} l_{32}}{l_{33}} = \\frac{6 - 0.377964 (0.755929) - 1.015945 (1.613559)}{2.413503} = 1.688417\n",
    "\\end{align*}\n",
    "\n",
    "Reemplazando\n",
    "\n",
    "\\begin{equation*}\n",
    "    \\begin{bmatrix}\n",
    "        2.645751 & 0 & 0 & 0 \\\\\n",
    "        1.511858 & 2.390457 & 0 & 0 \\\\\n",
    "        0.755929 & 1.613559 & 2.413503 & 0 \\\\\n",
    "        0.377964 & 1.015945 & 1.688417 &\n",
    "    \\end{bmatrix}\n",
    "\\end{equation*}\n",
    "\n",
    "Calculando la cuarta columna\n",
    "\n",
    "\\begin{equation*}\n",
    "    l_{44} = \\sqrt{a_{44} - l_{41}^{2} - l_{42}^{2} - l_{43}^{2}} = \\sqrt{10 - 0.377964^{2} - 1.015945^{2} - 1.688417^{2}} = 2.444227\n",
    "\\end{equation*}\n",
    "\n",
    "Reemplazando\n",
    "\n",
    "\\begin{equation*}\n",
    "    \\begin{bmatrix}\n",
    "        2.645751 & 0 & 0 & 0 \\\\\n",
    "        1.511858 & 2.390457 & 0 & 0 \\\\\n",
    "        0.755929 & 1.613559 & 2.413503 & 0 \\\\\n",
    "        0.377964 & 1.015945 & 1.688417 & 2.444227\n",
    "    \\end{bmatrix}\n",
    "\\end{equation*}\n",
    "\n",
    "##Patrón de cálculo\n",
    "\n",
    "\\begin{equation*}\n",
    "    \\begin{array}{llll}\n",
    "    l_{11} = \\sqrt{a_{11} - l_{11}^{2}} & & & \\\\\n",
    "    l_{21} = \\frac{a_{21} - l_{21} l_{11}}{l_{11}} & l_{22} = \\sqrt{a_{22} - l_{21}^{2} - l_{22}^{2}} & & \\\\\n",
    "    l_{31} = \\frac{a_{31} - l_{31} l_{11}}{l_{11}} & l_{32} = \\frac{a_{32} - l_{31} l_{21} - l_{32} l_{22}}{l_{22}} & l_{33} = \\sqrt{a_{33} - l_{31}^{2} - l_{32}^{2} - l_{33}^{2}} & \\\\\n",
    "    l_{41} = \\frac{a_{41} - l_{41} l_{11}}{l_{11}} & l_{42} = \\frac{a_{42} - l_{41} l_{21} - l_{42} l_{22}}{l_{22}} & l_{43} = \\frac{a_{43} - l_{41} l_{31} - l_{42} l_{32} - l_{43} l_{33}}{l_{33}} & l_{44} = \\sqrt{a_{44} - l_{41}^{2} - l_{42}^{2} - l_{43}^{2} - l_{44}^{2}}\n",
    "    \\end{array}\n",
    "\\end{equation*}\n",
    "\n",
    "###Primer patrón\n",
    "\n",
    "\\begin{equation*}\n",
    "    \\begin{array}{llll}\n",
    "    l_{11} = \\sqrt{a_{11} - l_{1\\color{blue}{1}}^{2}} & & & \\\\\n",
    "    l_{21} = \\frac{a_{21} - l_{2\\color{blue}{1}} l_{1\\color{blue}{1}}}{l_{11}} & l_{22} = \\sqrt{a_{22} - l_{2\\color{blue}{1}}^{2} - l_{2\\color{green}{2}}^{2}} & & \\\\\n",
    "    l_{31} = \\frac{a_{31} - l_{3\\color{blue}{1}} l_{1\\color{blue}{1}}}{l_{11}} & l_{32} = \\frac{a_{32} - l_{3\\color{blue}{1}} l_{2\\color{blue}{1}} - l_{3\\color{green}{2}} l_{2\\color{green}{2}}}{l_{22}} & l_{33} = \\sqrt{a_{33} - l_{3\\color{blue}{1}}^{2} - l_{3\\color{green}{2}}^{2} - l_{3\\color{red}{3}}^{2}} & \\\\\n",
    "    l_{41} = \\frac{a_{41} - l_{4\\color{blue}{1}} l_{1\\color{blue}{1}}}{l_{11}} & l_{42} = \\frac{a_{42} - l_{4\\color{blue}{1}} l_{2\\color{blue}{1}} - l_{4\\color{green}{2}} l_{2\\color{green}{2}}}{l_{22}} & l_{43} = \\frac{a_{43} - l_{4\\color{blue}{1}} l_{3\\color{blue}{1}} - l_{4\\color{green}{2}} l_{3\\color{green}{2}} - l_{4\\color{red}{3}} l_{3\\color{red}{3}}}{l_{33}} & l_{44} = \\sqrt{a_{44} - l_{4\\color{blue}{1}}^{2} - l_{4\\color{green}{2}}^{2} - l_{4\\color{red}{3}}^{2} - l_{4\\color{fuchsia}{4}}^{2}}\n",
    "    \\end{array}\n",
    "\\end{equation*}\n",
    "\n",
    "Lo puede escribirse como\n",
    "\n",
    "\\begin{align*}\n",
    "    l_{??} &= \\sqrt{a_{??} - \\sum_{k=1}^{?} l_{?k}^{2}} \\\\\n",
    "    l_{??} &= \\frac{a_{??} - \\sum_{k=1}^{?} l_{?k} l_{?k}}{l_{??}}\n",
    "\\end{align*}\n",
    "\n",
    "para\n",
    "\n",
    "\\begin{align*}\n",
    "    k &= 1 \\\\\n",
    "    &= 1, 2 \\\\\n",
    "    &= 1, 2, 3 \\\\\n",
    "    &= 1, 2, 3, 4\n",
    "\\end{align*}\n",
    "\n",
    "###Segundo patrón\n",
    "\n",
    "\\begin{equation*}\n",
    "    \\begin{array}{llll}\n",
    "    l_{11} = \\sqrt{a_{11} - l_{11}^{2}} & & & \\\\\n",
    "    l_{\\color{blue}{2}1} = \\frac{a_{\\color{blue}{2}1} - l_{\\color{blue}{2}1} l_{11}}{l_{11}} & l_{22} = \\sqrt{a_{22} - l_{21}^{2} - l_{22}^{2}} & & \\\\\n",
    "    l_{\\color{green}{3}1} = \\frac{a_{\\color{green}{3}1} - l_{\\color{green}{3}1} l_{11}}{l_{11}} & l_{\\color{green}{3}2} = \\frac{a_{\\color{green}{3}2} - l_{\\color{green}{3}1} l_{21} - l_{\\color{green}{3}2} l_{22}}{l_{22}} & l_{33} = \\sqrt{a_{33} - l_{31}^{2} - l_{32}^{2} - l_{33}^{2}} & \\\\\n",
    "    l_{\\color{red}{4}1} = \\frac{a_{\\color{red}{4}1} - l_{\\color{red}{4}1} l_{11}}{l_{11}} & l_{\\color{red}{4}2} = \\frac{a_{\\color{red}{4}2} - l_{\\color{red}{4}1} l_{21} - l_{\\color{red}{4}2} l_{22}}{l_{22}} & l_{\\color{red}{4}3} = \\frac{a_{\\color{red}{4}3} - l_{\\color{red}{4}1} l_{31} - l_{\\color{red}{4}2} l_{32} - l_{\\color{red}{4}3} l_{33}}{l_{33}} & l_{44} = \\sqrt{a_{44} - l_{41}^{2} - l_{42}^{2} - l_{43}^{2} - l_{44}^{2}}\n",
    "    \\end{array}\n",
    "\\end{equation*}\n",
    "\n",
    "Lo puede escribirse como\n",
    "\n",
    "\\begin{align*}\n",
    "    l_{??} &= \\sqrt{a_{??} - \\sum_{k=1}^{?} l_{?k}^{2}} \\\\\n",
    "    l_{i?} &= \\frac{a_{i?} - \\sum_{k=1}^{?} l_{ik} l_{?k}}{l_{??}}\n",
    "\\end{align*}\n",
    "\n",
    "para\n",
    "\n",
    "\\begin{align*}\n",
    "    i &= 2, 3, 4 \\\\\n",
    "    &= 3, 4 \\\\\n",
    "    &= 4\n",
    "\\end{align*}\n",
    "\n",
    "###Tercer patrón\n",
    "\n",
    "\\begin{equation*}\n",
    "    \\begin{array}{llll}\n",
    "    l_{\\color{blue}{11}} = \\sqrt{a_{\\color{blue}{11}} - l_{\\color{blue}{1}1}^{2}} & & & \\\\\n",
    "    l_{2\\color{blue}{1}} = \\frac{a_{2\\color{blue}{1}} - l_{21} l_{\\color{blue}{1}1}}{l_{\\color{blue}{11}}} & l_{\\color{green}{22}} = \\sqrt{a_{\\color{green}{22}} - l_{\\color{green}{2}1}^{2} - l_{\\color{green}{2}2}^{2}} & & \\\\\n",
    "    l_{3\\color{blue}{1}} = \\frac{a_{3\\color{blue}{1}} - l_{31} l_{\\color{blue}{1}1}}{l_{\\color{blue}{11}}} & l_{3\\color{green}{2}} = \\frac{a_{3\\color{green}{2}} - l_{31} l_{\\color{green}{2}1} - l_{32} l_{\\color{green}{2}2}}{l_{\\color{green}{22}}} & l_{\\color{red}{33}} = \\sqrt{a_{\\color{red}{33}} - l_{\\color{red}{3}1}^{2} - l_{\\color{red}{3}2}^{2} - l_{\\color{red}{3}3}^{2}} & \\\\\n",
    "    l_{4\\color{blue}{1}} = \\frac{a_{4\\color{blue}{1}} - l_{41} l_{\\color{blue}{1}1}}{l_{\\color{blue}{11}}} & l_{4\\color{green}{2}} = \\frac{a_{4\\color{green}{2}} - l_{41} l_{\\color{green}{2}1} - l_{42} l_{\\color{green}{2}2}}{l_{\\color{green}{22}}} & l_{4\\color{red}{3}} = \\frac{a_{4\\color{red}{3}} - l_{41} l_{\\color{red}{3}1} - l_{42} l_{\\color{red}{3}2} - l_{43} l_{\\color{red}{3}3}}{l_{\\color{red}{33}}} & l_{\\color{fuchsia}{44}} = \\sqrt{a_{\\color{fuchsia}{44}} - l_{\\color{fuchsia}{4}1}^{2} - l_{\\color{fuchsia}{4}2}^{2} - l_{\\color{fuchsia}{4}3}^{2} - l_{\\color{fuchsia}{4}4}^{2}}\n",
    "    \\end{array}\n",
    "\\end{equation*}\n",
    "\n",
    "Lo puede escribirse como\n",
    "\n",
    "\\begin{align*}\n",
    "    l_{jj} &= \\sqrt{a_{jj} - \\sum_{k=1}^{?} l_{jk}^{2}} \\\\\n",
    "    l_{ij} &= \\frac{a_{ij} - \\sum_{k=1}^{?} l_{ik} l_{jk}}{l_{jj}}\n",
    "\\end{align*}\n",
    "\n",
    "para $j = 1, 2, 3, 4$\n",
    "\n",
    "###Fórmula matemática\n",
    "\n",
    "\\begin{align*}\n",
    "    j &= 1, \\dots, n \\\\\n",
    "    l_{jj} &= \\sqrt{a_{jj} - \\sum_{k=1}^{j} l_{jk}^{2}} \\\\\n",
    "    i &= 1 + j, \\dots, m \\\\\n",
    "    l_{ij} &= \\frac{a_{ij} - \\sum_{k=1}^{j} l_{ik} l_{jk}}{l_{jj}}\n",
    "\\end{align*}\n",
    "\n",
    "##Seudocódigo\n",
    "\n",
    "    function cholesky_crout(a)\n",
    "        m, n = tamaño(a)\n",
    "        l = [[0,0,...,...,0],...,[0,0,...,...,0]]\n",
    "        for j=1 to n do\n",
    "            sumatoria = 0\n",
    "            for k=1 to j do\n",
    "                sumatoria = sumatoria + l(j,k)*l(j,k)\n",
    "            end for\n",
    "            l(j,j) = sqrt(a(j,j) - sumatoria)\n",
    "            for i=j+1 to m do      \n",
    "                sumatoria = 0\n",
    "                for k=1 to j do\n",
    "                    sumatoria = sumatoria + l(i,k)*l(j,k)\n",
    "                end for\n",
    "                l(i,j) = (a(i,j) - sumatoria)/l(j,j)\n",
    "            end for\n",
    "        end for\n",
    "        return l\n",
    "    end function\n",
    "    \n",
    "#Implementación"
   ]
  },
  {
   "cell_type": "code",
   "execution_count": 1,
   "metadata": {
    "collapsed": false
   },
   "outputs": [],
   "source": [
    "import numpy as np\n",
    "\n",
    "def cholesky_crout(a):\n",
    "    m, n = a.shape\n",
    "    l = np.zeros((m,n))\n",
    "    for j in range(0,n):\n",
    "        sumatoria = 0\n",
    "        for k in range(0,j):\n",
    "            sumatoria = sumatoria + np.power(l[j,k],2)\n",
    "        l[j,j] = np.sqrt(a[j,j] - sumatoria)\n",
    "        for i in range(j+1,m):\n",
    "            sumatoria = 0\n",
    "            for k in range(0,j):\n",
    "                sumatoria = sumatoria + l[i,k]*l[j,k]\n",
    "            l[i,j] = (a[i,j] - sumatoria)/l[j,j]\n",
    "    return l\n",
    "\n",
    "#versión alternativa\n",
    "#def cholesky_crout(a):\n",
    "#    m, n = a.shape\n",
    "#    l = np.zeros((m,n))\n",
    "#    for j in range(0,n):\n",
    "#        l[j,j] = np.sqrt(a[j,j] - np.sum(np.power(l[j,:],2)))\n",
    "#        for i in range(j+1,m):\n",
    "#            l[i,j] = (a[i,j] - np.sum(l[i,:]*l[j,:]))/l[j,j]\n",
    "#    return l"
   ]
  },
  {
   "cell_type": "code",
   "execution_count": 2,
   "metadata": {
    "collapsed": false
   },
   "outputs": [
    {
     "name": "stdout",
     "output_type": "stream",
     "text": [
      "[[  4  12 -16]\n",
      " [ 12  37 -43]\n",
      " [-16 -43  98]]\n"
     ]
    }
   ],
   "source": [
    "A = np.array([[4,12,-16],[12,37,-43],[-16,-43,98]])\n",
    "print(A)"
   ]
  },
  {
   "cell_type": "code",
   "execution_count": 3,
   "metadata": {
    "collapsed": false
   },
   "outputs": [
    {
     "data": {
      "text/plain": [
       "array([[ 2.,  0.,  0.],\n",
       "       [ 6.,  1.,  0.],\n",
       "       [-8.,  5.,  3.]])"
      ]
     },
     "execution_count": 3,
     "metadata": {},
     "output_type": "execute_result"
    }
   ],
   "source": [
    "cholesky_crout(A)"
   ]
  },
  {
   "cell_type": "code",
   "execution_count": 4,
   "metadata": {
    "collapsed": false
   },
   "outputs": [
    {
     "data": {
      "text/plain": [
       "array([[ 2.,  0.,  0.],\n",
       "       [ 6.,  1.,  0.],\n",
       "       [-8.,  5.,  3.]])"
      ]
     },
     "execution_count": 4,
     "metadata": {},
     "output_type": "execute_result"
    }
   ],
   "source": [
    "#revisando el resultado\n",
    "np.linalg.cholesky(A)"
   ]
  },
  {
   "cell_type": "code",
   "execution_count": 5,
   "metadata": {
    "collapsed": true
   },
   "outputs": [],
   "source": [
    "B = np.array([[5,1.2,0.3,-0.6],\n",
    "              [1.2,6,-0.4,0.9],\n",
    "              [0.3,-0.4,8,1.7],\n",
    "              [-0.6,0.9,1.7,10]])"
   ]
  },
  {
   "cell_type": "code",
   "execution_count": 6,
   "metadata": {
    "collapsed": false
   },
   "outputs": [
    {
     "data": {
      "text/plain": [
       "array([[ 2.23606798,  0.        ,  0.        ,  0.        ],\n",
       "       [ 0.53665631,  2.38997908,  0.        ,  0.        ],\n",
       "       [ 0.13416408, -0.19749127,  2.81833234,  0.        ],\n",
       "       [-0.26832816,  0.43682391,  0.64657701,  3.05272387]])"
      ]
     },
     "execution_count": 6,
     "metadata": {},
     "output_type": "execute_result"
    }
   ],
   "source": [
    "cholesky_crout(B)"
   ]
  },
  {
   "cell_type": "code",
   "execution_count": 7,
   "metadata": {
    "collapsed": false
   },
   "outputs": [
    {
     "data": {
      "text/plain": [
       "array([[ 2.23606798,  0.        ,  0.        ,  0.        ],\n",
       "       [ 0.53665631,  2.38997908,  0.        ,  0.        ],\n",
       "       [ 0.13416408, -0.19749127,  2.81833234,  0.        ],\n",
       "       [-0.26832816,  0.43682391,  0.64657701,  3.05272387]])"
      ]
     },
     "execution_count": 7,
     "metadata": {},
     "output_type": "execute_result"
    }
   ],
   "source": [
    "#revisando el resultado\n",
    "np.linalg.cholesky(B)"
   ]
  },
  {
   "cell_type": "markdown",
   "metadata": {},
   "source": [
    "#Algoritmo de Cholesky-Banachiewicz\n",
    "\n",
    "Factorizar la matriz $\\mathbf{A}$\n",
    "\n",
    "\\begin{equation*}\n",
    "    \\mathbf{A} =\n",
    "    \\begin{bmatrix}\n",
    "        7 & 4 & 2 & 1 \\\\\n",
    "        4 & 8 & 5 & 3 \\\\\n",
    "        2 & 5 & 9 & 6 \\\\\n",
    "        1 & 3 & 6 & 10\n",
    "    \\end{bmatrix}\n",
    "\\end{equation*}\n",
    "\n",
    "Calculando la primera fila\n",
    "\n",
    "\\begin{equation*}\n",
    "    l_{11} = \\sqrt{a_{11}} = \\sqrt{7} = 2.645751\n",
    "\\end{equation*}\n",
    "\n",
    "Reemplazando\n",
    "\n",
    "\\begin{equation*}\n",
    "    \\begin{bmatrix}\n",
    "        2.645751 & 0 & 0 & 0 \\\\\n",
    "        & & 0 & 0 \\\\\n",
    "        & & & 0 \\\\\n",
    "        & & &\n",
    "    \\end{bmatrix}\n",
    "\\end{equation*}\n",
    "\n",
    "Calculando la segunda fila\n",
    "\n",
    "\\begin{align*}\n",
    "    l_{21} &= \\frac{a_{21}}{l_{11}} = \\frac{4}{2.645751} = 1.511858 \\\\\n",
    "    l_{22} &= \\sqrt{a_{22} - l_{21}^{2}} = \\sqrt{8 - 1.511858^{2}} = 2.390457\n",
    "\\end{align*}\n",
    "\n",
    "Reemplazando\n",
    "\n",
    "\\begin{equation*}\n",
    "    \\begin{bmatrix}\n",
    "        2.645751 & 0 & 0 & 0 \\\\\n",
    "        1.511858 & 2.390457 & 0 & 0 \\\\\n",
    "        & & & 0 \\\\\n",
    "        & & &\n",
    "    \\end{bmatrix}\n",
    "\\end{equation*}\n",
    "\n",
    "Calculando la tercera fila\n",
    "\n",
    "\\begin{align*}\n",
    "    l_{31} &= \\frac{a_{31}}{l_{11}} = \\frac{2}{2.645751} = 0.755929 \\\\\n",
    "    l_{32} &= \\frac{a_{32} - l_{31} l_{21}}{l_{22}} = \\frac{5 - 0.755929 (1.511858)}{2.390457} = 1.613559 \\\\\n",
    "    l_{33} &= \\sqrt{a_{33} - l_{31}^{2} - l_{32}^{2}} = \\sqrt{9 - 0.755929^{2} - 1.613559^{2}} = 2.413503\n",
    "\\end{align*}\n",
    "\n",
    "Reemplazando\n",
    "\n",
    "\\begin{equation*}\n",
    "    \\begin{bmatrix}\n",
    "        2.645751 & 0 & 0 & 0 \\\\\n",
    "        1.511858 & 2.390457 & 0 & 0 \\\\\n",
    "        0.755929 & 1.613559 & 2.413503 & 0 \\\\\n",
    "        & & &\n",
    "    \\end{bmatrix}\n",
    "\\end{equation*}\n",
    "\n",
    "Calculando la cuarta fila\n",
    "\n",
    "\\begin{align*}\n",
    "    l_{41} &= \\frac{a_{41}}{l_{11}} = \\frac{1}{2.645751} = 0.377964 \\\\\n",
    "    l_{42} &= \\frac{a_{42} - l_{41} l_{21}}{l_{22}} = \\frac{3 - 0.377964 (1.511858)}{2.390457} = 1.015945 \\\\\n",
    "    l_{43} &= \\frac{a_{43} - l_{41} l_{31} - l_{42} l_{32}}{l_{33}} = \\frac{6 - 0.377964 (0.755929) - 1.015945 (1.613559)}{2.413503} = 1.688417 \\\\\n",
    "    l_{44} &= \\sqrt{a_{44} - l_{41}^{2} - l_{42}^{2} - l_{43}^{2}} = \\sqrt{10 - 0.377964^{2} - 1.015945^{2} - 1.688417^{2}} = 2.444227\n",
    "\\end{align*}\n",
    "\n",
    "Reemplazando\n",
    "\n",
    "\\begin{equation*}\n",
    "    \\begin{bmatrix}\n",
    "        2.645751 & 0 & 0 & 0 \\\\\n",
    "        1.511858 & 2.390457 & 0 & 0 \\\\\n",
    "        0.755929 & 1.613559 & 2.413503 & 0 \\\\\n",
    "        0.377964 & 1.015945 & 1.688417 & 2.444227\n",
    "    \\end{bmatrix}\n",
    "\\end{equation*}\n",
    "\n",
    "##Patrón de cálculo\n",
    "\n",
    "\\begin{equation*}\n",
    "    \\begin{array}{llll}\n",
    "    l_{11} = \\sqrt{a_{11} - l_{11} l_{11}} & & & \\\\\n",
    "    l_{21} = \\frac{a_{21} - l_{21} l_{11}}{l_{11}} & l_{22} = \\sqrt{a_{22} - l_{21} l_{21} - l_{22} l_{22}} & & \\\\\n",
    "    l_{31} = \\frac{a_{31} - l_{31} l_{11}}{l_{11}} & l_{32} = \\frac{a_{32} - l_{31} l_{21} - l_{32} l_{22}}{l_{22}} & l_{33} = \\sqrt{a_{33} - l_{31} l_{31} - l_{32} l_{32} - l_{33} l_{33}} & \\\\\n",
    "    l_{41} = \\frac{a_{41} - l_{41} l_{11}}{l_{11}} & l_{42} = \\frac{a_{42} - l_{41} l_{21} - l_{42} l_{22}}{l_{22}} & l_{43} = \\frac{a_{43} - l_{41} l_{31} - l_{42} l_{32} - l_{43} l_{33}}{l_{33}} & l_{44} = \\sqrt{a_{44} - l_{41} l_{41} - l_{42} l_{42} - l_{43} l_{43} - l_{44} l_{44}}\n",
    "    \\end{array}\n",
    "\\end{equation*}\n",
    "\n",
    "###Primer patrón\n",
    "\n",
    "\\begin{equation*}\n",
    "    \\begin{array}{llll}\n",
    "    l_{11} = \\sqrt{a_{11} - l_{1\\color{blue}{1}} l_{1\\color{blue}{1}}} & & & \\\\\n",
    "    l_{21} = \\frac{a_{21} - l_{2\\color{blue}{1}} l_{1\\color{blue}{1}}}{l_{11}} & l_{22} = \\sqrt{a_{22} - l_{21} l_{2\\color{blue}{1}} - l_{22} l_{2\\color{green}{2}}} & & \\\\\n",
    "    l_{31} = \\frac{a_{31} - l_{3\\color{blue}{1}} l_{1\\color{blue}{1}}}{l_{11}} & l_{32} = \\frac{a_{32} - l_{31} l_{2\\color{blue}{1}} - l_{32} l_{2\\color{green}{2}}}{l_{21}} & l_{33} = \\sqrt{a_{33} - l_{31} l_{3\\color{blue}{1}} - l_{32} l_{3\\color{green}{2}} - l_{33} l_{3\\color{red}{3}}} & \\\\\n",
    "    l_{41} = \\frac{a_{41} - l_{4\\color{blue}{1}} l_{1\\color{blue}{1}}}{l_{11}} & l_{42} = \\frac{a_{42} - l_{41} l_{2\\color{blue}{1}} - l_{42} l_{2\\color{green}{2}}}{l_{21}} & l_{43} = \\frac{a_{43} - l_{41} l_{3\\color{blue}{1}} - l_{42} l_{3\\color{green}{2}} - l_{43} l_{3\\color{red}{3}}}{l_{33}} & l_{44} = \\sqrt{a_{44} - l_{41} l_{4\\color{blue}{1}} - l_{42} l_{4\\color{green}{2}} - l_{43} l_{4\\color{red}{3}} - l_{44} l_{4\\color{fuchsia}{4}}}\n",
    "    \\end{array}\n",
    "\\end{equation*}\n",
    "\n",
    "Lo puede escribirse como\n",
    "\n",
    "\\begin{align*}\n",
    "    l_{??} &= \\sqrt{a_{??} - \\sum_{k=1}^{?} l_{?k} l_{?k}} \\\\\n",
    "    l_{??} &= \\frac{a_{??} - \\sum_{k=1}^{?} l_{?k} l_{?k}}{l_{??}}\n",
    "\\end{align*}\n",
    "\n",
    "para\n",
    "\n",
    "\\begin{align*}\n",
    "    k &= 1 \\\\\n",
    "    &= 1, 2 \\\\\n",
    "    &= 1, 2, 3 \\\\\n",
    "    &= 1, 2, 3, 4\n",
    "\\end{align*}\n",
    "\n",
    "###Segundo patrón\n",
    "\n",
    "\\begin{equation*}\n",
    "    \\begin{array}{llll}\n",
    "    l_{1\\color{blue}{1}} = \\sqrt{a_{11} - l_{11} l_{\\color{blue}{1}1}} & & & \\\\\n",
    "    l_{2\\color{blue}{1}} = \\frac{a_{2\\color{blue}{1}} - l_{21} l_{\\color{blue}{1}1}}{l_{\\color{blue}{11}}} & l_{2\\color{green}{2}} = \\sqrt{a_{22} - l_{21} l_{\\color{green}{2}1} - l_{22} l_{\\color{green}{2}2}} & & \\\\\n",
    "    l_{3\\color{blue}{1}} = \\frac{a_{3\\color{blue}{1}} - l_{31} l_{\\color{blue}{1}1}}{l_{\\color{blue}{11}}} & l_{3\\color{green}{2}} = \\frac{a_{3\\color{green}{2}} - l_{31} l_{\\color{green}{2}1} - l_{32} l_{\\color{green}{2}2}}{l_{\\color{green}{22}}} & l_{3\\color{red}{3}} = \\sqrt{a_{33} - l_{31} l_{\\color{red}{3}1} - l_{32} l_{\\color{red}{3}2} - l_{33} l_{\\color{red}{3}3}} & \\\\\n",
    "    l_{4\\color{blue}{1}} = \\frac{a_{4\\color{blue}{1}} - l_{41} l_{\\color{blue}{1}1}}{l_{\\color{blue}{11}}} & l_{4\\color{green}{2}} = \\frac{a_{4\\color{green}{2}} - l_{41} l_{\\color{green}{2}1} - l_{42} l_{\\color{green}{2}2}}{l_{\\color{green}{22}}} & l_{4\\color{red}{3}} = \\frac{a_{4\\color{red}{3}} - l_{41} l_{\\color{red}{3}1} - l_{42} l_{\\color{red}{3}2} - l_{43} l_{\\color{red}{3}3}}{l_{\\color{red}{33}}} & l_{\\color{fuchsia}{4}4} = \\sqrt{a_{44} - l_{41} l_{\\color{fuchsia}{4}1} - l_{42} l_{\\color{fuchsia}{4}2} - l_{43} l_{\\color{fuchsia}{4}3} - l_{44} l_{\\color{fuchsia}{4}4}}\n",
    "    \\end{array}\n",
    "\\end{equation*}\n",
    "\n",
    "Lo puede escribirse como\n",
    "\n",
    "\\begin{align*}\n",
    "    l_{?j} &= \\sqrt{a_{??} - \\sum_{k=1}^{?} l_{?k} l_{jk}} \\\\\n",
    "    l_{?j} &= \\frac{a_{?j} - \\sum_{k=1}^{?} l_{?k} l_{jk}}{l_{jj}}\n",
    "\\end{align*}\n",
    "\n",
    "para\n",
    "\n",
    "\\begin{align*}\n",
    "    j &= 1 \\\\\n",
    "    &= 1, 2 \\\\\n",
    "    &= 1, 2, 3 \\\\\n",
    "    &= 1, 2, 3, 4\n",
    "\\end{align*}\n",
    "\n",
    "###Tercer patrón\n",
    "\n",
    "\\begin{equation*}\n",
    "    \\begin{array}{llll}\n",
    "    l_{\\color{blue}{1}1} = \\sqrt{a_{\\color{blue}{11}} - l_{\\color{blue}{1}1} l_{11}} & & & \\\\\n",
    "    l_{\\color{green}{2}1} = \\frac{a_{\\color{green}{2}1} - l_{\\color{green}{2}1} l_{11}}{l_{11}} & l_{\\color{green}{2}2} = \\sqrt{a_{\\color{green}{22}} - l_{\\color{green}{2}1} l_{21} - l_{\\color{green}{2}2} l_{22}} & & \\\\\n",
    "    l_{\\color{red}{3}1} = \\frac{a_{\\color{red}{3}1} - l_{\\color{red}{3}1} l_{11}}{l_{11}} & l_{\\color{red}{3}2} = \\frac{a_{\\color{red}{3}2} - l_{\\color{red}{3}1} l_{21} - l_{\\color{red}{3}2} l_{22}}{l_{22}} & l_{\\color{red}{3}3} = \\sqrt{a_{\\color{red}{33}} - l_{\\color{red}{3}1} l_{31} - l_{\\color{red}{3}2} l_{32} - l_{\\color{red}{3}3} l_{33}} & \\\\\n",
    "    l_{\\color{fuchsia}{4}1} = \\frac{a_{\\color{fuchsia}{4}1} - l_{\\color{fuchsia}{4}1} l_{11}}{l_{11}} & l_{\\color{fuchsia}{4}2} = \\frac{a_{\\color{fuchsia}{4}2} - l_{\\color{fuchsia}{4}1} l_{21} - l_{\\color{fuchsia}{4}2} l_{22}}{l_{22}} & l_{\\color{fuchsia}{4}3} = \\frac{a_{\\color{fuchsia}{4}3} - l_{\\color{fuchsia}{4}1} l_{31} - l_{\\color{fuchsia}{4}2} l_{32} - l_{\\color{fuchsia}{4}3} l_{33}}{l_{33}} & l_{\\color{fuchsia}{4}4} = \\sqrt{a_{\\color{fuchsia}{44}} - l_{\\color{fuchsia}{4}1} l_{41} - l_{\\color{fuchsia}{4}2} l_{42} - l_{\\color{fuchsia}{4}3} l_{43} - l_{\\color{fuchsia}{4}4} l_{44}}\n",
    "    \\end{array}\n",
    "\\end{equation*}\n",
    "\n",
    "Lo puede escribirse como\n",
    "\n",
    "\\begin{align*}\n",
    "    l_{ij} &= \\sqrt{a_{ii} - \\sum_{k=1}^{?} l_{ik} l_{jk}} \\\\\n",
    "    l_{ij} &= \\frac{a_{ij} - \\sum_{k=1}^{?} l_{ik} l_{jk}}{l_{jj}}\n",
    "\\end{align*}\n",
    "\n",
    "para $i = 1, 2, 3, 4 = 1, \\dots, m$\n",
    "\n",
    "###Fórmula matemática\n",
    "\n",
    "\\begin{align*}\n",
    "    i &= 1, \\dots, m \\\\\n",
    "    j &= 1, \\dots, i \\\\\n",
    "    l_{ij} &=\n",
    "    \\begin{cases} \n",
    "        \\sqrt{a_{ii} - \\sum_{k=1}^{j} l_{ik} l_{jk}} & \\mbox{si } i = j \\\\\n",
    "        \\cfrac{a_{ij} - \\sum_{k=1}^{j} l_{ik} l_{jk}}{l_{jj}} & \\mbox{si } i \\neq j \n",
    "    \\end{cases}\n",
    "\\end{align*}\n",
    "\n",
    "##Seudocódigo\n",
    "\n",
    "    function cholesky_banachiewicz(a)\n",
    "        m, n = tamaño(a)\n",
    "        l = [[0,0,...,...,0],...,[0,0,...,...,0]]\n",
    "        for i=1 to m do\n",
    "            for j=1 to i do\n",
    "                sumatoria = 0\n",
    "                for k=1 to j do\n",
    "                    sumatoria = sumatoria + l(i,k)*l(j,k)\n",
    "                end for\n",
    "            if(i=j) then\n",
    "                 l(i,j) = sqrt(a(i,i) - sumatoria)\n",
    "            else\n",
    "                l(i,j) = (a(i,j) - sumatoria)/l(j,j)\n",
    "            end if\n",
    "        end for\n",
    "        return l\n",
    "    end function\n",
    "    \n",
    "#Implementación"
   ]
  },
  {
   "cell_type": "code",
   "execution_count": 8,
   "metadata": {
    "collapsed": true
   },
   "outputs": [],
   "source": [
    "import numpy as np\n",
    "\n",
    "def cholesky_banachiewicz(a):\n",
    "    m, n = a.shape\n",
    "    l = np.zeros((m,n))\n",
    "    for i in range(0,m):\n",
    "        for j in range(0,i+1):\n",
    "            sumatoria = 0\n",
    "            for k in range(0,j):\n",
    "                sumatoria = sumatoria + l[i,k]*l[j,k]\n",
    "            if i==j:\n",
    "                l[i,j] = np.sqrt(a[i,i] - sumatoria)\n",
    "            else:\n",
    "                l[i,j] = (a[i,j] - sumatoria)/l[j,j]\n",
    "    return l\n",
    "\n",
    "#versión alternativa\n",
    "#def cholesky_banachiewicz(a):\n",
    "#    m, n = a.shape\n",
    "#    l = np.zeros((m,n))\n",
    "#    for i in range(0,m):\n",
    "#        for j in range(0,i+1):\n",
    "#            if i==j:\n",
    "#                l[i,j] = np.sqrt(a[i,i] - np.sum(np.power(l[i,:j],2)))\n",
    "#            else:\n",
    "#                l[i,j] = (a[i,j] - np.sum(l[i,:j]*l[j,:j]))/l[j,j]\n",
    "#    return l"
   ]
  },
  {
   "cell_type": "code",
   "execution_count": 9,
   "metadata": {
    "collapsed": false
   },
   "outputs": [
    {
     "name": "stdout",
     "output_type": "stream",
     "text": [
      "[[  4  12 -16]\n",
      " [ 12  37 -43]\n",
      " [-16 -43  98]]\n"
     ]
    }
   ],
   "source": [
    "A = np.array([[4,12,-16],[12,37,-43],[-16,-43,98]])\n",
    "print(A)"
   ]
  },
  {
   "cell_type": "code",
   "execution_count": 10,
   "metadata": {
    "collapsed": false
   },
   "outputs": [
    {
     "data": {
      "text/plain": [
       "array([[ 2.,  0.,  0.],\n",
       "       [ 6.,  1.,  0.],\n",
       "       [-8.,  5.,  3.]])"
      ]
     },
     "execution_count": 10,
     "metadata": {},
     "output_type": "execute_result"
    }
   ],
   "source": [
    "cholesky_banachiewicz(A)"
   ]
  },
  {
   "cell_type": "code",
   "execution_count": 11,
   "metadata": {
    "collapsed": false
   },
   "outputs": [
    {
     "data": {
      "text/plain": [
       "array([[ 2.,  0.,  0.],\n",
       "       [ 6.,  1.,  0.],\n",
       "       [-8.,  5.,  3.]])"
      ]
     },
     "execution_count": 11,
     "metadata": {},
     "output_type": "execute_result"
    }
   ],
   "source": [
    "#revisando el resultado\n",
    "np.linalg.cholesky(A)"
   ]
  },
  {
   "cell_type": "code",
   "execution_count": 12,
   "metadata": {
    "collapsed": true
   },
   "outputs": [],
   "source": [
    "B = np.array([[5,1.2,0.3,-0.6],\n",
    "              [1.2,6,-0.4,0.9],\n",
    "              [0.3,-0.4,8,1.7],\n",
    "              [-0.6,0.9,1.7,10]])"
   ]
  },
  {
   "cell_type": "code",
   "execution_count": 13,
   "metadata": {
    "collapsed": false
   },
   "outputs": [
    {
     "data": {
      "text/plain": [
       "array([[ 2.23606798,  0.        ,  0.        ,  0.        ],\n",
       "       [ 0.53665631,  2.38997908,  0.        ,  0.        ],\n",
       "       [ 0.13416408, -0.19749127,  2.81833234,  0.        ],\n",
       "       [-0.26832816,  0.43682391,  0.64657701,  3.05272387]])"
      ]
     },
     "execution_count": 13,
     "metadata": {},
     "output_type": "execute_result"
    }
   ],
   "source": [
    "cholesky_banachiewicz(B)"
   ]
  },
  {
   "cell_type": "code",
   "execution_count": 14,
   "metadata": {
    "collapsed": false
   },
   "outputs": [
    {
     "data": {
      "text/plain": [
       "array([[ 2.23606798,  0.        ,  0.        ,  0.        ],\n",
       "       [ 0.53665631,  2.38997908,  0.        ,  0.        ],\n",
       "       [ 0.13416408, -0.19749127,  2.81833234,  0.        ],\n",
       "       [-0.26832816,  0.43682391,  0.64657701,  3.05272387]])"
      ]
     },
     "execution_count": 14,
     "metadata": {},
     "output_type": "execute_result"
    }
   ],
   "source": [
    "#revisando el resultado\n",
    "np.linalg.cholesky(B)"
   ]
  }
 ],
 "metadata": {
  "kernelspec": {
   "display_name": "Python 3",
   "language": "python",
   "name": "python3"
  },
  "language_info": {
   "codemirror_mode": {
    "name": "ipython",
    "version": 3
   },
   "file_extension": ".py",
   "mimetype": "text/x-python",
   "name": "python",
   "nbconvert_exporter": "python",
   "pygments_lexer": "ipython3",
   "version": "3.4.3"
  }
 },
 "nbformat": 4,
 "nbformat_minor": 0
}
